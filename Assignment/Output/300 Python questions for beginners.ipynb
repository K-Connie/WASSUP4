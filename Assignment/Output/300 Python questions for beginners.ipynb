{
 "cells": [
  {
   "cell_type": "markdown",
   "id": "79c28ae1-d823-4e73-a3b9-3e07af433078",
   "metadata": {
    "panel-layout": {
     "height": 60.59375,
     "visible": true,
     "width": 100
    }
   },
   "source": [
    "# **[초보자를 위한 파이썬 300제]**"
   ]
  },
  {
   "cell_type": "markdown",
   "id": "16ef4ae7-ebfe-4c8c-b911-5370f1838600",
   "metadata": {
    "panel-layout": {
     "height": 50.8203125,
     "visible": true,
     "width": 100
    }
   },
   "source": [
    "## * 001-010. Print - 기초"
   ]
  },
  {
   "cell_type": "code",
   "execution_count": 21,
   "id": "a02e8302-155d-4246-a46a-34752cd8bd68",
   "metadata": {
    "panel-layout": {
     "height": 0,
     "visible": true,
     "width": 100
    }
   },
   "outputs": [
    {
     "name": "stdout",
     "output_type": "stream",
     "text": [
      "Hello World\n"
     ]
    }
   ],
   "source": [
    "# 001. 화면에 Hello World 문자열을 출력하세요.\n",
    "print(\"Hello World\")"
   ]
  },
  {
   "cell_type": "code",
   "execution_count": 37,
   "id": "01ced233-6274-4bf6-ac45-3ab573581537",
   "metadata": {
    "panel-layout": {
     "height": 0,
     "visible": true,
     "width": 100
    }
   },
   "outputs": [
    {
     "name": "stdout",
     "output_type": "stream",
     "text": [
      "Mary's cosmetics\n"
     ]
    }
   ],
   "source": [
    "# 002. 화면에 Mary's cosmetics을 출력하세요. (중간에 '가 있음에 주의하세요)\n",
    "print(\"Mary's cosmetics\")"
   ]
  },
  {
   "cell_type": "code",
   "execution_count": 39,
   "id": "9854ec56-4531-4219-b767-d3d8c999fb0e",
   "metadata": {
    "panel-layout": {
     "height": 0,
     "visible": true,
     "width": 100
    }
   },
   "outputs": [
    {
     "name": "stdout",
     "output_type": "stream",
     "text": [
      "신씨가 소리질렀다. \"도둑이야\".\n"
     ]
    }
   ],
   "source": [
    "# 003. 화면에 아래 문장을 출력하세요. (중간에 \"가 있음에 주의하세요.)\n",
    "print('신씨가 소리질렀다. \"도둑이야\".')"
   ]
  },
  {
   "cell_type": "code",
   "execution_count": 47,
   "id": "1aeabae0-5ebe-4818-b5df-1a55c0167e09",
   "metadata": {
    "panel-layout": {
     "height": 0,
     "visible": true,
     "width": 100
    }
   },
   "outputs": [
    {
     "name": "stdout",
     "output_type": "stream",
     "text": [
      "C:\\Windows\n"
     ]
    }
   ],
   "source": [
    "# 004. 화면에 C:\\Windows를 출력하세요.\n",
    "print(\"C:\\\\Windows\")"
   ]
  },
  {
   "cell_type": "code",
   "execution_count": 49,
   "id": "4a83aa06-ee99-499c-80d4-69507d0d4b4b",
   "metadata": {
    "panel-layout": {
     "height": 0,
     "visible": true,
     "width": 100
    },
    "scrolled": true
   },
   "outputs": [
    {
     "name": "stdout",
     "output_type": "stream",
     "text": [
      "안녕하세요.\n",
      "만나서\t\t반갑습니다.\n"
     ]
    }
   ],
   "source": [
    "# 005. print 탭과 줄바꿈 : 다음 코드를 실행해보고 \\t와 \\n의 역할을 설명해보세요.\n",
    "print(\"안녕하세요.\\n만나서\\t\\t반갑습니다.\")"
   ]
  },
  {
   "cell_type": "markdown",
   "id": "ce59e237-8b9e-4b92-88f6-cc76c17714f6",
   "metadata": {
    "panel-layout": {
     "height": 113.546875,
     "visible": true,
     "width": 100
    }
   },
   "source": [
    "*[Answer]*\n",
    "- \\n : Enter 줄바꿈\n",
    "- \\t : Tab"
   ]
  },
  {
   "cell_type": "code",
   "execution_count": 2,
   "id": "a3efad70-fbb6-447e-b82a-84eb8767ae0f",
   "metadata": {
    "panel-layout": {
     "height": 0,
     "visible": true,
     "width": 100
    }
   },
   "outputs": [
    {
     "name": "stdout",
     "output_type": "stream",
     "text": [
      "오늘은 일요일\n"
     ]
    }
   ],
   "source": [
    "# 006. print 여러 데이터 출력 : print 함수에 두 개의 단어를 입력한 예제입니다. 아래 코드의 출력 결과를 예상해봅시다.\n",
    "print (\"오늘은\", \"일요일\")"
   ]
  },
  {
   "cell_type": "code",
   "execution_count": 109,
   "id": "4698dbde-da08-4365-ad16-e9982c200515",
   "metadata": {
    "panel-layout": {
     "height": 0,
     "visible": true,
     "width": 100
    }
   },
   "outputs": [
    {
     "name": "stdout",
     "output_type": "stream",
     "text": [
      "naver;kakao;samsung\n"
     ]
    }
   ],
   "source": [
    "# 007. print() 함수를 사용하여 다음과 같이 출력하세요.\n",
    "    # print(naver;kakao;sk;samsung)\n",
    "\n",
    "print(\"naver\", \"kakao\", \"samsung\", sep=\";\")"
   ]
  },
  {
   "cell_type": "code",
   "execution_count": 113,
   "id": "bb3a02ad-600b-418f-a4b7-554b9773df0e",
   "metadata": {
    "editable": true,
    "panel-layout": {
     "height": 0,
     "visible": true,
     "width": 100
    },
    "slideshow": {
     "slide_type": ""
    },
    "tags": []
   },
   "outputs": [
    {
     "name": "stdout",
     "output_type": "stream",
     "text": [
      "naver/kakao/sk/samsung\n"
     ]
    }
   ],
   "source": [
    "# 008. print() 함수를 사용하여 다음과 같이 출력하세요. : naver/kakao/sk/samsung\n",
    "print(\"naver\", \"kakao\", \"sk\", \"samsung\", sep=\"/\")"
   ]
  },
  {
   "cell_type": "code",
   "execution_count": 133,
   "id": "c58a950d-d887-4928-8d6a-f220a330be28",
   "metadata": {},
   "outputs": [
    {
     "name": "stdout",
     "output_type": "stream",
     "text": [
      "firstsecond\n"
     ]
    }
   ],
   "source": [
    "# 009. print 줄바꿈\n",
    "    # 다음 코드를 수정하여 줄바꿈이 없이 출력하세요. (힌트: end='') print 함수는 두 번 사용합니다. 세미콜론 (;)은 한줄에 여러 개의 명령을 작성하기 위해 사용합니다.\n",
    "    # print(\"first\");print(\"second\")\n",
    "\n",
    "print(\"first\", end=\"\");print(\"second\")"
   ]
  },
  {
   "cell_type": "code",
   "execution_count": 11,
   "id": "91783b8c-9e08-49ae-a724-bc11879d789c",
   "metadata": {},
   "outputs": [
    {
     "name": "stdout",
     "output_type": "stream",
     "text": [
      "1.6666666666666667\n"
     ]
    }
   ],
   "source": [
    "# 010. 연산 결과 출력\n",
    "    # 5/3의 결과를 화면에 출력하세요.\n",
    "print(5/3)"
   ]
  },
  {
   "cell_type": "markdown",
   "id": "7650ec95-18e0-439e-8bba-fca6f71e9bfd",
   "metadata": {},
   "source": [
    "## * 011-020. 변수"
   ]
  },
  {
   "cell_type": "code",
   "execution_count": 21,
   "id": "22984a3d-199d-47d2-bd59-d35de1e91ba0",
   "metadata": {},
   "outputs": [
    {
     "name": "stdout",
     "output_type": "stream",
     "text": [
      "500000\n"
     ]
    }
   ],
   "source": [
    "# 011.변수 사용하기\n",
    "    # 삼성전자라는 변수로 50,000원을 바인딩해보세요. 삼성전자 주식 10주를 보유하고 있을 때 총 평가금액을 출력하세요\n",
    "삼성전자 = 50000\n",
    "총평가금액 = 10 * 삼성전자\n",
    "print(총평가금액)"
   ]
  },
  {
   "cell_type": "code",
   "execution_count": 27,
   "id": "70e769c9-5d17-4dd5-ac36-e64fcef791b7",
   "metadata": {},
   "outputs": [
    {
     "name": "stdout",
     "output_type": "stream",
     "text": [
      "2980000000000 <class 'int'>\n",
      "50000 <class 'int'>\n",
      "15.79 <class 'float'>\n"
     ]
    }
   ],
   "source": [
    "# 012. 변수 사용하기\n",
    "    # 다음 표는 삼성전자의 일부 투자정보입니다. 변수를 사용해서 시가총액, 현재가, PER 등을 바인딩해보세요.\n",
    "\n",
    "시가총액 = 2980000000000\n",
    "현재가 = 50000\n",
    "PER = 15.79\n",
    "\n",
    "print(시가총액, type(시가총액))\n",
    "print(현재가, type(현재가))\n",
    "print(PER, type(PER))"
   ]
  },
  {
   "cell_type": "code",
   "execution_count": 31,
   "id": "d3289fac-2001-4697-813f-f8603eecfcdc",
   "metadata": {},
   "outputs": [
    {
     "name": "stdout",
     "output_type": "stream",
     "text": [
      "hello! python\n"
     ]
    }
   ],
   "source": [
    "# 013. 문자열 출력\n",
    "    # 변수 s와 t에는 각각 문자열이 바인딩 되어있습니다.\n",
    "    # 두 변수를 이용하여 아래와 같이 출력해보세요.\n",
    "    # 실행 예: hello! python\n",
    "\n",
    "s = \"hello\"\n",
    "t = \"python\"\n",
    "\n",
    "print(s+\"!\", t)\n"
   ]
  },
  {
   "cell_type": "code",
   "execution_count": 33,
   "id": "0e3bf20f-a00a-47cc-ad29-aafb06b4504e",
   "metadata": {},
   "outputs": [
    {
     "data": {
      "text/plain": [
       "8"
      ]
     },
     "execution_count": 33,
     "metadata": {},
     "output_type": "execute_result"
    }
   ],
   "source": [
    "# 014. 파이썬을 이용한 값 계산\n",
    "    # 아래 코드의 실행 결과를 예상해보세요.\n",
    "        # 2 + 2 * 3 \n",
    "\n",
    "2 + 2 * 3"
   ]
  },
  {
   "cell_type": "code",
   "execution_count": 41,
   "id": "7ecf6886-c999-4d59-b6fd-0eb1c65b944d",
   "metadata": {},
   "outputs": [
    {
     "name": "stdout",
     "output_type": "stream",
     "text": [
      "<class 'str'>\n"
     ]
    }
   ],
   "source": [
    "# 015. type 함수\n",
    "    # type() 함수는 데이터 타입을 판별합니다. 변수 a에는 128 숫자가 바인딩돼 있어 type 함수가 int (정수)형임을 알려줍니다.\n",
    "        # a = 128\n",
    "        # print (type(a))\n",
    "        # <class 'int'>\n",
    "\n",
    "    # 아래 변수에 바인딩된 값의 타입을 판별해보세요.\n",
    "        # a = \"132\"\n",
    "\n",
    "a = \"132\"\n",
    "print (type(a))"
   ]
  },
  {
   "cell_type": "code",
   "execution_count": 43,
   "id": "67c40b5b-aaf8-4e8a-bed0-341a743b8631",
   "metadata": {},
   "outputs": [
    {
     "name": "stdout",
     "output_type": "stream",
     "text": [
      "721 <class 'int'>\n"
     ]
    }
   ],
   "source": [
    "# 016. 문자열을 정수로 변환\n",
    "    # 문자열 '720'를 정수형으로 변환해보세요.\n",
    "        #num_str = \"720\"\n",
    "\n",
    "num_str = \"720\"  #형변환\n",
    "num_int = int(num_str)\n",
    "print(num_int+1, type(num_int))\n"
   ]
  },
  {
   "cell_type": "code",
   "execution_count": 45,
   "id": "e352d832-728a-4c95-8dd2-6d052602593a",
   "metadata": {},
   "outputs": [
    {
     "name": "stdout",
     "output_type": "stream",
     "text": [
      "100 <class 'str'>\n"
     ]
    }
   ],
   "source": [
    "# 017. 정수를 문자열 100으로 변환\n",
    "    # 정수 100을 문자열 '100'으로 변환해보세요.\n",
    "\n",
    "num = 100\n",
    "result = str(num)\n",
    "print(result, type(result))"
   ]
  },
  {
   "cell_type": "code",
   "execution_count": 49,
   "id": "7ee4344c-d316-456f-832a-be5476d3950d",
   "metadata": {},
   "outputs": [
    {
     "name": "stdout",
     "output_type": "stream",
     "text": [
      "15.79 <class 'float'>\n"
     ]
    }
   ],
   "source": [
    "# 018. 문자열을 실수로 변환\n",
    "    # 문자열 \"15.79\"를 실수(float) 타입으로 변환해보세요.\n",
    "\n",
    "data = \"15.79\"\n",
    "data = float(data)\n",
    "print(data, type(data))"
   ]
  },
  {
   "cell_type": "code",
   "execution_count": 53,
   "id": "3b9b4a9f-1fa6-4d5c-8c0a-21061108d5be",
   "metadata": {},
   "outputs": [
    {
     "name": "stdout",
     "output_type": "stream",
     "text": [
      "2017\n",
      "2018\n",
      "2019\n"
     ]
    }
   ],
   "source": [
    "# 019. 문자열을 정수로 변환\n",
    "    # year라는 변수가 문자열 타입의 연도를 바인딩하고 있습니다. 이를 정수로 변환한 후 최근 3년의 연도를 화면에 출력해보세요.\n",
    "\n",
    "year = \"2020\"\n",
    "print(int(year)-3)\n",
    "print(int(year)-2)\n",
    "print(int(year)-1)"
   ]
  },
  {
   "cell_type": "code",
   "execution_count": 57,
   "id": "96822f05-0c0f-4f6b-98be-6c98e7dce294",
   "metadata": {},
   "outputs": [
    {
     "name": "stdout",
     "output_type": "stream",
     "text": [
      "1749024\n"
     ]
    }
   ],
   "source": [
    "# 020. 파이썬 계산\n",
    "    # 에이컨이 월 48,584원에 무이자 36개월의 조건으로 홈쇼핑에서 판매되고 있습니다. 총 금액은 계산한 후 이를 화면에 출력해보세요. (변수사용하기)\n",
    "\n",
    "금액 = 48584\n",
    "총금액 = 금액 * 36\n",
    "print(총금액)"
   ]
  },
  {
   "cell_type": "markdown",
   "id": "e2292c97-4d4e-47ed-89f4-8652a9783b38",
   "metadata": {},
   "source": [
    "## * 021-030. 문자열 : 인덱싱, 슬라이싱. replace, split"
   ]
  },
  {
   "cell_type": "code",
   "execution_count": 64,
   "id": "745f7640-5d56-45d8-91b2-c5063c7ca443",
   "metadata": {},
   "outputs": [
    {
     "name": "stdout",
     "output_type": "stream",
     "text": [
      "p t\n"
     ]
    }
   ],
   "source": [
    "# 021. 문자열 인덱싱\n",
    "    # letters가 바인딩하는 문자열에서 첫번째와 세번째 문자를 출력하세요.\n",
    "\n",
    "letters = 'python'\n",
    "print(letters[0], letters[2])"
   ]
  },
  {
   "cell_type": "code",
   "execution_count": 68,
   "id": "0fa4b2f2-8cad-4818-9f26-bf8ee1b5ba48",
   "metadata": {},
   "outputs": [
    {
     "name": "stdout",
     "output_type": "stream",
     "text": [
      "2210\n"
     ]
    }
   ],
   "source": [
    "# 022. 문자열 슬라이싱\n",
    "    # 자동차 번호가 다음과 같을 때 뒤에 4자리만 출력하세요.\n",
    "\n",
    "license_plate = \"24가 2210\"\n",
    "print(license_plate[-4:])"
   ]
  },
  {
   "cell_type": "markdown",
   "id": "b811301b-d25d-480e-bec4-3273691ba544",
   "metadata": {},
   "source": [
    "> 023. 다시 풀기"
   ]
  },
  {
   "cell_type": "code",
   "execution_count": 278,
   "id": "6cd21cd3-1219-4f53-bd0a-917a926c3db9",
   "metadata": {},
   "outputs": [
    {
     "name": "stdout",
     "output_type": "stream",
     "text": [
      "홀홀홀\n"
     ]
    }
   ],
   "source": [
    "# 023. 문자열 인덱싱\n",
    "    # 아래의 문자열에서 '홀' 만 출력하세요.\n",
    "    # 슬라이싱할 때 `시작인덱스:끝인덱스:오프셋`을 지정할 수 있습니다.\n",
    "\n",
    "string = \"홀짝홀짝홀짝\"\n",
    "print(string[::2])"
   ]
  },
  {
   "cell_type": "markdown",
   "id": "b6a06cde-dbf5-4b97-8418-a4f7a9732588",
   "metadata": {},
   "source": [
    "> 024. 다시 풀기"
   ]
  },
  {
   "cell_type": "code",
   "execution_count": 86,
   "id": "eb25b24e-5198-4965-8081-fa55ac5232e7",
   "metadata": {},
   "outputs": [
    {
     "name": "stdout",
     "output_type": "stream",
     "text": [
      "NOHTYP\n"
     ]
    }
   ],
   "source": [
    "# 024. 문자열 슬라이싱\n",
    "    # 문자열을 거꾸로 뒤집어 출력하세요.\n",
    "\n",
    "string = \"PYTHON\"\n",
    "print(string[::-1])"
   ]
  },
  {
   "cell_type": "code",
   "execution_count": 90,
   "id": "15ce9307-a3be-4ce3-b23f-1ea0af667314",
   "metadata": {},
   "outputs": [
    {
     "name": "stdout",
     "output_type": "stream",
     "text": [
      "010 1111 2222\n"
     ]
    }
   ],
   "source": [
    "# 025. 문자열 치환\n",
    "    # 아래의 전화번호에서 하이푼 ('-')을 제거하고 출력하세요.\n",
    "    # 실행 예 : 010 1111 2222\n",
    "\n",
    "\n",
    "phone_number = \"010-1111-2222\"\n",
    "print(phone_number.replace(\"-\" , \" \"))"
   ]
  },
  {
   "cell_type": "code",
   "execution_count": 93,
   "id": "b50e1c4d-98a3-4f83-834e-34660004d8ee",
   "metadata": {},
   "outputs": [
    {
     "name": "stdout",
     "output_type": "stream",
     "text": [
      "01011112222\n"
     ]
    }
   ],
   "source": [
    "# 026. 문자열 다루기\n",
    "    # 25번 문제의 전화번호를 아래와 같이 모두 붙여 출력하세요.\n",
    "    # 실행 예 : 01011112222\n",
    "\n",
    "print(phone_number.replace(\"-\" , \"\"))"
   ]
  },
  {
   "cell_type": "code",
   "execution_count": 117,
   "id": "0d2ee828-be71-4324-a16b-9effb14b016c",
   "metadata": {},
   "outputs": [
    {
     "name": "stdout",
     "output_type": "stream",
     "text": [
      "kr\n",
      "kr\n",
      "kr\n"
     ]
    }
   ],
   "source": [
    "# 027. 문자열 다루기\n",
    "    # url 에 저장된 웹 페이지 주소에서 도메인을 출력하세요.\n",
    "    # 실행 예: kr\n",
    "\n",
    "url = \"http://sharebook.kr\"\n",
    "\n",
    "print(url[-2:])\n",
    "\n",
    "url_split = (url.split('.'))\n",
    "print(url_split[-1])\n",
    "print(url_split[1])"
   ]
  },
  {
   "cell_type": "code",
   "execution_count": 141,
   "id": "e86e6809-e382-4ed6-bc38-8b7ba80b3fce",
   "metadata": {},
   "outputs": [
    {
     "ename": "TypeError",
     "evalue": "'str' object does not support item assignment",
     "output_type": "error",
     "traceback": [
      "\u001b[0;31m---------------------------------------------------------------------------\u001b[0m",
      "\u001b[0;31mTypeError\u001b[0m                                 Traceback (most recent call last)",
      "Cell \u001b[0;32mIn[141], line 5\u001b[0m\n\u001b[1;32m      1\u001b[0m \u001b[38;5;66;03m# 028. 문자열은 immutable\u001b[39;00m\n\u001b[1;32m      2\u001b[0m     \u001b[38;5;66;03m# 아래 코드의 실행 결과를 예상해보세요.\u001b[39;00m\n\u001b[1;32m      4\u001b[0m lang \u001b[38;5;241m=\u001b[39m \u001b[38;5;124m'\u001b[39m\u001b[38;5;124mpython\u001b[39m\u001b[38;5;124m'\u001b[39m\n\u001b[0;32m----> 5\u001b[0m lang[\u001b[38;5;241m0\u001b[39m] \u001b[38;5;241m=\u001b[39m \u001b[38;5;124m'\u001b[39m\u001b[38;5;124mP\u001b[39m\u001b[38;5;124m'\u001b[39m\n\u001b[1;32m      6\u001b[0m \u001b[38;5;28mprint\u001b[39m(lang)\n",
      "\u001b[0;31mTypeError\u001b[0m: 'str' object does not support item assignment"
     ]
    }
   ],
   "source": [
    "# 028. 문자열은 immutable\n",
    "    # 아래 코드의 실행 결과를 예상해보세요.\n",
    "\n",
    "lang = 'python'\n",
    "lang[0] = 'P'\n",
    "print(lang)\n",
    "\n",
    "    # 문자열은 수정할 수 없습니다. 실행 결과를 확인해보면 문자열이 할당(assignment) 메서드를 지원하지 않음을 알 수 있습니다."
   ]
  },
  {
   "cell_type": "code",
   "execution_count": 143,
   "id": "7c8a6824-8717-4928-b9e9-e01787bacac6",
   "metadata": {},
   "outputs": [
    {
     "name": "stdout",
     "output_type": "stream",
     "text": [
      "Abcdfe2A354A32A\n"
     ]
    }
   ],
   "source": [
    "# 029. replace 메서드\n",
    "    # 아래 문자열에서 소문자 'a'를 대문자 'A'로 변경하세요.\n",
    "    # 실행 예: Abcdfe2A354A32A\n",
    "\n",
    "string = 'abcdfe2a354a32a'\n",
    "print(string.replace('a','A'))"
   ]
  },
  {
   "cell_type": "code",
   "execution_count": 149,
   "id": "dab1ec3f-40b1-4df6-8619-d382f781672e",
   "metadata": {},
   "outputs": [
    {
     "name": "stdout",
     "output_type": "stream",
     "text": [
      "abcd\n"
     ]
    }
   ],
   "source": [
    "# 030. replace 메서드\n",
    "    # 아래 코드의 실행 결과를 예상해보세요.\n",
    "\n",
    "string = 'abcd'\n",
    "string.replace('b', 'B')\n",
    "print(string)\n",
    "\n",
    "    # `abcd`가 그대로 출력됩니다. 왜냐하면 문자열은 변경할 수 없는 자료형이기 때문입니다. replace 메서드를 사용하면 원본은 그대로 둔채로 변경된 새로운 문자열 객체를 리턴해줍니다."
   ]
  },
  {
   "cell_type": "markdown",
   "id": "c6cea53d-7002-4a29-b452-29820665ad3b",
   "metadata": {},
   "source": [
    "## * 031-040. 문자열 : 합치기, 곱하기, 공백제거(strip)"
   ]
  },
  {
   "cell_type": "code",
   "execution_count": 161,
   "id": "0cdf1a1f-dd03-4e72-ba12-384875d3b2ec",
   "metadata": {},
   "outputs": [
    {
     "name": "stdout",
     "output_type": "stream",
     "text": [
      "34\n"
     ]
    }
   ],
   "source": [
    "# 031. 문자열 합치기\n",
    "    # 아래 코드의 실행 결과를 예상해보세요.\n",
    "\n",
    "a = \"3\"\n",
    "b = \"4\"\n",
    "print(a + b)\n",
    "\n",
    "    # 두 문자열에 대해 덧셈 기호는 문자열의 연결을 의미"
   ]
  },
  {
   "cell_type": "code",
   "execution_count": 167,
   "id": "ee3760ae-d788-43bf-ab41-f3e12f28b437",
   "metadata": {},
   "outputs": [
    {
     "name": "stdout",
     "output_type": "stream",
     "text": [
      "HiHiHi\n"
     ]
    }
   ],
   "source": [
    "# 032. 문자열 곱하기\n",
    "    # 아래 코드의 실행 결과를 예상해보세요.\n",
    "\n",
    "print(\"Hi\" * 3)\n",
    "\n",
    "    # 문자열에 대한 곱셈은 문자열의 반복을 의미"
   ]
  },
  {
   "cell_type": "code",
   "execution_count": 169,
   "id": "30eb956c-8d3f-4426-b41c-114790210b20",
   "metadata": {},
   "outputs": [
    {
     "name": "stdout",
     "output_type": "stream",
     "text": [
      "--------------------------------------------------------------------------------\n"
     ]
    }
   ],
   "source": [
    "# 033. 문자열 곱하기\n",
    "    # 화면에 '-'를 80개 출력하세요.\n",
    "    # 실행 예: --------------------------------------------------------------------------------\n",
    "\n",
    "print('-' * 80)"
   ]
  },
  {
   "cell_type": "code",
   "execution_count": 181,
   "id": "c0054c92-cfa0-4b3b-8520-caa617592337",
   "metadata": {},
   "outputs": [
    {
     "name": "stdout",
     "output_type": "stream",
     "text": [
      "python java python java python java python java \n"
     ]
    }
   ],
   "source": [
    "# 034. 문자열 곱하기\n",
    "    # 변수에 다음과 같은 문자열이 바인딩되어 있습니다.\n",
    "    # 변수에 문자열 더하기와 문자열 곱하기를 사용해서 아래와 같이 출력해보세요.\n",
    "    # 실행 예: python java python java python java python java\n",
    "\n",
    "t1 = 'python'\n",
    "t2 = 'java'\n",
    "\n",
    "t3 = t1 + \" \" + t2 + \" \"\n",
    "print(t3 * 4)"
   ]
  },
  {
   "cell_type": "code",
   "execution_count": 189,
   "id": "74c4f578-f56e-4101-b325-9eb48f642da0",
   "metadata": {},
   "outputs": [
    {
     "name": "stdout",
     "output_type": "stream",
     "text": [
      "이름: 김민수 나이: 10\n",
      "이름: 이철희 나이: 13\n"
     ]
    }
   ],
   "source": [
    "# 035. 문자열 출력\n",
    "    # 변수에 다음과 같이 문자열과 정수가 바인딩되어 있을 때 % formatting을 사용해서 다음과 같이 출력해보세요.\n",
    "    # print 포맷팅에서 `%s`는 문자열 데이터 타입의 값을 `%d`는 정수형 데이터 타입 값의 출력을 의미\n",
    "        # 이름: 김민수 나이: 10\n",
    "        # 이름: 이철희 나이: 13\n",
    "\n",
    "name1 = \"김민수\" \n",
    "age1 = 10\n",
    "name2 = \"이철희\"\n",
    "age2 = 13\n",
    "\n",
    "print(\"이름: %s 나이: %d\" % (name1, age1))\n",
    "print(\"이름: %s 나이: %d\" % (name2, age2))"
   ]
  },
  {
   "cell_type": "code",
   "execution_count": 195,
   "id": "e0907fe4-f660-4123-b9d2-c52be79bab8e",
   "metadata": {},
   "outputs": [
    {
     "name": "stdout",
     "output_type": "stream",
     "text": [
      "이름: 김민수 나이: 10\n",
      "이름: 이철희 나이: 13\n"
     ]
    }
   ],
   "source": [
    "# 036. 문자열 출력\n",
    "    # 문자열의 format( ) 메서드를 사용해서 035번 문제를 다시 풀어보세요.\n",
    "\n",
    "print(\"이름: {} 나이: {}\".format(name1, age1))\n",
    "print(\"이름: {} 나이: {}\".format(name2, age2))\n",
    "\n",
    "    # 문자열의 포맷 메서드는 타입과 상관없이 값이 출력될 위치에 `{ }`를 적어주면 됩니다."
   ]
  },
  {
   "cell_type": "code",
   "execution_count": 201,
   "id": "1cf31a19-004f-43dc-bd41-473a97d059a7",
   "metadata": {},
   "outputs": [
    {
     "name": "stdout",
     "output_type": "stream",
     "text": [
      "이름: 김민수 나이: 10\n",
      "이름: 이철희 나이: 13\n"
     ]
    }
   ],
   "source": [
    "# 037. 문자열 출력\n",
    "    # 파이썬 3.6부터 지원하는 f-string을 사용해서 035번 문제를 다시 풀어보세요.\n",
    "\n",
    "print(f\"이름: {name1} 나이: {age1}\")\n",
    "print(f\"이름: {name2} 나이: {age2}\")\n",
    "\n",
    "    # f-string은 문자열 앞에 f가 붙은 형태입니다. f-string을 사용하면 `{변수}`와 같은 형태로 문자열 사이에 타입과 상관없이 값을 출력할 수 있습니다."
   ]
  },
  {
   "cell_type": "markdown",
   "id": "9bc6da10-ee91-4cdb-af5f-008334ce3a69",
   "metadata": {},
   "source": [
    "> 038. 다시 풀기"
   ]
  },
  {
   "cell_type": "code",
   "execution_count": 286,
   "id": "a9c85ba6-4453-4005-927d-cb11ca34c5f7",
   "metadata": {},
   "outputs": [
    {
     "name": "stdout",
     "output_type": "stream",
     "text": [
      "5969782550 <class 'int'>\n"
     ]
    }
   ],
   "source": [
    "# 038. 컴마 제거하기\n",
    "    # 삼성전자의 상장주식수가 다음과 같습니다. 컴마를 제거한 후 이를 정수 타입으로 변환해보세요.\n",
    "\n",
    "상장주식수 = \"5,969,782,550\"\n",
    "상장주식수2 = 상장주식수.replace(\",\" , \"\")\n",
    "상장주식수3 = int(상장주식수2)\n",
    "print(상장주식수3, type(상장주식수3))"
   ]
  },
  {
   "cell_type": "code",
   "execution_count": 220,
   "id": "f8196a46-2927-4555-a069-e9329d20da65",
   "metadata": {},
   "outputs": [
    {
     "name": "stdout",
     "output_type": "stream",
     "text": [
      "2020/03\n"
     ]
    }
   ],
   "source": [
    "# 039. 문자열 슬라이싱\n",
    "    # 다음과 같은 문자열에서 '2020/03'만 출력하세요.\n",
    "\n",
    "분기 = \"2020/03(E) (IFRS연결)\"\n",
    "print(분기[:7])"
   ]
  },
  {
   "cell_type": "code",
   "execution_count": 222,
   "id": "a2738af8-b727-4dc5-8d87-20faf96a61c5",
   "metadata": {},
   "outputs": [
    {
     "name": "stdout",
     "output_type": "stream",
     "text": [
      "삼성전자\n"
     ]
    }
   ],
   "source": [
    "# 040. strip 메서드\n",
    "    # 문자열의 좌우의 공백이 있을 때 이를 제거해보세요.\n",
    "\n",
    "data = \"   삼성전자    \"\n",
    "print(data.strip())"
   ]
  },
  {
   "cell_type": "markdown",
   "id": "520fc906-03f7-45ce-90e7-e366fa5be666",
   "metadata": {},
   "source": [
    "## * 041-050. 문자열 : upper(대문자로 변경), lower(소문자로 변경), capitalize(앞 대문자 변경), endswith, startswith"
   ]
  },
  {
   "cell_type": "code",
   "execution_count": 227,
   "id": "d5e11856-e074-40f7-976b-c84c539116c2",
   "metadata": {},
   "outputs": [
    {
     "name": "stdout",
     "output_type": "stream",
     "text": [
      "BTC_KRW\n"
     ]
    }
   ],
   "source": [
    "# 041. upper 메서드\n",
    "    # 다음과 같은 문자열이 있을 때 이를 대문자 BTC_KRW로 변경하세요.\n",
    "\n",
    "ticker = \"btc_krw\"\n",
    "print(ticker.upper())"
   ]
  },
  {
   "cell_type": "code",
   "execution_count": 229,
   "id": "4476dfd1-a2e0-4e9a-adc0-19cff146dde5",
   "metadata": {},
   "outputs": [
    {
     "name": "stdout",
     "output_type": "stream",
     "text": [
      "btc_krw\n"
     ]
    }
   ],
   "source": [
    "# 042. lower 메서드\n",
    "    # 다음과 같은 문자열이 있을 때 이를 소문자 btc_krw로 변경하세요.\n",
    "\n",
    "ticker = \"BTC_KRW\"\n",
    "print(ticker.lower())"
   ]
  },
  {
   "cell_type": "code",
   "execution_count": 231,
   "id": "28ee3078-4916-45bc-90b6-b25db73432f0",
   "metadata": {},
   "outputs": [
    {
     "name": "stdout",
     "output_type": "stream",
     "text": [
      "Hello\n"
     ]
    }
   ],
   "source": [
    "# 043. capitalize 메서드\n",
    "    # 문자열 'hello'가 있을 때 이를 'Hello'로 변경해보세요.\n",
    "\n",
    "a = \"hello\"\n",
    "print(a.capitalize())"
   ]
  },
  {
   "cell_type": "code",
   "execution_count": 239,
   "id": "9135f919-1960-448d-8202-f57b29583445",
   "metadata": {},
   "outputs": [
    {
     "data": {
      "text/plain": [
       "True"
      ]
     },
     "execution_count": 239,
     "metadata": {},
     "output_type": "execute_result"
    }
   ],
   "source": [
    "# 044. endswith 메서드\n",
    "    # 파일 이름이 문자열로 저장되어 있을 때 endswith 메서드를 사용해서 파일 이름이 'xlsx'로 끝나는지 확인해보세요.\n",
    "\n",
    "file_name = \"보고서.xlsx\"\n",
    "file_name.endswith(\"xlsx\")"
   ]
  },
  {
   "cell_type": "markdown",
   "id": "93094116-e0da-4977-86cc-8e0dd9dc3d3b",
   "metadata": {},
   "source": [
    "> 045. 다시 풀기"
   ]
  },
  {
   "cell_type": "code",
   "execution_count": 255,
   "id": "f3d9d363-e32d-4ba6-b5a0-a645f7fe9bb9",
   "metadata": {},
   "outputs": [
    {
     "data": {
      "text/plain": [
       "True"
      ]
     },
     "execution_count": 255,
     "metadata": {},
     "output_type": "execute_result"
    }
   ],
   "source": [
    "# 045. endswith 메서드\n",
    "    # 파일 이름이 문자열로 저장되어 있을 때 endswith 메서드를 사용해서 파일 이름이 'xlsx' 또는 'xls'로 끝나는지 확인해보세요.\n",
    "\n",
    "file_name = \"보고서.xlsx\"\n",
    "file_name.endswith((\"xlsx\", \"xls\"))"
   ]
  },
  {
   "cell_type": "code",
   "execution_count": 258,
   "id": "ab174b38-540e-4b0d-b10b-9c1fe633c7fb",
   "metadata": {},
   "outputs": [
    {
     "data": {
      "text/plain": [
       "True"
      ]
     },
     "execution_count": 258,
     "metadata": {},
     "output_type": "execute_result"
    }
   ],
   "source": [
    "# 046. startswith 메서드\n",
    "    # 파일 이름이 문자열로 저장되어 있을 때 startswith 메서드를 사용해서 파일 이름이 '2020'로 시작하는지 확인해보세요.\n",
    "\n",
    "file_name = \"2020_보고서.xlsx\"\n",
    "file_name.startswith(\"2020\")"
   ]
  },
  {
   "cell_type": "code",
   "execution_count": 268,
   "id": "1386998d-124d-482c-be9a-3476504b4cbe",
   "metadata": {},
   "outputs": [
    {
     "data": {
      "text/plain": [
       "['hello', 'world']"
      ]
     },
     "execution_count": 268,
     "metadata": {},
     "output_type": "execute_result"
    }
   ],
   "source": [
    "# 047. split 메서드\n",
    "    # 다음과 같은 문자열이 있을 때 공백을 기준으로 문자열을 나눠보세요.\n",
    "\n",
    "a = \"hello world\"\n",
    "a.split()"
   ]
  },
  {
   "cell_type": "code",
   "execution_count": 270,
   "id": "b2821464-9515-4b3a-8e35-29af70ec99df",
   "metadata": {},
   "outputs": [
    {
     "data": {
      "text/plain": [
       "['btc', 'krw']"
      ]
     },
     "execution_count": 270,
     "metadata": {},
     "output_type": "execute_result"
    }
   ],
   "source": [
    "# 048. split 메서드\n",
    "    # 다음과 같이 문자열이 있을 때 btc와 krw로 나눠보세요.\n",
    "\n",
    "ticker = \"btc_krw\"\n",
    "ticker.split(\"_\")"
   ]
  },
  {
   "cell_type": "code",
   "execution_count": 272,
   "id": "84e0a567-f4c2-462d-9e5a-2d07df55b3d7",
   "metadata": {},
   "outputs": [
    {
     "data": {
      "text/plain": [
       "['2020', '05', '01']"
      ]
     },
     "execution_count": 272,
     "metadata": {},
     "output_type": "execute_result"
    }
   ],
   "source": [
    "# 049. split 메서드\n",
    "    # 다음과 같이 날짜를 표현하는 문자열이 있을 때 연도, 월, 일로 나눠보세요.\n",
    "\n",
    "date = \"2020-05-01\"\n",
    "date.split(\"-\")"
   ]
  },
  {
   "cell_type": "code",
   "execution_count": 274,
   "id": "2e7d18ff-26d4-4fee-b43a-311f1d10bcac",
   "metadata": {},
   "outputs": [
    {
     "data": {
      "text/plain": [
       "'039490'"
      ]
     },
     "execution_count": 274,
     "metadata": {},
     "output_type": "execute_result"
    }
   ],
   "source": [
    "# 050. rstrip 메서드\n",
    "    # 문자열의 오른쪽에 공백이 있을 때 이를 제거해보세요.\n",
    "\n",
    "data = \"039490     \"\n",
    "data.rstrip()"
   ]
  },
  {
   "cell_type": "code",
   "execution_count": null,
   "id": "f95b5961-ab18-4fa9-9614-f5a0b2c21199",
   "metadata": {},
   "outputs": [],
   "source": []
  }
 ],
 "metadata": {
  "kernelspec": {
   "display_name": "Python 3 (ipykernel)",
   "language": "python",
   "name": "python3"
  },
  "language_info": {
   "codemirror_mode": {
    "name": "ipython",
    "version": 3
   },
   "file_extension": ".py",
   "mimetype": "text/x-python",
   "name": "python",
   "nbconvert_exporter": "python",
   "pygments_lexer": "ipython3",
   "version": "3.12.4"
  },
  "panel-cell-order": [
   "79c28ae1-d823-4e73-a3b9-3e07af433078",
   "16ef4ae7-ebfe-4c8c-b911-5370f1838600",
   "a02e8302-155d-4246-a46a-34752cd8bd68",
   "01ced233-6274-4bf6-ac45-3ab573581537",
   "9854ec56-4531-4219-b767-d3d8c999fb0e",
   "1aeabae0-5ebe-4818-b5df-1a55c0167e09",
   "4a83aa06-ee99-499c-80d4-69507d0d4b4b",
   "ce59e237-8b9e-4b92-88f6-cc76c17714f6",
   "a3efad70-fbb6-447e-b82a-84eb8767ae0f",
   "4698dbde-da08-4365-ad16-e9982c200515",
   "bb3a02ad-600b-418f-a4b7-554b9773df0e"
  ]
 },
 "nbformat": 4,
 "nbformat_minor": 5
}
