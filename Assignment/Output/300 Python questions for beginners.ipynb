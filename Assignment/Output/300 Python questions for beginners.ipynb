{
 "cells": [
  {
   "cell_type": "markdown",
   "id": "79c28ae1-d823-4e73-a3b9-3e07af433078",
   "metadata": {
    "panel-layout": {
     "height": 60.59375,
     "visible": true,
     "width": 100
    }
   },
   "source": [
    "# **[초보자를 위한 파이썬 300제]**"
   ]
  },
  {
   "cell_type": "markdown",
   "id": "16ef4ae7-ebfe-4c8c-b911-5370f1838600",
   "metadata": {
    "panel-layout": {
     "height": 50.8203125,
     "visible": true,
     "width": 100
    }
   },
   "source": [
    "## * 001-010. Print - 기초"
   ]
  },
  {
   "cell_type": "code",
   "execution_count": 21,
   "id": "a02e8302-155d-4246-a46a-34752cd8bd68",
   "metadata": {
    "panel-layout": {
     "height": 0,
     "visible": true,
     "width": 100
    }
   },
   "outputs": [
    {
     "name": "stdout",
     "output_type": "stream",
     "text": [
      "Hello World\n"
     ]
    }
   ],
   "source": [
    "# 001. 화면에 Hello World 문자열을 출력하세요.\n",
    "print(\"Hello World\")"
   ]
  },
  {
   "cell_type": "code",
   "execution_count": 37,
   "id": "01ced233-6274-4bf6-ac45-3ab573581537",
   "metadata": {
    "panel-layout": {
     "height": 0,
     "visible": true,
     "width": 100
    }
   },
   "outputs": [
    {
     "name": "stdout",
     "output_type": "stream",
     "text": [
      "Mary's cosmetics\n"
     ]
    }
   ],
   "source": [
    "# 002. 화면에 Mary's cosmetics을 출력하세요. (중간에 '가 있음에 주의하세요)\n",
    "print(\"Mary's cosmetics\")"
   ]
  },
  {
   "cell_type": "code",
   "execution_count": 39,
   "id": "9854ec56-4531-4219-b767-d3d8c999fb0e",
   "metadata": {
    "panel-layout": {
     "height": 0,
     "visible": true,
     "width": 100
    }
   },
   "outputs": [
    {
     "name": "stdout",
     "output_type": "stream",
     "text": [
      "신씨가 소리질렀다. \"도둑이야\".\n"
     ]
    }
   ],
   "source": [
    "# 003. 화면에 아래 문장을 출력하세요. (중간에 \"가 있음에 주의하세요.)\n",
    "print('신씨가 소리질렀다. \"도둑이야\".')"
   ]
  },
  {
   "cell_type": "code",
   "execution_count": 47,
   "id": "1aeabae0-5ebe-4818-b5df-1a55c0167e09",
   "metadata": {
    "panel-layout": {
     "height": 0,
     "visible": true,
     "width": 100
    }
   },
   "outputs": [
    {
     "name": "stdout",
     "output_type": "stream",
     "text": [
      "C:\\Windows\n"
     ]
    }
   ],
   "source": [
    "# 004. 화면에 C:\\Windows를 출력하세요.\n",
    "print(\"C:\\\\Windows\")"
   ]
  },
  {
   "cell_type": "code",
   "execution_count": 49,
   "id": "4a83aa06-ee99-499c-80d4-69507d0d4b4b",
   "metadata": {
    "panel-layout": {
     "height": 0,
     "visible": true,
     "width": 100
    },
    "scrolled": true
   },
   "outputs": [
    {
     "name": "stdout",
     "output_type": "stream",
     "text": [
      "안녕하세요.\n",
      "만나서\t\t반갑습니다.\n"
     ]
    }
   ],
   "source": [
    "# 005. print 탭과 줄바꿈 : 다음 코드를 실행해보고 \\t와 \\n의 역할을 설명해보세요.\n",
    "print(\"안녕하세요.\\n만나서\\t\\t반갑습니다.\")"
   ]
  },
  {
   "cell_type": "markdown",
   "id": "ce59e237-8b9e-4b92-88f6-cc76c17714f6",
   "metadata": {
    "panel-layout": {
     "height": 113.546875,
     "visible": true,
     "width": 100
    }
   },
   "source": [
    "*[Answer]*\n",
    "- \\n : Enter 줄바꿈\n",
    "- \\t : Tab"
   ]
  },
  {
   "cell_type": "code",
   "execution_count": 2,
   "id": "a3efad70-fbb6-447e-b82a-84eb8767ae0f",
   "metadata": {
    "panel-layout": {
     "height": 0,
     "visible": true,
     "width": 100
    }
   },
   "outputs": [
    {
     "name": "stdout",
     "output_type": "stream",
     "text": [
      "오늘은 일요일\n"
     ]
    }
   ],
   "source": [
    "# 006. print 여러 데이터 출력 : print 함수에 두 개의 단어를 입력한 예제입니다. 아래 코드의 출력 결과를 예상해봅시다.\n",
    "print (\"오늘은\", \"일요일\")"
   ]
  },
  {
   "cell_type": "code",
   "execution_count": 109,
   "id": "4698dbde-da08-4365-ad16-e9982c200515",
   "metadata": {
    "panel-layout": {
     "height": 0,
     "visible": true,
     "width": 100
    }
   },
   "outputs": [
    {
     "name": "stdout",
     "output_type": "stream",
     "text": [
      "naver;kakao;samsung\n"
     ]
    }
   ],
   "source": [
    "# 007. print() 함수를 사용하여 다음과 같이 출력하세요.\n",
    "    # print(naver;kakao;sk;samsung)\n",
    "\n",
    "print(\"naver\", \"kakao\", \"samsung\", sep=\";\")"
   ]
  },
  {
   "cell_type": "code",
   "execution_count": 113,
   "id": "bb3a02ad-600b-418f-a4b7-554b9773df0e",
   "metadata": {
    "editable": true,
    "panel-layout": {
     "height": 0,
     "visible": true,
     "width": 100
    },
    "slideshow": {
     "slide_type": ""
    },
    "tags": []
   },
   "outputs": [
    {
     "name": "stdout",
     "output_type": "stream",
     "text": [
      "naver/kakao/sk/samsung\n"
     ]
    }
   ],
   "source": [
    "# 008. print() 함수를 사용하여 다음과 같이 출력하세요. : naver/kakao/sk/samsung\n",
    "print(\"naver\", \"kakao\", \"sk\", \"samsung\", sep=\"/\")"
   ]
  },
  {
   "cell_type": "code",
   "execution_count": 133,
   "id": "c58a950d-d887-4928-8d6a-f220a330be28",
   "metadata": {},
   "outputs": [
    {
     "name": "stdout",
     "output_type": "stream",
     "text": [
      "firstsecond\n"
     ]
    }
   ],
   "source": [
    "# 009. print 줄바꿈\n",
    "    # 다음 코드를 수정하여 줄바꿈이 없이 출력하세요. (힌트: end='') print 함수는 두 번 사용합니다. 세미콜론 (;)은 한줄에 여러 개의 명령을 작성하기 위해 사용합니다.\n",
    "    # print(\"first\");print(\"second\")\n",
    "\n",
    "print(\"first\", end=\"\");print(\"second\")"
   ]
  },
  {
   "cell_type": "code",
   "execution_count": 11,
   "id": "91783b8c-9e08-49ae-a724-bc11879d789c",
   "metadata": {},
   "outputs": [
    {
     "name": "stdout",
     "output_type": "stream",
     "text": [
      "1.6666666666666667\n"
     ]
    }
   ],
   "source": [
    "# 010. 연산 결과 출력\n",
    "    # 5/3의 결과를 화면에 출력하세요.\n",
    "print(5/3)"
   ]
  },
  {
   "cell_type": "markdown",
   "id": "7650ec95-18e0-439e-8bba-fca6f71e9bfd",
   "metadata": {},
   "source": [
    "## * 011-020. 변수"
   ]
  },
  {
   "cell_type": "code",
   "execution_count": 21,
   "id": "22984a3d-199d-47d2-bd59-d35de1e91ba0",
   "metadata": {},
   "outputs": [
    {
     "name": "stdout",
     "output_type": "stream",
     "text": [
      "500000\n"
     ]
    }
   ],
   "source": [
    "# 011.변수 사용하기\n",
    "    # 삼성전자라는 변수로 50,000원을 바인딩해보세요. 삼성전자 주식 10주를 보유하고 있을 때 총 평가금액을 출력하세요\n",
    "삼성전자 = 50000\n",
    "총평가금액 = 10 * 삼성전자\n",
    "print(총평가금액)"
   ]
  },
  {
   "cell_type": "code",
   "execution_count": 27,
   "id": "70e769c9-5d17-4dd5-ac36-e64fcef791b7",
   "metadata": {},
   "outputs": [
    {
     "name": "stdout",
     "output_type": "stream",
     "text": [
      "2980000000000 <class 'int'>\n",
      "50000 <class 'int'>\n",
      "15.79 <class 'float'>\n"
     ]
    }
   ],
   "source": [
    "# 012. 변수 사용하기\n",
    "    # 다음 표는 삼성전자의 일부 투자정보입니다. 변수를 사용해서 시가총액, 현재가, PER 등을 바인딩해보세요.\n",
    "\n",
    "시가총액 = 2980000000000\n",
    "현재가 = 50000\n",
    "PER = 15.79\n",
    "\n",
    "print(시가총액, type(시가총액))\n",
    "print(현재가, type(현재가))\n",
    "print(PER, type(PER))"
   ]
  },
  {
   "cell_type": "code",
   "execution_count": 31,
   "id": "d3289fac-2001-4697-813f-f8603eecfcdc",
   "metadata": {},
   "outputs": [
    {
     "name": "stdout",
     "output_type": "stream",
     "text": [
      "hello! python\n"
     ]
    }
   ],
   "source": [
    "# 013. 문자열 출력\n",
    "    # 변수 s와 t에는 각각 문자열이 바인딩 되어있습니다.\n",
    "    # 두 변수를 이용하여 아래와 같이 출력해보세요.\n",
    "    # 실행 예: hello! python\n",
    "\n",
    "s = \"hello\"\n",
    "t = \"python\"\n",
    "\n",
    "print(s+\"!\", t)\n"
   ]
  },
  {
   "cell_type": "code",
   "execution_count": 33,
   "id": "0e3bf20f-a00a-47cc-ad29-aafb06b4504e",
   "metadata": {},
   "outputs": [
    {
     "data": {
      "text/plain": [
       "8"
      ]
     },
     "execution_count": 33,
     "metadata": {},
     "output_type": "execute_result"
    }
   ],
   "source": [
    "# 014. 파이썬을 이용한 값 계산\n",
    "    # 아래 코드의 실행 결과를 예상해보세요.\n",
    "        # 2 + 2 * 3 \n",
    "\n",
    "2 + 2 * 3"
   ]
  },
  {
   "cell_type": "code",
   "execution_count": 41,
   "id": "7ecf6886-c999-4d59-b6fd-0eb1c65b944d",
   "metadata": {},
   "outputs": [
    {
     "name": "stdout",
     "output_type": "stream",
     "text": [
      "<class 'str'>\n"
     ]
    }
   ],
   "source": [
    "# 015. type 함수\n",
    "    # type() 함수는 데이터 타입을 판별합니다. 변수 a에는 128 숫자가 바인딩돼 있어 type 함수가 int (정수)형임을 알려줍니다.\n",
    "        # a = 128\n",
    "        # print (type(a))\n",
    "        # <class 'int'>\n",
    "\n",
    "    # 아래 변수에 바인딩된 값의 타입을 판별해보세요.\n",
    "        # a = \"132\"\n",
    "\n",
    "a = \"132\"\n",
    "print (type(a))"
   ]
  },
  {
   "cell_type": "code",
   "execution_count": 43,
   "id": "67c40b5b-aaf8-4e8a-bed0-341a743b8631",
   "metadata": {},
   "outputs": [
    {
     "name": "stdout",
     "output_type": "stream",
     "text": [
      "721 <class 'int'>\n"
     ]
    }
   ],
   "source": [
    "# 016. 문자열을 정수로 변환\n",
    "    # 문자열 '720'를 정수형으로 변환해보세요.\n",
    "        #num_str = \"720\"\n",
    "\n",
    "num_str = \"720\"  #형변환\n",
    "num_int = int(num_str)\n",
    "print(num_int+1, type(num_int))\n"
   ]
  },
  {
   "cell_type": "code",
   "execution_count": 45,
   "id": "e352d832-728a-4c95-8dd2-6d052602593a",
   "metadata": {},
   "outputs": [
    {
     "name": "stdout",
     "output_type": "stream",
     "text": [
      "100 <class 'str'>\n"
     ]
    }
   ],
   "source": [
    "# 017. 정수를 문자열 100으로 변환\n",
    "    # 정수 100을 문자열 '100'으로 변환해보세요.\n",
    "\n",
    "num = 100\n",
    "result = str(num)\n",
    "print(result, type(result))"
   ]
  },
  {
   "cell_type": "code",
   "execution_count": 49,
   "id": "7ee4344c-d316-456f-832a-be5476d3950d",
   "metadata": {},
   "outputs": [
    {
     "name": "stdout",
     "output_type": "stream",
     "text": [
      "15.79 <class 'float'>\n"
     ]
    }
   ],
   "source": [
    "# 018. 문자열을 실수로 변환\n",
    "    # 문자열 \"15.79\"를 실수(float) 타입으로 변환해보세요.\n",
    "\n",
    "data = \"15.79\"\n",
    "data = float(data)\n",
    "print(data, type(data))"
   ]
  },
  {
   "cell_type": "code",
   "execution_count": 53,
   "id": "3b9b4a9f-1fa6-4d5c-8c0a-21061108d5be",
   "metadata": {},
   "outputs": [
    {
     "name": "stdout",
     "output_type": "stream",
     "text": [
      "2017\n",
      "2018\n",
      "2019\n"
     ]
    }
   ],
   "source": [
    "# 019. 문자열을 정수로 변환\n",
    "    # year라는 변수가 문자열 타입의 연도를 바인딩하고 있습니다. 이를 정수로 변환한 후 최근 3년의 연도를 화면에 출력해보세요.\n",
    "\n",
    "year = \"2020\"\n",
    "print(int(year)-3)\n",
    "print(int(year)-2)\n",
    "print(int(year)-1)"
   ]
  },
  {
   "cell_type": "code",
   "execution_count": 57,
   "id": "96822f05-0c0f-4f6b-98be-6c98e7dce294",
   "metadata": {},
   "outputs": [
    {
     "name": "stdout",
     "output_type": "stream",
     "text": [
      "1749024\n"
     ]
    }
   ],
   "source": [
    "# 020. 파이썬 계산\n",
    "    # 에이컨이 월 48,584원에 무이자 36개월의 조건으로 홈쇼핑에서 판매되고 있습니다. 총 금액은 계산한 후 이를 화면에 출력해보세요. (변수사용하기)\n",
    "\n",
    "금액 = 48584\n",
    "총금액 = 금액 * 36\n",
    "print(총금액)"
   ]
  },
  {
   "cell_type": "markdown",
   "id": "e2292c97-4d4e-47ed-89f4-8652a9783b38",
   "metadata": {},
   "source": [
    "## * 021-030. 문자열 : 인덱싱, 슬라이싱. replace, split"
   ]
  },
  {
   "cell_type": "code",
   "execution_count": 64,
   "id": "745f7640-5d56-45d8-91b2-c5063c7ca443",
   "metadata": {},
   "outputs": [
    {
     "name": "stdout",
     "output_type": "stream",
     "text": [
      "p t\n"
     ]
    }
   ],
   "source": [
    "# 021. 문자열 인덱싱\n",
    "    # letters가 바인딩하는 문자열에서 첫번째와 세번째 문자를 출력하세요.\n",
    "\n",
    "letters = 'python'\n",
    "print(letters[0], letters[2])"
   ]
  },
  {
   "cell_type": "code",
   "execution_count": 68,
   "id": "0fa4b2f2-8cad-4818-9f26-bf8ee1b5ba48",
   "metadata": {},
   "outputs": [
    {
     "name": "stdout",
     "output_type": "stream",
     "text": [
      "2210\n"
     ]
    }
   ],
   "source": [
    "# 022. 문자열 슬라이싱\n",
    "    # 자동차 번호가 다음과 같을 때 뒤에 4자리만 출력하세요.\n",
    "\n",
    "license_plate = \"24가 2210\"\n",
    "print(license_plate[-4:])"
   ]
  },
  {
   "cell_type": "markdown",
   "id": "b811301b-d25d-480e-bec4-3273691ba544",
   "metadata": {},
   "source": [
    "> 023. 다시 풀기"
   ]
  },
  {
   "cell_type": "code",
   "execution_count": 278,
   "id": "6cd21cd3-1219-4f53-bd0a-917a926c3db9",
   "metadata": {},
   "outputs": [
    {
     "name": "stdout",
     "output_type": "stream",
     "text": [
      "홀홀홀\n"
     ]
    }
   ],
   "source": [
    "# 023. 문자열 인덱싱\n",
    "    # 아래의 문자열에서 '홀' 만 출력하세요.\n",
    "    # 슬라이싱할 때 `시작인덱스:끝인덱스:오프셋`을 지정할 수 있습니다.\n",
    "\n",
    "string = \"홀짝홀짝홀짝\"\n",
    "print(string[::2])"
   ]
  },
  {
   "cell_type": "markdown",
   "id": "b6a06cde-dbf5-4b97-8418-a4f7a9732588",
   "metadata": {},
   "source": [
    "> 024. 다시 풀기"
   ]
  },
  {
   "cell_type": "code",
   "execution_count": 86,
   "id": "eb25b24e-5198-4965-8081-fa55ac5232e7",
   "metadata": {},
   "outputs": [
    {
     "name": "stdout",
     "output_type": "stream",
     "text": [
      "NOHTYP\n"
     ]
    }
   ],
   "source": [
    "# 024. 문자열 슬라이싱\n",
    "    # 문자열을 거꾸로 뒤집어 출력하세요.\n",
    "\n",
    "string = \"PYTHON\"\n",
    "print(string[::-1])"
   ]
  },
  {
   "cell_type": "code",
   "execution_count": 90,
   "id": "15ce9307-a3be-4ce3-b23f-1ea0af667314",
   "metadata": {},
   "outputs": [
    {
     "name": "stdout",
     "output_type": "stream",
     "text": [
      "010 1111 2222\n"
     ]
    }
   ],
   "source": [
    "# 025. 문자열 치환\n",
    "    # 아래의 전화번호에서 하이푼 ('-')을 제거하고 출력하세요.\n",
    "    # 실행 예 : 010 1111 2222\n",
    "\n",
    "\n",
    "phone_number = \"010-1111-2222\"\n",
    "print(phone_number.replace(\"-\" , \" \"))"
   ]
  },
  {
   "cell_type": "code",
   "execution_count": 93,
   "id": "b50e1c4d-98a3-4f83-834e-34660004d8ee",
   "metadata": {},
   "outputs": [
    {
     "name": "stdout",
     "output_type": "stream",
     "text": [
      "01011112222\n"
     ]
    }
   ],
   "source": [
    "# 026. 문자열 다루기\n",
    "    # 25번 문제의 전화번호를 아래와 같이 모두 붙여 출력하세요.\n",
    "    # 실행 예 : 01011112222\n",
    "\n",
    "print(phone_number.replace(\"-\" , \"\"))"
   ]
  },
  {
   "cell_type": "code",
   "execution_count": 117,
   "id": "0d2ee828-be71-4324-a16b-9effb14b016c",
   "metadata": {},
   "outputs": [
    {
     "name": "stdout",
     "output_type": "stream",
     "text": [
      "kr\n",
      "kr\n",
      "kr\n"
     ]
    }
   ],
   "source": [
    "# 027. 문자열 다루기\n",
    "    # url 에 저장된 웹 페이지 주소에서 도메인을 출력하세요.\n",
    "    # 실행 예: kr\n",
    "\n",
    "url = \"http://sharebook.kr\"\n",
    "\n",
    "print(url[-2:])\n",
    "\n",
    "url_split = (url.split('.'))\n",
    "print(url_split[-1])\n",
    "print(url_split[1])"
   ]
  },
  {
   "cell_type": "code",
   "execution_count": 141,
   "id": "e86e6809-e382-4ed6-bc38-8b7ba80b3fce",
   "metadata": {},
   "outputs": [
    {
     "ename": "TypeError",
     "evalue": "'str' object does not support item assignment",
     "output_type": "error",
     "traceback": [
      "\u001b[0;31m---------------------------------------------------------------------------\u001b[0m",
      "\u001b[0;31mTypeError\u001b[0m                                 Traceback (most recent call last)",
      "Cell \u001b[0;32mIn[141], line 5\u001b[0m\n\u001b[1;32m      1\u001b[0m \u001b[38;5;66;03m# 028. 문자열은 immutable\u001b[39;00m\n\u001b[1;32m      2\u001b[0m     \u001b[38;5;66;03m# 아래 코드의 실행 결과를 예상해보세요.\u001b[39;00m\n\u001b[1;32m      4\u001b[0m lang \u001b[38;5;241m=\u001b[39m \u001b[38;5;124m'\u001b[39m\u001b[38;5;124mpython\u001b[39m\u001b[38;5;124m'\u001b[39m\n\u001b[0;32m----> 5\u001b[0m lang[\u001b[38;5;241m0\u001b[39m] \u001b[38;5;241m=\u001b[39m \u001b[38;5;124m'\u001b[39m\u001b[38;5;124mP\u001b[39m\u001b[38;5;124m'\u001b[39m\n\u001b[1;32m      6\u001b[0m \u001b[38;5;28mprint\u001b[39m(lang)\n",
      "\u001b[0;31mTypeError\u001b[0m: 'str' object does not support item assignment"
     ]
    }
   ],
   "source": [
    "# 028. 문자열은 immutable\n",
    "    # 아래 코드의 실행 결과를 예상해보세요.\n",
    "\n",
    "lang = 'python'\n",
    "lang[0] = 'P'\n",
    "print(lang)\n",
    "\n",
    "    # 문자열은 수정할 수 없습니다. 실행 결과를 확인해보면 문자열이 할당(assignment) 메서드를 지원하지 않음을 알 수 있습니다."
   ]
  },
  {
   "cell_type": "code",
   "execution_count": 143,
   "id": "7c8a6824-8717-4928-b9e9-e01787bacac6",
   "metadata": {},
   "outputs": [
    {
     "name": "stdout",
     "output_type": "stream",
     "text": [
      "Abcdfe2A354A32A\n"
     ]
    }
   ],
   "source": [
    "# 029. replace 메서드\n",
    "    # 아래 문자열에서 소문자 'a'를 대문자 'A'로 변경하세요.\n",
    "    # 실행 예: Abcdfe2A354A32A\n",
    "\n",
    "string = 'abcdfe2a354a32a'\n",
    "print(string.replace('a','A'))"
   ]
  },
  {
   "cell_type": "code",
   "execution_count": 149,
   "id": "dab1ec3f-40b1-4df6-8619-d382f781672e",
   "metadata": {},
   "outputs": [
    {
     "name": "stdout",
     "output_type": "stream",
     "text": [
      "abcd\n"
     ]
    }
   ],
   "source": [
    "# 030. replace 메서드\n",
    "    # 아래 코드의 실행 결과를 예상해보세요.\n",
    "\n",
    "string = 'abcd'\n",
    "string.replace('b', 'B')\n",
    "print(string)\n",
    "\n",
    "    # `abcd`가 그대로 출력됩니다. 왜냐하면 문자열은 변경할 수 없는 자료형이기 때문입니다. replace 메서드를 사용하면 원본은 그대로 둔채로 변경된 새로운 문자열 객체를 리턴해줍니다."
   ]
  },
  {
   "cell_type": "markdown",
   "id": "c6cea53d-7002-4a29-b452-29820665ad3b",
   "metadata": {},
   "source": [
    "## * 031-040. 문자열 : 합치기, 곱하기, 공백제거(strip)"
   ]
  },
  {
   "cell_type": "code",
   "execution_count": 161,
   "id": "0cdf1a1f-dd03-4e72-ba12-384875d3b2ec",
   "metadata": {},
   "outputs": [
    {
     "name": "stdout",
     "output_type": "stream",
     "text": [
      "34\n"
     ]
    }
   ],
   "source": [
    "# 031. 문자열 합치기\n",
    "    # 아래 코드의 실행 결과를 예상해보세요.\n",
    "\n",
    "a = \"3\"\n",
    "b = \"4\"\n",
    "print(a + b)\n",
    "\n",
    "    # 두 문자열에 대해 덧셈 기호는 문자열의 연결을 의미"
   ]
  },
  {
   "cell_type": "code",
   "execution_count": 167,
   "id": "ee3760ae-d788-43bf-ab41-f3e12f28b437",
   "metadata": {},
   "outputs": [
    {
     "name": "stdout",
     "output_type": "stream",
     "text": [
      "HiHiHi\n"
     ]
    }
   ],
   "source": [
    "# 032. 문자열 곱하기\n",
    "    # 아래 코드의 실행 결과를 예상해보세요.\n",
    "\n",
    "print(\"Hi\" * 3)\n",
    "\n",
    "    # 문자열에 대한 곱셈은 문자열의 반복을 의미"
   ]
  },
  {
   "cell_type": "code",
   "execution_count": 169,
   "id": "30eb956c-8d3f-4426-b41c-114790210b20",
   "metadata": {},
   "outputs": [
    {
     "name": "stdout",
     "output_type": "stream",
     "text": [
      "--------------------------------------------------------------------------------\n"
     ]
    }
   ],
   "source": [
    "# 033. 문자열 곱하기\n",
    "    # 화면에 '-'를 80개 출력하세요.\n",
    "    # 실행 예: --------------------------------------------------------------------------------\n",
    "\n",
    "print('-' * 80)"
   ]
  },
  {
   "cell_type": "code",
   "execution_count": 181,
   "id": "c0054c92-cfa0-4b3b-8520-caa617592337",
   "metadata": {},
   "outputs": [
    {
     "name": "stdout",
     "output_type": "stream",
     "text": [
      "python java python java python java python java \n"
     ]
    }
   ],
   "source": [
    "# 034. 문자열 곱하기\n",
    "    # 변수에 다음과 같은 문자열이 바인딩되어 있습니다.\n",
    "    # 변수에 문자열 더하기와 문자열 곱하기를 사용해서 아래와 같이 출력해보세요.\n",
    "    # 실행 예: python java python java python java python java\n",
    "\n",
    "t1 = 'python'\n",
    "t2 = 'java'\n",
    "\n",
    "t3 = t1 + \" \" + t2 + \" \"\n",
    "print(t3 * 4)"
   ]
  },
  {
   "cell_type": "code",
   "execution_count": 189,
   "id": "74c4f578-f56e-4101-b325-9eb48f642da0",
   "metadata": {},
   "outputs": [
    {
     "name": "stdout",
     "output_type": "stream",
     "text": [
      "이름: 김민수 나이: 10\n",
      "이름: 이철희 나이: 13\n"
     ]
    }
   ],
   "source": [
    "# 035. 문자열 출력\n",
    "    # 변수에 다음과 같이 문자열과 정수가 바인딩되어 있을 때 % formatting을 사용해서 다음과 같이 출력해보세요.\n",
    "    # print 포맷팅에서 `%s`는 문자열 데이터 타입의 값을 `%d`는 정수형 데이터 타입 값의 출력을 의미\n",
    "        # 이름: 김민수 나이: 10\n",
    "        # 이름: 이철희 나이: 13\n",
    "\n",
    "name1 = \"김민수\" \n",
    "age1 = 10\n",
    "name2 = \"이철희\"\n",
    "age2 = 13\n",
    "\n",
    "print(\"이름: %s 나이: %d\" % (name1, age1))\n",
    "print(\"이름: %s 나이: %d\" % (name2, age2))"
   ]
  },
  {
   "cell_type": "code",
   "execution_count": 195,
   "id": "e0907fe4-f660-4123-b9d2-c52be79bab8e",
   "metadata": {},
   "outputs": [
    {
     "name": "stdout",
     "output_type": "stream",
     "text": [
      "이름: 김민수 나이: 10\n",
      "이름: 이철희 나이: 13\n"
     ]
    }
   ],
   "source": [
    "# 036. 문자열 출력\n",
    "    # 문자열의 format( ) 메서드를 사용해서 035번 문제를 다시 풀어보세요.\n",
    "\n",
    "print(\"이름: {} 나이: {}\".format(name1, age1))\n",
    "print(\"이름: {} 나이: {}\".format(name2, age2))\n",
    "\n",
    "    # 문자열의 포맷 메서드는 타입과 상관없이 값이 출력될 위치에 `{ }`를 적어주면 됩니다."
   ]
  },
  {
   "cell_type": "code",
   "execution_count": 201,
   "id": "1cf31a19-004f-43dc-bd41-473a97d059a7",
   "metadata": {},
   "outputs": [
    {
     "name": "stdout",
     "output_type": "stream",
     "text": [
      "이름: 김민수 나이: 10\n",
      "이름: 이철희 나이: 13\n"
     ]
    }
   ],
   "source": [
    "# 037. 문자열 출력\n",
    "    # 파이썬 3.6부터 지원하는 f-string을 사용해서 035번 문제를 다시 풀어보세요.\n",
    "\n",
    "print(f\"이름: {name1} 나이: {age1}\")\n",
    "print(f\"이름: {name2} 나이: {age2}\")\n",
    "\n",
    "    # f-string은 문자열 앞에 f가 붙은 형태입니다. f-string을 사용하면 `{변수}`와 같은 형태로 문자열 사이에 타입과 상관없이 값을 출력할 수 있습니다."
   ]
  },
  {
   "cell_type": "markdown",
   "id": "9bc6da10-ee91-4cdb-af5f-008334ce3a69",
   "metadata": {},
   "source": [
    "> 038. 다시 풀기"
   ]
  },
  {
   "cell_type": "code",
   "execution_count": 286,
   "id": "a9c85ba6-4453-4005-927d-cb11ca34c5f7",
   "metadata": {},
   "outputs": [
    {
     "name": "stdout",
     "output_type": "stream",
     "text": [
      "5969782550 <class 'int'>\n"
     ]
    }
   ],
   "source": [
    "# 038. 컴마 제거하기\n",
    "    # 삼성전자의 상장주식수가 다음과 같습니다. 컴마를 제거한 후 이를 정수 타입으로 변환해보세요.\n",
    "\n",
    "상장주식수 = \"5,969,782,550\"\n",
    "상장주식수2 = 상장주식수.replace(\",\" , \"\")\n",
    "상장주식수3 = int(상장주식수2)\n",
    "print(상장주식수3, type(상장주식수3))"
   ]
  },
  {
   "cell_type": "code",
   "execution_count": 220,
   "id": "f8196a46-2927-4555-a069-e9329d20da65",
   "metadata": {},
   "outputs": [
    {
     "name": "stdout",
     "output_type": "stream",
     "text": [
      "2020/03\n"
     ]
    }
   ],
   "source": [
    "# 039. 문자열 슬라이싱\n",
    "    # 다음과 같은 문자열에서 '2020/03'만 출력하세요.\n",
    "\n",
    "분기 = \"2020/03(E) (IFRS연결)\"\n",
    "print(분기[:7])"
   ]
  },
  {
   "cell_type": "code",
   "execution_count": 222,
   "id": "a2738af8-b727-4dc5-8d87-20faf96a61c5",
   "metadata": {},
   "outputs": [
    {
     "name": "stdout",
     "output_type": "stream",
     "text": [
      "삼성전자\n"
     ]
    }
   ],
   "source": [
    "# 040. strip 메서드\n",
    "    # 문자열의 좌우의 공백이 있을 때 이를 제거해보세요.\n",
    "\n",
    "data = \"   삼성전자    \"\n",
    "print(data.strip())"
   ]
  },
  {
   "cell_type": "markdown",
   "id": "520fc906-03f7-45ce-90e7-e366fa5be666",
   "metadata": {},
   "source": [
    "## * 041-050. 문자열 : upper(대문자로 변경), lower(소문자로 변경), capitalize(앞 대문자 변경), endswith, startswith"
   ]
  },
  {
   "cell_type": "code",
   "execution_count": 227,
   "id": "d5e11856-e074-40f7-976b-c84c539116c2",
   "metadata": {},
   "outputs": [
    {
     "name": "stdout",
     "output_type": "stream",
     "text": [
      "BTC_KRW\n"
     ]
    }
   ],
   "source": [
    "# 041. upper 메서드\n",
    "    # 다음과 같은 문자열이 있을 때 이를 대문자 BTC_KRW로 변경하세요.\n",
    "\n",
    "ticker = \"btc_krw\"\n",
    "print(ticker.upper())"
   ]
  },
  {
   "cell_type": "code",
   "execution_count": 229,
   "id": "4476dfd1-a2e0-4e9a-adc0-19cff146dde5",
   "metadata": {},
   "outputs": [
    {
     "name": "stdout",
     "output_type": "stream",
     "text": [
      "btc_krw\n"
     ]
    }
   ],
   "source": [
    "# 042. lower 메서드\n",
    "    # 다음과 같은 문자열이 있을 때 이를 소문자 btc_krw로 변경하세요.\n",
    "\n",
    "ticker = \"BTC_KRW\"\n",
    "print(ticker.lower())"
   ]
  },
  {
   "cell_type": "code",
   "execution_count": 231,
   "id": "28ee3078-4916-45bc-90b6-b25db73432f0",
   "metadata": {},
   "outputs": [
    {
     "name": "stdout",
     "output_type": "stream",
     "text": [
      "Hello\n"
     ]
    }
   ],
   "source": [
    "# 043. capitalize 메서드\n",
    "    # 문자열 'hello'가 있을 때 이를 'Hello'로 변경해보세요.\n",
    "\n",
    "a = \"hello\"\n",
    "print(a.capitalize())"
   ]
  },
  {
   "cell_type": "code",
   "execution_count": 239,
   "id": "9135f919-1960-448d-8202-f57b29583445",
   "metadata": {},
   "outputs": [
    {
     "data": {
      "text/plain": [
       "True"
      ]
     },
     "execution_count": 239,
     "metadata": {},
     "output_type": "execute_result"
    }
   ],
   "source": [
    "# 044. endswith 메서드\n",
    "    # 파일 이름이 문자열로 저장되어 있을 때 endswith 메서드를 사용해서 파일 이름이 'xlsx'로 끝나는지 확인해보세요.\n",
    "\n",
    "file_name = \"보고서.xlsx\"\n",
    "file_name.endswith(\"xlsx\")"
   ]
  },
  {
   "cell_type": "markdown",
   "id": "93094116-e0da-4977-86cc-8e0dd9dc3d3b",
   "metadata": {},
   "source": [
    "> 045. 다시 풀기"
   ]
  },
  {
   "cell_type": "code",
   "execution_count": 255,
   "id": "f3d9d363-e32d-4ba6-b5a0-a645f7fe9bb9",
   "metadata": {},
   "outputs": [
    {
     "data": {
      "text/plain": [
       "True"
      ]
     },
     "execution_count": 255,
     "metadata": {},
     "output_type": "execute_result"
    }
   ],
   "source": [
    "# 045. endswith 메서드\n",
    "    # 파일 이름이 문자열로 저장되어 있을 때 endswith 메서드를 사용해서 파일 이름이 'xlsx' 또는 'xls'로 끝나는지 확인해보세요.\n",
    "\n",
    "file_name = \"보고서.xlsx\"\n",
    "file_name.endswith((\"xlsx\", \"xls\"))"
   ]
  },
  {
   "cell_type": "code",
   "execution_count": 258,
   "id": "ab174b38-540e-4b0d-b10b-9c1fe633c7fb",
   "metadata": {},
   "outputs": [
    {
     "data": {
      "text/plain": [
       "True"
      ]
     },
     "execution_count": 258,
     "metadata": {},
     "output_type": "execute_result"
    }
   ],
   "source": [
    "# 046. startswith 메서드\n",
    "    # 파일 이름이 문자열로 저장되어 있을 때 startswith 메서드를 사용해서 파일 이름이 '2020'로 시작하는지 확인해보세요.\n",
    "\n",
    "file_name = \"2020_보고서.xlsx\"\n",
    "file_name.startswith(\"2020\")"
   ]
  },
  {
   "cell_type": "code",
   "execution_count": 268,
   "id": "1386998d-124d-482c-be9a-3476504b4cbe",
   "metadata": {},
   "outputs": [
    {
     "data": {
      "text/plain": [
       "['hello', 'world']"
      ]
     },
     "execution_count": 268,
     "metadata": {},
     "output_type": "execute_result"
    }
   ],
   "source": [
    "# 047. split 메서드\n",
    "    # 다음과 같은 문자열이 있을 때 공백을 기준으로 문자열을 나눠보세요.\n",
    "\n",
    "a = \"hello world\"\n",
    "a.split()"
   ]
  },
  {
   "cell_type": "code",
   "execution_count": 270,
   "id": "b2821464-9515-4b3a-8e35-29af70ec99df",
   "metadata": {},
   "outputs": [
    {
     "data": {
      "text/plain": [
       "['btc', 'krw']"
      ]
     },
     "execution_count": 270,
     "metadata": {},
     "output_type": "execute_result"
    }
   ],
   "source": [
    "# 048. split 메서드\n",
    "    # 다음과 같이 문자열이 있을 때 btc와 krw로 나눠보세요.\n",
    "\n",
    "ticker = \"btc_krw\"\n",
    "ticker.split(\"_\")"
   ]
  },
  {
   "cell_type": "code",
   "execution_count": 272,
   "id": "84e0a567-f4c2-462d-9e5a-2d07df55b3d7",
   "metadata": {},
   "outputs": [
    {
     "data": {
      "text/plain": [
       "['2020', '05', '01']"
      ]
     },
     "execution_count": 272,
     "metadata": {},
     "output_type": "execute_result"
    }
   ],
   "source": [
    "# 049. split 메서드\n",
    "    # 다음과 같이 날짜를 표현하는 문자열이 있을 때 연도, 월, 일로 나눠보세요.\n",
    "\n",
    "date = \"2020-05-01\"\n",
    "date.split(\"-\")"
   ]
  },
  {
   "cell_type": "code",
   "execution_count": 274,
   "id": "2e7d18ff-26d4-4fee-b43a-311f1d10bcac",
   "metadata": {},
   "outputs": [
    {
     "data": {
      "text/plain": [
       "'039490'"
      ]
     },
     "execution_count": 274,
     "metadata": {},
     "output_type": "execute_result"
    }
   ],
   "source": [
    "# 050. rstrip 메서드\n",
    "    # 문자열의 오른쪽에 공백이 있을 때 이를 제거해보세요.\n",
    "\n",
    "data = \"039490     \"\n",
    "data.rstrip()"
   ]
  },
  {
   "cell_type": "markdown",
   "id": "ce8612f6-86e2-4cad-acf5-027309f0fb03",
   "metadata": {},
   "source": [
    "## * 051-060. 리스트 : append, insert, del, max/min, len, sum"
   ]
  },
  {
   "cell_type": "code",
   "execution_count": 9,
   "id": "f47bf250-f310-4301-9c22-27390d6b5370",
   "metadata": {},
   "outputs": [],
   "source": [
    "# 051 리스트 생성\n",
    "    # 2016년 11월 영화 예매 순위 기준 top3는 다음과 같습니다. 영화 제목을 movie_rank 이름의 리스트에 저장해보세요. (순위 정보는 저장하지 않습니다.)\n",
    "        # 순위 / 영화\n",
    "        # 1\t닥터 스트레인지\n",
    "        # 2\t스플릿\n",
    "        # 3\t럭키\n",
    "\n",
    "movie_rank = [\"닥터 스트레인지\", \"스플릿\", \"럭키\"]"
   ]
  },
  {
   "cell_type": "code",
   "execution_count": 11,
   "id": "9bce04c7-a88f-4081-bd92-d494b91d5189",
   "metadata": {},
   "outputs": [
    {
     "name": "stdout",
     "output_type": "stream",
     "text": [
      "['닥터 스트레인지', '스플릿', '럭키', '배트맨']\n"
     ]
    }
   ],
   "source": [
    "# 052 리스트에 원소 추가\n",
    "    # 051의 movie_rank 리스트에 \"배트맨\"을 추가하라.\n",
    "\n",
    "movie_rank.append(\"배트맨\")\n",
    "print(movie_rank)"
   ]
  },
  {
   "cell_type": "code",
   "execution_count": 19,
   "id": "bce5a0cb-8321-4412-9c90-070a3af536ce",
   "metadata": {},
   "outputs": [
    {
     "name": "stdout",
     "output_type": "stream",
     "text": [
      "['닥터 스트레인지', '슈퍼맨', '스플릿', '럭키', '배트맨']\n"
     ]
    }
   ],
   "source": [
    "# 053 movie_rank 리스트에는 아래와 같이 네 개의 영화 제목이 바인딩되어 있다. \"슈퍼맨\"을 \"닥터 스트레인지\"와 \"스플릿\" 사이에 추가하라.\n",
    "movie_rank = ['닥터 스트레인지', '스플릿', '럭키', '배트맨']\n",
    "\n",
    "movie_rank.insert(1, \"슈퍼맨\")\n",
    "print(movie_rank)"
   ]
  },
  {
   "cell_type": "code",
   "execution_count": 30,
   "id": "9989881d-1936-430a-a2ae-b5d0248bccc0",
   "metadata": {},
   "outputs": [
    {
     "name": "stdout",
     "output_type": "stream",
     "text": [
      "['닥터 스트레인지', '슈퍼맨', '스플릿', '배트맨']\n"
     ]
    }
   ],
   "source": [
    "# 054 movie_rank 리스트에서 '럭키'를 삭제하라.\n",
    "movie_rank = ['닥터 스트레인지', '슈퍼맨', '스플릿', '럭키', '배트맨']\n",
    "\n",
    "del movie_rank[3]\n",
    "print(movie_rank)"
   ]
  },
  {
   "cell_type": "markdown",
   "id": "a08cdd42-13a9-4859-839d-54a71f0c7823",
   "metadata": {},
   "source": [
    "> 055. 다시 풀기"
   ]
  },
  {
   "cell_type": "code",
   "execution_count": 25,
   "id": "ef9f3705-cc03-43a8-80ea-0f5560529133",
   "metadata": {},
   "outputs": [
    {
     "name": "stdout",
     "output_type": "stream",
     "text": [
      "['닥터 스트레인지', '슈퍼맨', '배트맨']\n"
     ]
    }
   ],
   "source": [
    "# 055 movie_rank 리스트에서 '스플릿' 과 '배트맨'을 를 삭제하라.\n",
    "movie_rank = ['닥터 스트레인지', '슈퍼맨', '스플릿', '배트맨']\n",
    "\n",
    "del movie_rank[2]\n",
    "print(movie_rank)"
   ]
  },
  {
   "cell_type": "code",
   "execution_count": 27,
   "id": "16f20b36-a56d-4f9c-940c-14fa177bea6a",
   "metadata": {},
   "outputs": [
    {
     "name": "stdout",
     "output_type": "stream",
     "text": [
      "['닥터 스트레인지', '슈퍼맨']\n"
     ]
    }
   ],
   "source": [
    "del movie_rank[2]\n",
    "print(movie_rank)"
   ]
  },
  {
   "cell_type": "code",
   "execution_count": 36,
   "id": "eb392df9-5a32-4250-9e64-9bb474bcf4ad",
   "metadata": {},
   "outputs": [],
   "source": [
    "# 056 lang1과 lang2 리스트가 있을 때 lang1과 lang2의 원소를 모두 갖고 있는 langs 리스트를 만들어라.\n",
    "\n",
    "lang1 = [\"C\", \"C++\", \"JAVA\"]\n",
    "lang2 = [\"Python\", \"Go\", \"C#\"]\n",
    "\n",
    "    # 실행 예: langs ['C', 'C++', 'JAVA', 'Python', 'Go', 'C#']"
   ]
  },
  {
   "cell_type": "code",
   "execution_count": 38,
   "id": "b2141fb4-d96b-4e12-9da4-d28da04710f0",
   "metadata": {},
   "outputs": [
    {
     "name": "stdout",
     "output_type": "stream",
     "text": [
      "['C', 'C++', 'JAVA', 'Python', 'Go', 'C#']\n"
     ]
    }
   ],
   "source": [
    "langs = lang1 + lang2\n",
    "print(langs)"
   ]
  },
  {
   "cell_type": "markdown",
   "id": "381766fb-6e15-430e-ae7d-9c7cb6fc0c73",
   "metadata": {},
   "source": [
    "> 057. 다시 풀기"
   ]
  },
  {
   "cell_type": "code",
   "execution_count": 42,
   "id": "151184b8-fcbf-49c1-af78-a4103b56101e",
   "metadata": {},
   "outputs": [],
   "source": [
    "# 057 다음 리스트에서 최댓값과 최솟값을 출력하라. (힌트: min(), max() 함수 사용)\n",
    "\n",
    "nums = [1, 2, 3, 4, 5, 6, 7]\n",
    "\n",
    "    # 실행 예\n",
    "    # max:  7\n",
    "    # min:  1"
   ]
  },
  {
   "cell_type": "code",
   "execution_count": 48,
   "id": "336c9469-3319-4146-95fd-70c48020a1b5",
   "metadata": {},
   "outputs": [
    {
     "name": "stdout",
     "output_type": "stream",
     "text": [
      "max:  7\n",
      "min:  1\n"
     ]
    }
   ],
   "source": [
    "print(\"max: \", max(nums))\n",
    "print(\"min: \", min(nums))"
   ]
  },
  {
   "cell_type": "code",
   "execution_count": 58,
   "id": "c7e27705-53c0-47b9-b90e-1af2bfb39b5c",
   "metadata": {},
   "outputs": [],
   "source": [
    "# 058 다음 리스트의 합을 출력하라.\n",
    "nums = [1, 2, 3, 4, 5]\n",
    "\n",
    "    # 실행 예: 15"
   ]
  },
  {
   "cell_type": "code",
   "execution_count": 62,
   "id": "d1a2ca3e-cff2-4b45-94c6-163f391c5662",
   "metadata": {},
   "outputs": [
    {
     "name": "stdout",
     "output_type": "stream",
     "text": [
      "15\n"
     ]
    }
   ],
   "source": [
    "print(sum(nums))"
   ]
  },
  {
   "cell_type": "code",
   "execution_count": 68,
   "id": "7f45e65e-e69e-4376-967e-d646aa4a11a7",
   "metadata": {},
   "outputs": [
    {
     "name": "stdout",
     "output_type": "stream",
     "text": [
      "12\n"
     ]
    }
   ],
   "source": [
    "# 059 다음 리스트에 저장된 데이터의 개수를 화면에 구하하라.\n",
    "\n",
    "cook = [\"피자\", \"김밥\", \"만두\", \"양념치킨\", \"족발\", \"피자\", \"김치만두\", \"쫄면\", \"소시지\", \"라면\", \"팥빙수\", \"김치전\"]\n",
    "print(len(cook))"
   ]
  },
  {
   "cell_type": "code",
   "execution_count": 70,
   "id": "d991abc2-a9f3-4c45-9e6d-76f8e3ff83f5",
   "metadata": {},
   "outputs": [],
   "source": [
    "# 060 다음 리스트의 평균을 출력하라.\n",
    "nums = [1, 2, 3, 4, 5]\n",
    "\n",
    "    # 실행 예: 3.0"
   ]
  },
  {
   "cell_type": "code",
   "execution_count": 72,
   "id": "d4292ae4-5b6c-4717-8fea-83269a85b869",
   "metadata": {},
   "outputs": [
    {
     "name": "stdout",
     "output_type": "stream",
     "text": [
      "3.0\n"
     ]
    }
   ],
   "source": [
    "print(sum(nums) / len(nums))"
   ]
  },
  {
   "cell_type": "markdown",
   "id": "aadfa836-9930-478d-951b-8450bbdaab64",
   "metadata": {},
   "source": [
    "## * 061-070. 리스트"
   ]
  },
  {
   "cell_type": "code",
   "execution_count": 77,
   "id": "a13ec48f-9f35-400c-91ee-2b4dde9e613c",
   "metadata": {},
   "outputs": [],
   "source": [
    "# 061 price 변수에는 날짜와 종가 정보가 저장돼 있다. 날짜 정보를 제외하고 가격 정보만을 출력하라. (힌트 : 슬라이싱)\n",
    "\n",
    "price = ['20180728', 100, 130, 140, 150, 160, 170]\n",
    "\n",
    "    # 출력 예시: [100, 130, 140, 150, 160, 170]"
   ]
  },
  {
   "cell_type": "code",
   "execution_count": 79,
   "id": "2b869198-0053-43cf-b048-1ec9e2691d47",
   "metadata": {},
   "outputs": [
    {
     "name": "stdout",
     "output_type": "stream",
     "text": [
      "[100, 130, 140, 150, 160, 170]\n"
     ]
    }
   ],
   "source": [
    "print(price[1:])"
   ]
  },
  {
   "cell_type": "markdown",
   "id": "e24f7e4d-da39-4314-9436-34e519a1277b",
   "metadata": {},
   "source": [
    "> 062. 다시 풀기"
   ]
  },
  {
   "cell_type": "code",
   "execution_count": 91,
   "id": "b5a8d915-4171-48d2-aeee-4aa5a0123cb0",
   "metadata": {},
   "outputs": [],
   "source": [
    "# 062 슬라이싱을 사용해서 홀수만 출력하라.\n",
    "\n",
    "nums = [1, 2, 3, 4, 5, 6, 7, 8, 9, 10]\n",
    "\n",
    "    # 실행 예: [1, 3, 5, 7, 9]"
   ]
  },
  {
   "cell_type": "code",
   "execution_count": 93,
   "id": "a1e6c77b-c8a8-4338-9bb7-923b6a74bed4",
   "metadata": {},
   "outputs": [
    {
     "name": "stdout",
     "output_type": "stream",
     "text": [
      "[1, 3, 5, 7, 9]\n"
     ]
    }
   ],
   "source": [
    "print(nums[::2])"
   ]
  },
  {
   "cell_type": "markdown",
   "id": "b634846c-25e7-4ce6-a4ea-bc5a54d4036f",
   "metadata": {},
   "source": [
    "> 063. 다시 풀기"
   ]
  },
  {
   "cell_type": "code",
   "execution_count": 96,
   "id": "1598b3e2-ed5a-41be-a65e-b997f0240567",
   "metadata": {},
   "outputs": [],
   "source": [
    "# 063 슬라이싱을 사용해서 짝수만 출력하라.\n",
    "\n",
    "nums = [1, 2, 3, 4, 5, 6, 7, 8, 9, 10]\n",
    "\n",
    "    # 실행 예: [2, 4, 6, 8, 10]"
   ]
  },
  {
   "cell_type": "code",
   "execution_count": 98,
   "id": "5d72866f-09a0-4bb9-95c1-a1b7f53a25f0",
   "metadata": {},
   "outputs": [
    {
     "name": "stdout",
     "output_type": "stream",
     "text": [
      "[2, 4, 6, 8, 10]\n"
     ]
    }
   ],
   "source": [
    "print(nums[1::2])"
   ]
  },
  {
   "cell_type": "code",
   "execution_count": 102,
   "id": "f81175bb-2265-4246-af9b-a94e69a1656c",
   "metadata": {},
   "outputs": [],
   "source": [
    "# 064 슬라이싱을 사용해서 리스트의 숫자를 역 방향으로 출력하라.\n",
    "\n",
    "nums = [1, 2, 3, 4, 5]\n",
    "\n",
    "    # 실행 예: [5, 4, 3, 2, 1]"
   ]
  },
  {
   "cell_type": "code",
   "execution_count": 104,
   "id": "e12cd8dc-20a7-4515-bd81-d0c34d551cc8",
   "metadata": {},
   "outputs": [
    {
     "name": "stdout",
     "output_type": "stream",
     "text": [
      "[5, 4, 3, 2, 1]\n"
     ]
    }
   ],
   "source": [
    "print(nums[::-1])"
   ]
  },
  {
   "cell_type": "markdown",
   "id": "b5fdbad0-9622-461d-a59e-dd6937f30912",
   "metadata": {},
   "source": [
    "> 065. 다시 풀기"
   ]
  },
  {
   "cell_type": "code",
   "execution_count": 106,
   "id": "b006b558-fdd7-4c4a-85c1-1c4df49b490d",
   "metadata": {},
   "outputs": [],
   "source": [
    "# 065 interest 리스트에는 아래의 데이터가 바인딩되어 있다. interest 리스트를 사용하여 아래와 같이 화면에 출력하라.\n",
    "\n",
    "interest = ['삼성전자', 'LG전자', 'Naver']\n",
    "\n",
    "    # 출력 예시: 삼성전자 Naver"
   ]
  },
  {
   "cell_type": "code",
   "execution_count": 116,
   "id": "28bb02d0-fba1-4adc-8b4b-8da0868acfbd",
   "metadata": {},
   "outputs": [
    {
     "name": "stdout",
     "output_type": "stream",
     "text": [
      "삼성전자 Naver\n"
     ]
    }
   ],
   "source": [
    "print(interest[0], interest[2])"
   ]
  },
  {
   "cell_type": "code",
   "execution_count": 119,
   "id": "a2f1bf14-3d69-4b6c-a05a-f5c4f28e84e4",
   "metadata": {},
   "outputs": [],
   "source": [
    "# 066 join 메서드 : interest 리스트에는 아래의 데이터가 바인딩되어 있다. interest 리스트를 사용하여 아래와 같이 화면에 출력하라.\n",
    "\n",
    "interest = ['삼성전자', 'LG전자', 'Naver', 'SK하이닉스', '미래에셋대우']\n",
    "\n",
    "    # 출력 예시: 삼성전자 LG전자 Naver SK하이닉스 미래에셋대우"
   ]
  },
  {
   "cell_type": "code",
   "execution_count": 125,
   "id": "5f7b0ac5-88dd-47bd-8c5f-5a6eee7540f6",
   "metadata": {},
   "outputs": [
    {
     "name": "stdout",
     "output_type": "stream",
     "text": [
      "삼성전자 LG전자 Naver SK하이닉스 미래에셋대우\n"
     ]
    }
   ],
   "source": [
    "print(\" \".join(interest))"
   ]
  },
  {
   "cell_type": "code",
   "execution_count": 127,
   "id": "b5a89df0-dd30-4e6f-ac1c-cdb48f3fbc94",
   "metadata": {},
   "outputs": [],
   "source": [
    "# 067 join 메서드 : interest 리스트에는 아래의 데이터가 바인딩되어 있다. interest 리스트를 사용하여 아래와 같이 화면에 출력하라.\n",
    "\n",
    "interest = ['삼성전자', 'LG전자', 'Naver', 'SK하이닉스', '미래에셋대우']\n",
    "\n",
    "    # 출력 예시: 삼성전자/LG전자/Naver/SK하이닉스/미래에셋대우"
   ]
  },
  {
   "cell_type": "code",
   "execution_count": 129,
   "id": "9b1b3e21-eb0c-4c5f-9fa0-cb285ff4f0cb",
   "metadata": {},
   "outputs": [
    {
     "name": "stdout",
     "output_type": "stream",
     "text": [
      "삼성전자/LG전자/Naver/SK하이닉스/미래에셋대우\n"
     ]
    }
   ],
   "source": [
    "print(\"/\".join(interest))"
   ]
  },
  {
   "cell_type": "code",
   "execution_count": 131,
   "id": "1821a0ba-74c1-4f33-8e92-0171a675bede",
   "metadata": {},
   "outputs": [],
   "source": [
    "# 068 join 메서드 : interest 리스트에는 아래의 데이터가 바인딩되어 있다. join() 메서드를 사용해서 interest 리스트를 아래와 같이 화면에 출력하라.\n",
    "\n",
    "interest = ['삼성전자', 'LG전자', 'Naver', 'SK하이닉스', '미래에셋대우']\n",
    "\n",
    "    # 출력 예시:\n",
    "    # 삼성전자\n",
    "    # LG전자\n",
    "    # Naver\n",
    "    # SK하이닉스\n",
    "    # 미래에셋대우"
   ]
  },
  {
   "cell_type": "code",
   "execution_count": 141,
   "id": "c9dc9bae-37b0-451f-8151-9324d5b7ae5b",
   "metadata": {},
   "outputs": [
    {
     "name": "stdout",
     "output_type": "stream",
     "text": [
      "삼성전자\n",
      "LG전자\n",
      "Naver\n",
      "SK하이닉스\n",
      "미래에셋대우\n"
     ]
    }
   ],
   "source": [
    "print(\"\\n\".join(interest))"
   ]
  },
  {
   "cell_type": "markdown",
   "id": "ac1c530f-156f-4ea7-bdc0-e1caefee20d8",
   "metadata": {},
   "source": [
    "> 069. 다시 풀기"
   ]
  },
  {
   "cell_type": "code",
   "execution_count": 163,
   "id": "87f1ad92-6659-4094-bcdf-55061742857e",
   "metadata": {},
   "outputs": [],
   "source": [
    "# 069 문자열 split 메서드 : 회사 이름이 슬래시 ('/')로 구분되어 하나의 문자열로 저장되어 있다. 이를 interest 이름의 리스트로 분리 저장하라.\n",
    "\n",
    "string = \"삼성전자/LG전자/Naver\"\n",
    "\n",
    "    # 실행 예시 : print(interest)\n",
    "    # ['삼성전자', 'LG전자', 'Naver']"
   ]
  },
  {
   "cell_type": "code",
   "execution_count": 169,
   "id": "95fc9f76-992b-4acd-a9b9-0ae6f457a100",
   "metadata": {},
   "outputs": [
    {
     "name": "stdout",
     "output_type": "stream",
     "text": [
      "['삼성전자', 'LG전자', 'Naver']\n"
     ]
    }
   ],
   "source": [
    "interest = string.split(\"/\")\n",
    "print(interest)"
   ]
  },
  {
   "cell_type": "code",
   "execution_count": 172,
   "id": "031e109f-75e6-44e1-aead-064cf6840619",
   "metadata": {},
   "outputs": [],
   "source": [
    "# 070 리스트 정렬 : 리스트에 있는 값을 오름차순으로 정렬하세요.\n",
    "\n",
    "data = [2, 4, 3, 1, 5, 10, 9]"
   ]
  },
  {
   "cell_type": "code",
   "execution_count": 174,
   "id": "dee60f6a-3477-4d13-81de-62e19d0bf540",
   "metadata": {},
   "outputs": [
    {
     "name": "stdout",
     "output_type": "stream",
     "text": [
      "[1, 2, 3, 4, 5, 9, 10]\n"
     ]
    }
   ],
   "source": [
    "data.sort()\n",
    "print(data)"
   ]
  },
  {
   "cell_type": "markdown",
   "id": "3818fae1-3a62-45e1-85b7-410b6d5f47f0",
   "metadata": {},
   "source": [
    "## * 071-080. 튜플 : 순서가 있지만 수정 불가능한 자료구조"
   ]
  },
  {
   "cell_type": "code",
   "execution_count": 180,
   "id": "190bae12-a8aa-4a33-b540-96a18f07a8fc",
   "metadata": {},
   "outputs": [],
   "source": [
    "# 071 my_variable 이름의 비어있는 튜플을 만들라.\n",
    "\n",
    "my_variable = ()"
   ]
  },
  {
   "cell_type": "code",
   "execution_count": 188,
   "id": "53b2f772-17a8-4350-a08d-07ab1128e5d1",
   "metadata": {},
   "outputs": [
    {
     "name": "stdout",
     "output_type": "stream",
     "text": [
      "<class 'tuple'>\n"
     ]
    }
   ],
   "source": [
    "print(type(my_variable))"
   ]
  },
  {
   "cell_type": "code",
   "execution_count": 190,
   "id": "728894ab-e66b-49c1-8990-ebdde537afa7",
   "metadata": {},
   "outputs": [],
   "source": [
    "# 072 2016년 11월 영화 예매 순위 기준 top3는 다음과 같다. 영화 제목을 movie_rank 이름의 튜플에 저장하라. (순위 정보는 저장하지 않는다.)\n",
    "\n",
    "    # 순위 / 영화\n",
    "    # 1\t닥터 스트레인지\n",
    "    # 2\t스플릿\n",
    "    # 3\t럭키\n",
    "\n",
    "movie_rank = (\"닥터 스트레인지\", \"스플릿\", \"럭키\")"
   ]
  },
  {
   "cell_type": "markdown",
   "id": "0c4b7a13-1e9a-4b92-b558-bf4125791ff4",
   "metadata": {},
   "source": [
    "> 073. 다시 풀기"
   ]
  },
  {
   "cell_type": "code",
   "execution_count": 208,
   "id": "70a94878-281d-43d1-8390-e4c0ea10fa26",
   "metadata": {},
   "outputs": [
    {
     "data": {
      "text/plain": [
       "tuple"
      ]
     },
     "execution_count": 208,
     "metadata": {},
     "output_type": "execute_result"
    }
   ],
   "source": [
    "# 073 숫자 1 이 저장된 튜플을 생성하라.\n",
    "\n",
    "my_tuple = (1, )\n",
    "type(my_tuple)"
   ]
  },
  {
   "cell_type": "code",
   "execution_count": 210,
   "id": "2576470e-bd2c-48a1-94f8-8b54b72d879b",
   "metadata": {},
   "outputs": [
    {
     "data": {
      "text/plain": [
       "int"
      ]
     },
     "execution_count": 210,
     "metadata": {},
     "output_type": "execute_result"
    }
   ],
   "source": [
    "my_tuple = (1)\n",
    "type(my_tuple)"
   ]
  },
  {
   "cell_type": "code",
   "execution_count": 218,
   "id": "1bdd812e-775c-4157-8643-95ca496d9616",
   "metadata": {},
   "outputs": [
    {
     "ename": "TypeError",
     "evalue": "'tuple' object does not support item assignment",
     "output_type": "error",
     "traceback": [
      "\u001b[0;31m---------------------------------------------------------------------------\u001b[0m",
      "\u001b[0;31mTypeError\u001b[0m                                 Traceback (most recent call last)",
      "Cell \u001b[0;32mIn[218], line 5\u001b[0m\n\u001b[1;32m      1\u001b[0m \u001b[38;5;66;03m# 074 다음 코드를 실행해보고 오류가 발생하는 원인을 설명하라.\u001b[39;00m\n\u001b[1;32m      2\u001b[0m     \u001b[38;5;66;03m# 정답 : 튜플은 요소값 변경 불가.\u001b[39;00m\n\u001b[1;32m      4\u001b[0m t \u001b[38;5;241m=\u001b[39m (\u001b[38;5;241m1\u001b[39m, \u001b[38;5;241m2\u001b[39m, \u001b[38;5;241m3\u001b[39m)\n\u001b[0;32m----> 5\u001b[0m t[\u001b[38;5;241m0\u001b[39m] \u001b[38;5;241m=\u001b[39m \u001b[38;5;124m'\u001b[39m\u001b[38;5;124ma\u001b[39m\u001b[38;5;124m'\u001b[39m\n",
      "\u001b[0;31mTypeError\u001b[0m: 'tuple' object does not support item assignment"
     ]
    }
   ],
   "source": [
    "# 074 다음 코드를 실행해보고 오류가 발생하는 원인을 설명하라.\n",
    "    # 정답 : 튜플은 요소값 변경 불가.\n",
    "\n",
    "t = (1, 2, 3)\n",
    "t[0] = 'a'"
   ]
  },
  {
   "cell_type": "code",
   "execution_count": 228,
   "id": "3c1debb0-eaa1-486a-9606-1d32433a31bc",
   "metadata": {},
   "outputs": [
    {
     "name": "stdout",
     "output_type": "stream",
     "text": [
      "<class 'tuple'>\n"
     ]
    }
   ],
   "source": [
    "# 075 아래와 같이 t에는 1, 2, 3, 4 데이터가 바인딩되어 있다. t가 바인딩하는 데이터 타입은 무엇인가?\n",
    "    # 정답 : 튜플은 괄호 없이도 동작함.\n",
    "t = 1, 2, 3, 4\n",
    "print(type(t))"
   ]
  },
  {
   "cell_type": "code",
   "execution_count": 240,
   "id": "4a54a5be-60f9-40e1-904c-7c19118d2055",
   "metadata": {},
   "outputs": [],
   "source": [
    "# 076 변수 t에는 아래와 같은 값이 저장되어 있다. 변수 t가 ('A', 'b', 'c') 튜플을 가리키도록 수정하라.\n",
    "\n",
    "t = ('a', 'b', 'c')\n",
    "\n",
    "    # 정답\n",
    "        # 튜플의 값은 변경할 수 없기 때문에, 리스트와 달리 아래 코드는 동작하지 않습니다.\n",
    "        # t[0] = 'A'\n",
    "        # 새로운 튜플을 만들고 t 라는 변수를 업데이트 해야 합니다. 기존의 튜플 ('a', 'b', 'c')은 자동으로 삭제됩니다.\n",
    "        # t = ('A', 'b', 'c')"
   ]
  },
  {
   "cell_type": "code",
   "execution_count": 246,
   "id": "cb517306-e0b0-463a-acb6-0da823a97b35",
   "metadata": {},
   "outputs": [
    {
     "data": {
      "text/plain": [
       "['삼성전자', 'LG전자', 'SK Hynix']"
      ]
     },
     "execution_count": 246,
     "metadata": {},
     "output_type": "execute_result"
    }
   ],
   "source": [
    "# 077 다음 튜플을 리스트로 변환하라.\n",
    "\n",
    "interest = ('삼성전자', 'LG전자', 'SK Hynix')\n",
    "list(interest)"
   ]
  },
  {
   "cell_type": "code",
   "execution_count": 252,
   "id": "01942c82-f506-4295-8680-b21ef6ea596f",
   "metadata": {},
   "outputs": [
    {
     "data": {
      "text/plain": [
       "('삼성전자', 'LG전자', 'SK Hynix')"
      ]
     },
     "execution_count": 252,
     "metadata": {},
     "output_type": "execute_result"
    }
   ],
   "source": [
    "# 078 다음 리스트를 튜플로 변경하라.\n",
    "\n",
    "interest = ['삼성전자', 'LG전자', 'SK Hynix']\n",
    "tuple(interest)"
   ]
  },
  {
   "cell_type": "code",
   "execution_count": 254,
   "id": "0d6aca5c-e67d-4bea-a5be-aff9fca7d467",
   "metadata": {},
   "outputs": [
    {
     "name": "stdout",
     "output_type": "stream",
     "text": [
      "apple banana cake\n"
     ]
    }
   ],
   "source": [
    "# 079 튜플 언팩킹 : 다음 코드의 실행 결과를 예상하라.\n",
    "\n",
    "temp = ('apple', 'banana', 'cake')\n",
    "a, b, c = temp\n",
    "print(a, b, c)"
   ]
  },
  {
   "cell_type": "markdown",
   "id": "76140bc6-66ca-47fa-8963-39fd5e226864",
   "metadata": {},
   "source": [
    "> 080. 다시 풀기"
   ]
  },
  {
   "cell_type": "code",
   "execution_count": 300,
   "id": "ac57008e-9886-4412-8e61-36df52c186d1",
   "metadata": {},
   "outputs": [
    {
     "name": "stdout",
     "output_type": "stream",
     "text": [
      "(2, 4, 6, 8, 10, 12, 14, 16, 18, 20, 22, 24, 26, 28, 30, 32, 34, 36, 38, 40, 42, 44, 46, 48, 50, 52, 54, 56, 58, 60, 62, 64, 66, 68, 70, 72, 74, 76, 78, 80, 82, 84, 86, 88, 90, 92, 94, 96, 98)\n"
     ]
    }
   ],
   "source": [
    "# 080 range 함수 : 1 부터 99까지의 정수 중 짝수만 저장된 튜플을 생성하라.\n",
    "    # (2, 4, 6, 8 ... 98)\n",
    "\n",
    "data = tuple(range(2, 100, 2))\n",
    "print(data)"
   ]
  },
  {
   "cell_type": "code",
   "execution_count": null,
   "id": "730f1363-c10f-4588-902c-4abbaf9829ee",
   "metadata": {},
   "outputs": [],
   "source": []
  }
 ],
 "metadata": {
  "kernelspec": {
   "display_name": "Python 3 (ipykernel)",
   "language": "python",
   "name": "python3"
  },
  "language_info": {
   "codemirror_mode": {
    "name": "ipython",
    "version": 3
   },
   "file_extension": ".py",
   "mimetype": "text/x-python",
   "name": "python",
   "nbconvert_exporter": "python",
   "pygments_lexer": "ipython3",
   "version": "3.12.4"
  },
  "panel-cell-order": [
   "79c28ae1-d823-4e73-a3b9-3e07af433078",
   "16ef4ae7-ebfe-4c8c-b911-5370f1838600",
   "a02e8302-155d-4246-a46a-34752cd8bd68",
   "01ced233-6274-4bf6-ac45-3ab573581537",
   "9854ec56-4531-4219-b767-d3d8c999fb0e",
   "1aeabae0-5ebe-4818-b5df-1a55c0167e09",
   "4a83aa06-ee99-499c-80d4-69507d0d4b4b",
   "ce59e237-8b9e-4b92-88f6-cc76c17714f6",
   "a3efad70-fbb6-447e-b82a-84eb8767ae0f",
   "4698dbde-da08-4365-ad16-e9982c200515",
   "bb3a02ad-600b-418f-a4b7-554b9773df0e"
  ]
 },
 "nbformat": 4,
 "nbformat_minor": 5
}
