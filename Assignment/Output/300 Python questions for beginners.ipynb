{
 "cells": [
  {
   "cell_type": "markdown",
   "id": "79c28ae1-d823-4e73-a3b9-3e07af433078",
   "metadata": {
    "panel-layout": {
     "height": 60.59375,
     "visible": true,
     "width": 100
    }
   },
   "source": [
    "# **[초보자를 위한 파이썬 300제]**"
   ]
  },
  {
   "cell_type": "markdown",
   "id": "16ef4ae7-ebfe-4c8c-b911-5370f1838600",
   "metadata": {
    "panel-layout": {
     "height": 50.8203125,
     "visible": true,
     "width": 100
    }
   },
   "source": [
    "## * 001-010. Print - 기초"
   ]
  },
  {
   "cell_type": "code",
   "execution_count": 21,
   "id": "a02e8302-155d-4246-a46a-34752cd8bd68",
   "metadata": {
    "panel-layout": {
     "height": 0,
     "visible": true,
     "width": 100
    }
   },
   "outputs": [
    {
     "name": "stdout",
     "output_type": "stream",
     "text": [
      "Hello World\n"
     ]
    }
   ],
   "source": [
    "# 001. 화면에 Hello World 문자열을 출력하세요.\n",
    "print(\"Hello World\")"
   ]
  },
  {
   "cell_type": "code",
   "execution_count": 37,
   "id": "01ced233-6274-4bf6-ac45-3ab573581537",
   "metadata": {
    "panel-layout": {
     "height": 0,
     "visible": true,
     "width": 100
    }
   },
   "outputs": [
    {
     "name": "stdout",
     "output_type": "stream",
     "text": [
      "Mary's cosmetics\n"
     ]
    }
   ],
   "source": [
    "# 002. 화면에 Mary's cosmetics을 출력하세요. (중간에 '가 있음에 주의하세요)\n",
    "print(\"Mary's cosmetics\")"
   ]
  },
  {
   "cell_type": "code",
   "execution_count": 39,
   "id": "9854ec56-4531-4219-b767-d3d8c999fb0e",
   "metadata": {
    "panel-layout": {
     "height": 0,
     "visible": true,
     "width": 100
    }
   },
   "outputs": [
    {
     "name": "stdout",
     "output_type": "stream",
     "text": [
      "신씨가 소리질렀다. \"도둑이야\".\n"
     ]
    }
   ],
   "source": [
    "# 003. 화면에 아래 문장을 출력하세요. (중간에 \"가 있음에 주의하세요.)\n",
    "print('신씨가 소리질렀다. \"도둑이야\".')"
   ]
  },
  {
   "cell_type": "code",
   "execution_count": 47,
   "id": "1aeabae0-5ebe-4818-b5df-1a55c0167e09",
   "metadata": {
    "panel-layout": {
     "height": 0,
     "visible": true,
     "width": 100
    }
   },
   "outputs": [
    {
     "name": "stdout",
     "output_type": "stream",
     "text": [
      "C:\\Windows\n"
     ]
    }
   ],
   "source": [
    "# 004. 화면에 C:\\Windows를 출력하세요.\n",
    "print(\"C:\\\\Windows\")"
   ]
  },
  {
   "cell_type": "code",
   "execution_count": 49,
   "id": "4a83aa06-ee99-499c-80d4-69507d0d4b4b",
   "metadata": {
    "panel-layout": {
     "height": 0,
     "visible": true,
     "width": 100
    },
    "scrolled": true
   },
   "outputs": [
    {
     "name": "stdout",
     "output_type": "stream",
     "text": [
      "안녕하세요.\n",
      "만나서\t\t반갑습니다.\n"
     ]
    }
   ],
   "source": [
    "# 005. print 탭과 줄바꿈 : 다음 코드를 실행해보고 \\t와 \\n의 역할을 설명해보세요.\n",
    "print(\"안녕하세요.\\n만나서\\t\\t반갑습니다.\")"
   ]
  },
  {
   "cell_type": "markdown",
   "id": "ce59e237-8b9e-4b92-88f6-cc76c17714f6",
   "metadata": {
    "panel-layout": {
     "height": 113.546875,
     "visible": true,
     "width": 100
    }
   },
   "source": [
    "*[Answer]*\n",
    "- \\n : Enter 줄바꿈\n",
    "- \\t : Tab"
   ]
  },
  {
   "cell_type": "code",
   "execution_count": 2,
   "id": "a3efad70-fbb6-447e-b82a-84eb8767ae0f",
   "metadata": {
    "panel-layout": {
     "height": 0,
     "visible": true,
     "width": 100
    }
   },
   "outputs": [
    {
     "name": "stdout",
     "output_type": "stream",
     "text": [
      "오늘은 일요일\n"
     ]
    }
   ],
   "source": [
    "# 006. print 여러 데이터 출력 : print 함수에 두 개의 단어를 입력한 예제입니다. 아래 코드의 출력 결과를 예상해봅시다.\n",
    "print (\"오늘은\", \"일요일\")"
   ]
  },
  {
   "cell_type": "code",
   "execution_count": 109,
   "id": "4698dbde-da08-4365-ad16-e9982c200515",
   "metadata": {
    "panel-layout": {
     "height": 0,
     "visible": true,
     "width": 100
    }
   },
   "outputs": [
    {
     "name": "stdout",
     "output_type": "stream",
     "text": [
      "naver;kakao;samsung\n"
     ]
    }
   ],
   "source": [
    "# 007. print() 함수를 사용하여 다음과 같이 출력하세요.\n",
    "    # print(naver;kakao;sk;samsung)\n",
    "\n",
    "print(\"naver\", \"kakao\", \"samsung\", sep=\";\")"
   ]
  },
  {
   "cell_type": "code",
   "execution_count": 113,
   "id": "bb3a02ad-600b-418f-a4b7-554b9773df0e",
   "metadata": {
    "editable": true,
    "panel-layout": {
     "height": 0,
     "visible": true,
     "width": 100
    },
    "slideshow": {
     "slide_type": ""
    },
    "tags": []
   },
   "outputs": [
    {
     "name": "stdout",
     "output_type": "stream",
     "text": [
      "naver/kakao/sk/samsung\n"
     ]
    }
   ],
   "source": [
    "# 008. print() 함수를 사용하여 다음과 같이 출력하세요. : naver/kakao/sk/samsung\n",
    "print(\"naver\", \"kakao\", \"sk\", \"samsung\", sep=\"/\")"
   ]
  },
  {
   "cell_type": "code",
   "execution_count": 133,
   "id": "c58a950d-d887-4928-8d6a-f220a330be28",
   "metadata": {},
   "outputs": [
    {
     "name": "stdout",
     "output_type": "stream",
     "text": [
      "firstsecond\n"
     ]
    }
   ],
   "source": [
    "# 009. print 줄바꿈\n",
    "    # 다음 코드를 수정하여 줄바꿈이 없이 출력하세요. (힌트: end='') print 함수는 두 번 사용합니다. 세미콜론 (;)은 한줄에 여러 개의 명령을 작성하기 위해 사용합니다.\n",
    "    # print(\"first\");print(\"second\")\n",
    "\n",
    "print(\"first\", end=\"\");print(\"second\")"
   ]
  },
  {
   "cell_type": "code",
   "execution_count": 11,
   "id": "91783b8c-9e08-49ae-a724-bc11879d789c",
   "metadata": {},
   "outputs": [
    {
     "name": "stdout",
     "output_type": "stream",
     "text": [
      "1.6666666666666667\n"
     ]
    }
   ],
   "source": [
    "# 010. 연산 결과 출력\n",
    "    # 5/3의 결과를 화면에 출력하세요.\n",
    "print(5/3)"
   ]
  },
  {
   "cell_type": "markdown",
   "id": "7650ec95-18e0-439e-8bba-fca6f71e9bfd",
   "metadata": {},
   "source": [
    "## * 011-020. 변수"
   ]
  },
  {
   "cell_type": "code",
   "execution_count": 21,
   "id": "22984a3d-199d-47d2-bd59-d35de1e91ba0",
   "metadata": {},
   "outputs": [
    {
     "name": "stdout",
     "output_type": "stream",
     "text": [
      "500000\n"
     ]
    }
   ],
   "source": [
    "# 011.변수 사용하기\n",
    "    # 삼성전자라는 변수로 50,000원을 바인딩해보세요. 삼성전자 주식 10주를 보유하고 있을 때 총 평가금액을 출력하세요\n",
    "삼성전자 = 50000\n",
    "총평가금액 = 10 * 삼성전자\n",
    "print(총평가금액)"
   ]
  },
  {
   "cell_type": "code",
   "execution_count": 27,
   "id": "70e769c9-5d17-4dd5-ac36-e64fcef791b7",
   "metadata": {},
   "outputs": [
    {
     "name": "stdout",
     "output_type": "stream",
     "text": [
      "2980000000000 <class 'int'>\n",
      "50000 <class 'int'>\n",
      "15.79 <class 'float'>\n"
     ]
    }
   ],
   "source": [
    "# 012. 변수 사용하기\n",
    "    # 다음 표는 삼성전자의 일부 투자정보입니다. 변수를 사용해서 시가총액, 현재가, PER 등을 바인딩해보세요.\n",
    "\n",
    "시가총액 = 2980000000000\n",
    "현재가 = 50000\n",
    "PER = 15.79\n",
    "\n",
    "print(시가총액, type(시가총액))\n",
    "print(현재가, type(현재가))\n",
    "print(PER, type(PER))"
   ]
  },
  {
   "cell_type": "code",
   "execution_count": 31,
   "id": "d3289fac-2001-4697-813f-f8603eecfcdc",
   "metadata": {},
   "outputs": [
    {
     "name": "stdout",
     "output_type": "stream",
     "text": [
      "hello! python\n"
     ]
    }
   ],
   "source": [
    "# 013. 문자열 출력\n",
    "    # 변수 s와 t에는 각각 문자열이 바인딩 되어있습니다.\n",
    "    # 두 변수를 이용하여 아래와 같이 출력해보세요.\n",
    "    # 실행 예: hello! python\n",
    "\n",
    "s = \"hello\"\n",
    "t = \"python\"\n",
    "\n",
    "print(s+\"!\", t)\n"
   ]
  },
  {
   "cell_type": "code",
   "execution_count": 33,
   "id": "0e3bf20f-a00a-47cc-ad29-aafb06b4504e",
   "metadata": {},
   "outputs": [
    {
     "data": {
      "text/plain": [
       "8"
      ]
     },
     "execution_count": 33,
     "metadata": {},
     "output_type": "execute_result"
    }
   ],
   "source": [
    "# 014. 파이썬을 이용한 값 계산\n",
    "    # 아래 코드의 실행 결과를 예상해보세요.\n",
    "        # 2 + 2 * 3 \n",
    "\n",
    "2 + 2 * 3"
   ]
  },
  {
   "cell_type": "code",
   "execution_count": 41,
   "id": "7ecf6886-c999-4d59-b6fd-0eb1c65b944d",
   "metadata": {},
   "outputs": [
    {
     "name": "stdout",
     "output_type": "stream",
     "text": [
      "<class 'str'>\n"
     ]
    }
   ],
   "source": [
    "# 015. type 함수\n",
    "    # type() 함수는 데이터 타입을 판별합니다. 변수 a에는 128 숫자가 바인딩돼 있어 type 함수가 int (정수)형임을 알려줍니다.\n",
    "        # a = 128\n",
    "        # print (type(a))\n",
    "        # <class 'int'>\n",
    "\n",
    "    # 아래 변수에 바인딩된 값의 타입을 판별해보세요.\n",
    "        # a = \"132\"\n",
    "\n",
    "a = \"132\"\n",
    "print (type(a))"
   ]
  },
  {
   "cell_type": "code",
   "execution_count": 43,
   "id": "67c40b5b-aaf8-4e8a-bed0-341a743b8631",
   "metadata": {},
   "outputs": [
    {
     "name": "stdout",
     "output_type": "stream",
     "text": [
      "721 <class 'int'>\n"
     ]
    }
   ],
   "source": [
    "# 016. 문자열을 정수로 변환\n",
    "    # 문자열 '720'를 정수형으로 변환해보세요.\n",
    "        #num_str = \"720\"\n",
    "\n",
    "num_str = \"720\"  #형변환\n",
    "num_int = int(num_str)\n",
    "print(num_int+1, type(num_int))\n"
   ]
  },
  {
   "cell_type": "code",
   "execution_count": 45,
   "id": "e352d832-728a-4c95-8dd2-6d052602593a",
   "metadata": {},
   "outputs": [
    {
     "name": "stdout",
     "output_type": "stream",
     "text": [
      "100 <class 'str'>\n"
     ]
    }
   ],
   "source": [
    "# 017. 정수를 문자열 100으로 변환\n",
    "    # 정수 100을 문자열 '100'으로 변환해보세요.\n",
    "\n",
    "num = 100\n",
    "result = str(num)\n",
    "print(result, type(result))"
   ]
  },
  {
   "cell_type": "code",
   "execution_count": 49,
   "id": "7ee4344c-d316-456f-832a-be5476d3950d",
   "metadata": {},
   "outputs": [
    {
     "name": "stdout",
     "output_type": "stream",
     "text": [
      "15.79 <class 'float'>\n"
     ]
    }
   ],
   "source": [
    "# 018. 문자열을 실수로 변환\n",
    "    # 문자열 \"15.79\"를 실수(float) 타입으로 변환해보세요.\n",
    "\n",
    "data = \"15.79\"\n",
    "data = float(data)\n",
    "print(data, type(data))"
   ]
  },
  {
   "cell_type": "code",
   "execution_count": 53,
   "id": "3b9b4a9f-1fa6-4d5c-8c0a-21061108d5be",
   "metadata": {},
   "outputs": [
    {
     "name": "stdout",
     "output_type": "stream",
     "text": [
      "2017\n",
      "2018\n",
      "2019\n"
     ]
    }
   ],
   "source": [
    "# 019. 문자열을 정수로 변환\n",
    "    # year라는 변수가 문자열 타입의 연도를 바인딩하고 있습니다. 이를 정수로 변환한 후 최근 3년의 연도를 화면에 출력해보세요.\n",
    "\n",
    "year = \"2020\"\n",
    "print(int(year)-3)\n",
    "print(int(year)-2)\n",
    "print(int(year)-1)"
   ]
  },
  {
   "cell_type": "code",
   "execution_count": 57,
   "id": "96822f05-0c0f-4f6b-98be-6c98e7dce294",
   "metadata": {},
   "outputs": [
    {
     "name": "stdout",
     "output_type": "stream",
     "text": [
      "1749024\n"
     ]
    }
   ],
   "source": [
    "# 020. 파이썬 계산\n",
    "    # 에이컨이 월 48,584원에 무이자 36개월의 조건으로 홈쇼핑에서 판매되고 있습니다. 총 금액은 계산한 후 이를 화면에 출력해보세요. (변수사용하기)\n",
    "\n",
    "금액 = 48584\n",
    "총금액 = 금액 * 36\n",
    "print(총금액)"
   ]
  },
  {
   "cell_type": "markdown",
   "id": "e2292c97-4d4e-47ed-89f4-8652a9783b38",
   "metadata": {},
   "source": [
    "## * 021-030. 문자열 : 인덱싱, 슬라이싱. replace, split"
   ]
  },
  {
   "cell_type": "code",
   "execution_count": 64,
   "id": "745f7640-5d56-45d8-91b2-c5063c7ca443",
   "metadata": {},
   "outputs": [
    {
     "name": "stdout",
     "output_type": "stream",
     "text": [
      "p t\n"
     ]
    }
   ],
   "source": [
    "# 021. 문자열 인덱싱\n",
    "    # letters가 바인딩하는 문자열에서 첫번째와 세번째 문자를 출력하세요.\n",
    "\n",
    "letters = 'python'\n",
    "print(letters[0], letters[2])"
   ]
  },
  {
   "cell_type": "code",
   "execution_count": 68,
   "id": "0fa4b2f2-8cad-4818-9f26-bf8ee1b5ba48",
   "metadata": {},
   "outputs": [
    {
     "name": "stdout",
     "output_type": "stream",
     "text": [
      "2210\n"
     ]
    }
   ],
   "source": [
    "# 022. 문자열 슬라이싱\n",
    "    # 자동차 번호가 다음과 같을 때 뒤에 4자리만 출력하세요.\n",
    "\n",
    "license_plate = \"24가 2210\"\n",
    "print(license_plate[-4:])"
   ]
  },
  {
   "cell_type": "markdown",
   "id": "b811301b-d25d-480e-bec4-3273691ba544",
   "metadata": {},
   "source": [
    "> 023. 다시 풀기"
   ]
  },
  {
   "cell_type": "code",
   "execution_count": 278,
   "id": "6cd21cd3-1219-4f53-bd0a-917a926c3db9",
   "metadata": {},
   "outputs": [
    {
     "name": "stdout",
     "output_type": "stream",
     "text": [
      "홀홀홀\n"
     ]
    }
   ],
   "source": [
    "# 023. 문자열 인덱싱\n",
    "    # 아래의 문자열에서 '홀' 만 출력하세요.\n",
    "    # 슬라이싱할 때 `시작인덱스:끝인덱스:오프셋`을 지정할 수 있습니다.\n",
    "\n",
    "string = \"홀짝홀짝홀짝\"\n",
    "print(string[::2])"
   ]
  },
  {
   "cell_type": "markdown",
   "id": "b6a06cde-dbf5-4b97-8418-a4f7a9732588",
   "metadata": {},
   "source": [
    "> 024. 다시 풀기"
   ]
  },
  {
   "cell_type": "code",
   "execution_count": 86,
   "id": "eb25b24e-5198-4965-8081-fa55ac5232e7",
   "metadata": {},
   "outputs": [
    {
     "name": "stdout",
     "output_type": "stream",
     "text": [
      "NOHTYP\n"
     ]
    }
   ],
   "source": [
    "# 024. 문자열 슬라이싱\n",
    "    # 문자열을 거꾸로 뒤집어 출력하세요.\n",
    "\n",
    "string = \"PYTHON\"\n",
    "print(string[::-1])"
   ]
  },
  {
   "cell_type": "code",
   "execution_count": 90,
   "id": "15ce9307-a3be-4ce3-b23f-1ea0af667314",
   "metadata": {},
   "outputs": [
    {
     "name": "stdout",
     "output_type": "stream",
     "text": [
      "010 1111 2222\n"
     ]
    }
   ],
   "source": [
    "# 025. 문자열 치환\n",
    "    # 아래의 전화번호에서 하이푼 ('-')을 제거하고 출력하세요.\n",
    "    # 실행 예 : 010 1111 2222\n",
    "\n",
    "\n",
    "phone_number = \"010-1111-2222\"\n",
    "print(phone_number.replace(\"-\" , \" \"))"
   ]
  },
  {
   "cell_type": "code",
   "execution_count": 93,
   "id": "b50e1c4d-98a3-4f83-834e-34660004d8ee",
   "metadata": {},
   "outputs": [
    {
     "name": "stdout",
     "output_type": "stream",
     "text": [
      "01011112222\n"
     ]
    }
   ],
   "source": [
    "# 026. 문자열 다루기\n",
    "    # 25번 문제의 전화번호를 아래와 같이 모두 붙여 출력하세요.\n",
    "    # 실행 예 : 01011112222\n",
    "\n",
    "print(phone_number.replace(\"-\" , \"\"))"
   ]
  },
  {
   "cell_type": "code",
   "execution_count": 117,
   "id": "0d2ee828-be71-4324-a16b-9effb14b016c",
   "metadata": {},
   "outputs": [
    {
     "name": "stdout",
     "output_type": "stream",
     "text": [
      "kr\n",
      "kr\n",
      "kr\n"
     ]
    }
   ],
   "source": [
    "# 027. 문자열 다루기\n",
    "    # url 에 저장된 웹 페이지 주소에서 도메인을 출력하세요.\n",
    "    # 실행 예: kr\n",
    "\n",
    "url = \"http://sharebook.kr\"\n",
    "\n",
    "print(url[-2:])\n",
    "\n",
    "url_split = (url.split('.'))\n",
    "print(url_split[-1])\n",
    "print(url_split[1])"
   ]
  },
  {
   "cell_type": "code",
   "execution_count": 141,
   "id": "e86e6809-e382-4ed6-bc38-8b7ba80b3fce",
   "metadata": {},
   "outputs": [
    {
     "ename": "TypeError",
     "evalue": "'str' object does not support item assignment",
     "output_type": "error",
     "traceback": [
      "\u001b[0;31m---------------------------------------------------------------------------\u001b[0m",
      "\u001b[0;31mTypeError\u001b[0m                                 Traceback (most recent call last)",
      "Cell \u001b[0;32mIn[141], line 5\u001b[0m\n\u001b[1;32m      1\u001b[0m \u001b[38;5;66;03m# 028. 문자열은 immutable\u001b[39;00m\n\u001b[1;32m      2\u001b[0m     \u001b[38;5;66;03m# 아래 코드의 실행 결과를 예상해보세요.\u001b[39;00m\n\u001b[1;32m      4\u001b[0m lang \u001b[38;5;241m=\u001b[39m \u001b[38;5;124m'\u001b[39m\u001b[38;5;124mpython\u001b[39m\u001b[38;5;124m'\u001b[39m\n\u001b[0;32m----> 5\u001b[0m lang[\u001b[38;5;241m0\u001b[39m] \u001b[38;5;241m=\u001b[39m \u001b[38;5;124m'\u001b[39m\u001b[38;5;124mP\u001b[39m\u001b[38;5;124m'\u001b[39m\n\u001b[1;32m      6\u001b[0m \u001b[38;5;28mprint\u001b[39m(lang)\n",
      "\u001b[0;31mTypeError\u001b[0m: 'str' object does not support item assignment"
     ]
    }
   ],
   "source": [
    "# 028. 문자열은 immutable\n",
    "    # 아래 코드의 실행 결과를 예상해보세요.\n",
    "\n",
    "lang = 'python'\n",
    "lang[0] = 'P'\n",
    "print(lang)\n",
    "\n",
    "    # 문자열은 수정할 수 없습니다. 실행 결과를 확인해보면 문자열이 할당(assignment) 메서드를 지원하지 않음을 알 수 있습니다."
   ]
  },
  {
   "cell_type": "code",
   "execution_count": 143,
   "id": "7c8a6824-8717-4928-b9e9-e01787bacac6",
   "metadata": {},
   "outputs": [
    {
     "name": "stdout",
     "output_type": "stream",
     "text": [
      "Abcdfe2A354A32A\n"
     ]
    }
   ],
   "source": [
    "# 029. replace 메서드\n",
    "    # 아래 문자열에서 소문자 'a'를 대문자 'A'로 변경하세요.\n",
    "    # 실행 예: Abcdfe2A354A32A\n",
    "\n",
    "string = 'abcdfe2a354a32a'\n",
    "print(string.replace('a','A'))"
   ]
  },
  {
   "cell_type": "code",
   "execution_count": 149,
   "id": "dab1ec3f-40b1-4df6-8619-d382f781672e",
   "metadata": {},
   "outputs": [
    {
     "name": "stdout",
     "output_type": "stream",
     "text": [
      "abcd\n"
     ]
    }
   ],
   "source": [
    "# 030. replace 메서드\n",
    "    # 아래 코드의 실행 결과를 예상해보세요.\n",
    "\n",
    "string = 'abcd'\n",
    "string.replace('b', 'B')\n",
    "print(string)\n",
    "\n",
    "    # `abcd`가 그대로 출력됩니다. 왜냐하면 문자열은 변경할 수 없는 자료형이기 때문입니다. replace 메서드를 사용하면 원본은 그대로 둔채로 변경된 새로운 문자열 객체를 리턴해줍니다."
   ]
  },
  {
   "cell_type": "markdown",
   "id": "c6cea53d-7002-4a29-b452-29820665ad3b",
   "metadata": {},
   "source": [
    "## * 031-040. 문자열 : 합치기, 곱하기, 공백제거(strip)"
   ]
  },
  {
   "cell_type": "code",
   "execution_count": 161,
   "id": "0cdf1a1f-dd03-4e72-ba12-384875d3b2ec",
   "metadata": {},
   "outputs": [
    {
     "name": "stdout",
     "output_type": "stream",
     "text": [
      "34\n"
     ]
    }
   ],
   "source": [
    "# 031. 문자열 합치기\n",
    "    # 아래 코드의 실행 결과를 예상해보세요.\n",
    "\n",
    "a = \"3\"\n",
    "b = \"4\"\n",
    "print(a + b)\n",
    "\n",
    "    # 두 문자열에 대해 덧셈 기호는 문자열의 연결을 의미"
   ]
  },
  {
   "cell_type": "code",
   "execution_count": 167,
   "id": "ee3760ae-d788-43bf-ab41-f3e12f28b437",
   "metadata": {},
   "outputs": [
    {
     "name": "stdout",
     "output_type": "stream",
     "text": [
      "HiHiHi\n"
     ]
    }
   ],
   "source": [
    "# 032. 문자열 곱하기\n",
    "    # 아래 코드의 실행 결과를 예상해보세요.\n",
    "\n",
    "print(\"Hi\" * 3)\n",
    "\n",
    "    # 문자열에 대한 곱셈은 문자열의 반복을 의미"
   ]
  },
  {
   "cell_type": "code",
   "execution_count": 169,
   "id": "30eb956c-8d3f-4426-b41c-114790210b20",
   "metadata": {},
   "outputs": [
    {
     "name": "stdout",
     "output_type": "stream",
     "text": [
      "--------------------------------------------------------------------------------\n"
     ]
    }
   ],
   "source": [
    "# 033. 문자열 곱하기\n",
    "    # 화면에 '-'를 80개 출력하세요.\n",
    "    # 실행 예: --------------------------------------------------------------------------------\n",
    "\n",
    "print('-' * 80)"
   ]
  },
  {
   "cell_type": "code",
   "execution_count": 181,
   "id": "c0054c92-cfa0-4b3b-8520-caa617592337",
   "metadata": {},
   "outputs": [
    {
     "name": "stdout",
     "output_type": "stream",
     "text": [
      "python java python java python java python java \n"
     ]
    }
   ],
   "source": [
    "# 034. 문자열 곱하기\n",
    "    # 변수에 다음과 같은 문자열이 바인딩되어 있습니다.\n",
    "    # 변수에 문자열 더하기와 문자열 곱하기를 사용해서 아래와 같이 출력해보세요.\n",
    "    # 실행 예: python java python java python java python java\n",
    "\n",
    "t1 = 'python'\n",
    "t2 = 'java'\n",
    "\n",
    "t3 = t1 + \" \" + t2 + \" \"\n",
    "print(t3 * 4)"
   ]
  },
  {
   "cell_type": "code",
   "execution_count": 189,
   "id": "74c4f578-f56e-4101-b325-9eb48f642da0",
   "metadata": {},
   "outputs": [
    {
     "name": "stdout",
     "output_type": "stream",
     "text": [
      "이름: 김민수 나이: 10\n",
      "이름: 이철희 나이: 13\n"
     ]
    }
   ],
   "source": [
    "# 035. 문자열 출력\n",
    "    # 변수에 다음과 같이 문자열과 정수가 바인딩되어 있을 때 % formatting을 사용해서 다음과 같이 출력해보세요.\n",
    "    # print 포맷팅에서 `%s`는 문자열 데이터 타입의 값을 `%d`는 정수형 데이터 타입 값의 출력을 의미\n",
    "        # 이름: 김민수 나이: 10\n",
    "        # 이름: 이철희 나이: 13\n",
    "\n",
    "name1 = \"김민수\" \n",
    "age1 = 10\n",
    "name2 = \"이철희\"\n",
    "age2 = 13\n",
    "\n",
    "print(\"이름: %s 나이: %d\" % (name1, age1))\n",
    "print(\"이름: %s 나이: %d\" % (name2, age2))"
   ]
  },
  {
   "cell_type": "code",
   "execution_count": 195,
   "id": "e0907fe4-f660-4123-b9d2-c52be79bab8e",
   "metadata": {},
   "outputs": [
    {
     "name": "stdout",
     "output_type": "stream",
     "text": [
      "이름: 김민수 나이: 10\n",
      "이름: 이철희 나이: 13\n"
     ]
    }
   ],
   "source": [
    "# 036. 문자열 출력\n",
    "    # 문자열의 format( ) 메서드를 사용해서 035번 문제를 다시 풀어보세요.\n",
    "\n",
    "print(\"이름: {} 나이: {}\".format(name1, age1))\n",
    "print(\"이름: {} 나이: {}\".format(name2, age2))\n",
    "\n",
    "    # 문자열의 포맷 메서드는 타입과 상관없이 값이 출력될 위치에 `{ }`를 적어주면 됩니다."
   ]
  },
  {
   "cell_type": "code",
   "execution_count": 201,
   "id": "1cf31a19-004f-43dc-bd41-473a97d059a7",
   "metadata": {},
   "outputs": [
    {
     "name": "stdout",
     "output_type": "stream",
     "text": [
      "이름: 김민수 나이: 10\n",
      "이름: 이철희 나이: 13\n"
     ]
    }
   ],
   "source": [
    "# 037. 문자열 출력\n",
    "    # 파이썬 3.6부터 지원하는 f-string을 사용해서 035번 문제를 다시 풀어보세요.\n",
    "\n",
    "print(f\"이름: {name1} 나이: {age1}\")\n",
    "print(f\"이름: {name2} 나이: {age2}\")\n",
    "\n",
    "    # f-string은 문자열 앞에 f가 붙은 형태입니다. f-string을 사용하면 `{변수}`와 같은 형태로 문자열 사이에 타입과 상관없이 값을 출력할 수 있습니다."
   ]
  },
  {
   "cell_type": "markdown",
   "id": "9bc6da10-ee91-4cdb-af5f-008334ce3a69",
   "metadata": {},
   "source": [
    "> 038. 다시 풀기"
   ]
  },
  {
   "cell_type": "code",
   "execution_count": 286,
   "id": "a9c85ba6-4453-4005-927d-cb11ca34c5f7",
   "metadata": {},
   "outputs": [
    {
     "name": "stdout",
     "output_type": "stream",
     "text": [
      "5969782550 <class 'int'>\n"
     ]
    }
   ],
   "source": [
    "# 038. 컴마 제거하기\n",
    "    # 삼성전자의 상장주식수가 다음과 같습니다. 컴마를 제거한 후 이를 정수 타입으로 변환해보세요.\n",
    "\n",
    "상장주식수 = \"5,969,782,550\"\n",
    "상장주식수2 = 상장주식수.replace(\",\" , \"\")\n",
    "상장주식수3 = int(상장주식수2)\n",
    "print(상장주식수3, type(상장주식수3))"
   ]
  },
  {
   "cell_type": "code",
   "execution_count": 220,
   "id": "f8196a46-2927-4555-a069-e9329d20da65",
   "metadata": {},
   "outputs": [
    {
     "name": "stdout",
     "output_type": "stream",
     "text": [
      "2020/03\n"
     ]
    }
   ],
   "source": [
    "# 039. 문자열 슬라이싱\n",
    "    # 다음과 같은 문자열에서 '2020/03'만 출력하세요.\n",
    "\n",
    "분기 = \"2020/03(E) (IFRS연결)\"\n",
    "print(분기[:7])"
   ]
  },
  {
   "cell_type": "code",
   "execution_count": 222,
   "id": "a2738af8-b727-4dc5-8d87-20faf96a61c5",
   "metadata": {},
   "outputs": [
    {
     "name": "stdout",
     "output_type": "stream",
     "text": [
      "삼성전자\n"
     ]
    }
   ],
   "source": [
    "# 040. strip 메서드\n",
    "    # 문자열의 좌우의 공백이 있을 때 이를 제거해보세요.\n",
    "\n",
    "data = \"   삼성전자    \"\n",
    "print(data.strip())"
   ]
  },
  {
   "cell_type": "markdown",
   "id": "520fc906-03f7-45ce-90e7-e366fa5be666",
   "metadata": {},
   "source": [
    "## * 041-050. 문자열 : upper(대문자로 변경), lower(소문자로 변경), capitalize(앞 대문자 변경), endswith, startswith"
   ]
  },
  {
   "cell_type": "code",
   "execution_count": 227,
   "id": "d5e11856-e074-40f7-976b-c84c539116c2",
   "metadata": {},
   "outputs": [
    {
     "name": "stdout",
     "output_type": "stream",
     "text": [
      "BTC_KRW\n"
     ]
    }
   ],
   "source": [
    "# 041. upper 메서드\n",
    "    # 다음과 같은 문자열이 있을 때 이를 대문자 BTC_KRW로 변경하세요.\n",
    "\n",
    "ticker = \"btc_krw\"\n",
    "print(ticker.upper())"
   ]
  },
  {
   "cell_type": "code",
   "execution_count": 229,
   "id": "4476dfd1-a2e0-4e9a-adc0-19cff146dde5",
   "metadata": {},
   "outputs": [
    {
     "name": "stdout",
     "output_type": "stream",
     "text": [
      "btc_krw\n"
     ]
    }
   ],
   "source": [
    "# 042. lower 메서드\n",
    "    # 다음과 같은 문자열이 있을 때 이를 소문자 btc_krw로 변경하세요.\n",
    "\n",
    "ticker = \"BTC_KRW\"\n",
    "print(ticker.lower())"
   ]
  },
  {
   "cell_type": "code",
   "execution_count": 231,
   "id": "28ee3078-4916-45bc-90b6-b25db73432f0",
   "metadata": {},
   "outputs": [
    {
     "name": "stdout",
     "output_type": "stream",
     "text": [
      "Hello\n"
     ]
    }
   ],
   "source": [
    "# 043. capitalize 메서드\n",
    "    # 문자열 'hello'가 있을 때 이를 'Hello'로 변경해보세요.\n",
    "\n",
    "a = \"hello\"\n",
    "print(a.capitalize())"
   ]
  },
  {
   "cell_type": "code",
   "execution_count": 239,
   "id": "9135f919-1960-448d-8202-f57b29583445",
   "metadata": {},
   "outputs": [
    {
     "data": {
      "text/plain": [
       "True"
      ]
     },
     "execution_count": 239,
     "metadata": {},
     "output_type": "execute_result"
    }
   ],
   "source": [
    "# 044. endswith 메서드\n",
    "    # 파일 이름이 문자열로 저장되어 있을 때 endswith 메서드를 사용해서 파일 이름이 'xlsx'로 끝나는지 확인해보세요.\n",
    "\n",
    "file_name = \"보고서.xlsx\"\n",
    "file_name.endswith(\"xlsx\")"
   ]
  },
  {
   "cell_type": "markdown",
   "id": "93094116-e0da-4977-86cc-8e0dd9dc3d3b",
   "metadata": {},
   "source": [
    "> 045. 다시 풀기"
   ]
  },
  {
   "cell_type": "code",
   "execution_count": 255,
   "id": "f3d9d363-e32d-4ba6-b5a0-a645f7fe9bb9",
   "metadata": {},
   "outputs": [
    {
     "data": {
      "text/plain": [
       "True"
      ]
     },
     "execution_count": 255,
     "metadata": {},
     "output_type": "execute_result"
    }
   ],
   "source": [
    "# 045. endswith 메서드\n",
    "    # 파일 이름이 문자열로 저장되어 있을 때 endswith 메서드를 사용해서 파일 이름이 'xlsx' 또는 'xls'로 끝나는지 확인해보세요.\n",
    "\n",
    "file_name = \"보고서.xlsx\"\n",
    "file_name.endswith((\"xlsx\", \"xls\"))"
   ]
  },
  {
   "cell_type": "code",
   "execution_count": 258,
   "id": "ab174b38-540e-4b0d-b10b-9c1fe633c7fb",
   "metadata": {},
   "outputs": [
    {
     "data": {
      "text/plain": [
       "True"
      ]
     },
     "execution_count": 258,
     "metadata": {},
     "output_type": "execute_result"
    }
   ],
   "source": [
    "# 046. startswith 메서드\n",
    "    # 파일 이름이 문자열로 저장되어 있을 때 startswith 메서드를 사용해서 파일 이름이 '2020'로 시작하는지 확인해보세요.\n",
    "\n",
    "file_name = \"2020_보고서.xlsx\"\n",
    "file_name.startswith(\"2020\")"
   ]
  },
  {
   "cell_type": "code",
   "execution_count": 268,
   "id": "1386998d-124d-482c-be9a-3476504b4cbe",
   "metadata": {},
   "outputs": [
    {
     "data": {
      "text/plain": [
       "['hello', 'world']"
      ]
     },
     "execution_count": 268,
     "metadata": {},
     "output_type": "execute_result"
    }
   ],
   "source": [
    "# 047. split 메서드\n",
    "    # 다음과 같은 문자열이 있을 때 공백을 기준으로 문자열을 나눠보세요.\n",
    "\n",
    "a = \"hello world\"\n",
    "a.split()"
   ]
  },
  {
   "cell_type": "code",
   "execution_count": 270,
   "id": "b2821464-9515-4b3a-8e35-29af70ec99df",
   "metadata": {},
   "outputs": [
    {
     "data": {
      "text/plain": [
       "['btc', 'krw']"
      ]
     },
     "execution_count": 270,
     "metadata": {},
     "output_type": "execute_result"
    }
   ],
   "source": [
    "# 048. split 메서드\n",
    "    # 다음과 같이 문자열이 있을 때 btc와 krw로 나눠보세요.\n",
    "\n",
    "ticker = \"btc_krw\"\n",
    "ticker.split(\"_\")"
   ]
  },
  {
   "cell_type": "code",
   "execution_count": 272,
   "id": "84e0a567-f4c2-462d-9e5a-2d07df55b3d7",
   "metadata": {},
   "outputs": [
    {
     "data": {
      "text/plain": [
       "['2020', '05', '01']"
      ]
     },
     "execution_count": 272,
     "metadata": {},
     "output_type": "execute_result"
    }
   ],
   "source": [
    "# 049. split 메서드\n",
    "    # 다음과 같이 날짜를 표현하는 문자열이 있을 때 연도, 월, 일로 나눠보세요.\n",
    "\n",
    "date = \"2020-05-01\"\n",
    "date.split(\"-\")"
   ]
  },
  {
   "cell_type": "code",
   "execution_count": 274,
   "id": "2e7d18ff-26d4-4fee-b43a-311f1d10bcac",
   "metadata": {},
   "outputs": [
    {
     "data": {
      "text/plain": [
       "'039490'"
      ]
     },
     "execution_count": 274,
     "metadata": {},
     "output_type": "execute_result"
    }
   ],
   "source": [
    "# 050. rstrip 메서드\n",
    "    # 문자열의 오른쪽에 공백이 있을 때 이를 제거해보세요.\n",
    "\n",
    "data = \"039490     \"\n",
    "data.rstrip()"
   ]
  },
  {
   "cell_type": "markdown",
   "id": "ce8612f6-86e2-4cad-acf5-027309f0fb03",
   "metadata": {},
   "source": [
    "## * 051-060. 리스트 : append, insert, del, max/min, len, sum"
   ]
  },
  {
   "cell_type": "code",
   "execution_count": 9,
   "id": "f47bf250-f310-4301-9c22-27390d6b5370",
   "metadata": {},
   "outputs": [],
   "source": [
    "# 051 리스트 생성\n",
    "    # 2016년 11월 영화 예매 순위 기준 top3는 다음과 같습니다. 영화 제목을 movie_rank 이름의 리스트에 저장해보세요. (순위 정보는 저장하지 않습니다.)\n",
    "        # 순위 / 영화\n",
    "        # 1\t닥터 스트레인지\n",
    "        # 2\t스플릿\n",
    "        # 3\t럭키\n",
    "\n",
    "movie_rank = [\"닥터 스트레인지\", \"스플릿\", \"럭키\"]"
   ]
  },
  {
   "cell_type": "code",
   "execution_count": 11,
   "id": "9bce04c7-a88f-4081-bd92-d494b91d5189",
   "metadata": {},
   "outputs": [
    {
     "name": "stdout",
     "output_type": "stream",
     "text": [
      "['닥터 스트레인지', '스플릿', '럭키', '배트맨']\n"
     ]
    }
   ],
   "source": [
    "# 052 리스트에 원소 추가\n",
    "    # 051의 movie_rank 리스트에 \"배트맨\"을 추가하라.\n",
    "\n",
    "movie_rank.append(\"배트맨\")\n",
    "print(movie_rank)"
   ]
  },
  {
   "cell_type": "code",
   "execution_count": 19,
   "id": "bce5a0cb-8321-4412-9c90-070a3af536ce",
   "metadata": {},
   "outputs": [
    {
     "name": "stdout",
     "output_type": "stream",
     "text": [
      "['닥터 스트레인지', '슈퍼맨', '스플릿', '럭키', '배트맨']\n"
     ]
    }
   ],
   "source": [
    "# 053 movie_rank 리스트에는 아래와 같이 네 개의 영화 제목이 바인딩되어 있다. \"슈퍼맨\"을 \"닥터 스트레인지\"와 \"스플릿\" 사이에 추가하라.\n",
    "movie_rank = ['닥터 스트레인지', '스플릿', '럭키', '배트맨']\n",
    "\n",
    "movie_rank.insert(1, \"슈퍼맨\")\n",
    "print(movie_rank)"
   ]
  },
  {
   "cell_type": "code",
   "execution_count": 30,
   "id": "9989881d-1936-430a-a2ae-b5d0248bccc0",
   "metadata": {},
   "outputs": [
    {
     "name": "stdout",
     "output_type": "stream",
     "text": [
      "['닥터 스트레인지', '슈퍼맨', '스플릿', '배트맨']\n"
     ]
    }
   ],
   "source": [
    "# 054 movie_rank 리스트에서 '럭키'를 삭제하라.\n",
    "movie_rank = ['닥터 스트레인지', '슈퍼맨', '스플릿', '럭키', '배트맨']\n",
    "\n",
    "del movie_rank[3]\n",
    "print(movie_rank)"
   ]
  },
  {
   "cell_type": "markdown",
   "id": "a08cdd42-13a9-4859-839d-54a71f0c7823",
   "metadata": {},
   "source": [
    "> 055. 다시 풀기"
   ]
  },
  {
   "cell_type": "code",
   "execution_count": 25,
   "id": "ef9f3705-cc03-43a8-80ea-0f5560529133",
   "metadata": {},
   "outputs": [
    {
     "name": "stdout",
     "output_type": "stream",
     "text": [
      "['닥터 스트레인지', '슈퍼맨', '배트맨']\n"
     ]
    }
   ],
   "source": [
    "# 055 movie_rank 리스트에서 '스플릿' 과 '배트맨'을 를 삭제하라.\n",
    "movie_rank = ['닥터 스트레인지', '슈퍼맨', '스플릿', '배트맨']\n",
    "\n",
    "del movie_rank[2]\n",
    "print(movie_rank)"
   ]
  },
  {
   "cell_type": "code",
   "execution_count": 27,
   "id": "16f20b36-a56d-4f9c-940c-14fa177bea6a",
   "metadata": {},
   "outputs": [
    {
     "name": "stdout",
     "output_type": "stream",
     "text": [
      "['닥터 스트레인지', '슈퍼맨']\n"
     ]
    }
   ],
   "source": [
    "del movie_rank[2]\n",
    "print(movie_rank)"
   ]
  },
  {
   "cell_type": "code",
   "execution_count": 36,
   "id": "eb392df9-5a32-4250-9e64-9bb474bcf4ad",
   "metadata": {},
   "outputs": [],
   "source": [
    "# 056 lang1과 lang2 리스트가 있을 때 lang1과 lang2의 원소를 모두 갖고 있는 langs 리스트를 만들어라.\n",
    "\n",
    "lang1 = [\"C\", \"C++\", \"JAVA\"]\n",
    "lang2 = [\"Python\", \"Go\", \"C#\"]\n",
    "\n",
    "    # 실행 예: langs ['C', 'C++', 'JAVA', 'Python', 'Go', 'C#']"
   ]
  },
  {
   "cell_type": "code",
   "execution_count": 38,
   "id": "b2141fb4-d96b-4e12-9da4-d28da04710f0",
   "metadata": {},
   "outputs": [
    {
     "name": "stdout",
     "output_type": "stream",
     "text": [
      "['C', 'C++', 'JAVA', 'Python', 'Go', 'C#']\n"
     ]
    }
   ],
   "source": [
    "langs = lang1 + lang2\n",
    "print(langs)"
   ]
  },
  {
   "cell_type": "markdown",
   "id": "381766fb-6e15-430e-ae7d-9c7cb6fc0c73",
   "metadata": {},
   "source": [
    "> 057. 다시 풀기"
   ]
  },
  {
   "cell_type": "code",
   "execution_count": 42,
   "id": "151184b8-fcbf-49c1-af78-a4103b56101e",
   "metadata": {},
   "outputs": [],
   "source": [
    "# 057 다음 리스트에서 최댓값과 최솟값을 출력하라. (힌트: min(), max() 함수 사용)\n",
    "\n",
    "nums = [1, 2, 3, 4, 5, 6, 7]\n",
    "\n",
    "    # 실행 예\n",
    "    # max:  7\n",
    "    # min:  1"
   ]
  },
  {
   "cell_type": "code",
   "execution_count": 48,
   "id": "336c9469-3319-4146-95fd-70c48020a1b5",
   "metadata": {},
   "outputs": [
    {
     "name": "stdout",
     "output_type": "stream",
     "text": [
      "max:  7\n",
      "min:  1\n"
     ]
    }
   ],
   "source": [
    "print(\"max: \", max(nums))\n",
    "print(\"min: \", min(nums))"
   ]
  },
  {
   "cell_type": "code",
   "execution_count": 58,
   "id": "c7e27705-53c0-47b9-b90e-1af2bfb39b5c",
   "metadata": {},
   "outputs": [],
   "source": [
    "# 058 다음 리스트의 합을 출력하라.\n",
    "nums = [1, 2, 3, 4, 5]\n",
    "\n",
    "    # 실행 예: 15"
   ]
  },
  {
   "cell_type": "code",
   "execution_count": 62,
   "id": "d1a2ca3e-cff2-4b45-94c6-163f391c5662",
   "metadata": {},
   "outputs": [
    {
     "name": "stdout",
     "output_type": "stream",
     "text": [
      "15\n"
     ]
    }
   ],
   "source": [
    "print(sum(nums))"
   ]
  },
  {
   "cell_type": "code",
   "execution_count": 68,
   "id": "7f45e65e-e69e-4376-967e-d646aa4a11a7",
   "metadata": {},
   "outputs": [
    {
     "name": "stdout",
     "output_type": "stream",
     "text": [
      "12\n"
     ]
    }
   ],
   "source": [
    "# 059 다음 리스트에 저장된 데이터의 개수를 화면에 구하하라.\n",
    "\n",
    "cook = [\"피자\", \"김밥\", \"만두\", \"양념치킨\", \"족발\", \"피자\", \"김치만두\", \"쫄면\", \"소시지\", \"라면\", \"팥빙수\", \"김치전\"]\n",
    "print(len(cook))"
   ]
  },
  {
   "cell_type": "code",
   "execution_count": 70,
   "id": "d991abc2-a9f3-4c45-9e6d-76f8e3ff83f5",
   "metadata": {},
   "outputs": [],
   "source": [
    "# 060 다음 리스트의 평균을 출력하라.\n",
    "nums = [1, 2, 3, 4, 5]\n",
    "\n",
    "    # 실행 예: 3.0"
   ]
  },
  {
   "cell_type": "code",
   "execution_count": 72,
   "id": "d4292ae4-5b6c-4717-8fea-83269a85b869",
   "metadata": {},
   "outputs": [
    {
     "name": "stdout",
     "output_type": "stream",
     "text": [
      "3.0\n"
     ]
    }
   ],
   "source": [
    "print(sum(nums) / len(nums))"
   ]
  },
  {
   "cell_type": "markdown",
   "id": "aadfa836-9930-478d-951b-8450bbdaab64",
   "metadata": {},
   "source": [
    "## * 061-070. 리스트"
   ]
  },
  {
   "cell_type": "code",
   "execution_count": 77,
   "id": "a13ec48f-9f35-400c-91ee-2b4dde9e613c",
   "metadata": {},
   "outputs": [],
   "source": [
    "# 061 price 변수에는 날짜와 종가 정보가 저장돼 있다. 날짜 정보를 제외하고 가격 정보만을 출력하라. (힌트 : 슬라이싱)\n",
    "\n",
    "price = ['20180728', 100, 130, 140, 150, 160, 170]\n",
    "\n",
    "    # 출력 예시: [100, 130, 140, 150, 160, 170]"
   ]
  },
  {
   "cell_type": "code",
   "execution_count": 79,
   "id": "2b869198-0053-43cf-b048-1ec9e2691d47",
   "metadata": {},
   "outputs": [
    {
     "name": "stdout",
     "output_type": "stream",
     "text": [
      "[100, 130, 140, 150, 160, 170]\n"
     ]
    }
   ],
   "source": [
    "print(price[1:])"
   ]
  },
  {
   "cell_type": "markdown",
   "id": "e24f7e4d-da39-4314-9436-34e519a1277b",
   "metadata": {},
   "source": [
    "> 062. 다시 풀기"
   ]
  },
  {
   "cell_type": "code",
   "execution_count": 91,
   "id": "b5a8d915-4171-48d2-aeee-4aa5a0123cb0",
   "metadata": {},
   "outputs": [],
   "source": [
    "# 062 슬라이싱을 사용해서 홀수만 출력하라.\n",
    "\n",
    "nums = [1, 2, 3, 4, 5, 6, 7, 8, 9, 10]\n",
    "\n",
    "    # 실행 예: [1, 3, 5, 7, 9]"
   ]
  },
  {
   "cell_type": "code",
   "execution_count": 93,
   "id": "a1e6c77b-c8a8-4338-9bb7-923b6a74bed4",
   "metadata": {},
   "outputs": [
    {
     "name": "stdout",
     "output_type": "stream",
     "text": [
      "[1, 3, 5, 7, 9]\n"
     ]
    }
   ],
   "source": [
    "print(nums[::2])"
   ]
  },
  {
   "cell_type": "markdown",
   "id": "b634846c-25e7-4ce6-a4ea-bc5a54d4036f",
   "metadata": {},
   "source": [
    "> 063. 다시 풀기"
   ]
  },
  {
   "cell_type": "code",
   "execution_count": 96,
   "id": "1598b3e2-ed5a-41be-a65e-b997f0240567",
   "metadata": {},
   "outputs": [],
   "source": [
    "# 063 슬라이싱을 사용해서 짝수만 출력하라.\n",
    "\n",
    "nums = [1, 2, 3, 4, 5, 6, 7, 8, 9, 10]\n",
    "\n",
    "    # 실행 예: [2, 4, 6, 8, 10]"
   ]
  },
  {
   "cell_type": "code",
   "execution_count": 98,
   "id": "5d72866f-09a0-4bb9-95c1-a1b7f53a25f0",
   "metadata": {},
   "outputs": [
    {
     "name": "stdout",
     "output_type": "stream",
     "text": [
      "[2, 4, 6, 8, 10]\n"
     ]
    }
   ],
   "source": [
    "print(nums[1::2])"
   ]
  },
  {
   "cell_type": "code",
   "execution_count": 102,
   "id": "f81175bb-2265-4246-af9b-a94e69a1656c",
   "metadata": {},
   "outputs": [],
   "source": [
    "# 064 슬라이싱을 사용해서 리스트의 숫자를 역 방향으로 출력하라.\n",
    "\n",
    "nums = [1, 2, 3, 4, 5]\n",
    "\n",
    "    # 실행 예: [5, 4, 3, 2, 1]"
   ]
  },
  {
   "cell_type": "code",
   "execution_count": 104,
   "id": "e12cd8dc-20a7-4515-bd81-d0c34d551cc8",
   "metadata": {},
   "outputs": [
    {
     "name": "stdout",
     "output_type": "stream",
     "text": [
      "[5, 4, 3, 2, 1]\n"
     ]
    }
   ],
   "source": [
    "print(nums[::-1])"
   ]
  },
  {
   "cell_type": "markdown",
   "id": "b5fdbad0-9622-461d-a59e-dd6937f30912",
   "metadata": {},
   "source": [
    "> 065. 다시 풀기"
   ]
  },
  {
   "cell_type": "code",
   "execution_count": 106,
   "id": "b006b558-fdd7-4c4a-85c1-1c4df49b490d",
   "metadata": {},
   "outputs": [],
   "source": [
    "# 065 interest 리스트에는 아래의 데이터가 바인딩되어 있다. interest 리스트를 사용하여 아래와 같이 화면에 출력하라.\n",
    "\n",
    "interest = ['삼성전자', 'LG전자', 'Naver']\n",
    "\n",
    "    # 출력 예시: 삼성전자 Naver"
   ]
  },
  {
   "cell_type": "code",
   "execution_count": 116,
   "id": "28bb02d0-fba1-4adc-8b4b-8da0868acfbd",
   "metadata": {},
   "outputs": [
    {
     "name": "stdout",
     "output_type": "stream",
     "text": [
      "삼성전자 Naver\n"
     ]
    }
   ],
   "source": [
    "print(interest[0], interest[2])"
   ]
  },
  {
   "cell_type": "code",
   "execution_count": 119,
   "id": "a2f1bf14-3d69-4b6c-a05a-f5c4f28e84e4",
   "metadata": {},
   "outputs": [],
   "source": [
    "# 066 join 메서드 : interest 리스트에는 아래의 데이터가 바인딩되어 있다. interest 리스트를 사용하여 아래와 같이 화면에 출력하라.\n",
    "\n",
    "interest = ['삼성전자', 'LG전자', 'Naver', 'SK하이닉스', '미래에셋대우']\n",
    "\n",
    "    # 출력 예시: 삼성전자 LG전자 Naver SK하이닉스 미래에셋대우"
   ]
  },
  {
   "cell_type": "code",
   "execution_count": 125,
   "id": "5f7b0ac5-88dd-47bd-8c5f-5a6eee7540f6",
   "metadata": {},
   "outputs": [
    {
     "name": "stdout",
     "output_type": "stream",
     "text": [
      "삼성전자 LG전자 Naver SK하이닉스 미래에셋대우\n"
     ]
    }
   ],
   "source": [
    "print(\" \".join(interest))"
   ]
  },
  {
   "cell_type": "code",
   "execution_count": 127,
   "id": "b5a89df0-dd30-4e6f-ac1c-cdb48f3fbc94",
   "metadata": {},
   "outputs": [],
   "source": [
    "# 067 join 메서드 : interest 리스트에는 아래의 데이터가 바인딩되어 있다. interest 리스트를 사용하여 아래와 같이 화면에 출력하라.\n",
    "\n",
    "interest = ['삼성전자', 'LG전자', 'Naver', 'SK하이닉스', '미래에셋대우']\n",
    "\n",
    "    # 출력 예시: 삼성전자/LG전자/Naver/SK하이닉스/미래에셋대우"
   ]
  },
  {
   "cell_type": "code",
   "execution_count": 129,
   "id": "9b1b3e21-eb0c-4c5f-9fa0-cb285ff4f0cb",
   "metadata": {},
   "outputs": [
    {
     "name": "stdout",
     "output_type": "stream",
     "text": [
      "삼성전자/LG전자/Naver/SK하이닉스/미래에셋대우\n"
     ]
    }
   ],
   "source": [
    "print(\"/\".join(interest))"
   ]
  },
  {
   "cell_type": "code",
   "execution_count": 131,
   "id": "1821a0ba-74c1-4f33-8e92-0171a675bede",
   "metadata": {},
   "outputs": [],
   "source": [
    "# 068 join 메서드 : interest 리스트에는 아래의 데이터가 바인딩되어 있다. join() 메서드를 사용해서 interest 리스트를 아래와 같이 화면에 출력하라.\n",
    "\n",
    "interest = ['삼성전자', 'LG전자', 'Naver', 'SK하이닉스', '미래에셋대우']\n",
    "\n",
    "    # 출력 예시:\n",
    "    # 삼성전자\n",
    "    # LG전자\n",
    "    # Naver\n",
    "    # SK하이닉스\n",
    "    # 미래에셋대우"
   ]
  },
  {
   "cell_type": "code",
   "execution_count": 141,
   "id": "c9dc9bae-37b0-451f-8151-9324d5b7ae5b",
   "metadata": {},
   "outputs": [
    {
     "name": "stdout",
     "output_type": "stream",
     "text": [
      "삼성전자\n",
      "LG전자\n",
      "Naver\n",
      "SK하이닉스\n",
      "미래에셋대우\n"
     ]
    }
   ],
   "source": [
    "print(\"\\n\".join(interest))"
   ]
  },
  {
   "cell_type": "markdown",
   "id": "ac1c530f-156f-4ea7-bdc0-e1caefee20d8",
   "metadata": {},
   "source": [
    "> 069. 다시 풀기"
   ]
  },
  {
   "cell_type": "code",
   "execution_count": 163,
   "id": "87f1ad92-6659-4094-bcdf-55061742857e",
   "metadata": {},
   "outputs": [],
   "source": [
    "# 069 문자열 split 메서드 : 회사 이름이 슬래시 ('/')로 구분되어 하나의 문자열로 저장되어 있다. 이를 interest 이름의 리스트로 분리 저장하라.\n",
    "\n",
    "string = \"삼성전자/LG전자/Naver\"\n",
    "\n",
    "    # 실행 예시 : print(interest)\n",
    "    # ['삼성전자', 'LG전자', 'Naver']"
   ]
  },
  {
   "cell_type": "code",
   "execution_count": 169,
   "id": "95fc9f76-992b-4acd-a9b9-0ae6f457a100",
   "metadata": {},
   "outputs": [
    {
     "name": "stdout",
     "output_type": "stream",
     "text": [
      "['삼성전자', 'LG전자', 'Naver']\n"
     ]
    }
   ],
   "source": [
    "interest = string.split(\"/\")\n",
    "print(interest)"
   ]
  },
  {
   "cell_type": "code",
   "execution_count": 172,
   "id": "031e109f-75e6-44e1-aead-064cf6840619",
   "metadata": {},
   "outputs": [],
   "source": [
    "# 070 리스트 정렬 : 리스트에 있는 값을 오름차순으로 정렬하세요.\n",
    "\n",
    "data = [2, 4, 3, 1, 5, 10, 9]"
   ]
  },
  {
   "cell_type": "code",
   "execution_count": 174,
   "id": "dee60f6a-3477-4d13-81de-62e19d0bf540",
   "metadata": {},
   "outputs": [
    {
     "name": "stdout",
     "output_type": "stream",
     "text": [
      "[1, 2, 3, 4, 5, 9, 10]\n"
     ]
    }
   ],
   "source": [
    "data.sort()\n",
    "print(data)"
   ]
  },
  {
   "cell_type": "markdown",
   "id": "3818fae1-3a62-45e1-85b7-410b6d5f47f0",
   "metadata": {},
   "source": [
    "## * 071-080. 튜플 : 순서가 있지만 수정 불가능한 자료구조"
   ]
  },
  {
   "cell_type": "code",
   "execution_count": 180,
   "id": "190bae12-a8aa-4a33-b540-96a18f07a8fc",
   "metadata": {},
   "outputs": [],
   "source": [
    "# 071 my_variable 이름의 비어있는 튜플을 만들라.\n",
    "\n",
    "my_variable = ()"
   ]
  },
  {
   "cell_type": "code",
   "execution_count": 188,
   "id": "53b2f772-17a8-4350-a08d-07ab1128e5d1",
   "metadata": {},
   "outputs": [
    {
     "name": "stdout",
     "output_type": "stream",
     "text": [
      "<class 'tuple'>\n"
     ]
    }
   ],
   "source": [
    "print(type(my_variable))"
   ]
  },
  {
   "cell_type": "code",
   "execution_count": 190,
   "id": "728894ab-e66b-49c1-8990-ebdde537afa7",
   "metadata": {},
   "outputs": [],
   "source": [
    "# 072 2016년 11월 영화 예매 순위 기준 top3는 다음과 같다. 영화 제목을 movie_rank 이름의 튜플에 저장하라. (순위 정보는 저장하지 않는다.)\n",
    "\n",
    "    # 순위 / 영화\n",
    "    # 1\t닥터 스트레인지\n",
    "    # 2\t스플릿\n",
    "    # 3\t럭키\n",
    "\n",
    "movie_rank = (\"닥터 스트레인지\", \"스플릿\", \"럭키\")"
   ]
  },
  {
   "cell_type": "markdown",
   "id": "0c4b7a13-1e9a-4b92-b558-bf4125791ff4",
   "metadata": {},
   "source": [
    "> 073. 다시 풀기"
   ]
  },
  {
   "cell_type": "code",
   "execution_count": 208,
   "id": "70a94878-281d-43d1-8390-e4c0ea10fa26",
   "metadata": {},
   "outputs": [
    {
     "data": {
      "text/plain": [
       "tuple"
      ]
     },
     "execution_count": 208,
     "metadata": {},
     "output_type": "execute_result"
    }
   ],
   "source": [
    "# 073 숫자 1 이 저장된 튜플을 생성하라.\n",
    "\n",
    "my_tuple = (1, )\n",
    "type(my_tuple)"
   ]
  },
  {
   "cell_type": "code",
   "execution_count": 210,
   "id": "2576470e-bd2c-48a1-94f8-8b54b72d879b",
   "metadata": {},
   "outputs": [
    {
     "data": {
      "text/plain": [
       "int"
      ]
     },
     "execution_count": 210,
     "metadata": {},
     "output_type": "execute_result"
    }
   ],
   "source": [
    "my_tuple = (1)\n",
    "type(my_tuple)"
   ]
  },
  {
   "cell_type": "code",
   "execution_count": 218,
   "id": "1bdd812e-775c-4157-8643-95ca496d9616",
   "metadata": {},
   "outputs": [
    {
     "ename": "TypeError",
     "evalue": "'tuple' object does not support item assignment",
     "output_type": "error",
     "traceback": [
      "\u001b[0;31m---------------------------------------------------------------------------\u001b[0m",
      "\u001b[0;31mTypeError\u001b[0m                                 Traceback (most recent call last)",
      "Cell \u001b[0;32mIn[218], line 5\u001b[0m\n\u001b[1;32m      1\u001b[0m \u001b[38;5;66;03m# 074 다음 코드를 실행해보고 오류가 발생하는 원인을 설명하라.\u001b[39;00m\n\u001b[1;32m      2\u001b[0m     \u001b[38;5;66;03m# 정답 : 튜플은 요소값 변경 불가.\u001b[39;00m\n\u001b[1;32m      4\u001b[0m t \u001b[38;5;241m=\u001b[39m (\u001b[38;5;241m1\u001b[39m, \u001b[38;5;241m2\u001b[39m, \u001b[38;5;241m3\u001b[39m)\n\u001b[0;32m----> 5\u001b[0m t[\u001b[38;5;241m0\u001b[39m] \u001b[38;5;241m=\u001b[39m \u001b[38;5;124m'\u001b[39m\u001b[38;5;124ma\u001b[39m\u001b[38;5;124m'\u001b[39m\n",
      "\u001b[0;31mTypeError\u001b[0m: 'tuple' object does not support item assignment"
     ]
    }
   ],
   "source": [
    "# 074 다음 코드를 실행해보고 오류가 발생하는 원인을 설명하라.\n",
    "    # 정답 : 튜플은 요소값 변경 불가.\n",
    "\n",
    "t = (1, 2, 3)\n",
    "t[0] = 'a'"
   ]
  },
  {
   "cell_type": "code",
   "execution_count": 228,
   "id": "3c1debb0-eaa1-486a-9606-1d32433a31bc",
   "metadata": {},
   "outputs": [
    {
     "name": "stdout",
     "output_type": "stream",
     "text": [
      "<class 'tuple'>\n"
     ]
    }
   ],
   "source": [
    "# 075 아래와 같이 t에는 1, 2, 3, 4 데이터가 바인딩되어 있다. t가 바인딩하는 데이터 타입은 무엇인가?\n",
    "    # 정답 : 튜플은 괄호 없이도 동작함.\n",
    "t = 1, 2, 3, 4\n",
    "print(type(t))"
   ]
  },
  {
   "cell_type": "code",
   "execution_count": 240,
   "id": "4a54a5be-60f9-40e1-904c-7c19118d2055",
   "metadata": {},
   "outputs": [],
   "source": [
    "# 076 변수 t에는 아래와 같은 값이 저장되어 있다. 변수 t가 ('A', 'b', 'c') 튜플을 가리키도록 수정하라.\n",
    "\n",
    "t = ('a', 'b', 'c')\n",
    "\n",
    "    # 정답\n",
    "        # 튜플의 값은 변경할 수 없기 때문에, 리스트와 달리 아래 코드는 동작하지 않습니다.\n",
    "        # t[0] = 'A'\n",
    "        # 새로운 튜플을 만들고 t 라는 변수를 업데이트 해야 합니다. 기존의 튜플 ('a', 'b', 'c')은 자동으로 삭제됩니다.\n",
    "        # t = ('A', 'b', 'c')"
   ]
  },
  {
   "cell_type": "code",
   "execution_count": 246,
   "id": "cb517306-e0b0-463a-acb6-0da823a97b35",
   "metadata": {},
   "outputs": [
    {
     "data": {
      "text/plain": [
       "['삼성전자', 'LG전자', 'SK Hynix']"
      ]
     },
     "execution_count": 246,
     "metadata": {},
     "output_type": "execute_result"
    }
   ],
   "source": [
    "# 077 다음 튜플을 리스트로 변환하라.\n",
    "\n",
    "interest = ('삼성전자', 'LG전자', 'SK Hynix')\n",
    "list(interest)"
   ]
  },
  {
   "cell_type": "code",
   "execution_count": 252,
   "id": "01942c82-f506-4295-8680-b21ef6ea596f",
   "metadata": {},
   "outputs": [
    {
     "data": {
      "text/plain": [
       "('삼성전자', 'LG전자', 'SK Hynix')"
      ]
     },
     "execution_count": 252,
     "metadata": {},
     "output_type": "execute_result"
    }
   ],
   "source": [
    "# 078 다음 리스트를 튜플로 변경하라.\n",
    "\n",
    "interest = ['삼성전자', 'LG전자', 'SK Hynix']\n",
    "tuple(interest)"
   ]
  },
  {
   "cell_type": "code",
   "execution_count": 254,
   "id": "0d6aca5c-e67d-4bea-a5be-aff9fca7d467",
   "metadata": {},
   "outputs": [
    {
     "name": "stdout",
     "output_type": "stream",
     "text": [
      "apple banana cake\n"
     ]
    }
   ],
   "source": [
    "# 079 튜플 언팩킹 : 다음 코드의 실행 결과를 예상하라.\n",
    "\n",
    "temp = ('apple', 'banana', 'cake')\n",
    "a, b, c = temp\n",
    "print(a, b, c)"
   ]
  },
  {
   "cell_type": "markdown",
   "id": "76140bc6-66ca-47fa-8963-39fd5e226864",
   "metadata": {},
   "source": [
    "> 080. 다시 풀기"
   ]
  },
  {
   "cell_type": "code",
   "execution_count": 300,
   "id": "ac57008e-9886-4412-8e61-36df52c186d1",
   "metadata": {},
   "outputs": [
    {
     "name": "stdout",
     "output_type": "stream",
     "text": [
      "(2, 4, 6, 8, 10, 12, 14, 16, 18, 20, 22, 24, 26, 28, 30, 32, 34, 36, 38, 40, 42, 44, 46, 48, 50, 52, 54, 56, 58, 60, 62, 64, 66, 68, 70, 72, 74, 76, 78, 80, 82, 84, 86, 88, 90, 92, 94, 96, 98)\n"
     ]
    }
   ],
   "source": [
    "# 080 range 함수 : 1 부터 99까지의 정수 중 짝수만 저장된 튜플을 생성하라.\n",
    "    # (2, 4, 6, 8 ... 98)\n",
    "\n",
    "data = tuple(range(2, 100, 2))\n",
    "print(data)"
   ]
  },
  {
   "cell_type": "markdown",
   "id": "cee57b9f-a49c-4956-9527-90767b2a7a2b",
   "metadata": {},
   "source": [
    "## * 081-100. 딕셔너리"
   ]
  },
  {
   "cell_type": "code",
   "execution_count": 7,
   "id": "e4e01264-d570-476b-95f9-73eb8f78d709",
   "metadata": {},
   "outputs": [],
   "source": [
    "# 081 별 표현식\n",
    "    # 기본적으로 데이터 언패킹은 좌변의 변수와 우변 데이터 개수가 같아야 합니다. 하지만 star expression을 사용하면 변수의 개수가 달라도 데이터 언패킹을 할 수 있습니다. 튜플에 저장된 데이터 중에서 앞에 있는 두 개의 데이터만 필요할 경우 나머지 데이터의 언패킹 코드를 작성할 필요가 없습니다.\n",
    "\n",
    "a, b, *c = (0, 1, 2, 3, 4, 5)\n",
    "a\n",
    "0\n",
    "b\n",
    "1\n",
    "c\n",
    "[2, 3, 4, 5]\n",
    "\n",
    "    # 다음과 같이 10개의 값이 저장된 scores 리스트가 있을 때, start expression을 사용하여 좌측 8개의 값을 valid_score 변수에 바인딩하여라.\n",
    "scores = [8.8, 8.9, 8.7, 9.2, 9.3, 9.7, 9.9, 9.5, 7.8, 9.4]"
   ]
  },
  {
   "cell_type": "code",
   "execution_count": 11,
   "id": "5adbf3ea-ff2e-4628-8081-09099001f2fc",
   "metadata": {},
   "outputs": [
    {
     "name": "stdout",
     "output_type": "stream",
     "text": [
      "[8.8, 8.9, 8.7, 9.2, 9.3, 9.7, 9.9, 9.5]\n"
     ]
    }
   ],
   "source": [
    "*valid_score, _, _= scores\n",
    "print(valid_score)"
   ]
  },
  {
   "cell_type": "code",
   "execution_count": 13,
   "id": "ed429798-c293-4e73-8a8b-ea3c28dcd84e",
   "metadata": {},
   "outputs": [],
   "source": [
    "# 082 다음과 같이 10개의 값이 저장된 scores 리스트가 있을 때, start expression을 사용하여 우측 8개의 값을 valid_score 변수에 바인딩하여라.\n",
    "\n",
    "scores = [8.8, 8.9, 8.7, 9.2, 9.3, 9.7, 9.9, 9.5, 7.8, 9.4]"
   ]
  },
  {
   "cell_type": "code",
   "execution_count": 17,
   "id": "cfbcb6c0-92df-450e-b4cb-0b47b33602ab",
   "metadata": {},
   "outputs": [
    {
     "name": "stdout",
     "output_type": "stream",
     "text": [
      "[8.7, 9.2, 9.3, 9.7, 9.9, 9.5, 7.8, 9.4]\n"
     ]
    }
   ],
   "source": [
    "a, b, *valid_score = scores\n",
    "print(valid_score)"
   ]
  },
  {
   "cell_type": "code",
   "execution_count": 21,
   "id": "0e5e4c9c-298b-4478-bb19-b505d914726e",
   "metadata": {},
   "outputs": [],
   "source": [
    "# 083 다음과 같이 10개의 값이 저장된 scores 리스트가 있을 때, start expression을 사용하여 가운데 있는 8개의 값을 valid_score 변수에 바인딩하여라.\n",
    "\n",
    "scores = [8.8, 8.9, 8.7, 9.2, 9.3, 9.7, 9.9, 9.5, 7.8, 9.4]"
   ]
  },
  {
   "cell_type": "code",
   "execution_count": 27,
   "id": "74f29fd2-de75-4834-bd2d-002868d9fd7a",
   "metadata": {},
   "outputs": [
    {
     "name": "stdout",
     "output_type": "stream",
     "text": [
      "[8.9, 8.7, 9.2, 9.3, 9.7, 9.9, 9.5, 7.8]\n"
     ]
    }
   ],
   "source": [
    "a, *valid_score, b = scores\n",
    "print(valid_score)"
   ]
  },
  {
   "cell_type": "code",
   "execution_count": 29,
   "id": "42632734-449a-4580-a348-75385c710a6c",
   "metadata": {},
   "outputs": [],
   "source": [
    "# 084 비어있는 딕셔너리\n",
    "    # temp 이름의 비어있는 딕셔너리를 만들라"
   ]
  },
  {
   "cell_type": "code",
   "execution_count": 33,
   "id": "c7f8c4b5-8132-47c2-88c7-4c790dd0a684",
   "metadata": {},
   "outputs": [],
   "source": [
    "temp = { }"
   ]
  },
  {
   "cell_type": "code",
   "execution_count": 35,
   "id": "c19e4c2a-ba6e-4d55-9601-2887a5a4deec",
   "metadata": {},
   "outputs": [],
   "source": [
    "# 085 다음 아이스크림 이름과 희망 가격을 딕셔너리로 구성하라.\n",
    "\n",
    "    # 이름 /\t희망 가격\n",
    "    # 메로나\t1000\n",
    "    # 폴라포\t1200\n",
    "    # 빵빠레\t1800"
   ]
  },
  {
   "cell_type": "code",
   "execution_count": 37,
   "id": "89a84a0e-9285-48e8-9426-3825ebff2ec3",
   "metadata": {},
   "outputs": [
    {
     "name": "stdout",
     "output_type": "stream",
     "text": [
      "{'메로나': 1000, '폴라포': 1200, '빵빠레': 1800}\n"
     ]
    }
   ],
   "source": [
    "a = {\"메로나\": 1000, \"폴라포\": 1200, \"빵빠레\": 1800}\n",
    "print(a)"
   ]
  },
  {
   "cell_type": "code",
   "execution_count": 39,
   "id": "5a4d9f4a-3c2c-40b6-86f9-f0ad86a91986",
   "metadata": {},
   "outputs": [],
   "source": [
    "# 086. 085번의 딕셔너리에 아래 아이스크림 가격정보를 추가하라.\n",
    "\n",
    "    # 이름 / 희망 가격\n",
    "    # 죠스바\t1200\n",
    "    # 월드콘\t1500"
   ]
  },
  {
   "cell_type": "code",
   "execution_count": 51,
   "id": "20e3f963-25cc-4963-af4f-d0b478c99d85",
   "metadata": {},
   "outputs": [
    {
     "name": "stdout",
     "output_type": "stream",
     "text": [
      "{'메로나': 1000, '폴라포': 1200, '빵빠레': 1800, '죠스바': 1200, '월드콘': 1500}\n"
     ]
    }
   ],
   "source": [
    "a = {\"메로나\": 1000, \"폴라포\": 1200, \"빵빠레\": 1800}\n",
    "a[\"죠스바\"] = 1200\n",
    "a[\"월드콘\"] = 1500\n",
    "print(a)"
   ]
  },
  {
   "cell_type": "code",
   "execution_count": 61,
   "id": "5cfe9cae-5d29-4dfa-8652-5df97f82be6c",
   "metadata": {},
   "outputs": [],
   "source": [
    "# 087 다음 딕셔너리를 사용하여 메로나 가격을 출력하라.\n",
    "\n",
    "ice = {'메로나': 1000,\n",
    "     '폴로포': 1200,\n",
    "     '빵빠레': 1800,\n",
    "     '죠스바': 1200,\n",
    "     '월드콘': 1500}\n",
    "\n",
    "    # 실행 예 - 메로나 가격: 1000"
   ]
  },
  {
   "cell_type": "code",
   "execution_count": 63,
   "id": "e00b6bbf-c8fc-4f1b-954f-e94a33f2e5f2",
   "metadata": {},
   "outputs": [
    {
     "name": "stdout",
     "output_type": "stream",
     "text": [
      "메로나 가격:  1000\n"
     ]
    }
   ],
   "source": [
    "print(\"메로나 가격: \", ice[\"메로나\"])"
   ]
  },
  {
   "cell_type": "code",
   "execution_count": 65,
   "id": "c6585f46-1f10-4d37-9de6-01c673c21607",
   "metadata": {},
   "outputs": [],
   "source": [
    "# 088 다음 딕셔너리에서 메로나의 가격을 1300으로 수정하라.\n",
    "\n",
    "ice = {'메로나': 1000,\n",
    "       '폴로포': 1200,\n",
    "       '빵빠레': 1800,\n",
    "       '죠스바': 1200,\n",
    "       '월드콘': 1500}"
   ]
  },
  {
   "cell_type": "code",
   "execution_count": 73,
   "id": "69badbd4-05a5-41d5-8be3-9a854b6be542",
   "metadata": {},
   "outputs": [
    {
     "name": "stdout",
     "output_type": "stream",
     "text": [
      "1300\n"
     ]
    }
   ],
   "source": [
    "ice[\"메로나\"] = 1300\n",
    "print(ice[\"메로나\"])"
   ]
  },
  {
   "cell_type": "code",
   "execution_count": 75,
   "id": "6a962872-d1ee-499d-a448-d45819d62362",
   "metadata": {},
   "outputs": [
    {
     "ename": "SyntaxError",
     "evalue": "invalid syntax. Perhaps you forgot a comma? (2019822702.py, line 5)",
     "output_type": "error",
     "traceback": [
      "\u001b[0;36m  Cell \u001b[0;32mIn[75], line 5\u001b[0;36m\u001b[0m\n\u001b[0;31m    Traceback (most recent call last):\u001b[0m\n\u001b[0m               ^\u001b[0m\n\u001b[0;31mSyntaxError\u001b[0m\u001b[0;31m:\u001b[0m invalid syntax. Perhaps you forgot a comma?\n"
     ]
    }
   ],
   "source": [
    "# 090 다음 코드에서 에러가 발생한 원인을 설명하라.\n",
    "\n",
    "icecream = {'폴라포': 1200, '빵빠레': 1800, '월드콘': 1500, '메로나': 1000}\n",
    "icecream['누가바']\n",
    "Traceback (most recent call last):\n",
    "  File \"<pyshell#69>\", line 1, in <module>\n",
    "    icecream['누가바']\n",
    "KeyError: '누가바'\n",
    "\n",
    "    # 정답 : 딕셔너리에 없는 키 사용"
   ]
  },
  {
   "cell_type": "code",
   "execution_count": 83,
   "id": "1753b960-2520-4cd0-885a-3ec6789cb987",
   "metadata": {},
   "outputs": [],
   "source": [
    "# 091 딕셔너리 생성 : 아래의 표에서, 아이스크림 이름을 키값으로, (가격, 재고) 리스트를 딕셔너리의 값으로 저장하라. 딕셔너리의 이름은 inventory로 한다.\n",
    "\n",
    "    # 이름\t가격\t재고\n",
    "    # 메로나\t300\t20\n",
    "    # 비비빅\t400\t3\n",
    "    # 죠스바\t250\t100"
   ]
  },
  {
   "cell_type": "code",
   "execution_count": 85,
   "id": "6b3b429f-3c7d-4e15-b1bc-a52b446e044b",
   "metadata": {},
   "outputs": [
    {
     "name": "stdout",
     "output_type": "stream",
     "text": [
      "{'메로나': [300, 20], '비비빅': [400, 3], '죠스바': [250, 100]}\n"
     ]
    }
   ],
   "source": [
    "inventory = {\"메로나\": [300, 20], \n",
    "             \"비비빅\": [400, 3], \n",
    "             \"죠스바\": [250, 100]}\n",
    "print(inventory)"
   ]
  },
  {
   "cell_type": "markdown",
   "id": "92056e56-1f05-4c6d-9491-d38e4a5bb0b6",
   "metadata": {},
   "source": [
    "> 092. 다시 풀기"
   ]
  },
  {
   "cell_type": "code",
   "execution_count": 87,
   "id": "c2ce54b5-1111-4001-a821-db4b8b42b257",
   "metadata": {},
   "outputs": [],
   "source": [
    "# 092 딕셔너리 인덱싱 : inventory 딕셔너리에서 메로나의 가격을 화면에 출력하라.\n",
    "    # 실행 예시: 300원\n",
    "\n",
    "inventory = {\"메로나\": [300, 20],\n",
    "             \"비비빅\": [400, 3],\n",
    "             \"죠스바\": [250, 100]}"
   ]
  },
  {
   "cell_type": "code",
   "execution_count": 97,
   "id": "71820267-8cac-43db-b128-95047f27bbb4",
   "metadata": {},
   "outputs": [
    {
     "name": "stdout",
     "output_type": "stream",
     "text": [
      "300 원\n"
     ]
    }
   ],
   "source": [
    "print(inventory[\"메로나\"][0], \"원\")"
   ]
  },
  {
   "cell_type": "code",
   "execution_count": 101,
   "id": "73c0b3f7-d85a-4612-94db-a56cd5c20ada",
   "metadata": {},
   "outputs": [],
   "source": [
    "# 093 딕셔너리 인덱싱 : inventory 딕셔너리에서 메로나의 재고를 화면에 출력하라.\n",
    "\n",
    "inventory = {\"메로나\": [300, 20],\n",
    "            \"비비빅\": [400, 3],\n",
    "             \"죠스바\": [250, 100]}\n",
    "    # 실행 예시: 20개"
   ]
  },
  {
   "cell_type": "code",
   "execution_count": 137,
   "id": "6cd912ba-0f3c-4072-a8ad-b80d6e42f63d",
   "metadata": {},
   "outputs": [
    {
     "name": "stdout",
     "output_type": "stream",
     "text": [
      "20 개\n"
     ]
    }
   ],
   "source": [
    "print(inventory[\"메로나\"][1], \"개\")"
   ]
  },
  {
   "cell_type": "code",
   "execution_count": 147,
   "id": "f27481dd-a32c-4d85-9dab-dc7bd75fd04d",
   "metadata": {},
   "outputs": [],
   "source": [
    "# 094 딕셔너리 추가 : inventory 딕셔너리에 아래 데이터를 추가하라.\n",
    "\n",
    "inventory = {\"메로나\": [300, 20],\n",
    "              \"비비빅\": [400, 3],\n",
    "              \"죠스바\": [250, 100]}\n",
    "\n",
    "# 이름\t  가격\t재고\n",
    "# 월드콘   500\t 7"
   ]
  },
  {
   "cell_type": "code",
   "execution_count": 149,
   "id": "d5a68b7a-3c7e-46ed-8a59-adc225c63bcc",
   "metadata": {},
   "outputs": [
    {
     "name": "stdout",
     "output_type": "stream",
     "text": [
      "{'메로나': [300, 20], '비비빅': [400, 3], '죠스바': [250, 100], '월드콘': [500, 7]}\n"
     ]
    }
   ],
   "source": [
    "inventory = {\"메로나\": [300, 20], \n",
    "             \"비비빅\": [400, 3], \n",
    "             \"죠스바\": [250, 100]}\n",
    "inventory[\"월드콘\"] = [500, 7]\n",
    "print(inventory)"
   ]
  },
  {
   "cell_type": "code",
   "execution_count": 151,
   "id": "a362a4bb-9608-49cc-92f7-a1bcc5fe0db4",
   "metadata": {},
   "outputs": [],
   "source": [
    "# 095 딕셔너리 keys() 메서드 : 다음의 딕셔너리로부터 key 값으로만 구성된 리스트를 생성하라.\n",
    "\n",
    "icecream = {'탱크보이': 1200, '폴라포': 1200, '빵빠레': 1800, '월드콘': 1500, '메로나': 1000}"
   ]
  },
  {
   "cell_type": "code",
   "execution_count": 157,
   "id": "81ad7e54-015b-44a8-9265-a7732d944776",
   "metadata": {},
   "outputs": [
    {
     "name": "stdout",
     "output_type": "stream",
     "text": [
      "['탱크보이', '폴라포', '빵빠레', '월드콘', '메로나']\n"
     ]
    }
   ],
   "source": [
    "ice = list(icecream.keys())\n",
    "print(ice)"
   ]
  },
  {
   "cell_type": "code",
   "execution_count": 171,
   "id": "c84ab2ef-f586-4a4d-b1af-619629a45125",
   "metadata": {},
   "outputs": [],
   "source": [
    "# 096 딕셔너리 values() 메서드 : 다음의 딕셔너리에서 values 값으로만 구성된 리스트를 생성하라.\n",
    "\n",
    "icecream = {'탱크보이': 1200, '폴라포': 1200, '빵빠레': 1800, '월드콘': 1500, '메로나': 1000}"
   ]
  },
  {
   "cell_type": "code",
   "execution_count": 173,
   "id": "0115ec48-da77-4c26-8df6-c0b646159a23",
   "metadata": {},
   "outputs": [
    {
     "name": "stdout",
     "output_type": "stream",
     "text": [
      "[1200, 1200, 1800, 1500, 1000]\n"
     ]
    }
   ],
   "source": [
    "price = list(icecream.values())\n",
    "print(price)"
   ]
  },
  {
   "cell_type": "code",
   "execution_count": 175,
   "id": "da82370c-6802-4a44-b1f3-a3efef11fed6",
   "metadata": {},
   "outputs": [],
   "source": [
    "# 097 딕셔너리 values() 메서드 : icecream 딕셔너리에서 아이스크림 판매 금액의 총합을 출력하라.\n",
    "\n",
    "icecream = {'탱크보이': 1200, '폴라포': 1200, '빵빠레': 1800, '월드콘': 1500, '메로나': 1000}\n",
    "\n",
    "    # 출력 예시: 6700"
   ]
  },
  {
   "cell_type": "code",
   "execution_count": 177,
   "id": "8f207d5c-e19b-4a8e-aced-6eff6a522b67",
   "metadata": {},
   "outputs": [
    {
     "name": "stdout",
     "output_type": "stream",
     "text": [
      "6700\n"
     ]
    }
   ],
   "source": [
    "print(sum(icecream.values()))"
   ]
  },
  {
   "cell_type": "code",
   "execution_count": 179,
   "id": "05320432-524f-4a03-a991-9867271db1a4",
   "metadata": {},
   "outputs": [],
   "source": [
    "# 098 딕셔너리 update 메서드 : 아래의 new_product 딕셔너리를 다음 icecream 딕셔너리에 추가하라.\n",
    "\n",
    "icecream = {'탱크보이': 1200, '폴라포': 1200, '빵빠레': 1800, '월드콘': 1500, '메로나': 1000}\n",
    "new_product = {'팥빙수':2700, '아맛나':1000}\n",
    "\n",
    "    # 실행 예시:\n",
    "    # print(icecream) = {'탱크보이': 1200,  '폴라포': 1200,  '빵빠레': 1800,  '월드콘': 1500,  '메로나': 1000,  '팥빙수':2700, '아맛나':1000}"
   ]
  },
  {
   "cell_type": "code",
   "execution_count": 191,
   "id": "ddbb1a9d-2862-4236-a3c7-faad73395b21",
   "metadata": {},
   "outputs": [
    {
     "name": "stdout",
     "output_type": "stream",
     "text": [
      "{'탱크보이': 1200, '폴라포': 1200, '빵빠레': 1800, '월드콘': 1500, '메로나': 1000, '팥빙수': 2700, '아맛나': 1000}\n"
     ]
    }
   ],
   "source": [
    "icecream.update(new_product)\n",
    "print(icecream)"
   ]
  },
  {
   "cell_type": "markdown",
   "id": "9cf19430-ef07-4861-8fe3-19c7a7a762a7",
   "metadata": {},
   "source": [
    "> 099. 다시 풀기 : zip"
   ]
  },
  {
   "cell_type": "code",
   "execution_count": 193,
   "id": "ccb6a5e9-2861-4a57-b273-dcd07900024a",
   "metadata": {},
   "outputs": [],
   "source": [
    "# 099 zip과 dict : 아래 두 개의 튜플을 하나의 딕셔너리로 변환하라. keys를 키로, vals를 값으로 result 이름의 딕셔너리로 저장한다.\n",
    "\n",
    "keys = (\"apple\", \"pear\", \"peach\")\n",
    "vals = (300, 250, 400)\n",
    "\n",
    "    # 실행 예시: print(result) = {'apple': 300, 'pear': 250, 'peach': 400}"
   ]
  },
  {
   "cell_type": "code",
   "execution_count": 203,
   "id": "8f695498-5b0c-4840-8186-b71c849c7036",
   "metadata": {},
   "outputs": [
    {
     "name": "stdout",
     "output_type": "stream",
     "text": [
      "{'apple': 300, 'pear': 250, 'peach': 400}\n"
     ]
    }
   ],
   "source": [
    "keys = (\"apple\", \"pear\", \"peach\")\n",
    "vals = (300, 250, 400)\n",
    "result = dict(zip(keys, vals))\n",
    "print(result)"
   ]
  },
  {
   "cell_type": "code",
   "execution_count": 206,
   "id": "54034e9d-5c4e-49e8-b10f-88402b17c1bd",
   "metadata": {},
   "outputs": [],
   "source": [
    "# 100 zip과 dict : date와 close_price 두 개의 리스트를 close_table 이름의 딕셔너리로 생성하라.\n",
    "\n",
    "date = ['09/05', '09/06', '09/07', '09/08', '09/09']\n",
    "close_price = [10500, 10300, 10100, 10800, 11000]\n",
    "\n",
    "    # 실행 예시: print(close_table) = {'09/05': 10500, '09/06': 10300, '09/07': 10100, '09/08': 10800, '09/09': 11000}"
   ]
  },
  {
   "cell_type": "code",
   "execution_count": 210,
   "id": "6a6a19d0-237c-475d-9264-e17227d59acd",
   "metadata": {},
   "outputs": [
    {
     "name": "stdout",
     "output_type": "stream",
     "text": [
      "{'09/05': 10500, '09/06': 10300, '09/07': 10100, '09/08': 10800, '09/09': 11000}\n"
     ]
    }
   ],
   "source": [
    "close_table = dict(zip(date, close_price))\n",
    "print(close_table)"
   ]
  },
  {
   "cell_type": "markdown",
   "id": "f36b81be-c84d-4abb-929d-67ff2a16036e",
   "metadata": {},
   "source": [
    "## * 101-130. 파이썬 분기문"
   ]
  },
  {
   "cell_type": "code",
   "execution_count": 220,
   "id": "76233bea-a9ad-4a76-849f-74a669c2291a",
   "metadata": {},
   "outputs": [],
   "source": [
    "# 101 파이썬에서 True 혹은 False를 갖는 데이터 타입은 무엇인가?\n",
    "\n",
    "    # 정답 : bool"
   ]
  },
  {
   "cell_type": "code",
   "execution_count": 222,
   "id": "c54d0390-27f9-40a8-84e5-e330c096ea08",
   "metadata": {},
   "outputs": [
    {
     "name": "stdout",
     "output_type": "stream",
     "text": [
      "False\n"
     ]
    }
   ],
   "source": [
    "# 102 아래 코드의 출력 결과를 예상하라\n",
    "\n",
    "print(3 == 5)"
   ]
  },
  {
   "cell_type": "code",
   "execution_count": 224,
   "id": "9804ead5-254a-4731-9f49-17a010ef95b0",
   "metadata": {},
   "outputs": [
    {
     "name": "stdout",
     "output_type": "stream",
     "text": [
      "True\n"
     ]
    }
   ],
   "source": [
    "# 103 아래 코드의 출력 결과를 예상하라\n",
    "\n",
    "print(3 < 5)"
   ]
  },
  {
   "cell_type": "code",
   "execution_count": 227,
   "id": "a28b22de-ea36-43db-872c-cb2912a874d1",
   "metadata": {},
   "outputs": [
    {
     "name": "stdout",
     "output_type": "stream",
     "text": [
      "True\n"
     ]
    }
   ],
   "source": [
    "# 104 아래 코드의 결과를 예상하라.\n",
    "\n",
    "x = 4\n",
    "print(1 < x < 5)"
   ]
  },
  {
   "cell_type": "code",
   "execution_count": 231,
   "id": "610f161b-311f-496e-bdde-e145321ec355",
   "metadata": {},
   "outputs": [
    {
     "name": "stdout",
     "output_type": "stream",
     "text": [
      "True\n"
     ]
    }
   ],
   "source": [
    "# 105 아래 코드의 결과를 예상하라.\n",
    "\n",
    "print ((3 == 3) and (4 != 3))"
   ]
  },
  {
   "cell_type": "code",
   "execution_count": 233,
   "id": "2f2901e0-feec-4630-9ee5-0c9199cd6e72",
   "metadata": {},
   "outputs": [
    {
     "ename": "SyntaxError",
     "evalue": "expression cannot contain assignment, perhaps you meant \"==\"? (3157733603.py, line 3)",
     "output_type": "error",
     "traceback": [
      "\u001b[0;36m  Cell \u001b[0;32mIn[233], line 3\u001b[0;36m\u001b[0m\n\u001b[0;31m    print(3 => 4)\u001b[0m\n\u001b[0m          ^\u001b[0m\n\u001b[0;31mSyntaxError\u001b[0m\u001b[0;31m:\u001b[0m expression cannot contain assignment, perhaps you meant \"==\"?\n"
     ]
    }
   ],
   "source": [
    "# 106 아래 코드에서 에러가 발생하는 원인에 대해 설명하라.\n",
    "\n",
    "print(3 => 4) # 연산자 사용 순서 변경 필요"
   ]
  },
  {
   "cell_type": "code",
   "execution_count": 239,
   "id": "7f16b512-8890-47f0-819f-96616ade9406",
   "metadata": {},
   "outputs": [
    {
     "name": "stdout",
     "output_type": "stream",
     "text": [
      "False\n"
     ]
    }
   ],
   "source": [
    "print(3 >= 4)"
   ]
  },
  {
   "cell_type": "code",
   "execution_count": 247,
   "id": "b080e333-d8fc-4ce0-992c-2ba1dca7397b",
   "metadata": {},
   "outputs": [],
   "source": [
    "# 107 아래 코드의 출력 결과를 예상하라\n",
    "\n",
    "if 4 < 3:\n",
    "    print(\"Hello World\")\n",
    "\n",
    "    # 정답 : 조건이 불일치 하므로 아무 결과도 출력되지 않는다. 조건 불일치 시 츨략 결과를 지정했다면 그 결과로 나올 것이다."
   ]
  },
  {
   "cell_type": "code",
   "execution_count": 249,
   "id": "6946c022-32f9-46e9-9024-2e27f975ccf3",
   "metadata": {},
   "outputs": [
    {
     "name": "stdout",
     "output_type": "stream",
     "text": [
      "Hi, there.\n"
     ]
    }
   ],
   "source": [
    "# 108 아래 코드의 출력 결과를 예상하라\n",
    "\n",
    "if 4 < 3:\n",
    "    print(\"Hello World.\")\n",
    "else:\n",
    "    print(\"Hi, there.\")"
   ]
  },
  {
   "cell_type": "markdown",
   "id": "5c847f35-6acc-4837-9792-87b93ae97cee",
   "metadata": {},
   "source": [
    "> 109, 110 다시 풀기"
   ]
  },
  {
   "cell_type": "code",
   "execution_count": 263,
   "id": "9eb28a3d-2560-4e5f-b0cd-76e2faa824ad",
   "metadata": {},
   "outputs": [
    {
     "name": "stdout",
     "output_type": "stream",
     "text": [
      "1\n",
      "2\n",
      "4\n"
     ]
    }
   ],
   "source": [
    "# 109 아래 코드의 출력 결과를 예상하라\n",
    "\n",
    "if True :\n",
    "    print (\"1\")\n",
    "    print (\"2\")\n",
    "else :\n",
    "    print(\"3\")\n",
    "print(\"4\")"
   ]
  },
  {
   "cell_type": "code",
   "execution_count": 265,
   "id": "8a063022-52ee-4601-bc1e-f15db03ec721",
   "metadata": {},
   "outputs": [
    {
     "name": "stdout",
     "output_type": "stream",
     "text": [
      "3\n",
      "5\n"
     ]
    }
   ],
   "source": [
    "# 110 아래 코드의 출력 결과를 예상하라\n",
    "\n",
    "if True :\n",
    "    if False:\n",
    "        print(\"1\")\n",
    "        print(\"2\")\n",
    "    else:\n",
    "        print(\"3\")\n",
    "else :\n",
    "    print(\"4\")\n",
    "print(\"5\")"
   ]
  },
  {
   "cell_type": "markdown",
   "id": "fb0b3005-2e2a-4b76-a4d7-621d3f930677",
   "metadata": {},
   "source": [
    "> 111. 다시 풀기"
   ]
  },
  {
   "cell_type": "code",
   "execution_count": 271,
   "id": "a13c559e-ff44-42b6-8400-80b7237f1914",
   "metadata": {},
   "outputs": [],
   "source": [
    "# 111 사용자로부터 입력받은 문자열을 두 번 출력하라. 아래는 사용자가 \"안녕하세요\"를 입력한 경우의 출력 결과이다.\n",
    "\n",
    "    # 안녕하세요\n",
    "    # 안녕하세요안녕하세요"
   ]
  },
  {
   "cell_type": "code",
   "execution_count": 277,
   "id": "9d6cb9eb-91c7-42e2-8c22-dc71951dda45",
   "metadata": {},
   "outputs": [
    {
     "name": "stdin",
     "output_type": "stream",
     "text": [
      "입력: 안녕\n"
     ]
    },
    {
     "name": "stdout",
     "output_type": "stream",
     "text": [
      "안녕안녕\n"
     ]
    }
   ],
   "source": [
    "user = input(\"입력:\")\n",
    "print(user * 2)"
   ]
  },
  {
   "cell_type": "code",
   "execution_count": 280,
   "id": "39fcec5c-ff9c-42ac-b883-f128ad215284",
   "metadata": {},
   "outputs": [],
   "source": [
    "# 112 사용자로부터 하나의 숫자를 입력받고, 입력 받은 숫자에 10을 더해 출력하라.\n",
    "\n",
    "    # 숫자를 입력하세요: 30\n",
    "    # 40"
   ]
  },
  {
   "cell_type": "code",
   "execution_count": 286,
   "id": "c72594e7-97fc-4c91-9256-25973052dfac",
   "metadata": {},
   "outputs": [
    {
     "name": "stdin",
     "output_type": "stream",
     "text": [
      "숫자를 입력하세요:  33\n"
     ]
    },
    {
     "name": "stdout",
     "output_type": "stream",
     "text": [
      "43\n"
     ]
    }
   ],
   "source": [
    "user = input(\"숫자를 입력하세요: \")\n",
    "print(10 + int(user))"
   ]
  },
  {
   "cell_type": "code",
   "execution_count": 288,
   "id": "0fd3bb37-17da-4c8c-962d-e818bb4df72c",
   "metadata": {},
   "outputs": [
    {
     "name": "stdin",
     "output_type": "stream",
     "text": [
      "숫자를 입력하세요:  33\n"
     ]
    },
    {
     "name": "stdout",
     "output_type": "stream",
     "text": [
      "43\n"
     ]
    }
   ],
   "source": [
    "user = int(input(\"숫자를 입력하세요: \"))\n",
    "print(10 + user)"
   ]
  },
  {
   "cell_type": "code",
   "execution_count": 290,
   "id": "188098a5-d3aa-49ca-9bed-059116eea6de",
   "metadata": {},
   "outputs": [
    {
     "ename": "ValueError",
     "evalue": "invalid literal for int() with base 10: '숫자를 입력하세요: '",
     "output_type": "error",
     "traceback": [
      "\u001b[0;31m---------------------------------------------------------------------------\u001b[0m",
      "\u001b[0;31mValueError\u001b[0m                                Traceback (most recent call last)",
      "Cell \u001b[0;32mIn[290], line 1\u001b[0m\n\u001b[0;32m----> 1\u001b[0m user \u001b[38;5;241m=\u001b[39m \u001b[38;5;28minput\u001b[39m(\u001b[38;5;28mint\u001b[39m(\u001b[38;5;124m\"\u001b[39m\u001b[38;5;124m숫자를 입력하세요: \u001b[39m\u001b[38;5;124m\"\u001b[39m))\n\u001b[1;32m      2\u001b[0m \u001b[38;5;28mprint\u001b[39m(\u001b[38;5;241m10\u001b[39m \u001b[38;5;241m+\u001b[39m user)\n",
      "\u001b[0;31mValueError\u001b[0m: invalid literal for int() with base 10: '숫자를 입력하세요: '"
     ]
    }
   ],
   "source": [
    "user = input(int(\"숫자를 입력하세요: \"))\n",
    "print(10 + user)"
   ]
  },
  {
   "cell_type": "markdown",
   "id": "0992359e-467a-4dd8-b0e9-3607de184959",
   "metadata": {},
   "source": [
    "> 113. 다시 풀기"
   ]
  },
  {
   "cell_type": "code",
   "execution_count": 292,
   "id": "d3c4cf2f-7dfd-4f17-803c-d6eeb13d7ceb",
   "metadata": {},
   "outputs": [
    {
     "name": "stdin",
     "output_type": "stream",
     "text": [
      " 33\n"
     ]
    },
    {
     "name": "stdout",
     "output_type": "stream",
     "text": [
      "홀수\n"
     ]
    }
   ],
   "source": [
    "# 113 사용자로부터 하나의 숫자를 입력 받고 짝수/홀수를 판별하라.\n",
    "\n",
    "user = int(input(\"\"))\n",
    "if user % 2 == 0:\n",
    "    print(\"짝수\")\n",
    "else:\n",
    "    print(\"홀수\")"
   ]
  },
  {
   "cell_type": "code",
   "execution_count": 295,
   "id": "71081c42-9325-4947-9780-354e5eb3effe",
   "metadata": {},
   "outputs": [],
   "source": [
    "# 114 사용자로부터 값을 입력받은 후 해당 값에 20을 더한 값을 출력하라. 단 사용자가 입력한 값과 20을 더한 계산 값이 255를 초과하는 경우 255를 출력해야 한다.\n",
    "\n",
    "    # 입력값: 200 / 출력값: 220\n",
    "    # 입력값: 240 / 출력값: 255"
   ]
  },
  {
   "cell_type": "code",
   "execution_count": 297,
   "id": "9c8e363f-8f51-4dbe-9000-8cee703cf874",
   "metadata": {},
   "outputs": [
    {
     "name": "stdin",
     "output_type": "stream",
     "text": [
      "입력값:  33\n"
     ]
    },
    {
     "name": "stdout",
     "output_type": "stream",
     "text": [
      "53\n"
     ]
    }
   ],
   "source": [
    "user = int(input(\"입력값: \"))\n",
    "num = user + 20\n",
    "if num > 255:\n",
    "    print(255)\n",
    "else:\n",
    "    print(num)"
   ]
  },
  {
   "cell_type": "code",
   "execution_count": 299,
   "id": "a8cb510a-7311-4d01-9126-fd3ec57e3fde",
   "metadata": {},
   "outputs": [],
   "source": [
    "# 115 사용자로부터 하나의 값을 입력받은 후 해당 값에 20을 뺀 값을 출력하라. 단 출력 값의 범위는 0~255이다. 예를 들어 결괏값이 0보다 작은 값이되는 경우 0을 출력하고 255보다 큰 값이 되는 경우 255를 출력해야 한다.\n",
    "\n",
    "    # 입력값: 200 / 출력값: 180\n",
    "    # 입력값: 15 / 출력값: 0"
   ]
  },
  {
   "cell_type": "code",
   "execution_count": 301,
   "id": "75506a88-735c-40d4-b91e-2a3578aec4f7",
   "metadata": {},
   "outputs": [
    {
     "name": "stdin",
     "output_type": "stream",
     "text": [
      "입력값:  33\n"
     ]
    },
    {
     "name": "stdout",
     "output_type": "stream",
     "text": [
      "13\n"
     ]
    }
   ],
   "source": [
    "user = int(input(\"입력값: \"))\n",
    "num = user - 20\n",
    "\n",
    "if num > 255:\n",
    "    print(255)\n",
    "elif num < 0:\n",
    "    print(0)\n",
    "else:\n",
    "    print(num)"
   ]
  },
  {
   "cell_type": "markdown",
   "id": "72297e0c-679d-4932-92d7-b65d2c189e25",
   "metadata": {},
   "source": [
    "> 116. 다시 보기"
   ]
  },
  {
   "cell_type": "code",
   "execution_count": 305,
   "id": "f0dd0b54-bcc2-4036-9cfd-15bf78aa99a9",
   "metadata": {},
   "outputs": [],
   "source": [
    "# 116 사용자로부터 입력 받은 시간이 정각인지 판별하라.\n",
    "\n",
    "    # 현재시간:02:00 / 정각 입니다.\n",
    "    # 현재시간:03:10 / 정각이 아닙니다"
   ]
  },
  {
   "cell_type": "code",
   "execution_count": 309,
   "id": "412e1c5b-0b68-45f1-826e-c771600f0307",
   "metadata": {},
   "outputs": [
    {
     "name": "stdin",
     "output_type": "stream",
     "text": [
      "현재시간:  16:30\n"
     ]
    },
    {
     "name": "stdout",
     "output_type": "stream",
     "text": [
      "정각이 아닙니다.\n"
     ]
    }
   ],
   "source": [
    "time = input(\"현재시간: \")\n",
    "\n",
    "if time[-2:] == \"00\":\n",
    "    print(\"정각 입니다.\")\n",
    "else:\n",
    "    print(\"정각이 아닙니다.\")"
   ]
  },
  {
   "cell_type": "code",
   "execution_count": 312,
   "id": "6e33c6aa-cf57-4eb3-b610-cec59476e2e0",
   "metadata": {},
   "outputs": [],
   "source": [
    "# 117 사용자로 입력받은 단어가 아래 fruit 리스트에 포함되어 있는지를 확인하라. 포함되었다면 \"정답입니다\"를 아닐 경우 \"오답입니다\" 출력하라.\n",
    "\n",
    "fruit = [\"사과\", \"포도\", \"홍시\"]\n",
    "\n",
    "    # 좋아하는 과일은? 사과\n",
    "    # 정답입니다."
   ]
  },
  {
   "cell_type": "code",
   "execution_count": 314,
   "id": "b96b8401-9556-46fb-99de-0d02d3038765",
   "metadata": {},
   "outputs": [
    {
     "name": "stdin",
     "output_type": "stream",
     "text": [
      "좋아하는 과일은? 수박\n"
     ]
    },
    {
     "name": "stdout",
     "output_type": "stream",
     "text": [
      "오답입니다.\n"
     ]
    }
   ],
   "source": [
    "user = input(\"좋아하는 과일은?\")\n",
    "\n",
    "if user in fruit:\n",
    "    print(\"정답입니다.\")\n",
    "else:\n",
    "    print(\"오답입니다.\")"
   ]
  },
  {
   "cell_type": "markdown",
   "id": "1c54997a-3529-47c0-97fd-305d56265a97",
   "metadata": {},
   "source": [
    "> 118. 대소문자도 구분함."
   ]
  },
  {
   "cell_type": "code",
   "execution_count": 316,
   "id": "772fe3ff-817b-4048-ba62-257c4f8f2e57",
   "metadata": {},
   "outputs": [],
   "source": [
    "# 118 투자 경고 종목 리스트가 있을 때 사용자로부터 종목명을 입력 받은 후 해당 종목이 투자 경고 종목이라면 '투자 경고 종목입니다'를 아니면 \"투자 경고 종목이 아닙니다.\"를 출력하는 프로그램을 작성하라.\n",
    "\n",
    "warn_investment_list = [\"Microsoft\", \"Google\", \"Naver\", \"Kakao\", \"SAMSUNG\", \"LG\"]"
   ]
  },
  {
   "cell_type": "code",
   "execution_count": 318,
   "id": "5cd9cd19-a595-4658-9e31-e87dd6c836e1",
   "metadata": {},
   "outputs": [
    {
     "name": "stdin",
     "output_type": "stream",
     "text": [
      "종목명:  google\n"
     ]
    },
    {
     "name": "stdout",
     "output_type": "stream",
     "text": [
      "투자 경고 종목이 아닙니다.\n"
     ]
    }
   ],
   "source": [
    "user = input(\"종목명: \")\n",
    "if user in warn_investment_list:\n",
    "    print(\"투자 경고 종목입니다.\")\n",
    "else:\n",
    "    print(\"투자 경고 종목이 아닙니다.\")"
   ]
  },
  {
   "cell_type": "code",
   "execution_count": 321,
   "id": "720db033-52c3-46de-b721-50da36a67737",
   "metadata": {},
   "outputs": [],
   "source": [
    "# 119 아래와 같이 fruit 딕셔너리가 정의되어 있다. 사용자가 입력한 값이 딕셔너리 키 (key) 값에 포함되었다면 \"정답입니다\"를 아닐 경우 \"오답입니다\" 출력하라.\n",
    "\n",
    "fruit = {\"봄\" : \"딸기\", \"여름\" : \"토마토\", \"가을\" : \"사과\"}\n",
    "\n",
    "    # 제가좋아하는계절은: 봄\n",
    "    # 정답입니다."
   ]
  },
  {
   "cell_type": "code",
   "execution_count": 325,
   "id": "1a49ac39-4927-4245-9e3f-14d7648bb320",
   "metadata": {},
   "outputs": [
    {
     "name": "stdin",
     "output_type": "stream",
     "text": [
      "제가좋아하는계절은:  가을\n"
     ]
    },
    {
     "name": "stdout",
     "output_type": "stream",
     "text": [
      "정답입니다.\n"
     ]
    }
   ],
   "source": [
    "user = input(\"제가좋아하는계절은: \")\n",
    "\n",
    "if user in fruit:\n",
    "    print(\"정답입니다.\")\n",
    "else:\n",
    "    print(\"오답입니다.\")"
   ]
  },
  {
   "cell_type": "markdown",
   "id": "e09b65ed-d221-431b-ad04-300ef5b2eb9e",
   "metadata": {},
   "source": [
    "> 120. 다시 풀기"
   ]
  },
  {
   "cell_type": "code",
   "execution_count": 327,
   "id": "bf7ff468-f6af-4868-8f36-9217e7f0cdc6",
   "metadata": {},
   "outputs": [],
   "source": [
    "# 120 아래와 같이 fruit 딕셔너리가 정의되어 있다. 사용자가 입력한 값이 딕셔너리 값 (value)에 포함되었다면 \"정답입니다\"를 아닐 경우 \"오답입니다\" 출력하라.\n",
    "\n",
    "fruit = {\"봄\" : \"딸기\", \"여름\" : \"토마토\", \"가을\" : \"사과\"}\n",
    "\n",
    "    # 좋아하는과일은? 한라봉\n",
    "    # 오답입니다."
   ]
  },
  {
   "cell_type": "code",
   "execution_count": 330,
   "id": "e3fad897-c5e6-4552-88ca-c16b9c95704c",
   "metadata": {},
   "outputs": [
    {
     "name": "stdin",
     "output_type": "stream",
     "text": [
      "좋아하는 과일은? 딸기\n"
     ]
    },
    {
     "name": "stdout",
     "output_type": "stream",
     "text": [
      "정답입니다.\n"
     ]
    }
   ],
   "source": [
    "user = input(\"좋아하는 과일은?\")\n",
    "\n",
    "if user in fruit.values():\n",
    "    print(\"정답입니다.\")\n",
    "else:\n",
    "    print(\"오답입니다.\")"
   ]
  },
  {
   "cell_type": "code",
   "execution_count": 332,
   "id": "2b836e17-2a9d-45ff-b5f0-dc35ae90c653",
   "metadata": {},
   "outputs": [],
   "source": [
    "# 121 사용자로부터 문자 한 개를 입력 받고, 소문자일 경우 대문자로, 대문자 일 경우, 소문자로 변경해서 출력하라.\n",
    "    # 힌트-1 : islower() 함수는 문자의 소문자 여부를 판별합니다. 만약 소문자일 경우 True, 대문자일 경우 False를 반환합니다.\n",
    "    # 힌트-2 : upper() 함수는 대문자로, lower() 함수는 소문자로 변경합니다."
   ]
  },
  {
   "cell_type": "code",
   "execution_count": 340,
   "id": "5fae484b-5ddb-41a8-a479-fe25423586e4",
   "metadata": {},
   "outputs": [
    {
     "name": "stdin",
     "output_type": "stream",
     "text": [
      " C\n"
     ]
    },
    {
     "name": "stdout",
     "output_type": "stream",
     "text": [
      "c\n"
     ]
    }
   ],
   "source": [
    "user = input(\"\")\n",
    "\n",
    "if user.islower():\n",
    "    print(user.upper())\n",
    "else:\n",
    "    print(user.lower())"
   ]
  },
  {
   "cell_type": "code",
   "execution_count": 344,
   "id": "61188faf-63f1-41d3-89c1-53925f8754bd",
   "metadata": {},
   "outputs": [],
   "source": [
    "# 122 점수 구간에 해당하는 학점이 아래와 같이 정의되어 있다. 사용자로부터 score를 입력받아 학점을 출력하라.\n",
    "\n",
    "    # 점수\t학점\n",
    "    # 81~100  A\n",
    "    # 61~80\t  B\n",
    "    # 41~60\tC\n",
    "    # 21~40\tD\n",
    "    # 0~20\tE\n",
    "\n",
    "    # score: 83\n",
    "    # grade is A"
   ]
  },
  {
   "cell_type": "code",
   "execution_count": 346,
   "id": "f6f919f4-1ef6-4871-802f-659650e53176",
   "metadata": {},
   "outputs": [
    {
     "name": "stdin",
     "output_type": "stream",
     "text": [
      "score:  117\n"
     ]
    },
    {
     "name": "stdout",
     "output_type": "stream",
     "text": [
      "grade is E\n"
     ]
    }
   ],
   "source": [
    "score = int(input(\"score: \"))\n",
    "\n",
    "if 81 <= score <= 100:\n",
    "    print(\"grade is A\")\n",
    "elif 61 <= score <= 80:\n",
    "    print(\"grade is B\")\n",
    "elif 41 <= score <= 60:\n",
    "    print(\"grade is C\")\n",
    "elif 21 <= score <= 40:\n",
    "    print(\"grade is D\")\n",
    "else:\n",
    "    print(\"grade is E\")"
   ]
  },
  {
   "cell_type": "markdown",
   "id": "dccd6ce5-412a-4bc7-86e6-e996617e7c45",
   "metadata": {},
   "source": [
    "> 123. 다시 풀기"
   ]
  },
  {
   "cell_type": "code",
   "execution_count": 348,
   "id": "77f5be01-d6a8-4235-8432-787725259891",
   "metadata": {},
   "outputs": [],
   "source": [
    "# 123 사용자로부터 달러, 엔, 유로, 또는 위안 금액을 입력받은 후 이를 원으로 변환하는 프로그램을 작성하라. 각 통화별 환율은 다음과 같다. 사용자는 100 달러, 1000 엔, 13 유로, 100 위안과 같이 금액과 통화명 사이에 공백을 넣어 입력한다고 가정한다.\n",
    "\n",
    "    # 통화명\t환율\n",
    "    # 달러\t1167\n",
    "    # 엔\t1.096\n",
    "    # 유로\t1268\n",
    "    # 위안\t171\n",
    "\n",
    "    # 입력: 100 달러\n",
    "    # 116700.00 원"
   ]
  },
  {
   "cell_type": "markdown",
   "id": "ab0f5a38-4f86-4c55-a952-2551a64115aa",
   "metadata": {},
   "source": [
    "환율 = {\"달러\": 1167, \n",
    "        \"엔\": 1.096, \n",
    "        \"유로\": 1268, \n",
    "        \"위안\": 171}\n",
    "\n",
    "user = input(\"입력: \")\n",
    "num, currency = user.split()\n",
    "\n",
    "print(float(num) * 환율[currency], \"원\")"
   ]
  },
  {
   "cell_type": "markdown",
   "id": "da18b9de-ae7d-446b-aa92-3e06f8e307d9",
   "metadata": {},
   "source": [
    "> 124. 다시 풀기 : 한 번의 input에 번호 3개를 넣고 구분 기호로 구분하는 법은 없을까?"
   ]
  },
  {
   "cell_type": "code",
   "execution_count": null,
   "id": "9147a1a5-0fa0-4af9-8cdd-74851e80fd49",
   "metadata": {},
   "outputs": [],
   "source": [
    "# 124 사용자로부터 세 개의 숫자를 입력 받은 후 가장 큰 숫자를 출력하라.\n",
    "\n",
    "    # input number1: 10\n",
    "    # input number2: 9\n",
    "    # input number3: 20\n",
    "    # 20"
   ]
  },
  {
   "cell_type": "code",
   "execution_count": 365,
   "id": "0f1a30fc-4e88-4cfd-978f-e7889e472035",
   "metadata": {},
   "outputs": [
    {
     "name": "stdin",
     "output_type": "stream",
     "text": [
      "input number1:  3\n",
      "input number2:  4\n",
      "input number3:  5\n"
     ]
    },
    {
     "name": "stdout",
     "output_type": "stream",
     "text": [
      "5\n"
     ]
    }
   ],
   "source": [
    "num1 = input(\"input number1: \")\n",
    "num2 = input(\"input number2: \")\n",
    "num3 = input(\"input number3: \")\n",
    "num1 = int(num1)\n",
    "num2 = int(num2)\n",
    "num3 = int(num3)\n",
    "\n",
    "if num1 >= num2 and num1 >= num3:\n",
    "    print(num1)\n",
    "elif num2 >= num1 and num2 >= num3:\n",
    "    print(num2)\n",
    "else:\n",
    "    print(num3)"
   ]
  },
  {
   "cell_type": "markdown",
   "id": "f6b3e134-ce18-466e-8e75-298ea19f2f6c",
   "metadata": {},
   "source": [
    "> 125. 다시 풀기"
   ]
  },
  {
   "cell_type": "code",
   "execution_count": 368,
   "id": "e7d21cfa-bf78-4ee7-b559-d7aa3c7c89d3",
   "metadata": {},
   "outputs": [],
   "source": [
    "# 125 휴대폰 번호 앞자리에 따라 통신사는 아래와 같이 구분된다. 사용자로부터 휴대전화 번호를 입력 받고, 통신사를 출력하는 프로그램을 작성하라.\n",
    "\n",
    "    # 번호\t통신사\n",
    "    # 011\tSKT\n",
    "    # 016\tKT\n",
    "    # 019\tLGU\n",
    "    # 010\t알수없음\n",
    "\n",
    "    # 휴대전화 번호 입력: 011-345-1922\n",
    "    # 당신은 SKT 사용자입니다."
   ]
  },
  {
   "cell_type": "code",
   "execution_count": 370,
   "id": "9deb054c-8bf0-4267-b8fc-753ac3b28528",
   "metadata": {},
   "outputs": [
    {
     "name": "stdin",
     "output_type": "stream",
     "text": [
      "휴대전화 번호 입력:  \n"
     ]
    },
    {
     "name": "stdout",
     "output_type": "stream",
     "text": [
      "당신은 알수없음 사용자입니다.\n"
     ]
    }
   ],
   "source": [
    "number = input(\"휴대전화 번호 입력: \")\n",
    "\n",
    "num = number.split(\"-\")[0]\n",
    "if num == \"011\":\n",
    "    com = \"SKT\"\n",
    "elif num == \"016\":\n",
    "    com = \"KT\"\n",
    "elif num == \"019\":\n",
    "    com = \"LGU\"\n",
    "else:\n",
    "    com = \"알수없음\"\n",
    "    \n",
    "print(f\"당신은 {com} 사용자입니다.\")"
   ]
  },
  {
   "cell_type": "code",
   "execution_count": 373,
   "id": "8ca41c68-44ce-4025-bea3-0ad952b944fe",
   "metadata": {},
   "outputs": [],
   "source": [
    "# 126 우편번호는 5자리로 구성되는데, 앞의 세자리는 구를 나타낸다. 예를들어, 강북구의 경우 010, 011, 012 세 자리로 시작한다.\n",
    "\n",
    "    # -\t0\t1\t2\t3\t4\t5\t6\t7\t8\t9\n",
    "    # 01\t강북구\t강북구\t강북구\t도봉구\t도봉구\t도봉구\t노원구\t노원구\t노원구\t노원구\n",
    "\n",
    "    # 사용자로 부터 5자리 우편번호를 입력받고 구를 판별하라\n",
    "\n",
    "    # 우편번호: 01400\n",
    "    # 도봉구"
   ]
  },
  {
   "cell_type": "code",
   "execution_count": 377,
   "id": "3236bda2-1fad-4427-bb05-b2b6141ce70a",
   "metadata": {},
   "outputs": [
    {
     "name": "stdin",
     "output_type": "stream",
     "text": [
      "우편번호:  016\n"
     ]
    },
    {
     "name": "stdout",
     "output_type": "stream",
     "text": [
      "도봉구\n"
     ]
    }
   ],
   "source": [
    "우편번호 = input(\"우편번호: \")\n",
    "\n",
    "우편번호 = 우편번호[:3]\n",
    "\n",
    "if 우편번호 in [\"010\", \"011\", \"012\"]:\n",
    "    print(\"강북구\")\n",
    "elif 우편번호 in [\"014\", \"015\", \"016\"]:\n",
    "    print(\"도봉구\")\n",
    "else:\n",
    "    print(\"노원구\")"
   ]
  },
  {
   "cell_type": "code",
   "execution_count": 379,
   "id": "b47b56f1-4e0b-41e2-8574-ae45090afb23",
   "metadata": {},
   "outputs": [],
   "source": [
    "# 127 주민등록번호 뒷 자리 7자리 중 첫째 자리는 성별을 나타내는데, 1, 3은 남자 2, 4는 여자를 의미한다. 사용자로부터 13자리의 주민등록번호를 입력 받은 후 성별 (남자, 여자)를 출력하는 프로그램을 작성하라.\n",
    "\n",
    "    # 주민등록번호: 821010-1635210\n",
    "    # 남자"
   ]
  },
  {
   "cell_type": "code",
   "execution_count": 381,
   "id": "4dd8fe3e-ef70-4816-a104-6becad4321b8",
   "metadata": {},
   "outputs": [
    {
     "name": "stdin",
     "output_type": "stream",
     "text": [
      "주민등록번호:  970808-1123784\n"
     ]
    },
    {
     "name": "stdout",
     "output_type": "stream",
     "text": [
      "남자\n"
     ]
    }
   ],
   "source": [
    "주민번호 = input(\"주민등록번호: \")\n",
    "\n",
    "주민번호 = 주민번호.split(\"-\")[1]\n",
    "\n",
    "if 주민번호[0] == \"1\" or 주민번호[0] == \"3\":\n",
    "    print(\"남자\")\n",
    "else:\n",
    "    print(\"여자\")"
   ]
  },
  {
   "cell_type": "markdown",
   "id": "86e1748f-07d3-406d-b6d4-a4464b405070",
   "metadata": {},
   "source": [
    "> 128. 다시 풀기"
   ]
  },
  {
   "cell_type": "code",
   "execution_count": 383,
   "id": "c07acb03-6cd0-4e48-845f-3f6505766983",
   "metadata": {},
   "outputs": [],
   "source": [
    "# 128 주민등록번호의 뒷 자리 7자리 중 두번째와 세번째는 지역코드를 의미한다. 주민 등록 번호를 입력 받은 후 출생지가 서울인지 아닌지 판단하는 코드를 작성하라\n",
    "\n",
    "    # 지역코드\t출생지\n",
    "    # 00 ~ 08\t서울\n",
    "    # 09 ~ 12\t부산\n",
    "\n",
    "    # 주민등록번호: 821010-1635210\n",
    "    # 서울이 아닙니다.\n",
    "\n",
    "    # 주민등록번호: 861010-1015210\n",
    "    # 서울 입니다."
   ]
  },
  {
   "cell_type": "code",
   "execution_count": 385,
   "id": "38fd112f-ca3a-4461-ac50-ac26aa1db358",
   "metadata": {},
   "outputs": [
    {
     "name": "stdin",
     "output_type": "stream",
     "text": [
      "주민등록번호:  990000-2312334\n"
     ]
    },
    {
     "name": "stdout",
     "output_type": "stream",
     "text": [
      "서울이 아닙니다.\n"
     ]
    }
   ],
   "source": [
    "주민번호 = input(\"주민등록번호: \")\n",
    "\n",
    "출생지 = 주민번호.split(\"-\")[1]\n",
    "\n",
    "if 0 <= int(출생지[1:3]) <= 8:\n",
    "    print(\"서울입니다.\")\n",
    "else:\n",
    "    print(\"서울이 아닙니다.\")"
   ]
  },
  {
   "cell_type": "markdown",
   "id": "224d5d8b-4d98-404c-b496-7ca55cb9c458",
   "metadata": {},
   "source": [
    "> 129. 다시 풀기"
   ]
  },
  {
   "cell_type": "code",
   "execution_count": 390,
   "id": "656cd16e-84f3-4a3e-b703-4b86838a64c5",
   "metadata": {},
   "outputs": [],
   "source": [
    "# 129 주민등록번호는 13자리로 구성되는데 마지막 자리수는 주민등록번호의 유효성을 체크하는데 사용된다. 먼저 앞에서부터 12자리의 숫자에 2, 3, 4, 5, 6, 7, 8, 9, 2, 3, 4, 5를 차례로 곱한 뒤 그 값을 전부 더한다. 연산 결과 값을 11로 나누면 나머지가 나오는데 11에서 나머지를 뺀 값이 주민등록번호의 마지막 번호가 된다.\n",
    "\n",
    "    #   8 2 1 0 1 0 - 1 6 3 5 2 1 0\n",
    "    # x 2 3 4 5 6 7   8 9 2 3 4 5 \n",
    "    # -----------------------------\n",
    "    # 1차 계산: (8*2 + 2*3 + 1*4 + 0*5 + 1*6 + 0*7 + 1*8 + 6*9 + 3*2 + 5*3 + 2*4 + 1*5) = (128 % 11) = 7\n",
    "    # 2차 계산: 11 -7 = 4\n",
    "\n",
    "# 위와 같이 821010-1635210에 대해서 계산을 해보면 마지막 자리는 4가 되어야 함을 알 수 있다. 즉, 821010-1635210은 유효하지 않은 주민등록번호임을 알 수 있다.\n",
    "# 다음과 같이 사용자로부터 주민등록번호를 입력받은 후 주민등록번호가 유효한지를 출력하는 프로그램을 작성하라.\n",
    "\n",
    "    # 주민등록번호: 821010-1635210\n",
    "    # 유효하지 않은 주민등록번호입니다. "
   ]
  },
  {
   "cell_type": "markdown",
   "id": "c7146ac2-dc88-4aef-9201-d4e77fa35b1c",
   "metadata": {},
   "source": [
    "num = int(input(\"주민등록번호: \"))\n",
    "\n",
    "계산1 = num[0] * 2 + num[1] * 3 + num[2] * 4 + num[3] * 5 + num[4] * 6 + \\\n",
    "        num[5] * 7 + num[7] * 8 + num[8] * 9 + num[9] * 2 + num[10]* 3 + \\\n",
    "        num[11]* 4 + num[12] * 5\n",
    "계산2 = 11 - (계산1 % 11)\n",
    "계산3 = str(계산2)\n",
    "\n",
    "if num[-1] == 계산3[-1]:\n",
    "    print(\"유효한 주민등록번호입니다.\")\n",
    "else:\n",
    "    print(\"유효하지 않은 주민등록번호입니다.\")"
   ]
  },
  {
   "cell_type": "code",
   "execution_count": 405,
   "id": "c2a0b60c-88da-4488-a549-aa7d4f7f8f94",
   "metadata": {},
   "outputs": [],
   "source": [
    "# 130 아래 코드는 비트코인의 가격 정보를 딕셔너리로 가져오는 코드이다.\n",
    "\n",
    "    # import requests\n",
    "    # btc = requests.get(\"https://api.bithumb.com/public/ticker/\").json()['data']\n",
    "    # btc 딕셔너리 안에는 시가, 종가, 최고가, 최저가 등이 저장되어 있다. 최고가와 최저가의 차이를 변동폭으로 정의할 때 (시가 + 변동폭)이 최고가 보다 높을 경우 \"상승장\", 그렇지 않은 경우 \"하락장\" 문자열을 출력하라.\n",
    "\n",
    "    # Key Name\tDescription\n",
    "    # opening_price\t최근 24시간 내 시작 거래금액\n",
    "    # closing_price\t최근 24시간 내 마지막 거래금액\n",
    "    # min_price\t최근 24시간 내 최저 거래금액\n",
    "    # max_price\t최근 24시간 내 최고 거래금액"
   ]
  },
  {
   "cell_type": "code",
   "execution_count": 411,
   "id": "af39bfea-f71a-4411-8cf7-a236ff46f083",
   "metadata": {},
   "outputs": [
    {
     "name": "stdout",
     "output_type": "stream",
     "text": [
      "상승장\n"
     ]
    }
   ],
   "source": [
    "import requests\n",
    "btc = requests.get(\"https://api.bithumb.com/public/ticker/\").json()['data']\n",
    "\n",
    "변동폭 = float(btc['max_price']) - float(btc['min_price'])\n",
    "시가 = float(btc['opening_price'])\n",
    "최고가 = float(btc['max_price'])\n",
    "\n",
    "if (시가+변동폭) > 최고가:\n",
    "    print(\"상승장\")\n",
    "else:\n",
    "    print(\"하락장\")"
   ]
  },
  {
   "cell_type": "markdown",
   "id": "462ff4b5-0044-4408-a5bc-0482c2a4b93d",
   "metadata": {},
   "source": [
    "## * 131-200 : 반복문 - for\n",
    "    - 들여쓰기된 코드가 자료구조의 데이터 개수만큼 반복된다는 사실이 중요\n",
    "    - 변하는 값은 for문의 자료구조 자리에, 변하지 않는 코드는 들여쓰기 후에 작성"
   ]
  },
  {
   "cell_type": "code",
   "execution_count": 416,
   "id": "3c77366a-395a-454d-9512-d23b74e1fdd9",
   "metadata": {},
   "outputs": [
    {
     "name": "stdout",
     "output_type": "stream",
     "text": [
      "사과\n",
      "귤\n",
      "수박\n"
     ]
    }
   ],
   "source": [
    "# 131 for문의 실행결과를 예측하라.\n",
    "\n",
    "과일 = [\"사과\", \"귤\", \"수박\"]\n",
    "for 변수 in 과일:\n",
    "    print(변수)"
   ]
  },
  {
   "cell_type": "code",
   "execution_count": 418,
   "id": "26962cf2-b35e-4bd4-8b73-65d164b75777",
   "metadata": {},
   "outputs": [
    {
     "name": "stdout",
     "output_type": "stream",
     "text": [
      "#####\n",
      "#####\n",
      "#####\n"
     ]
    }
   ],
   "source": [
    "# 132 for문의 실행결과를 예측하라.\n",
    "\n",
    "과일 = [\"사과\", \"귤\", \"수박\"]\n",
    "for 변수 in 과일:\n",
    "  print(\"#####\")"
   ]
  },
  {
   "cell_type": "code",
   "execution_count": 422,
   "id": "68ae8245-7cd3-4504-964f-332c09b558f0",
   "metadata": {},
   "outputs": [
    {
     "name": "stdout",
     "output_type": "stream",
     "text": [
      "A\n",
      "B\n",
      "C\n"
     ]
    }
   ],
   "source": [
    "# 133 다음 for 문과 동일한 기능을 수행하는 코드를 작성하세요.\n",
    "\n",
    "for 변수 in [\"A\", \"B\", \"C\"]:\n",
    "  print(변수)\n",
    "\n",
    "    # 파이썬 인터프리터가 어떤 순서로 코드를 실행하는지를 떠올려 보세요. \"변수 바인딩(라인 1) -> 변수 출력 (라인 2)\" 과정을 자료구조 데이터 개수 만큼 반복합니다."
   ]
  },
  {
   "cell_type": "code",
   "execution_count": 428,
   "id": "a8f2153a-f6bf-46d1-951b-a6719755ce36",
   "metadata": {},
   "outputs": [
    {
     "name": "stdout",
     "output_type": "stream",
     "text": [
      "A\n",
      "B\n",
      "C\n"
     ]
    }
   ],
   "source": [
    "변수 = \"A\"\n",
    "print(변수)\n",
    "변수 = \"B\"\n",
    "print(변수)\n",
    "변수 = \"C\"\n",
    "print(변수)"
   ]
  },
  {
   "cell_type": "code",
   "execution_count": 432,
   "id": "0def2582-c7e5-4570-ac3f-399e29318f47",
   "metadata": {},
   "outputs": [
    {
     "name": "stdout",
     "output_type": "stream",
     "text": [
      "A\n",
      "B\n",
      "C\n"
     ]
    }
   ],
   "source": [
    "# 간단해서 변수의 바인딩없이 다음과 같이 코드를 작성해도 됩니다. 모두 동일한 결과를 출력합니다.\n",
    "print(\"A\")\n",
    "print(\"B\")\n",
    "print(\"C\")"
   ]
  },
  {
   "cell_type": "code",
   "execution_count": 434,
   "id": "608dce22-f818-4e3f-a9af-7098d1d63d9f",
   "metadata": {},
   "outputs": [
    {
     "name": "stdout",
     "output_type": "stream",
     "text": [
      "출력: A\n",
      "출력: B\n",
      "출력: C\n"
     ]
    }
   ],
   "source": [
    "# 134 for문을 풀어서 동일한 동작을하는 코드를 작성하라.\n",
    "\n",
    "for 변수 in [\"A\", \"B\", \"C\"]:\n",
    "  print(\"출력:\", 변수)"
   ]
  },
  {
   "cell_type": "code",
   "execution_count": 436,
   "id": "0f0ca454-a0eb-423e-97a0-9ad04f0fb64b",
   "metadata": {},
   "outputs": [
    {
     "name": "stdout",
     "output_type": "stream",
     "text": [
      "출력: A\n",
      "출력: B\n",
      "출력: C\n",
      "출력: A\n",
      "출력: B\n",
      "출력: C\n"
     ]
    }
   ],
   "source": [
    "변수 = \"A\"\n",
    "print(\"출력:\", 변수)\n",
    "변수 = \"B\"\n",
    "print(\"출력:\", 변수)\n",
    "변수 = \"C\"\n",
    "print(\"출력:\", 변수)\n",
    "\n",
    "print(\"출력:\", \"A\")\n",
    "print(\"출력:\", \"B\")\n",
    "print(\"출력:\", \"C\")"
   ]
  },
  {
   "cell_type": "code",
   "execution_count": 438,
   "id": "21dc3f5f-66ed-4758-8307-d4956e7cd05b",
   "metadata": {},
   "outputs": [
    {
     "name": "stdout",
     "output_type": "stream",
     "text": [
      "변환: a\n",
      "변환: b\n",
      "변환: c\n"
     ]
    }
   ],
   "source": [
    "# 135 for문을 풀어서 동일한 동작을 하는 코드를 작성하라.\n",
    "\n",
    "for 변수 in [\"A\", \"B\", \"C\"]:\n",
    "  b = 변수.lower()\n",
    "  print(\"변환:\", b)"
   ]
  },
  {
   "cell_type": "code",
   "execution_count": 446,
   "id": "c35c74fe-bd57-4be2-bc51-f06d5038c0bc",
   "metadata": {},
   "outputs": [
    {
     "name": "stdout",
     "output_type": "stream",
     "text": [
      "변환: a\n",
      "변환: b\n",
      "변환: c\n"
     ]
    }
   ],
   "source": [
    "    # 라인1의 for문이 실행되면 변수에 첫 번재 데이터를 바인딩.\n",
    "    # 그리고 들여쓰기된 라인 2의 코드를 실행.\n",
    "    # 라인 1로 이동해서 변수에 두 번재 데이터를 바인딩.\n",
    "    # 그리고 들여쓰기된 코드를 실행.\n",
    "    # 변수 \"C\"를 바인딩하고 출력.\n",
    "\n",
    "변수 = \"A\"\n",
    "b = 변수.lower()\n",
    "print(\"변환:\", b)\n",
    "\n",
    "변수 = \"B\"\n",
    "b = 변수.lower()\n",
    "print(\"변환:\", b)\n",
    "\n",
    "변수 = \"C\"\n",
    "b = 변수.lower()\n",
    "print(\"변환:\", b)"
   ]
  },
  {
   "cell_type": "code",
   "execution_count": 448,
   "id": "0595d5df-d555-47c2-91da-d03087552343",
   "metadata": {},
   "outputs": [
    {
     "name": "stdout",
     "output_type": "stream",
     "text": [
      "10\n",
      "20\n",
      "30\n"
     ]
    }
   ],
   "source": [
    "# 136 다음 코드를 for문으로 작성하라.\n",
    "\n",
    "변수 = 10\n",
    "print(변수)\n",
    "변수 = 20\n",
    "print(변수)\n",
    "변수 = 30\n",
    "print(변수)"
   ]
  },
  {
   "cell_type": "code",
   "execution_count": 451,
   "id": "23e2870a-c665-470b-826b-bcb57d925a96",
   "metadata": {},
   "outputs": [
    {
     "name": "stdout",
     "output_type": "stream",
     "text": [
      "10\n",
      "20\n",
      "30\n"
     ]
    }
   ],
   "source": [
    "for 변수 in [10, 20, 30]:\n",
    "  print(변수)"
   ]
  },
  {
   "cell_type": "code",
   "execution_count": 453,
   "id": "841afe0b-1b72-4b40-b8ef-47813d3857c1",
   "metadata": {},
   "outputs": [
    {
     "name": "stdout",
     "output_type": "stream",
     "text": [
      "10\n",
      "20\n",
      "30\n"
     ]
    }
   ],
   "source": [
    "    # 리스트 변수에 데이터를 바인딩하고, 변수를 for문의 자료구조 자리에 넣어줘도 됨.\n",
    "\n",
    "리스트 = [10, 20, 30]\n",
    "for 변수 in 리스트:\n",
    "  print(변수)"
   ]
  },
  {
   "cell_type": "code",
   "execution_count": 455,
   "id": "fe8478a2-46d7-4a27-a75b-0db2da027416",
   "metadata": {},
   "outputs": [
    {
     "name": "stdout",
     "output_type": "stream",
     "text": [
      "10\n",
      "20\n",
      "30\n"
     ]
    }
   ],
   "source": [
    "# 137 다음 코드를 for문으로 작성하라.\n",
    "\n",
    "print(10)\n",
    "print(20)\n",
    "print(30)"
   ]
  },
  {
   "cell_type": "code",
   "execution_count": 457,
   "id": "6474b90a-a8ea-46ff-8448-8b80b8db57de",
   "metadata": {},
   "outputs": [
    {
     "name": "stdout",
     "output_type": "stream",
     "text": [
      "10\n",
      "20\n",
      "30\n"
     ]
    }
   ],
   "source": [
    "for 변수 in [10, 20, 30]:\n",
    "  print(변수)"
   ]
  },
  {
   "cell_type": "code",
   "execution_count": 459,
   "id": "ee86d935-84e1-4175-af87-a621f8622b5f",
   "metadata": {},
   "outputs": [
    {
     "name": "stdout",
     "output_type": "stream",
     "text": [
      "10\n",
      "-------\n",
      "20\n",
      "-------\n",
      "30\n",
      "-------\n"
     ]
    }
   ],
   "source": [
    "# 138 다음 코드를 for문으로 작성하라.\n",
    "\n",
    "print(10)\n",
    "print(\"-------\")\n",
    "print(20)\n",
    "print(\"-------\")\n",
    "print(30)\n",
    "print(\"-------\")"
   ]
  },
  {
   "cell_type": "code",
   "execution_count": 465,
   "id": "cba86614-87f9-4c37-a4eb-17b0d6cfa8bf",
   "metadata": {},
   "outputs": [
    {
     "name": "stdout",
     "output_type": "stream",
     "text": [
      "10\n",
      "-------\n",
      "20\n",
      "-------\n",
      "30\n",
      "-------\n"
     ]
    }
   ],
   "source": [
    "    # 변하는 부분은 for문과 함께 리스트 처리.\n",
    "    # 불변 코드는 들여쓰기와 함께 기재.\n",
    "\n",
    "for 변수 in [10, 20, 30]:\n",
    "  print(변수)\n",
    "  print(\"-------\")"
   ]
  },
  {
   "cell_type": "code",
   "execution_count": 467,
   "id": "48d0c663-f7b9-4123-9c18-42d810ffd283",
   "metadata": {},
   "outputs": [
    {
     "name": "stdout",
     "output_type": "stream",
     "text": [
      "++++\n",
      "10\n",
      "20\n",
      "30\n"
     ]
    }
   ],
   "source": [
    "# 139 다음 코드를 for문으로 작성하라.\n",
    "\n",
    "print(\"++++\")\n",
    "print(10)\n",
    "print(20)\n",
    "print(30)"
   ]
  },
  {
   "cell_type": "markdown",
   "id": "3d3bebc9-d308-4278-a089-525f23f4cf9f",
   "metadata": {},
   "source": [
    "> 139. 다시 보기"
   ]
  },
  {
   "cell_type": "code",
   "execution_count": 469,
   "id": "0f84c528-3cdc-4bd0-b10a-f4570b06fab0",
   "metadata": {},
   "outputs": [
    {
     "name": "stdout",
     "output_type": "stream",
     "text": [
      "++++\n",
      "10\n",
      "20\n",
      "30\n"
     ]
    }
   ],
   "source": [
    "    # `print(\"++++\")` 코드 함정.\n",
    "    # for문은 반복되는 코드에만 사용.\n",
    "\n",
    "print(\"++++\")\n",
    "\n",
    "for 변수 in [10, 20, 30]:\n",
    "  print(변수)"
   ]
  },
  {
   "cell_type": "code",
   "execution_count": 478,
   "id": "62197513-ebc3-4bf1-8be9-8e752d4e3c21",
   "metadata": {},
   "outputs": [
    {
     "name": "stdout",
     "output_type": "stream",
     "text": [
      "-------\n",
      "-------\n",
      "-------\n",
      "-------\n"
     ]
    }
   ],
   "source": [
    "# 140 다음 코드를 for문으로 작성하라.\n",
    "\n",
    "print(\"-------\")\n",
    "print(\"-------\")\n",
    "print(\"-------\")\n",
    "print(\"-------\")"
   ]
  },
  {
   "cell_type": "code",
   "execution_count": 480,
   "id": "ad5f2431-dec5-4029-b28a-3096174f53c2",
   "metadata": {},
   "outputs": [
    {
     "name": "stdout",
     "output_type": "stream",
     "text": [
      "-------\n",
      "-------\n",
      "-------\n",
      "-------\n"
     ]
    }
   ],
   "source": [
    "    # \\for문은 들여쓰기된 코드가 자료구조의 데이터 개수만큼 반복된다\n",
    "    # 자료구조자리에 데이터가 4개저장된 리스트가 들어가면 들여쓰기된 코드가 4번 실행됨\n",
    "\n",
    "for 변수 in [\"가\", \"나\", \"다\", \"라\"]:\n",
    "  print(\"-------\")"
   ]
  },
  {
   "cell_type": "code",
   "execution_count": 482,
   "id": "fdbf8014-aa48-499f-8632-d7963928e0dc",
   "metadata": {},
   "outputs": [
    {
     "name": "stdout",
     "output_type": "stream",
     "text": [
      "-------\n",
      "-------\n",
      "-------\n",
      "-------\n"
     ]
    }
   ],
   "source": [
    "for 변수 in [1, 2, 3, 4]:\n",
    "  print(\"-------\")"
   ]
  },
  {
   "cell_type": "code",
   "execution_count": 497,
   "id": "ec34b0f5-2ba2-4cd2-8406-68b1b53eaf48",
   "metadata": {},
   "outputs": [
    {
     "name": "stdout",
     "output_type": "stream",
     "text": [
      "110\n",
      "210\n",
      "310\n"
     ]
    }
   ],
   "source": [
    "# 141 다음과 같이 판매가가 저장된 리스트가 있을 때 부가세가 포함된 가격을 for 문을 사용해서 화면에 출력하라. 단 부가세는 10원으로 가정한다.\n",
    "\n",
    "    # 리스트 = [100, 200, 300]\n",
    "    # 110\n",
    "    # 210\n",
    "    # 310\n",
    "\n",
    "리스트 = [100, 200, 300]\n",
    "for 변수 in 리스트:\n",
    "  print(변수 + 10)"
   ]
  },
  {
   "cell_type": "code",
   "execution_count": 501,
   "id": "7066ac1f-2a1b-4a7d-bb69-32468b493eee",
   "metadata": {},
   "outputs": [],
   "source": [
    "# 142 for 문을 사용해서 리스트에 저장된 값을 다음과 같이 출력하라.\n",
    "\n",
    "    # 리스트 = [\"김밥\", \"라면\", \"튀김\"]\n",
    "    # 오늘의 메뉴: 김밥\n",
    "    # 오늘의 메뉴: 라면\n",
    "    # 오늘의 메뉴: 튀김"
   ]
  },
  {
   "cell_type": "code",
   "execution_count": 505,
   "id": "70db23b0-7e30-4b73-bb30-bbe40d0e9856",
   "metadata": {},
   "outputs": [
    {
     "name": "stdout",
     "output_type": "stream",
     "text": [
      "오늘의 메뉴: 김밥\n",
      "오늘의 메뉴: 라면\n",
      "오늘의 메뉴: 튀김\n"
     ]
    }
   ],
   "source": [
    "리스트 = [\"김밥\", \"라면\", \"튀김\"]\n",
    "\n",
    "for 메뉴 in 리스트:\n",
    "  print(\"오늘의 메뉴: \" + 메뉴)"
   ]
  },
  {
   "cell_type": "code",
   "execution_count": 509,
   "id": "2f03fae6-90a3-4ffe-8e31-7de163297af1",
   "metadata": {},
   "outputs": [
    {
     "name": "stdout",
     "output_type": "stream",
     "text": [
      "오늘의 메뉴: 김밥\n",
      "오늘의 메뉴: 라면\n",
      "오늘의 메뉴: 튀김\n"
     ]
    }
   ],
   "source": [
    "리스트 = [\"김밥\", \"라면\", \"튀김\"]\n",
    "for 메뉴 in 리스트:\n",
    "  print(\"오늘의 메뉴:\", 메뉴)"
   ]
  },
  {
   "cell_type": "code",
   "execution_count": 523,
   "id": "e761c3eb-9f8a-480b-8b97-30d4acf82532",
   "metadata": {},
   "outputs": [
    {
     "name": "stdout",
     "output_type": "stream",
     "text": [
      "6\n",
      "4\n",
      "4\n"
     ]
    }
   ],
   "source": [
    "# 143 리스트에 주식 종목이름이 저장돼 있다.\n",
    "    # 저장된 문자열의 길이를 다음과 같이 출력하라.\n",
    "        # 6\n",
    "        # 4\n",
    "        # 4\n",
    "\n",
    "리스트 = [\"SK하이닉스\", \"삼성전자\", \"LG전자\"]\n",
    "\n",
    "for 종목명 in 리스트:\n",
    "  print(len(종목명))"
   ]
  },
  {
   "cell_type": "code",
   "execution_count": 525,
   "id": "2df1fa0b-638c-46dc-8f75-92d225167318",
   "metadata": {},
   "outputs": [
    {
     "name": "stdout",
     "output_type": "stream",
     "text": [
      "dog 3\n",
      "cat 3\n",
      "parrot 6\n"
     ]
    }
   ],
   "source": [
    "# 144 리스트에는 동물이름이 문자열로 저장돼 있다.\n",
    "    # 동물 이름과 글자수를 다음과 같이 출력하라.\n",
    "        # dog 3\n",
    "        # cat 3\n",
    "        # parrot 6\n",
    "\n",
    "리스트 = ['dog', 'cat', 'parrot']\n",
    "\n",
    "for 이름 in 리스트:\n",
    "  print(이름, len(이름))"
   ]
  },
  {
   "cell_type": "code",
   "execution_count": 527,
   "id": "a0a4a8a0-22c4-4292-9f4c-232d4fdf9ec3",
   "metadata": {},
   "outputs": [
    {
     "name": "stdout",
     "output_type": "stream",
     "text": [
      "d\n",
      "c\n",
      "p\n"
     ]
    }
   ],
   "source": [
    "# 145 리스트에 동물 이름 저장돼 있다. for문을 사용해서 동물 이름의 첫 글자만 출력하라.\n",
    "\n",
    "리스트 = ['dog', 'cat', 'parrot']\n",
    "\n",
    "for 이름 in 리스트:\n",
    "  print(이름[0])"
   ]
  },
  {
   "cell_type": "markdown",
   "id": "af04e358-6bbf-402a-af97-126a194fc98f",
   "metadata": {},
   "source": [
    "> 146. 다시 보기"
   ]
  },
  {
   "cell_type": "code",
   "execution_count": 529,
   "id": "38dc148b-9be8-4730-bbbd-b3a69434dccb",
   "metadata": {},
   "outputs": [],
   "source": [
    "# 146 리스트에는 세 개의 숫자가 바인딩돼 있다.\n",
    "리스트 = [1, 2, 3]\n",
    "\n",
    "    # for문을 사용해서 다음과 같이 출력하라.\n",
    "        # 3 x 1\n",
    "        # 3 x 2\n",
    "        # 3 x 3"
   ]
  },
  {
   "cell_type": "code",
   "execution_count": 533,
   "id": "319646b5-425a-428f-9064-6271b629246e",
   "metadata": {},
   "outputs": [
    {
     "name": "stdout",
     "output_type": "stream",
     "text": [
      "3 x 1\n",
      "3 x 2\n",
      "3 x 3\n"
     ]
    }
   ],
   "source": [
    "    # \"3 x \" 문자열과 숫자를 이어붙여 출력.\n",
    "    # 다만 변수에 바인딩된 값이 숫자이기 때문에 문자로 변환 후에 문자열 연산 사용 가능.\n",
    "\n",
    "리스트 = [1, 2, 3]\n",
    "\n",
    "for 변수 in 리스트:\n",
    "  print(\"3 x \" + str(변수))"
   ]
  },
  {
   "cell_type": "code",
   "execution_count": 537,
   "id": "4c544ab3-93f1-4f15-bf72-31f2eba2db41",
   "metadata": {},
   "outputs": [
    {
     "name": "stdout",
     "output_type": "stream",
     "text": [
      "3 x 1\n",
      "3 x 2\n",
      "3 x 3\n"
     ]
    }
   ],
   "source": [
    "for 변수 in 리스트:\n",
    "  print(\"3 x\", 변수)"
   ]
  },
  {
   "cell_type": "code",
   "execution_count": 540,
   "id": "5358d08c-3a8f-4a27-9dbd-2ffc65a34b3f",
   "metadata": {},
   "outputs": [],
   "source": [
    "# 147 리스트에는 세 개의 숫자가 바인딩돼 있다.\n",
    "리스트 = [1, 2, 3]\n",
    "\n",
    "    # for문을 사용해서 다음과 같이 출력하라.\n",
    "        # 3 x 1 = 3\n",
    "        # 3 x 2 = 6\n",
    "        # 3 x 3 = 9"
   ]
  },
  {
   "cell_type": "code",
   "execution_count": 542,
   "id": "57419dda-9767-4b0f-832f-8e31558d66d5",
   "metadata": {},
   "outputs": [
    {
     "name": "stdout",
     "output_type": "stream",
     "text": [
      "3 x  1 = 3\n",
      "3 x  2 = 6\n",
      "3 x  3 = 9\n"
     ]
    }
   ],
   "source": [
    "for 변수 in 리스트:\n",
    "  print(\"3 x \", 변수, \"=\", 3 * 변수)"
   ]
  },
  {
   "cell_type": "code",
   "execution_count": 544,
   "id": "21e98856-749f-4ec6-8566-3b7ac88d1674",
   "metadata": {},
   "outputs": [
    {
     "name": "stdout",
     "output_type": "stream",
     "text": [
      "3 x 1 = 3\n",
      "3 x 2 = 6\n",
      "3 x 3 = 9\n"
     ]
    }
   ],
   "source": [
    "for 변수 in 리스트:\n",
    "  print(\"3 x {} = {}\".format(변수, 3 * 변수))"
   ]
  },
  {
   "cell_type": "code",
   "execution_count": 552,
   "id": "570b6a57-568e-4ec2-8d70-719e341e2aea",
   "metadata": {},
   "outputs": [
    {
     "name": "stdout",
     "output_type": "stream",
     "text": [
      "나\n",
      "다\n",
      "라\n"
     ]
    }
   ],
   "source": [
    "# 148 리스트에는 네 개의 문자열이 바인딩돼 있다.\n",
    "리스트 = [\"가\", \"나\", \"다\", \"라\"]\n",
    "\n",
    "    # for문을 사용해서 다음과 같이 출력하라.\n",
    "        # 나\n",
    "        # 다\n",
    "        # 라\n",
    "\n",
    "for 변수 in 리스트[1:]:\n",
    "  print(변수)"
   ]
  },
  {
   "cell_type": "markdown",
   "id": "a5218eac-62c2-412b-9fb0-00024ec0371c",
   "metadata": {},
   "source": [
    "> 149. 다시 보기"
   ]
  },
  {
   "cell_type": "code",
   "execution_count": 554,
   "id": "be15dea3-444a-4c44-8dfd-1d4677d4272c",
   "metadata": {},
   "outputs": [],
   "source": [
    "# 149 리스트에는 네 개의 문자열이 바인딩돼 있다.\n",
    "리스트 = [\"가\", \"나\", \"다\", \"라\"]\n",
    "\n",
    "    # for문을 사용해서 다음과 같이 출력하라.\n",
    "        # 가\n",
    "        # 다"
   ]
  },
  {
   "cell_type": "code",
   "execution_count": 568,
   "id": "e221943b-931d-4b25-8065-efc9b3b4f1cd",
   "metadata": {},
   "outputs": [
    {
     "name": "stdout",
     "output_type": "stream",
     "text": [
      "가\n",
      "다\n"
     ]
    }
   ],
   "source": [
    "    # 리스트 슬라이싱에서 `[시작:끝:증감폭] ` 세번째 값은 값을 가져오는 단위를 의미했습니다. 증감폭을 2로 설정해서 \"가\"와 \"다\" 값만 슬라이싱합니다.\n",
    "\n",
    "for 변수 in 리스트[: :2]:\n",
    "  print(변수)"
   ]
  },
  {
   "cell_type": "markdown",
   "id": "7f81f16f-3f99-497d-8752-1552bb4c3991",
   "metadata": {},
   "source": [
    "> 150. 다시 보기"
   ]
  },
  {
   "cell_type": "code",
   "execution_count": 579,
   "id": "c41edef6-976f-4184-a7bb-b654b8bbc090",
   "metadata": {},
   "outputs": [
    {
     "name": "stdout",
     "output_type": "stream",
     "text": [
      "라\n",
      "다\n",
      "나\n",
      "가\n"
     ]
    }
   ],
   "source": [
    "# 150 리스트에는 네 개의 문자열이 바인딩돼 있다.\n",
    "리스트 = [\"가\", \"나\", \"다\", \"라\"]\n",
    "    \n",
    "    # for문을 사용해서 다음과 같이 출력하라.\n",
    "        # 라\n",
    "        # 다\n",
    "        # 나\n",
    "        # 가\n",
    "\n",
    "for 변수 in 리스트[: :-1]:\n",
    "  print(변수)"
   ]
  },
  {
   "cell_type": "code",
   "execution_count": 588,
   "id": "7458882c-899f-4843-876a-0b90af62c25a",
   "metadata": {},
   "outputs": [
    {
     "name": "stdout",
     "output_type": "stream",
     "text": [
      "-20\n",
      "-3\n"
     ]
    }
   ],
   "source": [
    "# 151 리스트에는 네 개의 정수가 저장돼 있다.\n",
    "리스트 = [3, -20, -3, 44]\n",
    "    \n",
    "    # for문을 사용해서 리스트의 음수를 출력하라.\n",
    "        # -20\n",
    "        # -3\n",
    "\n",
    "for 변수 in 리스트:\n",
    "  if 변수 < 0:\n",
    "    print(변수)"
   ]
  },
  {
   "cell_type": "markdown",
   "id": "28c1c4bf-7ec5-4964-b3d0-446b6223b339",
   "metadata": {},
   "source": [
    "> 152. 다시 보기"
   ]
  },
  {
   "cell_type": "code",
   "execution_count": 590,
   "id": "bb7757b9-6f5d-4163-a08a-1315b7ebd906",
   "metadata": {},
   "outputs": [
    {
     "name": "stdout",
     "output_type": "stream",
     "text": [
      "3\n"
     ]
    }
   ],
   "source": [
    "# 152 for문을 사용해서 3의 배수만을 출력하라.\n",
    "\n",
    "리스트 = [3, 100, 23, 44]\n",
    "\n",
    "for 변수 in 리스트:\n",
    "  if 변수 % 3 == 0:\n",
    "    print(변수)\n",
    "\n",
    "    # 3의 배수는 3으로 나눈 나머지가 0이면 3의 배수입니다.\n",
    "    # 변수 % 3`은 변수를 3으로 나눈 나머지를 의미"
   ]
  },
  {
   "cell_type": "markdown",
   "id": "7849a859-0c95-4459-ac3f-0cf004b4d8c9",
   "metadata": {},
   "source": [
    "> 153. 다시 보기"
   ]
  },
  {
   "cell_type": "code",
   "execution_count": 597,
   "id": "b4b9b958-0b46-4364-b57c-654499cfea26",
   "metadata": {},
   "outputs": [
    {
     "name": "stdout",
     "output_type": "stream",
     "text": [
      "12\n",
      "18\n"
     ]
    }
   ],
   "source": [
    "# 153 리스트에서 20 보다 작은 3의 배수를 출력하라 : 12, 18\n",
    "\n",
    "리스트 = [13, 21, 12, 14, 30, 18]\n",
    "\n",
    "for 변수 in 리스트:\n",
    "  if (변수 < 20) and (변수 % 3 == 0):\n",
    "    print(변수)"
   ]
  },
  {
   "cell_type": "code",
   "execution_count": 602,
   "id": "3d5b206b-2f26-4aa5-9a5d-26a6d26733e2",
   "metadata": {},
   "outputs": [
    {
     "name": "stdout",
     "output_type": "stream",
     "text": [
      "study\n",
      "python\n",
      "language\n"
     ]
    }
   ],
   "source": [
    "# 154 리스트에서 세 글자 이상의 문자를 화면에 출력하라\n",
    "\n",
    "리스트 = [\"I\", \"study\", \"python\", \"language\", \"!\"]\n",
    "\n",
    "for 변수 in 리스트:\n",
    "  if len(변수) >= 3:\n",
    "    print(변수)"
   ]
  },
  {
   "cell_type": "code",
   "execution_count": 610,
   "id": "4829403c-2f60-466a-a83f-8a0262a9eb47",
   "metadata": {},
   "outputs": [
    {
     "name": "stdout",
     "output_type": "stream",
     "text": [
      "A\n",
      "D\n"
     ]
    }
   ],
   "source": [
    "# 155 리스트에서 대문자만 화면에 출력하라.\n",
    "    # (참고) isupper() 메서드는 대문자 여부를 판별합니다.\n",
    "\n",
    "리스트 = [\"A\", \"b\", \"c\", \"D\"]\n",
    "\n",
    "for 변수 in 리스트:\n",
    "  if 변수.isupper():\n",
    "    print(변수)"
   ]
  },
  {
   "cell_type": "code",
   "execution_count": 616,
   "id": "27ca8230-340e-42f5-861a-daa11a355020",
   "metadata": {},
   "outputs": [
    {
     "name": "stdout",
     "output_type": "stream",
     "text": [
      "b\n",
      "c\n"
     ]
    }
   ],
   "source": [
    "# 156 리스트에서 소문자만 화면에 출력하라.\n",
    "\n",
    "리스트 = [\"A\", \"b\", \"c\", \"D\"]\n",
    "\n",
    "for 변수 in 리스트:\n",
    "  if 변수.isupper() == False:\n",
    "    print(변수)"
   ]
  },
  {
   "cell_type": "code",
   "execution_count": 620,
   "id": "e2f990df-2694-4a1b-8c7c-36b37b16a05e",
   "metadata": {},
   "outputs": [
    {
     "name": "stdout",
     "output_type": "stream",
     "text": [
      "b\n",
      "c\n"
     ]
    }
   ],
   "source": [
    "for 변수 in 리스트:\n",
    "  if 변수.isupper() != True:\n",
    "    print(변수)"
   ]
  },
  {
   "cell_type": "code",
   "execution_count": 626,
   "id": "3f7e7a82-560a-40a4-a123-537ce28e8e7b",
   "metadata": {},
   "outputs": [
    {
     "name": "stdout",
     "output_type": "stream",
     "text": [
      "b\n",
      "c\n"
     ]
    }
   ],
   "source": [
    "for 변수 in 리스트:\n",
    "  if not 변수.isupper():\n",
    "    print(변수)"
   ]
  },
  {
   "cell_type": "markdown",
   "id": "697b9926-1429-4772-b150-7af1503e4e72",
   "metadata": {},
   "source": [
    "> 157. 다시 보기"
   ]
  },
  {
   "cell_type": "code",
   "execution_count": 632,
   "id": "f45b352e-0672-4331-848d-785df5c167ae",
   "metadata": {},
   "outputs": [
    {
     "name": "stdout",
     "output_type": "stream",
     "text": [
      "Dog\n",
      "Cat\n",
      "Parrot\n"
     ]
    }
   ],
   "source": [
    "# 157 이름의 첫 글자를 대문자로 변경해서 출력하라.\n",
    "    # (참고) upper() 메서드는 문자열을 대문자로 변경합니다.\n",
    "\n",
    "리스트 = ['dog', 'cat', 'parrot']\n",
    "\n",
    "for 변수 in 리스트:\n",
    "  print(변수[0].upper() + 변수[1:])"
   ]
  },
  {
   "cell_type": "code",
   "execution_count": 639,
   "id": "5a1ff490-95be-419a-9e40-65d7e310bbbd",
   "metadata": {},
   "outputs": [
    {
     "name": "stdout",
     "output_type": "stream",
     "text": [
      "hello\n",
      "ex01\n",
      "intro\n"
     ]
    }
   ],
   "source": [
    "# 158 파일 이름이 저장된 리스트에서 확장자를 제거하고 파일 이름만 화면에 출력하라. (힌트: split() 메서드)\n",
    "\n",
    "리스트 = ['hello.py', 'ex01.py', 'intro.hwp']\n",
    "\n",
    "for 변수 in 리스트:\n",
    "  split = 변수.split(\".\")\n",
    "  print(split[0])"
   ]
  },
  {
   "cell_type": "code",
   "execution_count": 643,
   "id": "87774e8a-db18-48f7-ac2a-3491fd781a98",
   "metadata": {},
   "outputs": [
    {
     "name": "stdout",
     "output_type": "stream",
     "text": [
      "intra.h\n",
      "define.h\n"
     ]
    }
   ],
   "source": [
    "# 159 파일 이름이 저장된 리스트에서 확장자가 .h인 파일 이름을 출력하라.\n",
    "\n",
    "리스트 = ['intra.h', 'intra.c', 'define.h', 'run.py']\n",
    "\n",
    "for 변수 in 리스트:\n",
    "  split = 변수.split(\".\")\n",
    "  if split[1] == \"h\":\n",
    "    print(변수)"
   ]
  },
  {
   "cell_type": "code",
   "execution_count": 653,
   "id": "ae1fd071-e72b-4d25-bf4f-155e58bc032c",
   "metadata": {},
   "outputs": [
    {
     "name": "stdout",
     "output_type": "stream",
     "text": [
      "intra.h\n",
      "intra.c\n",
      "define.h\n"
     ]
    }
   ],
   "source": [
    "# 160 파일 이름이 저장된 리스트에서 확장자가 .h나 .c인 파일을 화면에 출력하라.\n",
    "\n",
    "리스트 = ['intra.h', 'intra.c', 'define.h', 'run.py']\n",
    "\n",
    "for 변수 in 리스트:\n",
    "  split = 변수.split(\".\")\n",
    "  if (split[1] == \"h\") or (split[1] == \"c\"):\n",
    "    print(변수)"
   ]
  },
  {
   "cell_type": "code",
   "execution_count": null,
   "id": "92cdac3f-675c-4feb-81cb-8c2e7b926e0e",
   "metadata": {},
   "outputs": [],
   "source": []
  }
 ],
 "metadata": {
  "kernelspec": {
   "display_name": "Python 3 (ipykernel)",
   "language": "python",
   "name": "python3"
  },
  "language_info": {
   "codemirror_mode": {
    "name": "ipython",
    "version": 3
   },
   "file_extension": ".py",
   "mimetype": "text/x-python",
   "name": "python",
   "nbconvert_exporter": "python",
   "pygments_lexer": "ipython3",
   "version": "3.12.4"
  },
  "panel-cell-order": [
   "79c28ae1-d823-4e73-a3b9-3e07af433078",
   "16ef4ae7-ebfe-4c8c-b911-5370f1838600",
   "a02e8302-155d-4246-a46a-34752cd8bd68",
   "01ced233-6274-4bf6-ac45-3ab573581537",
   "9854ec56-4531-4219-b767-d3d8c999fb0e",
   "1aeabae0-5ebe-4818-b5df-1a55c0167e09",
   "4a83aa06-ee99-499c-80d4-69507d0d4b4b",
   "ce59e237-8b9e-4b92-88f6-cc76c17714f6",
   "a3efad70-fbb6-447e-b82a-84eb8767ae0f",
   "4698dbde-da08-4365-ad16-e9982c200515",
   "bb3a02ad-600b-418f-a4b7-554b9773df0e"
  ]
 },
 "nbformat": 4,
 "nbformat_minor": 5
}
