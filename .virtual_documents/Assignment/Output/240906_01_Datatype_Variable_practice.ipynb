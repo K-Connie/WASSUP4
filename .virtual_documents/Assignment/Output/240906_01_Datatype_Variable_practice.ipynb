


score = [80, 75, 55]
print(sum(score) / len(score))











pin = '881120-1068234'
pin_split = pin.split('-')
pin_split


yyyymmdd = pin_split[0]
num = pin_split[1]


print(yyyymmdd)
print(num)





pin = "881120-1068234"
print(pin[7])





a = "a:b:c:d"
b = a.replace(':', '#')
print(b)





a = [1, 3, 5, 4, 2]
a.sort(reverse=True)
print(a)





a = ['Life', 'is', 'too', 'short']
result = ' '.join(a)
print(result)





a = (1, 2, 3)
a = a + (4,)
print(a)





# 4번!! list는 mutable이므로 key로 사용할 수 없다.





a = {'A': 90, 'B': 80, 'C': 70}
result = a['B']
print(a)


print(result)





a = [1, 1, 1, 2, 2, 3, 3, 3, 4, 4, 5]
aSet = set(a)


b = list(aSet)
print(b)





# a와 b는 같은 주소를 가리키므로 a의 값이 변경되면 b의 값도 변경된다.
a = b = [1, 2, 3]
a[1] = 4
print(b)



