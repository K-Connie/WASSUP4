








is_odd_2 = lambda number: True if number % 2 == 1 else False

















f1 = open("test.txt", 'w')
f1.write("Life is too short")

f2 = open("test.txt", 'r')
print(f2.read())















