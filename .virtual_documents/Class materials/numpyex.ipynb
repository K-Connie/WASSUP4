# Numpy
# Numerical Python
# 고성능 수치 계산을 위한 라이브러리
# 벡터나 행렬 연산에 편리한 기능 제공
# 모든 원소는 같은 자료형만 가능


import numpy as np
a = np.arange(15)             # for i in rnage(!5)
print(a)

a = a.reshape(3, 5, order='F')    # .reshape(행, 열) : 차원 변경 / (기본값)C행부터 할당, F열부터 할당
print(a)
print(type(a))                # type 확인
print(a.shape)                # shape : 데이터 개수 확인 시 많이 사용
print(a.dtype)                # data type 확인
print(a.ndim)                 # 몇 차원 data인지 확인
print(a.size)

# print(dir(np))


a = a.reshape(3, 6)           # reshape 사용 시 데이터 개수 일치해야 함.


a = np.arange(15).reshape(3, 5)       # 한 줄로 표현 가능
print(a)





b = [-1, 2, 5, -3, 0, 7, -9, 7, -4, -7]    # List
print(type(b))
b= np.array(b)    # List를 np로
print(type(b))

t = (10, 20, 30, 40, 50)                   # Tuple
print(type(t))
t = np.array(t)
print(type(t))

# list는 중복이 되는데 set은 중복이 안 된다?? 
s = {10, 20, 30, 40, 50}                   # Set
print(type(s))
s = np.array(s)
print(type(s))




print(b.shape)                   # 1차원 데이터로 10개.
print(b.ndim)                    # 1차원 데이터
print(b.dtype)
print(b)

# print(help(np.arange))

print(np.abs(b))                 # 절대값
print(np.sqrt(np.abs(b)))        # 제곱근
print(np.square(b))              # 제곱

# b = [-1, 2, 5, -3, 0, 7, -9, 7, -4, -7, np.nan]
# [False False False False False False False False False False  True]
print(np.isnan(b))               # NaN 여부
print(np.sum(b))                 # 합계
print(np.mean(b))                # 평균
print(np.max(b))                 # 최대값
print(np.min(b))                 # 최소값
print(np.argmax(b))              # 최대값의 index
print(np.argmin(b))              # 최소값의 index
print(np.sort(b))                # 정렬 오름차순(기본값)
print(np.sort(b)[::-1])    ais      # 정렬 내림차순 : 오름차순 정렬을 반대로 출력    # [시작 : 끝 : 증감 간격 step]
print(np.median(b))              # 중간값




b = [-1, -2, 4, 0



