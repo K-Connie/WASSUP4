


#  FileNotFoundError : 먼저 존재하지 않는 파일을 사용하려고 시도했을 때 발생하는 오류

f = open("나없는파일", 'r')


# ZeroDivisionError : 0으로 다른 숫자를 나누는 경우
4 / 0


# IndexError : a[3]은 a의 네 번째 요솟값을 가리키는데, a 리스트에는 값이 3개밖에 없으므로([1, 2, 3]) 값을 얻을 수 없다

a = [1, 2, 3]
a[3]











# 1. try-except만 쓰는 방법 : 오류의 종류에 상관없이 오류가 발생하면 except 블록을 수행
try:
    ...
except:
    ...


# 2. 발생 오류만 포함한 except 문 : except 문에 미리 정해 놓은 오류와 동일한 오류일 경우에만 except 블록을 수행
try:
    ...
except 발생오류:
    ...


# 3. 발생 오류와 오류 변수까지 포함한 except 문 :  except 문에 미리 정해 놓은 오류의 내용까지 알고 싶을 때
try:
    ...
except 발생오류 as 오류변수:
    ...

# try_except.py
try:
    4 / 0
except ZeroDivisionError as e:
    print(e)










