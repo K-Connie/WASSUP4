






































a = "Life is too short, You need Python"
b = a[0] + a[1] + a[2] + a[3]
b
'Life'


a[:17]


a[:]


a[19:-7]











a = "20240904Sunny"
date = a[:8]
weather = a[8:]


a[:8]


a[:-5]


a[8:13]


a[8:]


a[:4]


a[4:8]


# 문자열 변경 가능? 불가!
a = "Pithon"
a[1]


a[:1] + "y"+ a[2:6]


a = "Pithon"
b = "y"
a[0] + b + a[2:]


a[0]+"y"+a[2:6]





"I eat %d apples." % 3


"I eat %s apples." % "five"


number = 3
"I eat %d apples." % number





number = 10
day = "three"
"I ate %d apples. so I was sick for %s days." % (number, day)


"Error is %d%%." % 98


## 소수점 표현


"%0.4f" % 3.42134234


"%0.2f" % 3.42134234





"I eat {0} apples".format(3)


"I eat {0} apples".format("five")


"I eat {0} apples".format(number)


"I ate {} apples. so I was sick for {} days.".format(day, number)


"I ate {0} apples. so I was sick for {1} days.".format(number, day)


"I ate {a} apples. so I was sick for {b} days.".format(a=number, b=day)





y = 3.42134234
"{0:0.4f}".format(y)


"{{and}}".format()








name = '홍길동'
age = 30
f'나의 이름은 {name}입니다. 나이는 {age}입니다.'


f'나의 이름은 {name}입니다. 나이는 {age+1}입니다.'





d = {'name':'홍길동', 'age':30}
f'나의 이름은 {d["name"]}입니다. 나이는 {d["age"]}입니다.'


f"나의 이름은 {d['name']}입니다. 나이는 {d['age']}입니다."


y
f'{y:0.4f}'


f'{y:10.4f}'





a = "hobby"
len(a)


# 특정 문자열 세기 (b 문자 몇 개 있니?)
a.count('b')


# 위치 알려주기
a = "Python is the best choice"
a.find('b')


# 없는 문자열 검색 시 "-1" 값이 나옴
a.find('k')


# docstring
a.find?


help(a.find)


# 위치 알려 주기 1 - find, index
a = "Life is too short"
a.index('t'), a.find('t')


a.index('k')


a.find('k')


# 문자열 삽입 - join : 반드시 문자열로 반환합니다.
",".join('abcd')


",".join(['a', 'b', 'c', 'd'])


a = "hi"
a.upper()


a.upper?


a = "HI"
a.lower()


# 공백 지우기 - lstrip, rstrip, strip
a = " hi "
a.lstrip()


a.rstrip()


a.strip()


# 문자열 바꾸기 - replace
a = "Life is too short"
a.replace("Life", "Your leg")


# 문자열 나누기 - split
a = "Life is too short"
a.split()


b = "a:b:c:d"
b.split(':')














# for 문과 함께 자주 사용하는 range 함수

a = range(10)
a


a = range(1, 11)
a


    # for와 range 함수를 사용하면 1부터 10까지 더하는 것

add = 0
for i in range(1, 11): 
     add = add + i
print(add)








scores = [900, 25, 67, 45, 80]
################################################################
# continue 관련 내용 추가 필요





for i in range(2,10):         # 1번 for문
    print('='*10)
    print(f'{i}단')
    for j in range(1, 10):   # 2번 for문
         print(f"{i}X{j}={i*j}")


for i in range(2,10):         # 1번 for문
     for j in range(1, 10):   # 2번 for문
         print(i*j, end=" ")  # print함수는 줄바꿈이 기본 적용되어있다. 줄바꿈을 안 할 경우 이렇게 표현한다.
     print('')


print?








a = [1,2,3,4]
>>> result = [num * 3 for num in a if num % 2 == 0]
>>> print(result)


a = [1,2,3,4]
result = []
for num in a:
    result.append(num*3)

print(result)


a = [1,2,3,4]
result = [num * 3 for num in a if num % 2 == 0]
print(result)





contact = {}    # dict

while True:
    print('--------전화번호부 프로그램----------')
    print('1.추가  2.조회  3.검색  4.수정  5.삭제  9.종료')
    menu = int(input('메뉴를 선택해주세요.(숫자 only) : '))

    if menu == 1: # 연락처 추가
        print('연락처를 추가합니다.')
        new_name = input('이름 : ')
        new_tel = input('전화번호 : ')
        #print(new_name, new_tel)

        contact[new_name] = new_tel       # contact(dict)의 new_name(key)에 new_tel(value)를 반영. 
        contact.setdefalut(new_name, new_tel)     # setdefault : 기존에 값이 존재하면 기존값을 덮어쓰기하지 않는다.
    
    
    elif menu -- 2: # 연락처 조회
        print('연락처를 조회합니다.')
        #print(contact)
        for name, tel in contact.items():      # items : key, values 같이 가져오는 거
            print(name, ':', tel)

    
    elif menu -- 3: # 연락처 검색
        print('연락처를 검색합니다.')
        search_name = input('검색 이름: ')
        #print(contact[search_name])
        print(contact.get(searct_name, '없는 이름입니다.'))      # index는 없을 경우 오류 발생하나, get은 오류 미발생
        

    elif menu -- 4: # 연락처 수정
        print('연락처를 수정합니다.')

        mod_name = input('수정 이름 : ')
        if mod_name in contact:                       # 등록된 이름이 있을 경우 이어서 수정 진행
            med_tel = input('새 전화번호: ')
            contact[mod_name] = mod_tel

        else:
            print('등록되지 않은 이름입니다.')
    

    elif menu -- 5: # 연락처 삭제
        print('연락처를 삭제합니다.')
        del_name = input('삭제 이름 : ')
        print('연락처 삭제가 완료되었습니다.')

        if del_name in contact:
            del contact[del_name]

        else:
            print('등록되지 않은 이름입니다.')


    
    elif menu -- 9: # 프로그램 종료
        print('프로그램을 종료합니다.')
        break

    else :
        print('잘못된 입력입니다.')


user = {}    # dic

while True:
    print('메뉴를 선택하세요.')
    print('1: 추가 \t 2: 조회 \t 3 : 검색')
    print('4: 수정 \t 5: 삭제 \t 6: 종료')
    
    menu = input('')

    if select == '1':
        name = input('이름을 입력하세요: ')
        number = input('전화번호를 입력하세요: ')
        
        user[name] = number    # user의 name(key)에 number(values)를 값으로 매칭.
        
    elif select == '2':
        for name in user:      # 원하는 형태로 출력하기 위해 작성.
            print(f'{name}, {user[name]}')
            
    elif select == '3':
        name = input('이름을 입력하세요: ')
        if name in user:
            print(f'{name}의 전화번호는 {user[name]}입니다.')
        else:
            print(f'{name}을 찾을 수 없습니다.')
            
    elif select == '4':
        name = input('이름을 입력하세요: ')
        if name in user:
            number = input('전화번호를 입력하세요: ')
            user[name] = number
        else:
            print(f'{name}을 찾을 수 없습니다.')
            
    elif select == '5':
        name = input('이름을 입력하세요: ')
        if name in user:
            del user[name]
        else:
            print(f'{name}을 찾을 수 없습니다.')
            
    elif select == '6':
        break
    else:
        print('메뉴 없음')



