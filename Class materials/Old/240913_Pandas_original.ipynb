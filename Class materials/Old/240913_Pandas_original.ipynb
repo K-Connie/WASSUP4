{
 "cells": [
  {
   "cell_type": "markdown",
   "id": "97cb071d-3189-440f-97b5-5daebef8bab1",
   "metadata": {},
   "source": []
  },
  {
   "cell_type": "code",
   "execution_count": null,
   "id": "00dbc755-6ad8-4af4-882e-5ed907c46e46",
   "metadata": {},
   "outputs": [],
   "source": []
  },
  {
   "cell_type": "code",
   "execution_count": null,
   "id": "66a9983e-d10b-4cc9-8e2e-0548f7a1a168",
   "metadata": {},
   "outputs": [],
   "source": []
  },
  {
   "cell_type": "code",
   "execution_count": null,
   "id": "dfcedec1-5bde-43de-badc-c38c8151e960",
   "metadata": {},
   "outputs": [],
   "source": []
  },
  {
   "cell_type": "markdown",
   "id": "46621f90-4daa-4b01-8dea-d75a4b0e1fce",
   "metadata": {},
   "source": [
    "## Series"
   ]
  },
  {
   "cell_type": "code",
   "execution_count": null,
   "id": "315a3aee-fe94-4fda-a2ef-29d0ce9f08f1",
   "metadata": {},
   "outputs": [],
   "source": []
  },
  {
   "cell_type": "code",
   "execution_count": 16,
   "id": "77b86d96-24d7-4965-b9df-072ca53c2f7c",
   "metadata": {},
   "outputs": [
    {
     "name": "stdout",
     "output_type": "stream",
     "text": [
      "<class 'pandas.core.series.Series'>\n",
      "RangeIndex(start=0, stop=9, step=1)\n",
      "int64\n",
      "0    1\n",
      "1    2\n",
      "2    3\n",
      "3    4\n",
      "4    5\n",
      "5    6\n",
      "6    7\n",
      "7    8\n",
      "8    9\n",
      "dtype: int64\n"
     ]
    }
   ],
   "source": [
    "import pandas as pd\n",
    "import numpy as np\n",
    "\n",
    "# Series\n",
    "s = pd.Series( [1, 2, 3, 4, 5, 6, 7, 8, 9] )\n",
    "print(type(s))\n",
    "print(s.index)\n",
    "print(s.dtype)\n",
    "print(s)"
   ]
  },
  {
   "cell_type": "code",
   "execution_count": 28,
   "id": "f9fec2ae-3ee9-4bde-a632-5a1dce5aab2f",
   "metadata": {},
   "outputs": [
    {
     "name": "stdout",
     "output_type": "stream",
     "text": [
      "A    1\n",
      "B    2\n",
      "C    3\n",
      "D    4\n",
      "E    5\n",
      "F    6\n",
      "G    7\n",
      "H    8\n",
      "T    9\n",
      "dtype: int64\n",
      "A    1\n",
      "B    2\n",
      "C    3\n",
      "D    4\n",
      "E    5\n",
      "F    6\n",
      "G    7\n",
      "H    8\n",
      "T    9\n",
      "dtype: int64\n"
     ]
    }
   ],
   "source": [
    "# column 지정\n",
    "\n",
    "# 1\n",
    "s = pd.Series( [1, 2, 3, 4, 5, 6, 7, 8, 9] )\n",
    "s.index = ['A', 'B', 'C', 'D', 'E', 'F', 'G', 'H', 'T']\n",
    "print(s)\n",
    "\n",
    "# 2\n",
    "s = pd.Series([1, 2, 3, 4, 5, 6, 7, 8, 9], ['A', 'B', 'C', 'D', 'E', 'F', 'G', 'H', 'T'])\n",
    "print(s)"
   ]
  },
  {
   "cell_type": "code",
   "execution_count": 46,
   "id": "1b0faaec-23ea-4371-a339-051bc1a2181e",
   "metadata": {},
   "outputs": [
    {
     "name": "stdout",
     "output_type": "stream",
     "text": [
      "Index(['A', 'B', 'C', 'D', 'E', 'F', 'G', 'H', 'T'], dtype='object')\n",
      "[1 2 3 4 5 6 7 8 9]\n",
      "1\n",
      "1\n",
      "A    1\n",
      "B    2\n",
      "C    3\n",
      "D    4\n",
      "E    5\n",
      "dtype: int64\n",
      "A    1\n",
      "B    2\n",
      "C    3\n",
      "D    4\n",
      "dtype: int64\n"
     ]
    }
   ],
   "source": [
    "print(s.index)           # index만 출력\n",
    "print(s.values)          # values만 출력\n",
    "\n",
    "# print(s[0])              # error : 위에서 지정한 index로 출력해라.\n",
    "print(s['A'])\n",
    "print(s.A)\n",
    "\n",
    "print(s[0:5])              # 슬라이싱\n",
    "print(s['A':'D'])          "
   ]
  },
  {
   "cell_type": "markdown",
   "id": "0df53e05-594a-4a7e-820f-b560b9c09b5b",
   "metadata": {},
   "source": [
    "### Dictionary (Map, JSON) -> Series"
   ]
  },
  {
   "cell_type": "code",
   "execution_count": 73,
   "id": "001dd906-0843-4c97-87d7-8976756399df",
   "metadata": {},
   "outputs": [
    {
     "name": "stdout",
     "output_type": "stream",
     "text": [
      "<class 'dict'>\n",
      "A : 10\n",
      "D : 20\n",
      "F : 30\n",
      "H : 40\n",
      "10\n",
      "Index(['A', 'D', 'F', 'H'], dtype='object')\n",
      "[10 20 30 40]\n",
      "10\n",
      "10\n",
      "A    10\n",
      "D    20\n",
      "F    30\n",
      "dtype: int64\n",
      "A    10\n",
      "D    20\n",
      "F    30\n",
      "dtype: int64\n"
     ]
    }
   ],
   "source": [
    "d = {'A':10, 'D':20, 'F':30, 'H':40}\n",
    "print(type(d))\n",
    "\n",
    "# 반복\n",
    "for key, value in d.items() :         # items 함수를 통해 tuple로 받아온다?\n",
    "    print(key, \":\", value)\n",
    "\n",
    "# print( d.A )                         # error : Dictionary는 Series와 다르게 .A로 출력불가\n",
    "print( d['A'] )\n",
    "\n",
    "# print( d[0:3] )                      # error : dictionary는 슬라이싱 불가\n",
    "# print(d['A':'F'])\n",
    "\n",
    "s = pd.Series(d)\n",
    "print(s.index)\n",
    "print(s.values)\n",
    "print(s['A'])\n",
    "print(s.A)\n",
    "\n",
    "print( s[0:3] )                      \n",
    "print( s['A':'F'] )\n"
   ]
  },
  {
   "cell_type": "markdown",
   "id": "30640142-8e1e-41ad-9782-fdb9074a802a",
   "metadata": {},
   "source": [
    "## DataFrame"
   ]
  },
  {
   "cell_type": "markdown",
   "id": "f545f5d0-ce72-401d-b6d8-ac2faacab26b",
   "metadata": {},
   "source": [
    "키 하나에 데이터 여러 개?"
   ]
  },
  {
   "cell_type": "markdown",
   "id": "4dc1bdd3-b9e4-42e0-801e-4eefa51a1606",
   "metadata": {},
   "source": [
    "### Dictionary -> DataFrame\n",
    "* Dictionary(key) -> column"
   ]
  },
  {
   "cell_type": "code",
   "execution_count": 96,
   "id": "1db6b6e2-9fbd-4f62-bb46-665c680ccfb7",
   "metadata": {},
   "outputs": [
    {
     "name": "stdout",
     "output_type": "stream",
     "text": [
      "<class 'dict'>\n",
      "   name  age        tel\n",
      "0   kim   25  1111-2222\n",
      "1   lee   30  2222-1111\n",
      "2  park   35  3333-1111\n",
      "3  jung   20  2222-3333\n",
      "RangeIndex(start=0, stop=4, step=1)\n",
      "Index(['name', 'age', 'tel'], dtype='object')\n",
      "[['kim' 25 '1111-2222']\n",
      " ['lee' 30 '2222-1111']\n",
      " ['park' 35 '3333-1111']\n",
      " ['jung' 20 '2222-3333']]\n",
      "User  name  age        tel\n",
      "Num                       \n",
      "0      kim   25  1111-2222\n",
      "1      lee   30  2222-1111\n",
      "2     park   35  3333-1111\n",
      "3     jung   20  2222-3333\n",
      "RangeIndex(start=0, stop=4, step=1, name='Num')\n",
      "Index(['name', 'age', 'tel'], dtype='object', name='User')\n"
     ]
    }
   ],
   "source": [
    "d = {\n",
    "    'name' : [ 'kim', 'lee', 'park', 'jung' ],\n",
    "    'age' : [ 25, 30, 35, 20 ],\n",
    "    'tel' : [ '1111-2222', '2222-1111', '3333-1111', '2222-3333']\n",
    "}\n",
    "print(type(d))\n",
    "\n",
    "df = pd.DataFrame(d)\n",
    "print(df)\n",
    "print(df.index)\n",
    "print(df.columns)            # columns만 출력\n",
    "print(df.values)             # 값만 출력 -> 2차원 numpy열?로 꺼내준다.\n",
    "\n",
    "df.index.name = 'Num'        # index에 이름 지정\n",
    "df.columns.name = 'User'     # column에 이름 지정\n",
    "print(df)\n",
    "print(df.index)\n",
    "print(df.columns)\n"
   ]
  },
  {
   "cell_type": "markdown",
   "id": "8c2afbb3-b544-4ead-8972-07eb0e142d8d",
   "metadata": {},
   "source": [
    "### Numpy -> DataFrame"
   ]
  },
  {
   "cell_type": "code",
   "execution_count": 133,
   "id": "6c64a644-151c-436a-ab2d-1d4e13232200",
   "metadata": {},
   "outputs": [
    {
     "name": "stdout",
     "output_type": "stream",
     "text": [
      "<class 'numpy.ndarray'>\n",
      "   name age        tel\n",
      "A   kim  20  1111-2222\n",
      "B   lee  30  2222-1111\n",
      "C  park  35  3333-2222\n",
      "D  jung  25  3333-1111\n",
      "Index(['A', 'B', 'C', 'D'], dtype='object')\n",
      "Index(['name', 'age', 'tel'], dtype='object')\n",
      "   name age        tel\n",
      "A   kim  20  1111-2222\n",
      "B   lee  30  2222-1111\n",
      "C  park  35  3333-2222\n",
      "D  jung  25  3333-1111\n",
      "       name age        tel\n",
      "count     4   4          4\n",
      "unique    4   4          4\n",
      "top     kim  20  1111-2222\n",
      "freq      1   1          1\n"
     ]
    }
   ],
   "source": [
    "n = np.array(\n",
    "    [['kim', 20, '1111-2222'],\n",
    "     ['lee', 30, '2222-1111'],\n",
    "     ['park', 35, '3333-2222'],\n",
    "     ['jung', 25, '3333-1111']]\n",
    ")\n",
    "print(type(n))\n",
    "\n",
    "\n",
    "# 1\n",
    "df = pd.DataFrame(n)\n",
    "\n",
    "df.index = ['A', 'B', 'C', 'D']\n",
    "df.columns = ['name', 'age', 'tel']\n",
    "\n",
    "print(df)\n",
    "print(df.index)\n",
    "print(df.columns)\n",
    "\n",
    "# 2\n",
    "df = pd.DataFrame(n, columns = ['name', 'age', 'tel'], index = ['A', 'B', 'C', 'D'])\n",
    "print(df)\n",
    "\n",
    "# Data 확인 시\n",
    "print(df.describe())\n"
   ]
  },
  {
   "cell_type": "code",
   "execution_count": 161,
   "id": "f437e160-bd89-46e2-bb69-03098e4d3e19",
   "metadata": {},
   "outputs": [
    {
     "name": "stdout",
     "output_type": "stream",
     "text": [
      "A     kim\n",
      "B     lee\n",
      "C    park\n",
      "D    jung\n",
      "Name: name, dtype: object\n",
      "   name        tel\n",
      "A   kim  1111-2222\n",
      "B   lee  2222-1111\n",
      "C  park  3333-2222\n",
      "D  jung  3333-1111\n",
      "park\n",
      "park\n",
      "B     lee\n",
      "C    park\n",
      "D    jung\n",
      "Name: name, dtype: object\n",
      "A     kim\n",
      "B     lee\n",
      "C    park\n",
      "D    jung\n",
      "Name: name, dtype: object A    20\n",
      "B    30\n",
      "C    35\n",
      "D    25\n",
      "Name: age, dtype: object\n",
      "park\n"
     ]
    }
   ],
   "source": [
    "print(df['name'])\n",
    "print(df[['name', 'tel']])\n",
    "# print(df['name'][2])                 # Error : 지정한 column명 사용해야 함.\n",
    "print(df['name']['C'])\n",
    "print(df['name'].C)\n",
    "print(df['name']['B':'D'])\n",
    "\n",
    "# 2차원이 아닌 name, age 따로 출력하는 방법\n",
    "print(df.name, df.age)\n",
    "print(df.name.C)"
   ]
  },
  {
   "cell_type": "code",
   "execution_count": 178,
   "id": "e691244a-b76d-49be-961a-f1e8afd0a5f2",
   "metadata": {},
   "outputs": [
    {
     "name": "stdout",
     "output_type": "stream",
     "text": [
      "   name age        tel\n",
      "A   kim  20  1111-2222\n",
      "B   lee  30  2222-1111\n",
      "C  park  35  3333-2222\n",
      "D  jung  25  3333-1111\n",
      "  name age        tel\n",
      "A  kim  20  1111-2222\n",
      "   name        tel\n",
      "A   kim  1111-2222\n",
      "B   lee  2222-1111\n",
      "C  park  3333-2222\n",
      "D  jung  3333-1111\n"
     ]
    }
   ],
   "source": [
    "print(df[:][:])\n",
    "print(df[:2][:1])\n",
    "print(df[['name', 'tel']])\n",
    "# print(df[[0, 2]])          # error : column명이 있을 경우 숫자 사용 불가.\n",
    "# print(df[0][0])            # error : column명이 있을 경우 숫자 사용 불가."
   ]
  },
  {
   "cell_type": "code",
   "execution_count": 200,
   "id": "3709ce33-db4e-419b-8bee-2367b6616cf6",
   "metadata": {},
   "outputs": [
    {
     "name": "stdout",
     "output_type": "stream",
     "text": [
      "   name age        tel address\n",
      "A   kim  30  1111-2222      서울\n",
      "B   lee  30  2222-1111      수원\n",
      "C  park  35  3333-2222      인천\n",
      "D  jung  25  3333-1111      안산\n"
     ]
    }
   ],
   "source": [
    "df['address'] = ['서울', '수원', '인천', '안산']\n",
    "# df['age']['A'] = 30\n",
    "df['adult'] = df['age'].astype(np.int64) > 30\n",
    "\n",
    "del(df['adult'])\n",
    "\n",
    "print(df)"
   ]
  },
  {
   "cell_type": "markdown",
   "id": "47ccbca9-8a51-4cda-b7b4-04f4dde737d4",
   "metadata": {},
   "source": [
    "## Series 정렬"
   ]
  },
  {
   "cell_type": "code",
   "execution_count": 215,
   "id": "23606d44-fbe5-4d28-bcf9-5aec107c432d",
   "metadata": {},
   "outputs": [
    {
     "name": "stdout",
     "output_type": "stream",
     "text": [
      "b    70\n",
      "c    60\n",
      "f    50\n",
      "d    40\n",
      "g    20\n",
      "a    10\n",
      "dtype: int64\n"
     ]
    }
   ],
   "source": [
    "s = pd.Series([10, 40, 50, 20, 70, 60], index=['a', 'd', 'f', 'g', 'b', 'c'])\n",
    "\n",
    "s = s.sort_index()                      # ascending(오름차순-기본값)\n",
    "s = s.sort_index(ascending = False)     # descendint(내림차순)\n",
    "s = s.sort_values()\n",
    "s = s.sort_values(ascending = False)\n",
    "\n",
    "print(s)"
   ]
  },
  {
   "cell_type": "markdown",
   "id": "400964e2-1b9a-4821-b041-b5e16ed58276",
   "metadata": {},
   "source": [
    "## DataFrame 정렬"
   ]
  },
  {
   "cell_type": "code",
   "execution_count": 244,
   "id": "f0f3b64b-4857-415e-972a-e629682bb3f8",
   "metadata": {},
   "outputs": [
    {
     "name": "stdout",
     "output_type": "stream",
     "text": [
      "     D    C    A    B\n",
      "c    4    5    1    2\n",
      "a  300  400  200  100\n",
      "b   20   10   40   30\n",
      "     C    D    B    A\n",
      "c    5    4    2    1\n",
      "b   10   20   30   40\n",
      "a  400  300  100  200\n"
     ]
    }
   ],
   "source": [
    "df = pd.DataFrame( [[4, 5, 1, 2],\n",
    "                    [300, 400, 200, 100],\n",
    "                    [20, 10, 40, 30]], index = ['c', 'a', 'b'], columns = ['D', 'C', 'A', 'B']\n",
    "                 )\n",
    "\n",
    "print(df)\n",
    "df = df.sort_index()            # index\n",
    "df = df.sort_index(axis = 0)\n",
    "df = df.sort_index(axis = 1)    # 열끼리 = column 정렬\n",
    "\n",
    "df = df.sort_values(by = 'A', ascending = False) # 행끼리\n",
    "df = df.sort_values(by = ['A', 'B'])\n",
    "\n",
    "df = df.sort_values(by = 'b', axis = 1)   # 열끼리\n",
    "print(df)"
   ]
  },
  {
   "cell_type": "markdown",
   "id": "a0c3e3ec-2a99-4d1f-80e4-df587ad6bd64",
   "metadata": {},
   "source": [
    "## 슬라이싱\n",
    "* .iloc : 정수 index\n",
    "* .loc  : 라벨 index\n",
    "* .ix   : deprecated"
   ]
  },
  {
   "cell_type": "code",
   "execution_count": 269,
   "id": "3095ba16-69d2-4f7b-9caa-b16852c9e760",
   "metadata": {},
   "outputs": [
    {
     "name": "stdout",
     "output_type": "stream",
     "text": [
      "[[1, 2, 3], [4, 5, 6], [7, 8, 9]]\n",
      "9\n",
      "[[1, 2, 3], [4, 5, 6], [7, 8, 9]]\n",
      "[[1, 2, 3], [4, 5, 6]]\n",
      "[[1 2 3]\n",
      " [4 5 6]\n",
      " [7 8 9]]\n",
      "9\n",
      "[[1 2 3]\n",
      " [4 5 6]\n",
      " [7 8 9]]\n",
      "[[1 2 3]\n",
      " [4 5 6]]\n",
      "[[1 2]\n",
      " [4 5]]\n",
      "   0  1  2\n",
      "0  1  2  3\n",
      "1  4  5  6\n",
      "2  7  8  9\n",
      "9\n",
      "   0  1  2\n",
      "0  1  2  3\n",
      "1  4  5  6\n",
      "2  7  8  9\n",
      "   0  1  2\n",
      "0  1  2  3\n",
      "1  4  5  6\n"
     ]
    }
   ],
   "source": [
    "# List\n",
    "m = [ [1, 2, 3], [4, 5, 6], [7, 8, 9] ]\n",
    "\n",
    "#     0  1  2\n",
    "#  0  1  2  3\n",
    "#  1  4  5  6\n",
    "#  2  7  8  9\n",
    "\n",
    "print(m)\n",
    "print(m[2][2])\n",
    "print(m[:][:])\n",
    "print(m[:2][:2])\n",
    "# print(m[:2, :2])    # error\n",
    "\n",
    "\n",
    "\n",
    "# Numpy\n",
    "n = np.array(m)\n",
    "print(n)\n",
    "print(n[2][2])\n",
    "print(n[:][:])\n",
    "print(n[:2][:2])\n",
    "print(n[:2, :2])\n",
    "\n",
    "# Pandas\n",
    "df = pd.DataFrame(n)\n",
    "print(df)\n",
    "print(df[2][2])\n",
    "print(df[:][:])\n",
    "print(df[:2][:2])\n",
    "# print(df[:2, :2])       # error"
   ]
  },
  {
   "cell_type": "markdown",
   "id": "deba35fb-a35b-4941-8a94-5412934edb2b",
   "metadata": {},
   "source": [
    "### .iloc : 정수 index"
   ]
  },
  {
   "cell_type": "code",
   "execution_count": 316,
   "id": "c423f921-7396-4b27-9783-a9895cdbc6a4",
   "metadata": {},
   "outputs": [
    {
     "name": "stdout",
     "output_type": "stream",
     "text": [
      "    A   B   C   D\n",
      "0   1   2   3   4\n",
      "1   5   6   7   8\n",
      "2   9  10  11  12\n",
      "3  13  14  15  16\n",
      "4  17  18  19  20\n",
      "11\n",
      "    A   D\n",
      "0   1   4\n",
      "1   5   8\n",
      "2   9  12\n",
      "3  13  16\n",
      "4  17  20\n",
      "11\n",
      "   A  B\n",
      "0  1  2\n",
      "1  5  6\n",
      "   A   C\n",
      "0  1   3\n",
      "2  9  11\n",
      "   A  B  C\n",
      "0  1  2  3\n",
      "1  5  6  7\n",
      "    D   C   B   A\n",
      "4  20  19  18  17\n",
      "3  16  15  14  13\n",
      "2  12  11  10   9\n",
      "1   8   7   6   5\n",
      "0   4   3   2   1\n"
     ]
    }
   ],
   "source": [
    "df = pd.DataFrame( np.arange(1, 21).reshape(5, 4), columns = ['A', 'B', 'C', 'D'] )\n",
    "print(df)\n",
    "\n",
    "# print( df[2][2] )            # Error\n",
    "print(df['C'][2])\n",
    "print(df[['A', 'D']])\n",
    "# print(df['A' : 'C'])           # Error\n",
    "# print(df[['A' : 'C']])         # Error\n",
    "\n",
    "# print(df.iloc[2][2])            # Error\n",
    "print(df.iloc[2, 2])\n",
    "# print(df.iloc[2, 'C'])           # Error : iloc는 숫지만 사용 가능.\n",
    "print(df.iloc[:2, :2])\n",
    "print(df.iloc[:3:2, :3:2])       # print(df.iloc[행, 열]) -> iloc[처음:끝:증감, 처음:끝,증감]\n",
    "print(df.iloc[:2, :-1])          # 끝 = '-1' -> 끝 하나 빼라\n",
    "print(df.iloc[::-1, ::-1])       # 간격= '-1' -> 거꾸로\n"
   ]
  },
  {
   "cell_type": "code",
   "execution_count": null,
   "id": "cb2dd1df-b64c-44bb-a55b-bddbfd61e63b",
   "metadata": {},
   "outputs": [],
   "source": []
  },
  {
   "cell_type": "code",
   "execution_count": null,
   "id": "a37b6cee-b821-44fc-8156-efad19f3e085",
   "metadata": {},
   "outputs": [],
   "source": []
  },
  {
   "cell_type": "markdown",
   "id": "f6d05709-bfac-41ad-864b-b774c868b1e7",
   "metadata": {},
   "source": [
    "### .loc  : 라벨 index"
   ]
  },
  {
   "cell_type": "code",
   "execution_count": 336,
   "id": "ac9bc288-2aae-4901-8a7b-f90c8ccfde19",
   "metadata": {},
   "outputs": [
    {
     "name": "stdout",
     "output_type": "stream",
     "text": [
      "    A   B   C   D\n",
      "0   1   2   3   4\n",
      "1   5   6   7   8\n",
      "2   9  10  11  12\n",
      "3  13  14  15  16\n",
      "4  17  18  19  20\n",
      "11\n",
      "   A   B   C\n",
      "0  1   2   3\n",
      "1  5   6   7\n",
      "2  9  10  11\n",
      "   A  B  C  D\n",
      "0  1  2  3  4\n",
      "1  5  6  7  8\n",
      "    B   C   D\n",
      "1   6   7   8\n",
      "2  10  11  12\n",
      "3  14  15  16\n",
      "    B   D\n",
      "0   2   4\n",
      "1   6   8\n",
      "2  10  12\n",
      "3  14  16\n",
      "4  18  20\n",
      "    B   D\n",
      "0   2   4\n",
      "1   6   8\n",
      "2  10  12\n",
      "3  14  16\n",
      "4  18  20\n"
     ]
    }
   ],
   "source": [
    "print(df)\n",
    "# print(df.loc[2, 2])              # Error\n",
    "print(df.loc[2, 'C'])              # loc에서는 column명이 있을 경우 이름을 써야 한다.\n",
    "# print(df.loc[:2, :2])              # Error\n",
    "print(df.loc[:2, :'C'])\n",
    "print(df[:2])\n",
    "print(df.loc[1:3, 'B':'D'])\n",
    "print(df.loc[:, ['B', 'D']])\n",
    "print(df[['B', 'D']])"
   ]
  },
  {
   "cell_type": "code",
   "execution_count": 383,
   "id": "f8325dc9-5429-4532-b498-580c94a19f76",
   "metadata": {},
   "outputs": [
    {
     "name": "stdout",
     "output_type": "stream",
     "text": [
      "     A    B    C   D\n",
      "0   99    2    3   4\n",
      "1  100  101  102   8\n",
      "2    9   10   11  12\n",
      "3   13   14   15  16\n",
      "4  200   18  201  20\n"
     ]
    }
   ],
   "source": [
    "df = pd.DataFrame( np.arange(1, 21).reshape(5, 4), columns = ['A', 'B', 'C', 'D'] )\n",
    "\n",
    "df['E'] = [31, 32, 33, 34, 35]            # column 열 추가 (행 개수 맞아야 하는 점 유의)\n",
    "# df[5][:] = [90, 91, 92, 93, 94]         # Error\n",
    "# df.iloc[:, 5] = [40, 41, 42, 43, 44]    # Error : index(5)만 지정하고 column명은 지정하지 않아서 오류 발생.\n",
    "# df.iloc[5, :] = [90, 91, 92, 93, 94]    # Error : iloc는 추가 불가.\n",
    "df.loc[5] = [90, 91, 92, 93, 94]          # loc : 행, 열 모두 추가 가능\n",
    "df.loc[:, 'F'] = [40, 41, 42, 43, 44, 45]\n",
    "\n",
    "df.loc[0, 'A'] = 99                       # 본래 있던 자리에 명령어 실행 시 수정 반영됨.\n",
    "df.loc[1, 'A':'C'] = [100, 101, 102]\n",
    "df.loc[4, ['A', 'C', 'E']] = [200, 201, 202]\n",
    "\n",
    "del(df['E'])\n",
    "# del(df.loc[:, 'F'])                      # Error\n",
    "\n",
    "# df.drop('F')                             # Error : (기본값 axis=0 행)'F'는 열을 지우는 거라서?\n",
    "df = df.drop('F', axis = 1)\n",
    "# df.drop(5, axis = 1)                     # Error\n",
    "df = df.drop(5)\n",
    "\n",
    "print(df)"
   ]
  },
  {
   "cell_type": "markdown",
   "id": "073802eb-5995-48dc-91c6-1795a0614cd5",
   "metadata": {},
   "source": [
    "### Boolean Indexing"
   ]
  },
  {
   "cell_type": "code",
   "execution_count": 25,
   "id": "74c297d6-7a00-4a1d-9a59-b4a041df6a3d",
   "metadata": {},
   "outputs": [
    {
     "name": "stdout",
     "output_type": "stream",
     "text": [
      "   name  age        tel\n",
      "0   kim   20  1111-2222\n",
      "1   lee   30  2222-1111\n",
      "2  park   35  3333-2222\n",
      "3  jung   25  3333-1111\n",
      "4  hong   40  1111-2222\n",
      "jung\n",
      "   name  age\n",
      "2  park   35\n",
      "4  hong   40\n",
      "  name  age        tel\n",
      "0  kim   20  1111-2222\n",
      "   name  age        tel\n",
      "1   lee   30  2222-1111\n",
      "2  park   35  3333-2222\n",
      "3  jung   25  3333-1111\n",
      "0    kim\n",
      "1    lee\n",
      "Name: name, dtype: object\n"
     ]
    }
   ],
   "source": [
    "import pandas as pd  # pandas 라이브러리 임포트\n",
    "\n",
    "df = pd.DataFrame(\n",
    "    [['kim', 20, '1111-2222'],\n",
    "     ['lee', 30, '2222-1111'],\n",
    "     ['park', 35, '3333-2222'],\n",
    "     ['jung', 25, '3333-1111'],\n",
    "     ['hong', 40, '1111-2222']], columns = ['name', 'age', 'tel']\n",
    ")\n",
    "\n",
    "print(df)\n",
    "\n",
    "print(df.loc[3, 'name'])\n",
    "print(df.loc[ df['age'] > 30, ['name', 'age'] ])\n",
    "print(df.loc[ df['name'] == 'kim', :])\n",
    "print(df.loc[ (df['age'] > 20) & (df['age'] < 40), 'name':'tel'])\n",
    "print(df.loc[ [True, True, False, False, False], \"name\"])\n"
   ]
  },
  {
   "cell_type": "markdown",
   "id": "ca1b881b-50bf-4625-8c75-59b60cc4a761",
   "metadata": {},
   "source": [
    "### 결측값 대체"
   ]
  },
  {
   "cell_type": "code",
   "execution_count": 43,
   "id": "792dabc7-d622-4ac1-a1b3-fde2996b2e89",
   "metadata": {},
   "outputs": [
    {
     "name": "stdout",
     "output_type": "stream",
     "text": [
      "Series([], Name: address, dtype: object)\n",
      "Series([], Name: address, dtype: object)\n",
      "1    NaN\n",
      "2    NaN\n",
      "4    NaN\n",
      "Name: address, dtype: object\n",
      "   name  age        tel address\n",
      "0   kim   20  1111-2222      서울\n",
      "1   lee   30  2222-1111      서울\n",
      "2  park   35  3333-2222      서울\n",
      "3  jung   25  3333-1111      수원\n",
      "4  hong   40  1111-2222      서울\n"
     ]
    }
   ],
   "source": [
    "import numpy as np  # numpy 라이브러리 임포트\n",
    "\n",
    "# 'address' 열 추가\n",
    "df['address'] = ['서울', np.nan, np.nan, '수원', np.nan]\n",
    "\n",
    "print(df.loc[ df['address'] == np.nan, 'address'])\n",
    "print(df.loc[ df['address'] == None, 'address'])\n",
    "print(df.loc[ df['address'].isnull(), 'address'])        # 반드시 isnull로 검색해야 가져올 수 있다.\n",
    "\n",
    "df.loc[df['address'].isnull(), 'address'] = '서울'\n",
    "df.loc[::2, 'address'] = ''     # (아무것도 없는)데이터가 있는 것\n",
    "df.loc[df['address'] == '', 'address'] = '서울'\n",
    "\n",
    "\n",
    "# 데이터프레임 출력\n",
    "print(df)"
   ]
  },
  {
   "cell_type": "markdown",
   "id": "fff841fe-d101-44e6-99f2-64d7e5ecb968",
   "metadata": {},
   "source": [
    "## 결측값 제거"
   ]
  },
  {
   "cell_type": "code",
   "execution_count": 66,
   "id": "0aea2917-fd1c-48f1-8742-7a67debe49cd",
   "metadata": {},
   "outputs": [
    {
     "ename": "NameError",
     "evalue": "name 'nan' is not defined",
     "output_type": "error",
     "traceback": [
      "\u001b[1;31m---------------------------------------------------------------------------\u001b[0m",
      "\u001b[1;31mNameError\u001b[0m                                 Traceback (most recent call last)",
      "Cell \u001b[1;32mIn[66], line 3\u001b[0m\n\u001b[0;32m      1\u001b[0m df \u001b[38;5;241m=\u001b[39m pd\u001b[38;5;241m.\u001b[39mDataFrame(\n\u001b[0;32m      2\u001b[0m     [[\u001b[38;5;124m'\u001b[39m\u001b[38;5;124mkim\u001b[39m\u001b[38;5;124m'\u001b[39m, \u001b[38;5;241m20\u001b[39m, \u001b[38;5;124m'\u001b[39m\u001b[38;5;124m1111-2222\u001b[39m\u001b[38;5;124m'\u001b[39m, \u001b[38;5;124m'\u001b[39m\u001b[38;5;124m서울\u001b[39m\u001b[38;5;124m'\u001b[39m],\n\u001b[1;32m----> 3\u001b[0m      [\u001b[38;5;124m'\u001b[39m\u001b[38;5;124mlee\u001b[39m\u001b[38;5;124m'\u001b[39m, \u001b[38;5;241m30\u001b[39m, \u001b[38;5;124m'\u001b[39m\u001b[38;5;124m2222-1111\u001b[39m\u001b[38;5;124m'\u001b[39m, np,nan],\n\u001b[0;32m      4\u001b[0m      [\u001b[38;5;124m'\u001b[39m\u001b[38;5;124mpark\u001b[39m\u001b[38;5;124m'\u001b[39m, \u001b[38;5;241m35\u001b[39m, \u001b[38;5;124m'\u001b[39m\u001b[38;5;124m3333-2222\u001b[39m\u001b[38;5;124m'\u001b[39m, \u001b[38;5;124m'\u001b[39m\u001b[38;5;124m수원\u001b[39m\u001b[38;5;124m'\u001b[39m],\n\u001b[0;32m      5\u001b[0m      [\u001b[38;5;124m'\u001b[39m\u001b[38;5;124mjung\u001b[39m\u001b[38;5;124m'\u001b[39m, \u001b[38;5;241m25\u001b[39m, \u001b[38;5;124m'\u001b[39m\u001b[38;5;124m3333-1111\u001b[39m\u001b[38;5;124m'\u001b[39m, np,nan],\n\u001b[0;32m      6\u001b[0m      [\u001b[38;5;124m'\u001b[39m\u001b[38;5;124mhong\u001b[39m\u001b[38;5;124m'\u001b[39m, \u001b[38;5;241m40\u001b[39m, \u001b[38;5;124m'\u001b[39m\u001b[38;5;124m1111-2222\u001b[39m\u001b[38;5;124m'\u001b[39m, np,nan]], columns \u001b[38;5;241m=\u001b[39m [\u001b[38;5;124m'\u001b[39m\u001b[38;5;124mname\u001b[39m\u001b[38;5;124m'\u001b[39m, \u001b[38;5;124m'\u001b[39m\u001b[38;5;124mage\u001b[39m\u001b[38;5;124m'\u001b[39m, \u001b[38;5;124m'\u001b[39m\u001b[38;5;124mtel\u001b[39m\u001b[38;5;124m'\u001b[39m, \u001b[38;5;124m'\u001b[39m\u001b[38;5;124maddress\u001b[39m\u001b[38;5;124m'\u001b[39m]\n\u001b[0;32m      7\u001b[0m )\n\u001b[0;32m     10\u001b[0m df\u001b[38;5;241m.\u001b[39mloc[::\u001b[38;5;241m2\u001b[39m, \u001b[38;5;124m'\u001b[39m\u001b[38;5;124mtel\u001b[39m\u001b[38;5;124m'\u001b[39m] \u001b[38;5;241m=\u001b[39m np\u001b[38;5;241m.\u001b[39mnan\n\u001b[0;32m     11\u001b[0m df\u001b[38;5;241m.\u001b[39mloc[\u001b[38;5;241m5\u001b[39m, :] \u001b[38;5;241m=\u001b[39m [np\u001b[38;5;241m.\u001b[39mnan, np\u001b[38;5;241m.\u001b[39mnan, np\u001b[38;5;241m.\u001b[39mnan, np\u001b[38;5;241m.\u001b[39mnan]\n",
      "\u001b[1;31mNameError\u001b[0m: name 'nan' is not defined"
     ]
    }
   ],
   "source": [
    "df = pd.DataFrame(\n",
    "    [['kim', 20, '1111-2222', '서울'],\n",
    "     ['lee', 30, '2222-1111', np,nan],\n",
    "     ['park', 35, '3333-2222', '수원'],\n",
    "     ['jung', 25, '3333-1111', np,nan],\n",
    "     ['hong', 40, '1111-2222', np,nan]], columns = ['name', 'age', 'tel', 'address']\n",
    ")\n",
    "\n",
    "\n",
    "df.loc[::2, 'tel'] = np.nan\n",
    "df.loc[5, :] = [np.nan, np.nan, np.nan, np.nan]\n",
    "\n",
    "# df.dropna(how = 'all', inplace = True)\n",
    "# df.dropna(how = 'any', inplace = True)\n",
    "\n",
    "df['income'] = [300, np.nan, 400, 500, np.nan, 300]\n",
    "# df['address'].fillna('서울', inplace = True)\n",
    "df.fillna({'address':'서울'}, inplace = True)\n",
    "df.fillna({'income' : np.mean(dr[income])}, inplace = True)\n",
    "\n",
    "# df.drop(5)\n",
    "# df.drop(5, inplace = True)\n",
    "df.drop([4, 5], inplace = True)\n",
    "df.drop(['address', 'income'], axis = 1, inplace = True)\n",
    "\n",
    "\n",
    "print(df)\n",
    "\n",
    "\n",
    "# print(df.T)\n",
    "print(df.transpose())    #전치행렬"
   ]
  },
  {
   "cell_type": "markdown",
   "id": "77b4d3d7-f58e-4da6-9265-ba0564aa093c",
   "metadata": {},
   "source": [
    "##  Pandas 함수"
   ]
  },
  {
   "cell_type": "code",
   "execution_count": 108,
   "id": "d90cc065-6d58-483b-afef-b36716379713",
   "metadata": {},
   "outputs": [
    {
     "name": "stdout",
     "output_type": "stream",
     "text": [
      "   name   kor   eng   mat\n",
      "0   kim  90.0  80.0  70.0\n",
      "1   lee  45.0   NaN  55.0\n",
      "2  park  76.0  77.0  83.0\n",
      "3  hong   NaN   NaN  77.0\n",
      "4  Kang  35.0  58.0  52.0\n",
      "5  jang   NaN   NaN   NaN\n",
      "name    6\n",
      "kor     4\n",
      "eng     3\n",
      "mat     5\n",
      "dtype: int64\n",
      "0    4\n",
      "1    3\n",
      "2    4\n",
      "3    2\n",
      "4    4\n",
      "5    1\n",
      "dtype: int64\n",
      "name    Kang\n",
      "kor     35.0\n",
      "eng     58.0\n",
      "mat     52.0\n",
      "dtype: object\n",
      "0    70.0\n",
      "1    45.0\n",
      "2    76.0\n",
      "3    77.0\n",
      "4    35.0\n",
      "5     NaN\n",
      "dtype: float64\n",
      "name    park\n",
      "kor     90.0\n",
      "eng     80.0\n",
      "mat     83.0\n",
      "dtype: object\n",
      "kor    61.500000\n",
      "eng    71.666667\n",
      "mat    67.400000\n",
      "dtype: float64\n",
      "0    80.000000\n",
      "1    50.000000\n",
      "2    78.666667\n",
      "3    77.000000\n",
      "4    48.333333\n",
      "5          NaN\n",
      "dtype: float64\n",
      "name    kimleeparkhongKangjang\n",
      "kor                      246.0\n",
      "eng                      215.0\n",
      "mat                      337.0\n",
      "dtype: object\n",
      "0    240.0\n",
      "1    100.0\n",
      "2    236.0\n",
      "3     77.0\n",
      "4    145.0\n",
      "5      0.0\n",
      "dtype: float64\n",
      "kor    60.5\n",
      "eng    77.0\n",
      "mat    70.0\n",
      "dtype: float64\n",
      "     kor    eng    mat\n",
      "0   90.0   80.0   70.0\n",
      "1  135.0    NaN  125.0\n",
      "2  211.0  157.0  208.0\n",
      "3    NaN    NaN  285.0\n",
      "4  246.0  215.0  337.0\n",
      "5    NaN    NaN    NaN\n",
      "          kor       eng           mat\n",
      "0        90.0      80.0  7.000000e+01\n",
      "1      4050.0       NaN  3.850000e+03\n",
      "2    307800.0    6160.0  3.195500e+05\n",
      "3         NaN       NaN  2.460535e+07\n",
      "4  10773000.0  357280.0  1.279478e+09\n",
      "5         NaN       NaN           NaN\n",
      "name    2\n",
      "kor     0\n",
      "eng     0\n",
      "mat     2\n",
      "dtype: int64\n",
      "name    4\n",
      "kor     4\n",
      "eng     4\n",
      "mat     4\n",
      "dtype: int64\n",
      "kor    665.666667\n",
      "eng    142.333333\n",
      "mat    183.300000\n",
      "dtype: float64\n",
      "kor    25.800517\n",
      "eng    11.930353\n",
      "mat    13.538833\n",
      "dtype: float64\n",
      "0.9926458576614517\n",
      "   name   kor   eng   mat    tot        avg\n",
      "0   kim  90.0  80.0  70.0  240.0  80.000000\n",
      "1   lee  45.0   NaN  55.0  100.0  50.000000\n",
      "2  park  76.0  77.0  83.0  236.0  78.666667\n",
      "3  hong   NaN   NaN  77.0   77.0  77.000000\n",
      "4  Kang  35.0  58.0  52.0  145.0  48.333333\n",
      "5  jang   NaN   NaN   NaN    0.0        NaN\n"
     ]
    }
   ],
   "source": [
    "df = pd.DataFrame(\n",
    "    [['kim', 90, 80, 70],\n",
    "     ['lee', 45, np.nan, 55],\n",
    "     ['park', 76, 77, 83],\n",
    "     ['hong', np.nan, np.nan, 77],\n",
    "     ['Kang', 35, 58, 52],\n",
    "     ['jang', np.nan, np.nan, np.nan]], columns = ['name', 'kor', 'eng', 'mat']\n",
    ")\n",
    "\n",
    "print(df)\n",
    "\n",
    "print(df.count())               # 비어있는 값, 결측값 확인할 때 많이 사용.\n",
    "print(df.count(axis = 1))\n",
    "\n",
    "print(df.min())\n",
    "print(df.loc[:, 'kor':'mat'].min(axis = 1))      # min : NaN 빼고 계산함.\n",
    "print(df.max())\n",
    "\n",
    "print(df.loc[:, 'kor':'mat'].mean())             # 평균 - 다 더하고 나눠서 평균을 내는데, 문자가 있을 경우 오류 발생 유의\n",
    "print(df.loc[:, 'kor':'mat'].mean(axis = 1))\n",
    "\n",
    "print(df.sum())                                  # error : 합계\n",
    "print(df.loc[:, 'kor':'mat'].sum(axis = 1))\n",
    "\n",
    "# print(df.median())                               # error : 문자는 연산 불가해 오류.\n",
    "print(df.loc[:, 'kor':'mat'].median())   # 홀수면 가운데 수, 짝수면 가운데 숫자 2가지를 더한 후 2로 나눈 값.\n",
    "\n",
    "# 누적값 추정\n",
    "print(df.loc[:, 'kor':'mat'].cumsum())               # 덧셈 누적\n",
    "print(df.loc[:, 'kor':'mat'].cumprod())                # 곱셈 누적\n",
    "\n",
    "print(df.idxmax())               # max의 index값\n",
    "print(df.idxmin())\n",
    "\n",
    "# print(df.mad())\n",
    "print(df.loc[:, 'kor':'mat'].var())    # 분산\n",
    "print(df.loc[:, 'kor':'mat'].std())    # 표준편차\n",
    "\n",
    "df['tot'] = df.loc[:, 'kor':'mat'].sum(axis = 1)       # 열 추가\n",
    "df['avg'] = df.loc[:, 'kor':'mat'].mean(axis = 1)      # 평균\n",
    "\n",
    "# 상관관계 확인\n",
    "print(df['kor'].corr(df['eng']))\n",
    "    # 1 : 양의 상관관계   = 높다\n",
    "    # 0 : 상관관계가 낮다 = 없다\n",
    "    # -1 : 음의 상관관계  = 낮다\n",
    "\n",
    "print(df)"
   ]
  },
  {
   "cell_type": "code",
   "execution_count": null,
   "id": "0f275f03-dd80-4082-859a-cc2b8169ed1f",
   "metadata": {},
   "outputs": [],
   "source": []
  },
  {
   "cell_type": "code",
   "execution_count": null,
   "id": "d12c2275-3a33-4d7b-92ea-2a258a60960f",
   "metadata": {},
   "outputs": [],
   "source": []
  },
  {
   "cell_type": "code",
   "execution_count": null,
   "id": "c9b4782d-b1fd-4732-9bad-d061ea4388e0",
   "metadata": {},
   "outputs": [],
   "source": []
  },
  {
   "cell_type": "code",
   "execution_count": null,
   "id": "d86d81a2-9332-4312-92a1-86ce6190b5f5",
   "metadata": {},
   "outputs": [],
   "source": []
  },
  {
   "cell_type": "code",
   "execution_count": null,
   "id": "cfd0e96a-f60c-4dd7-9a5a-9630d114b609",
   "metadata": {},
   "outputs": [],
   "source": []
  },
  {
   "cell_type": "code",
   "execution_count": null,
   "id": "3b0d7b9a-1db1-4750-be1b-5b8a74e66754",
   "metadata": {},
   "outputs": [],
   "source": []
  },
  {
   "cell_type": "code",
   "execution_count": null,
   "id": "8355787e-5623-4aa0-acd9-38d298ccb9f9",
   "metadata": {},
   "outputs": [],
   "source": []
  },
  {
   "cell_type": "code",
   "execution_count": null,
   "id": "0d060d1e-b1af-4410-bf1c-b710a52d9afb",
   "metadata": {},
   "outputs": [],
   "source": []
  },
  {
   "cell_type": "code",
   "execution_count": null,
   "id": "e653e50d-f277-48d5-9b21-fb17f20dc134",
   "metadata": {},
   "outputs": [],
   "source": []
  },
  {
   "cell_type": "code",
   "execution_count": null,
   "id": "fb71e352-43c6-4d7e-8774-996ad17a89d0",
   "metadata": {},
   "outputs": [],
   "source": []
  },
  {
   "cell_type": "code",
   "execution_count": null,
   "id": "854fd03c-40f4-484d-a005-54a498d84f05",
   "metadata": {},
   "outputs": [],
   "source": []
  }
 ],
 "metadata": {
  "kernelspec": {
   "display_name": "Python 3 (ipykernel)",
   "language": "python",
   "name": "python3"
  },
  "language_info": {
   "codemirror_mode": {
    "name": "ipython",
    "version": 3
   },
   "file_extension": ".py",
   "mimetype": "text/x-python",
   "name": "python",
   "nbconvert_exporter": "python",
   "pygments_lexer": "ipython3",
   "version": "3.12.4"
  }
 },
 "nbformat": 4,
 "nbformat_minor": 5
}
