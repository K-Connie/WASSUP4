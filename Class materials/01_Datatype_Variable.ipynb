{
 "cells": [
  {
   "cell_type": "markdown",
   "id": "aec536ed-878e-4dc7-bb33-49f128577333",
   "metadata": {},
   "source": [
    "02-2 문자열 자료형"
   ]
  },
  {
   "cell_type": "code",
   "execution_count": null,
   "id": "a4f7e5d5-50c0-4f96-9157-abce665eb27f",
   "metadata": {},
   "outputs": [],
   "source": []
  },
  {
   "cell_type": "code",
   "execution_count": null,
   "id": "480634d3-455a-473a-b1c5-d5891907492f",
   "metadata": {},
   "outputs": [],
   "source": []
  },
  {
   "cell_type": "code",
   "execution_count": null,
   "id": "1912171c-7baa-4d66-8dde-f7a40e4d901d",
   "metadata": {},
   "outputs": [],
   "source": []
  },
  {
   "cell_type": "code",
   "execution_count": null,
   "id": "ffb95798-67a9-40fe-9dbb-f40fa90d5ba8",
   "metadata": {},
   "outputs": [],
   "source": []
  },
  {
   "cell_type": "code",
   "execution_count": null,
   "id": "4ca7d1f3-67ed-45cf-9f5a-831602b75705",
   "metadata": {},
   "outputs": [],
   "source": []
  },
  {
   "cell_type": "code",
   "execution_count": null,
   "id": "2e9a3258-fe2b-4747-9a82-a90536764c2e",
   "metadata": {},
   "outputs": [],
   "source": []
  },
  {
   "cell_type": "code",
   "execution_count": null,
   "id": "d7e300d7-2842-429e-86ad-30ba4c38b41e",
   "metadata": {},
   "outputs": [],
   "source": []
  },
  {
   "cell_type": "code",
   "execution_count": null,
   "id": "40d3ba1f-8bda-460d-adbe-ea07150133fa",
   "metadata": {},
   "outputs": [],
   "source": []
  },
  {
   "cell_type": "code",
   "execution_count": null,
   "id": "eb23f29a-cadf-41ee-b475-0ca0a95006ac",
   "metadata": {},
   "outputs": [],
   "source": []
  },
  {
   "cell_type": "code",
   "execution_count": null,
   "id": "8c93951d-9591-4359-8bcb-b0052944e734",
   "metadata": {},
   "outputs": [],
   "source": []
  },
  {
   "cell_type": "code",
   "execution_count": null,
   "id": "a1672db0-2e15-426c-a5a7-71f9134265e8",
   "metadata": {},
   "outputs": [],
   "source": []
  },
  {
   "cell_type": "code",
   "execution_count": null,
   "id": "7bfb6b6b-cae6-4bb0-b4e7-0cf5f6bf8850",
   "metadata": {},
   "outputs": [],
   "source": []
  },
  {
   "cell_type": "code",
   "execution_count": 7,
   "id": "ebaf49ed-e7e2-49b0-bb88-809db6025b82",
   "metadata": {},
   "outputs": [
    {
     "data": {
      "text/plain": [
       "'Life'"
      ]
     },
     "execution_count": 7,
     "metadata": {},
     "output_type": "execute_result"
    }
   ],
   "source": [
    "a = \"Life is too short, You need Python\"\n",
    "b = a[0] + a[1] + a[2] + a[3]\n",
    "b\n",
    "'Life'"
   ]
  },
  {
   "cell_type": "code",
   "execution_count": 9,
   "id": "8402d45c-61d4-4258-990e-8a2ddfe9ca77",
   "metadata": {},
   "outputs": [
    {
     "data": {
      "text/plain": [
       "'Life is too short'"
      ]
     },
     "execution_count": 9,
     "metadata": {},
     "output_type": "execute_result"
    }
   ],
   "source": [
    "a[:17]"
   ]
  },
  {
   "cell_type": "code",
   "execution_count": 11,
   "id": "bbbb8453-24e6-4860-8d33-37b59a5797b3",
   "metadata": {},
   "outputs": [
    {
     "data": {
      "text/plain": [
       "'Life is too short, You need Python'"
      ]
     },
     "execution_count": 11,
     "metadata": {},
     "output_type": "execute_result"
    }
   ],
   "source": [
    "a[:]"
   ]
  },
  {
   "cell_type": "code",
   "execution_count": 13,
   "id": "faa539b5-2cc2-4bce-8865-ff2d8405c33e",
   "metadata": {},
   "outputs": [
    {
     "data": {
      "text/plain": [
       "'You need'"
      ]
     },
     "execution_count": 13,
     "metadata": {},
     "output_type": "execute_result"
    }
   ],
   "source": [
    "a[19:-7]"
   ]
  },
  {
   "cell_type": "code",
   "execution_count": null,
   "id": "4ac39eb9-4778-4b2c-a172-8b5bfa5efdc3",
   "metadata": {},
   "outputs": [],
   "source": []
  },
  {
   "cell_type": "code",
   "execution_count": null,
   "id": "b3916919-fb25-4678-95df-c213d704d210",
   "metadata": {},
   "outputs": [],
   "source": []
  },
  {
   "cell_type": "markdown",
   "id": "2b0b4c50-2f37-40a4-9ed4-8c27545d86bd",
   "metadata": {},
   "source": [
    "# 슬라이싱으로 문자열 나누기"
   ]
  },
  {
   "cell_type": "code",
   "execution_count": 18,
   "id": "fe3f36db-7de0-4287-9492-446b0788e2c8",
   "metadata": {},
   "outputs": [],
   "source": [
    "a = \"20240904Sunny\"\n",
    "date = a[:8]\n",
    "weather = a[8:]"
   ]
  },
  {
   "cell_type": "code",
   "execution_count": 20,
   "id": "9976bc1f-59a0-4544-a99c-291bd13cabcf",
   "metadata": {},
   "outputs": [
    {
     "data": {
      "text/plain": [
       "'20240904'"
      ]
     },
     "execution_count": 20,
     "metadata": {},
     "output_type": "execute_result"
    }
   ],
   "source": [
    "a[:8]"
   ]
  },
  {
   "cell_type": "code",
   "execution_count": 22,
   "id": "09a8d550-447d-41ab-98ae-cf3dfd38d405",
   "metadata": {},
   "outputs": [
    {
     "data": {
      "text/plain": [
       "'20240904'"
      ]
     },
     "execution_count": 22,
     "metadata": {},
     "output_type": "execute_result"
    }
   ],
   "source": [
    "a[:-5]"
   ]
  },
  {
   "cell_type": "code",
   "execution_count": 26,
   "id": "93dcb66c-0632-448c-92f6-46b0b98cce61",
   "metadata": {},
   "outputs": [
    {
     "data": {
      "text/plain": [
       "'Sunny'"
      ]
     },
     "execution_count": 26,
     "metadata": {},
     "output_type": "execute_result"
    }
   ],
   "source": [
    "a[8:13]"
   ]
  },
  {
   "cell_type": "code",
   "execution_count": 28,
   "id": "af9e6b67-afa1-4fe2-af5d-44e3ca8b5544",
   "metadata": {},
   "outputs": [
    {
     "data": {
      "text/plain": [
       "'Sunny'"
      ]
     },
     "execution_count": 28,
     "metadata": {},
     "output_type": "execute_result"
    }
   ],
   "source": [
    "a[8:]"
   ]
  },
  {
   "cell_type": "code",
   "execution_count": 30,
   "id": "4dedbb1d-0ee0-4124-b27e-64241eb64c8c",
   "metadata": {},
   "outputs": [
    {
     "data": {
      "text/plain": [
       "'2024'"
      ]
     },
     "execution_count": 30,
     "metadata": {},
     "output_type": "execute_result"
    }
   ],
   "source": [
    "a[:4]"
   ]
  },
  {
   "cell_type": "code",
   "execution_count": 32,
   "id": "59342a3d-4076-4eec-991e-466549c1d61e",
   "metadata": {},
   "outputs": [
    {
     "data": {
      "text/plain": [
       "'0904'"
      ]
     },
     "execution_count": 32,
     "metadata": {},
     "output_type": "execute_result"
    }
   ],
   "source": [
    "a[4:8]"
   ]
  },
  {
   "cell_type": "code",
   "execution_count": 34,
   "id": "048d40c9-3e45-46a7-81c1-996a4dda551c",
   "metadata": {},
   "outputs": [
    {
     "data": {
      "text/plain": [
       "'i'"
      ]
     },
     "execution_count": 34,
     "metadata": {},
     "output_type": "execute_result"
    }
   ],
   "source": [
    "# 문자열 변경 가능? 불가!\n",
    "a = \"Pithon\"\n",
    "a[1]"
   ]
  },
  {
   "cell_type": "code",
   "execution_count": 39,
   "id": "d748bf9d-099e-4c5e-a1f6-7f7d10ec2d68",
   "metadata": {},
   "outputs": [
    {
     "data": {
      "text/plain": [
       "'Python'"
      ]
     },
     "execution_count": 39,
     "metadata": {},
     "output_type": "execute_result"
    }
   ],
   "source": [
    "a[:1] + \"y\"+ a[2:6]"
   ]
  },
  {
   "cell_type": "code",
   "execution_count": 41,
   "id": "854e18d5-8b3a-4200-aba5-26eaa02c251e",
   "metadata": {},
   "outputs": [
    {
     "data": {
      "text/plain": [
       "'Python'"
      ]
     },
     "execution_count": 41,
     "metadata": {},
     "output_type": "execute_result"
    }
   ],
   "source": [
    "a = \"Pithon\"\n",
    "b = \"y\"\n",
    "a[0] + b + a[2:]"
   ]
  },
  {
   "cell_type": "code",
   "execution_count": 45,
   "id": "85e88bf2-6963-4a0c-899a-4e0261660073",
   "metadata": {},
   "outputs": [
    {
     "data": {
      "text/plain": [
       "'Python'"
      ]
     },
     "execution_count": 45,
     "metadata": {},
     "output_type": "execute_result"
    }
   ],
   "source": [
    "a[0]+\"y\"+a[2:6]"
   ]
  },
  {
   "cell_type": "markdown",
   "id": "14025944-181a-46e4-8234-288be1b681e7",
   "metadata": {},
   "source": [
    "# 문자열 포매팅"
   ]
  },
  {
   "cell_type": "code",
   "execution_count": 52,
   "id": "b2932773-132c-485f-834b-418e5a646d6f",
   "metadata": {},
   "outputs": [
    {
     "data": {
      "text/plain": [
       "'I eat 3 apples.'"
      ]
     },
     "execution_count": 52,
     "metadata": {},
     "output_type": "execute_result"
    }
   ],
   "source": [
    "\"I eat %d apples.\" % 3"
   ]
  },
  {
   "cell_type": "code",
   "execution_count": 54,
   "id": "456c464a-73e8-44bb-91e6-12bac452c856",
   "metadata": {},
   "outputs": [
    {
     "data": {
      "text/plain": [
       "'I eat five apples.'"
      ]
     },
     "execution_count": 54,
     "metadata": {},
     "output_type": "execute_result"
    }
   ],
   "source": [
    "\"I eat %s apples.\" % \"five\""
   ]
  },
  {
   "cell_type": "code",
   "execution_count": 56,
   "id": "9b1ee9cd-7bed-48d1-b224-74124fd3825d",
   "metadata": {},
   "outputs": [
    {
     "data": {
      "text/plain": [
       "'I eat 3 apples.'"
      ]
     },
     "execution_count": 56,
     "metadata": {},
     "output_type": "execute_result"
    }
   ],
   "source": [
    "number = 3\n",
    "\"I eat %d apples.\" % number"
   ]
  },
  {
   "cell_type": "markdown",
   "id": "c57f7f8a-9ce1-4c37-ab88-37aa6e0dd8b8",
   "metadata": {},
   "source": [
    "숫자를 넣기 위해서는 %d, 문자열을 넣기 위해서는 %s"
   ]
  },
  {
   "cell_type": "code",
   "execution_count": 60,
   "id": "da89bd0e-f643-4d61-b689-f73451c40ea7",
   "metadata": {},
   "outputs": [
    {
     "data": {
      "text/plain": [
       "'I ate 10 apples. so I was sick for three days.'"
      ]
     },
     "execution_count": 60,
     "metadata": {},
     "output_type": "execute_result"
    }
   ],
   "source": [
    "number = 10\n",
    "day = \"three\"\n",
    "\"I ate %d apples. so I was sick for %s days.\" % (number, day)"
   ]
  },
  {
   "cell_type": "code",
   "execution_count": 65,
   "id": "59345417-762c-4027-a08b-ae0381381b17",
   "metadata": {},
   "outputs": [
    {
     "data": {
      "text/plain": [
       "'Error is 98%.'"
      ]
     },
     "execution_count": 65,
     "metadata": {},
     "output_type": "execute_result"
    }
   ],
   "source": [
    "\"Error is %d%%.\" % 98"
   ]
  },
  {
   "cell_type": "code",
   "execution_count": null,
   "id": "08c7e7af-045a-49c2-88a6-7370293e8b28",
   "metadata": {},
   "outputs": [],
   "source": [
    "## 소수점 표현"
   ]
  },
  {
   "cell_type": "code",
   "execution_count": 68,
   "id": "0abb1ff4-db7b-44fd-b077-bba0d98dcee2",
   "metadata": {},
   "outputs": [
    {
     "data": {
      "text/plain": [
       "'3.4213'"
      ]
     },
     "execution_count": 68,
     "metadata": {},
     "output_type": "execute_result"
    }
   ],
   "source": [
    "\"%0.4f\" % 3.42134234"
   ]
  },
  {
   "cell_type": "code",
   "execution_count": 70,
   "id": "29859808-3585-4277-8a1d-728bf4587184",
   "metadata": {},
   "outputs": [
    {
     "data": {
      "text/plain": [
       "'3.42'"
      ]
     },
     "execution_count": 70,
     "metadata": {},
     "output_type": "execute_result"
    }
   ],
   "source": [
    "\"%0.2f\" % 3.42134234"
   ]
  },
  {
   "cell_type": "markdown",
   "id": "c591af2b-334d-4c38-a577-4b291900c00d",
   "metadata": {},
   "source": [
    "### format 함수를 사용한 포매팅"
   ]
  },
  {
   "cell_type": "code",
   "execution_count": 77,
   "id": "5ec9fff8-d9f2-40d3-8ccf-516c4aa0cdd7",
   "metadata": {},
   "outputs": [
    {
     "data": {
      "text/plain": [
       "'I eat 3 apples'"
      ]
     },
     "execution_count": 77,
     "metadata": {},
     "output_type": "execute_result"
    }
   ],
   "source": [
    "\"I eat {0} apples\".format(3)"
   ]
  },
  {
   "cell_type": "code",
   "execution_count": 79,
   "id": "bffd9f52-0b5f-487d-9754-8d7d7fe0110b",
   "metadata": {},
   "outputs": [
    {
     "data": {
      "text/plain": [
       "'I eat five apples'"
      ]
     },
     "execution_count": 79,
     "metadata": {},
     "output_type": "execute_result"
    }
   ],
   "source": [
    "\"I eat {0} apples\".format(\"five\")"
   ]
  },
  {
   "cell_type": "code",
   "execution_count": 81,
   "id": "d5a835c7-2804-434b-99b1-a8ae697fe1c7",
   "metadata": {},
   "outputs": [
    {
     "data": {
      "text/plain": [
       "'I eat 10 apples'"
      ]
     },
     "execution_count": 81,
     "metadata": {},
     "output_type": "execute_result"
    }
   ],
   "source": [
    "\"I eat {0} apples\".format(number)"
   ]
  },
  {
   "cell_type": "code",
   "execution_count": 91,
   "id": "e8d794a1-1658-44b0-9ad3-991ed6d79b3e",
   "metadata": {},
   "outputs": [
    {
     "data": {
      "text/plain": [
       "'I ate three apples. so I was sick for 10 days.'"
      ]
     },
     "execution_count": 91,
     "metadata": {},
     "output_type": "execute_result"
    }
   ],
   "source": [
    "\"I ate {} apples. so I was sick for {} days.\".format(day, number)"
   ]
  },
  {
   "cell_type": "code",
   "execution_count": 85,
   "id": "0c5198ec-5add-4f39-9dac-fdbd6e64c624",
   "metadata": {},
   "outputs": [
    {
     "data": {
      "text/plain": [
       "'I ate 10 apples. so I was sick for three days.'"
      ]
     },
     "execution_count": 85,
     "metadata": {},
     "output_type": "execute_result"
    }
   ],
   "source": [
    "\"I ate {0} apples. so I was sick for {1} days.\".format(number, day)"
   ]
  },
  {
   "cell_type": "code",
   "execution_count": 89,
   "id": "e22c856a-2f3f-4245-a43e-3295c94c5bac",
   "metadata": {},
   "outputs": [
    {
     "data": {
      "text/plain": [
       "'I ate 10 apples. so I was sick for three days.'"
      ]
     },
     "execution_count": 89,
     "metadata": {},
     "output_type": "execute_result"
    }
   ],
   "source": [
    "\"I ate {a} apples. so I was sick for {b} days.\".format(a=number, b=day)"
   ]
  },
  {
   "cell_type": "markdown",
   "id": "ebf1d30c-5a60-49c3-b2d2-7915aa56df16",
   "metadata": {},
   "source": [
    "### 소수점 표현하기\n"
   ]
  },
  {
   "cell_type": "code",
   "execution_count": 94,
   "id": "95c25684-fbee-461f-8d8e-3413229cea7f",
   "metadata": {},
   "outputs": [
    {
     "data": {
      "text/plain": [
       "'3.4213'"
      ]
     },
     "execution_count": 94,
     "metadata": {},
     "output_type": "execute_result"
    }
   ],
   "source": [
    "y = 3.42134234\n",
    "\"{0:0.4f}\".format(y)"
   ]
  },
  {
   "cell_type": "code",
   "execution_count": 98,
   "id": "3ccf5ea2-b635-4e5a-847d-00636f95e215",
   "metadata": {},
   "outputs": [
    {
     "data": {
      "text/plain": [
       "'{and}'"
      ]
     },
     "execution_count": 98,
     "metadata": {},
     "output_type": "execute_result"
    }
   ],
   "source": [
    "\"{{and}}\".format()"
   ]
  },
  {
   "cell_type": "markdown",
   "id": "4305b7af-e526-4215-9a08-864ee97efec5",
   "metadata": {},
   "source": [
    "## f 문자열 포매팅!!!!!"
   ]
  },
  {
   "cell_type": "code",
   "execution_count": null,
   "id": "626fb24a-012f-428d-8675-d7ebaffaa54d",
   "metadata": {},
   "outputs": [],
   "source": []
  },
  {
   "cell_type": "code",
   "execution_count": 101,
   "id": "cd0ffb75-1d2b-4dae-ae7b-d7d454d044d2",
   "metadata": {},
   "outputs": [
    {
     "data": {
      "text/plain": [
       "'나의 이름은 홍길동입니다. 나이는 30입니다.'"
      ]
     },
     "execution_count": 101,
     "metadata": {},
     "output_type": "execute_result"
    }
   ],
   "source": [
    "name = '홍길동'\n",
    "age = 30\n",
    "f'나의 이름은 {name}입니다. 나이는 {age}입니다.'"
   ]
  },
  {
   "cell_type": "code",
   "execution_count": 104,
   "id": "02888a63-5287-45c2-b2d9-e8a4927657ed",
   "metadata": {},
   "outputs": [
    {
     "data": {
      "text/plain": [
       "'나의 이름은 홍길동입니다. 나이는 31입니다.'"
      ]
     },
     "execution_count": 104,
     "metadata": {},
     "output_type": "execute_result"
    }
   ],
   "source": [
    "f'나의 이름은 {name}입니다. 나이는 {age+1}입니다.'"
   ]
  },
  {
   "cell_type": "markdown",
   "id": "ae21983f-9545-46ce-833f-225b2c346018",
   "metadata": {},
   "source": [
    "***딕셔너리***"
   ]
  },
  {
   "cell_type": "code",
   "execution_count": 108,
   "id": "4794999d-c3b8-4dd6-b646-4b53887cf2b3",
   "metadata": {},
   "outputs": [
    {
     "data": {
      "text/plain": [
       "'나의 이름은 홍길동입니다. 나이는 30입니다.'"
      ]
     },
     "execution_count": 108,
     "metadata": {},
     "output_type": "execute_result"
    }
   ],
   "source": [
    "d = {'name':'홍길동', 'age':30}\n",
    "f'나의 이름은 {d[\"name\"]}입니다. 나이는 {d[\"age\"]}입니다.'"
   ]
  },
  {
   "cell_type": "code",
   "execution_count": 113,
   "id": "4c5f97c3-6109-481b-912e-6f9b085b419c",
   "metadata": {},
   "outputs": [
    {
     "data": {
      "text/plain": [
       "'나의 이름은 홍길동입니다. 나이는 30입니다.'"
      ]
     },
     "execution_count": 113,
     "metadata": {},
     "output_type": "execute_result"
    }
   ],
   "source": [
    "f\"나의 이름은 {d['name']}입니다. 나이는 {d['age']}입니다.\""
   ]
  },
  {
   "cell_type": "code",
   "execution_count": 119,
   "id": "d42c6d39-4023-4773-b48f-2934ccfe91bd",
   "metadata": {},
   "outputs": [
    {
     "data": {
      "text/plain": [
       "'3.4213'"
      ]
     },
     "execution_count": 119,
     "metadata": {},
     "output_type": "execute_result"
    }
   ],
   "source": [
    "y\n",
    "f'{y:0.4f}'"
   ]
  },
  {
   "cell_type": "code",
   "execution_count": 121,
   "id": "bca597e6-2053-4964-afa8-78e5f9bff11a",
   "metadata": {},
   "outputs": [
    {
     "data": {
      "text/plain": [
       "'    3.4213'"
      ]
     },
     "execution_count": 121,
     "metadata": {},
     "output_type": "execute_result"
    }
   ],
   "source": [
    "f'{y:10.4f}'"
   ]
  },
  {
   "cell_type": "markdown",
   "id": "ba51da12-f6b0-4b4e-952c-f1aa11608699",
   "metadata": {},
   "source": [
    "### 문자열 관련 함수"
   ]
  },
  {
   "cell_type": "code",
   "execution_count": 128,
   "id": "258c3a56-d300-4f38-a5b0-5778ca17bc9d",
   "metadata": {},
   "outputs": [
    {
     "data": {
      "text/plain": [
       "5"
      ]
     },
     "execution_count": 128,
     "metadata": {},
     "output_type": "execute_result"
    }
   ],
   "source": [
    "a = \"hobby\"\n",
    "len(a)"
   ]
  },
  {
   "cell_type": "code",
   "execution_count": 132,
   "id": "66de3240-5b45-490c-8007-90e6efc280a9",
   "metadata": {},
   "outputs": [
    {
     "data": {
      "text/plain": [
       "2"
      ]
     },
     "execution_count": 132,
     "metadata": {},
     "output_type": "execute_result"
    }
   ],
   "source": [
    "# 특정 문자열 세기 (b 문자 몇 개 있니?)\n",
    "a.count('b')"
   ]
  },
  {
   "cell_type": "code",
   "execution_count": 134,
   "id": "4b2e19c7-97c4-4785-a808-50fad1ebd4e6",
   "metadata": {},
   "outputs": [
    {
     "data": {
      "text/plain": [
       "14"
      ]
     },
     "execution_count": 134,
     "metadata": {},
     "output_type": "execute_result"
    }
   ],
   "source": [
    "# 위치 알려주기\n",
    "a = \"Python is the best choice\"\n",
    "a.find('b')"
   ]
  },
  {
   "cell_type": "code",
   "execution_count": 138,
   "id": "900abbc6-aaa7-4bd9-bd40-8afb7bfe2a27",
   "metadata": {},
   "outputs": [
    {
     "data": {
      "text/plain": [
       "-1"
      ]
     },
     "execution_count": 138,
     "metadata": {},
     "output_type": "execute_result"
    }
   ],
   "source": [
    "# 없는 문자열 검색 시 \"-1\" 값이 나옴\n",
    "a.find('k')"
   ]
  },
  {
   "cell_type": "code",
   "execution_count": 144,
   "id": "0ae07f94-f2cd-41a0-be94-e7b68c4cb6fe",
   "metadata": {},
   "outputs": [
    {
     "data": {
      "text/plain": [
       "\u001b[1;31mDocstring:\u001b[0m\n",
       "S.find(sub[, start[, end]]) -> int\n",
       "\n",
       "Return the lowest index in S where substring sub is found,\n",
       "such that sub is contained within S[start:end].  Optional\n",
       "arguments start and end are interpreted as in slice notation.\n",
       "\n",
       "Return -1 on failure.\n",
       "\u001b[1;31mType:\u001b[0m      builtin_function_or_method"
      ]
     },
     "metadata": {},
     "output_type": "display_data"
    }
   ],
   "source": [
    "# docstring\n",
    "a.find?"
   ]
  },
  {
   "cell_type": "code",
   "execution_count": 148,
   "id": "3c65ff35-7f09-4586-8f03-39c2a4897158",
   "metadata": {},
   "outputs": [
    {
     "name": "stdout",
     "output_type": "stream",
     "text": [
      "Help on built-in function find:\n",
      "\n",
      "find(...) method of builtins.str instance\n",
      "    S.find(sub[, start[, end]]) -> int\n",
      "\n",
      "    Return the lowest index in S where substring sub is found,\n",
      "    such that sub is contained within S[start:end].  Optional\n",
      "    arguments start and end are interpreted as in slice notation.\n",
      "\n",
      "    Return -1 on failure.\n",
      "\n"
     ]
    }
   ],
   "source": [
    "help(a.find)"
   ]
  },
  {
   "cell_type": "code",
   "execution_count": 150,
   "id": "38c27a4c-8cae-4625-9aae-a46ec844615e",
   "metadata": {},
   "outputs": [
    {
     "data": {
      "text/plain": [
       "(8, 8)"
      ]
     },
     "execution_count": 150,
     "metadata": {},
     "output_type": "execute_result"
    }
   ],
   "source": [
    "# 위치 알려 주기 1 - find, index\n",
    "a = \"Life is too short\"\n",
    "a.index('t'), a.find('t')"
   ]
  },
  {
   "cell_type": "code",
   "execution_count": 152,
   "id": "2edb93cf-9efa-4878-a4d6-301d6aa6c0c3",
   "metadata": {},
   "outputs": [
    {
     "ename": "ValueError",
     "evalue": "substring not found",
     "output_type": "error",
     "traceback": [
      "\u001b[1;31m---------------------------------------------------------------------------\u001b[0m",
      "\u001b[1;31mValueError\u001b[0m                                Traceback (most recent call last)",
      "Cell \u001b[1;32mIn[152], line 1\u001b[0m\n\u001b[1;32m----> 1\u001b[0m a\u001b[38;5;241m.\u001b[39mindex(\u001b[38;5;124m'\u001b[39m\u001b[38;5;124mk\u001b[39m\u001b[38;5;124m'\u001b[39m)\n",
      "\u001b[1;31mValueError\u001b[0m: substring not found"
     ]
    }
   ],
   "source": [
    "a.index('k')"
   ]
  },
  {
   "cell_type": "code",
   "execution_count": 154,
   "id": "e27658a1-f259-4f96-8082-68c7765cc5c1",
   "metadata": {},
   "outputs": [
    {
     "data": {
      "text/plain": [
       "-1"
      ]
     },
     "execution_count": 154,
     "metadata": {},
     "output_type": "execute_result"
    }
   ],
   "source": [
    "a.find('k')"
   ]
  },
  {
   "cell_type": "code",
   "execution_count": 164,
   "id": "d74bf8e1-471d-4841-b275-c4f2a72e5d99",
   "metadata": {},
   "outputs": [
    {
     "data": {
      "text/plain": [
       "'a,b,c,d'"
      ]
     },
     "execution_count": 164,
     "metadata": {},
     "output_type": "execute_result"
    }
   ],
   "source": [
    "# 문자열 삽입 - join : 반드시 문자열로 반환합니다.\n",
    "\",\".join('abcd')"
   ]
  },
  {
   "cell_type": "code",
   "execution_count": 158,
   "id": "87a3a241-12a8-4f82-abc3-d443e5cf552a",
   "metadata": {},
   "outputs": [
    {
     "data": {
      "text/plain": [
       "'a,b,c,d'"
      ]
     },
     "execution_count": 158,
     "metadata": {},
     "output_type": "execute_result"
    }
   ],
   "source": [
    "\",\".join(['a', 'b', 'c', 'd'])"
   ]
  },
  {
   "cell_type": "code",
   "execution_count": 160,
   "id": "db63fe1d-72c9-49c5-b62f-304b5e656d1d",
   "metadata": {},
   "outputs": [
    {
     "data": {
      "text/plain": [
       "'HI'"
      ]
     },
     "execution_count": 160,
     "metadata": {},
     "output_type": "execute_result"
    }
   ],
   "source": [
    "a = \"hi\"\n",
    "a.upper()"
   ]
  },
  {
   "cell_type": "code",
   "execution_count": 162,
   "id": "a794d932-c88e-4b18-9045-5e412aed1529",
   "metadata": {},
   "outputs": [
    {
     "data": {
      "text/plain": [
       "\u001b[1;31mSignature:\u001b[0m \u001b[0ma\u001b[0m\u001b[1;33m.\u001b[0m\u001b[0mupper\u001b[0m\u001b[1;33m(\u001b[0m\u001b[1;33m)\u001b[0m\u001b[1;33m\u001b[0m\u001b[1;33m\u001b[0m\u001b[0m\n",
       "\u001b[1;31mDocstring:\u001b[0m Return a copy of the string converted to uppercase.\n",
       "\u001b[1;31mType:\u001b[0m      builtin_function_or_method"
      ]
     },
     "metadata": {},
     "output_type": "display_data"
    }
   ],
   "source": [
    "a.upper?"
   ]
  },
  {
   "cell_type": "code",
   "execution_count": 166,
   "id": "91a3b8ed-796d-4feb-8422-76043bee1414",
   "metadata": {},
   "outputs": [
    {
     "data": {
      "text/plain": [
       "'hi'"
      ]
     },
     "execution_count": 166,
     "metadata": {},
     "output_type": "execute_result"
    }
   ],
   "source": [
    "a = \"HI\"\n",
    "a.lower()"
   ]
  },
  {
   "cell_type": "code",
   "execution_count": 174,
   "id": "a5a6b341-ff40-45d2-bbac-92788128c5ab",
   "metadata": {},
   "outputs": [
    {
     "data": {
      "text/plain": [
       "'hi '"
      ]
     },
     "execution_count": 174,
     "metadata": {},
     "output_type": "execute_result"
    }
   ],
   "source": [
    "# 공백 지우기 - lstrip, rstrip, strip\n",
    "a = \" hi \"\n",
    "a.lstrip()"
   ]
  },
  {
   "cell_type": "code",
   "execution_count": 170,
   "id": "22e568d8-e427-4ce9-99f0-33ab27d97d17",
   "metadata": {},
   "outputs": [
    {
     "data": {
      "text/plain": [
       "' hi'"
      ]
     },
     "execution_count": 170,
     "metadata": {},
     "output_type": "execute_result"
    }
   ],
   "source": [
    "a.rstrip()"
   ]
  },
  {
   "cell_type": "code",
   "execution_count": 172,
   "id": "55dd66a5-9dd3-483a-b82f-99890adc483a",
   "metadata": {},
   "outputs": [
    {
     "data": {
      "text/plain": [
       "'hi'"
      ]
     },
     "execution_count": 172,
     "metadata": {},
     "output_type": "execute_result"
    }
   ],
   "source": [
    "a.strip()"
   ]
  },
  {
   "cell_type": "code",
   "execution_count": 176,
   "id": "9b1746c0-be7d-46ad-9ee8-60382a5ece59",
   "metadata": {},
   "outputs": [
    {
     "data": {
      "text/plain": [
       "'Your leg is too short'"
      ]
     },
     "execution_count": 176,
     "metadata": {},
     "output_type": "execute_result"
    }
   ],
   "source": [
    "# 문자열 바꾸기 - replace\n",
    "a = \"Life is too short\"\n",
    "a.replace(\"Life\", \"Your leg\")"
   ]
  },
  {
   "cell_type": "code",
   "execution_count": 178,
   "id": "525a6f0e-49b1-4de1-aa8b-9bb9847c9ade",
   "metadata": {},
   "outputs": [
    {
     "data": {
      "text/plain": [
       "['Life', 'is', 'too', 'short']"
      ]
     },
     "execution_count": 178,
     "metadata": {},
     "output_type": "execute_result"
    }
   ],
   "source": [
    "# 문자열 나누기 - split\n",
    "a = \"Life is too short\"\n",
    "a.split()"
   ]
  },
  {
   "cell_type": "code",
   "execution_count": 195,
   "id": "b4bee401-df1f-41d3-a1f7-960e672c1c68",
   "metadata": {},
   "outputs": [
    {
     "data": {
      "text/plain": [
       "['a', 'b', 'c', 'd']"
      ]
     },
     "execution_count": 195,
     "metadata": {},
     "output_type": "execute_result"
    }
   ],
   "source": [
    "b = \"a:b:c:d\"\n",
    "b.split(':')"
   ]
  },
  {
   "cell_type": "code",
   "execution_count": null,
   "id": "77e2fc9f-1f28-4e8b-bbef-d38f72b25bfa",
   "metadata": {},
   "outputs": [],
   "source": []
  },
  {
   "cell_type": "markdown",
   "id": "656d969e-8edb-452c-b555-5138609af775",
   "metadata": {},
   "source": [
    "### push 오류로 삭제된 지점. 재정리 필요."
   ]
  },
  {
   "cell_type": "markdown",
   "id": "ed659a1f-8693-4fe5-bb08-b5efd67ab3df",
   "metadata": {},
   "source": [
    "# 03장 프로그램의 구조를 쌓는다 - 제어문"
   ]
  },
  {
   "cell_type": "markdown",
   "id": "564dc567-ab82-470a-a8dd-eb578e2fa50e",
   "metadata": {},
   "source": [
    "## 03-3 for문"
   ]
  },
  {
   "cell_type": "code",
   "execution_count": 10,
   "id": "a8b1101d-ea26-4526-88d9-8c63fed2937b",
   "metadata": {},
   "outputs": [
    {
     "data": {
      "text/plain": [
       "range(0, 10)"
      ]
     },
     "execution_count": 10,
     "metadata": {},
     "output_type": "execute_result"
    }
   ],
   "source": [
    "# for 문과 함께 자주 사용하는 range 함수\n",
    "\n",
    "a = range(10)\n",
    "a"
   ]
  },
  {
   "cell_type": "code",
   "execution_count": 14,
   "id": "fb457daf-cef0-4b8e-a399-0f4d58032857",
   "metadata": {},
   "outputs": [
    {
     "data": {
      "text/plain": [
       "range(1, 11)"
      ]
     },
     "execution_count": 14,
     "metadata": {},
     "output_type": "execute_result"
    }
   ],
   "source": [
    "a = range(1, 11)\n",
    "a"
   ]
  },
  {
   "cell_type": "code",
   "execution_count": 22,
   "id": "a6ad512c-c8d3-47e3-a61c-1d5dc32ad728",
   "metadata": {},
   "outputs": [
    {
     "name": "stdout",
     "output_type": "stream",
     "text": [
      "55\n"
     ]
    }
   ],
   "source": [
    "    # for와 range 함수를 사용하면 1부터 10까지 더하는 것\n",
    "\n",
    "add = 0\n",
    "for i in range(1, 11): \n",
    "     add = add + i\n",
    "print(add)"
   ]
  },
  {
   "cell_type": "markdown",
   "id": "b100da8b-7eea-4c4c-b1ee-c5c3a0c73b78",
   "metadata": {},
   "source": [
    "> 다시 보기"
   ]
  },
  {
   "cell_type": "markdown",
   "id": "5f31e466-7295-4192-bd6d-894f177eca99",
   "metadata": {},
   "source": [
    "    # marks3.py\n",
    "        # len는 리스트 안의 요소 개수를 리턴하는 함수\n",
    "\n",
    "marks = [90, 25, 67, 45, 80]\n",
    "for number in range(len(marks)):\n",
    "    if marks[number] < 60: \n",
    "        continue\n",
    "    print(\"%d번 학생 축하합니다. 합격입니다.\" % (number+1))"
   ]
  },
  {
   "cell_type": "code",
   "execution_count": 45,
   "id": "17514381-f286-4d9e-8d5d-26069370e55c",
   "metadata": {},
   "outputs": [],
   "source": [
    "scores = [900, 25, 67, 45, 80]\n",
    "################################################################\n",
    "# continue 관련 내용 추가 필요"
   ]
  },
  {
   "cell_type": "markdown",
   "id": "786947d8-3581-4e9d-987b-d6465fc01232",
   "metadata": {},
   "source": [
    "### for와 range를 이용한 구구단\n",
    "    # Hint. 반복되는 패턴을 찾기\n"
   ]
  },
  {
   "cell_type": "code",
   "execution_count": 60,
   "id": "66c85936-2988-4ea0-9c8d-31a390fbe599",
   "metadata": {},
   "outputs": [
    {
     "name": "stdout",
     "output_type": "stream",
     "text": [
      "==========\n",
      "2단\n",
      "2X1=2\n",
      "2X2=4\n",
      "2X3=6\n",
      "2X4=8\n",
      "2X5=10\n",
      "2X6=12\n",
      "2X7=14\n",
      "2X8=16\n",
      "2X9=18\n",
      "==========\n",
      "3단\n",
      "3X1=3\n",
      "3X2=6\n",
      "3X3=9\n",
      "3X4=12\n",
      "3X5=15\n",
      "3X6=18\n",
      "3X7=21\n",
      "3X8=24\n",
      "3X9=27\n",
      "==========\n",
      "4단\n",
      "4X1=4\n",
      "4X2=8\n",
      "4X3=12\n",
      "4X4=16\n",
      "4X5=20\n",
      "4X6=24\n",
      "4X7=28\n",
      "4X8=32\n",
      "4X9=36\n",
      "==========\n",
      "5단\n",
      "5X1=5\n",
      "5X2=10\n",
      "5X3=15\n",
      "5X4=20\n",
      "5X5=25\n",
      "5X6=30\n",
      "5X7=35\n",
      "5X8=40\n",
      "5X9=45\n",
      "==========\n",
      "6단\n",
      "6X1=6\n",
      "6X2=12\n",
      "6X3=18\n",
      "6X4=24\n",
      "6X5=30\n",
      "6X6=36\n",
      "6X7=42\n",
      "6X8=48\n",
      "6X9=54\n",
      "==========\n",
      "7단\n",
      "7X1=7\n",
      "7X2=14\n",
      "7X3=21\n",
      "7X4=28\n",
      "7X5=35\n",
      "7X6=42\n",
      "7X7=49\n",
      "7X8=56\n",
      "7X9=63\n",
      "==========\n",
      "8단\n",
      "8X1=8\n",
      "8X2=16\n",
      "8X3=24\n",
      "8X4=32\n",
      "8X5=40\n",
      "8X6=48\n",
      "8X7=56\n",
      "8X8=64\n",
      "8X9=72\n",
      "==========\n",
      "9단\n",
      "9X1=9\n",
      "9X2=18\n",
      "9X3=27\n",
      "9X4=36\n",
      "9X5=45\n",
      "9X6=54\n",
      "9X7=63\n",
      "9X8=72\n",
      "9X9=81\n"
     ]
    }
   ],
   "source": [
    "for i in range(2,10):         # 1번 for문\n",
    "    print('='*10)\n",
    "    print(f'{i}단')\n",
    "    for j in range(1, 10):   # 2번 for문\n",
    "         print(f\"{i}X{j}={i*j}\")"
   ]
  },
  {
   "cell_type": "code",
   "execution_count": 62,
   "id": "855e25b8-5ec6-4ae9-8633-68d2382b4d23",
   "metadata": {},
   "outputs": [
    {
     "name": "stdout",
     "output_type": "stream",
     "text": [
      "2 4 6 8 10 12 14 16 18 \n",
      "3 6 9 12 15 18 21 24 27 \n",
      "4 8 12 16 20 24 28 32 36 \n",
      "5 10 15 20 25 30 35 40 45 \n",
      "6 12 18 24 30 36 42 48 54 \n",
      "7 14 21 28 35 42 49 56 63 \n",
      "8 16 24 32 40 48 56 64 72 \n",
      "9 18 27 36 45 54 63 72 81 \n"
     ]
    }
   ],
   "source": [
    "for i in range(2,10):         # 1번 for문\n",
    "     for j in range(1, 10):   # 2번 for문\n",
    "         print(i*j, end=\" \")  # print함수는 줄바꿈이 기본 적용되어있다. 줄바꿈을 안 할 경우 이렇게 표현한다.\n",
    "     print('')"
   ]
  },
  {
   "cell_type": "code",
   "execution_count": 64,
   "id": "45ecd5a7-48b8-4daf-ac91-2c9a4cfc51f5",
   "metadata": {},
   "outputs": [
    {
     "data": {
      "text/plain": [
       "\u001b[1;31mSignature:\u001b[0m \u001b[0mprint\u001b[0m\u001b[1;33m(\u001b[0m\u001b[1;33m*\u001b[0m\u001b[0margs\u001b[0m\u001b[1;33m,\u001b[0m \u001b[0msep\u001b[0m\u001b[1;33m=\u001b[0m\u001b[1;34m' '\u001b[0m\u001b[1;33m,\u001b[0m \u001b[0mend\u001b[0m\u001b[1;33m=\u001b[0m\u001b[1;34m'\\n'\u001b[0m\u001b[1;33m,\u001b[0m \u001b[0mfile\u001b[0m\u001b[1;33m=\u001b[0m\u001b[1;32mNone\u001b[0m\u001b[1;33m,\u001b[0m \u001b[0mflush\u001b[0m\u001b[1;33m=\u001b[0m\u001b[1;32mFalse\u001b[0m\u001b[1;33m)\u001b[0m\u001b[1;33m\u001b[0m\u001b[1;33m\u001b[0m\u001b[0m\n",
       "\u001b[1;31mDocstring:\u001b[0m\n",
       "Prints the values to a stream, or to sys.stdout by default.\n",
       "\n",
       "sep\n",
       "  string inserted between values, default a space.\n",
       "end\n",
       "  string appended after the last value, default a newline.\n",
       "file\n",
       "  a file-like object (stream); defaults to the current sys.stdout.\n",
       "flush\n",
       "  whether to forcibly flush the stream.\n",
       "\u001b[1;31mType:\u001b[0m      builtin_function_or_method"
      ]
     },
     "metadata": {},
     "output_type": "display_data"
    }
   ],
   "source": [
    "print?"
   ]
  },
  {
   "cell_type": "markdown",
   "id": "b87cc8b3-be5b-4efc-afd6-1e4a62644c60",
   "metadata": {},
   "source": [
    "### 리스트 컴프리헨션"
   ]
  },
  {
   "cell_type": "markdown",
   "id": "97115f14-1fcc-4373-beb0-897596c8d88c",
   "metadata": {},
   "source": [
    "시간 측정을 위한 코드, 2배넘게 차이남\n",
    "import time\n",
    "\n",
    "start = time.time() \n",
    "numbers = [i for i in range(1000000)] \n",
    "end = time.time() \n",
    "print('List Comprehension Time:', end-start)\n",
    "\n",
    "start = time.time() \n",
    "numbers = []\n",
    "for i in range(1000000):\n",
    "    numbers.append(i)\n",
    "end = time.time() \n",
    "print('For loop Time:', end-start)"
   ]
  },
  {
   "cell_type": "code",
   "execution_count": null,
   "id": "efcdb99f-6b78-4036-adf8-4a9c5e37fb43",
   "metadata": {},
   "outputs": [],
   "source": [
    "a = [1,2,3,4]\n",
    ">>> result = [num * 3 for num in a if num % 2 == 0]\n",
    ">>> print(result)"
   ]
  },
  {
   "cell_type": "code",
   "execution_count": 67,
   "id": "1e3196a1-3fd7-4e96-9515-e2bb8bfb5246",
   "metadata": {},
   "outputs": [
    {
     "name": "stdout",
     "output_type": "stream",
     "text": [
      "[3, 6, 9, 12]\n"
     ]
    }
   ],
   "source": [
    "a = [1,2,3,4]\n",
    "result = []\n",
    "for num in a:\n",
    "    result.append(num*3)\n",
    "\n",
    "print(result)"
   ]
  },
  {
   "cell_type": "code",
   "execution_count": null,
   "id": "9e8c7f37-70a3-4dad-b91b-b7184ab27ecb",
   "metadata": {},
   "outputs": [],
   "source": [
    "a = [1,2,3,4]\n",
    "result = [num * 3 for num in a if num % 2 == 0]\n",
    "print(result)"
   ]
  },
  {
   "cell_type": "markdown",
   "id": "6e57221f-b2cf-45bf-9c3c-bc3d561d7308",
   "metadata": {},
   "source": [
    "### 전화번호 프로그램 만들기\n",
    "- 홍길동 010-123-4567\n",
    "- 기능1 : 연락처 추가 >> dict[key] = value\n",
    "- 기능2 : 연락처 전체 보기 >> print(dict)\n",
    "- 기능3 : 검색, 이름을 입력받아 전화번호 조회 >> dict[key]\n",
    "- 기능4 : 수정, 이름을 입력받아 접화번호 입력 수정 >> dict[key] = value\n",
    "- 기능5 : 삭제, 이름 입력받아 삭제 >> del\n",
    "- 기능6 : 프로그램 종료 >> break\n",
    "----------------------------------------------------\n",
    "1. 입출력 정의 : 문자열, 딕셔너리 K:V\n",
    "2. 인터페이스 : input()\n",
    "3. 구조 : while 반복문, 6개의 기능 구현 >> if 분기문\n",
    "4. 기능 구현 + 인터페이스 정책 고려"
   ]
  },
  {
   "cell_type": "code",
   "execution_count": null,
   "id": "415ae752-9da1-4979-b71b-fa075f86329b",
   "metadata": {},
   "outputs": [],
   "source": [
    "contact = {}    # dict\n",
    "\n",
    "while True:\n",
    "    print('--------전화번호부 프로그램----------')\n",
    "    print('1.추가  2.조회  3.검색  4.수정  5.삭제  9.종료')\n",
    "    menu = int(input('메뉴를 선택해주세요.(숫자 only) : '))\n",
    "\n",
    "    if menu == 1: # 연락처 추가\n",
    "        print('연락처를 추가합니다.')\n",
    "        new_name = input('이름 : ')\n",
    "        new_tel = input('전화번호 : ')\n",
    "        #print(new_name, new_tel)\n",
    "\n",
    "        contact[new_name] = new_tel       # contact(dict)의 new_name(key)에 new_tel(value)를 반영. \n",
    "        contact.setdefalut(new_name, new_tel)     # setdefault : 기존에 값이 존재하면 기존값을 덮어쓰기하지 않는다.\n",
    "    \n",
    "    \n",
    "    elif menu -- 2: # 연락처 조회\n",
    "        print('연락처를 조회합니다.')\n",
    "        #print(contact)\n",
    "        for name, tel in contact.items():      # items : key, values 같이 가져오는 거\n",
    "            print(name, ':', tel)\n",
    "\n",
    "    \n",
    "    elif menu -- 3: # 연락처 검색\n",
    "        print('연락처를 검색합니다.')\n",
    "        search_name = input('검색 이름: ')\n",
    "        #print(contact[search_name])\n",
    "        print(contact.get(searct_name, '없는 이름입니다.'))      # index는 없을 경우 오류 발생하나, get은 오류 미발생\n",
    "        \n",
    "\n",
    "    elif menu -- 4: # 연락처 수정\n",
    "        print('연락처를 수정합니다.')\n",
    "\n",
    "        mod_name = input('수정 이름 : ')\n",
    "        if mod_name in contact:                       # 등록된 이름이 있을 경우 이어서 수정 진행\n",
    "            med_tel = input('새 전화번호: ')\n",
    "            contact[mod_name] = mod_tel\n",
    "\n",
    "        else:\n",
    "            print('등록되지 않은 이름입니다.')\n",
    "    \n",
    "\n",
    "    elif menu -- 5: # 연락처 삭제\n",
    "        print('연락처를 삭제합니다.')\n",
    "        del_name = input('삭제 이름 : ')\n",
    "        print('연락처 삭제가 완료되었습니다.')\n",
    "\n",
    "        if del_name in contact:\n",
    "            del contact[del_name]\n",
    "\n",
    "        else:\n",
    "            print('등록되지 않은 이름입니다.')\n",
    "\n",
    "\n",
    "    \n",
    "    elif menu -- 9: # 프로그램 종료\n",
    "        print('프로그램을 종료합니다.')\n",
    "        break\n",
    "\n",
    "    else :\n",
    "        print('잘못된 입력입니다.')"
   ]
  },
  {
   "cell_type": "code",
   "execution_count": 39,
   "id": "258bca81-cd32-444a-a288-175cb817eff1",
   "metadata": {},
   "outputs": [
    {
     "name": "stdout",
     "output_type": "stream",
     "text": [
      "메뉴를 선택하세요.\n",
      "1: 추가 \t 2: 조회 \t 3 : 검색\n",
      "4: 수정 \t 5: 삭제 \t 6: 종료\n"
     ]
    },
    {
     "name": "stdin",
     "output_type": "stream",
     "text": [
      " 1\n",
      "이름을 입력하세요:  강미소\n",
      "전화번호를 입력하세요:  010-3333-3333\n"
     ]
    },
    {
     "name": "stdout",
     "output_type": "stream",
     "text": [
      "메뉴를 선택하세요.\n",
      "1: 추가 \t 2: 조회 \t 3 : 검색\n",
      "4: 수정 \t 5: 삭제 \t 6: 종료\n"
     ]
    },
    {
     "name": "stdin",
     "output_type": "stream",
     "text": [
      " 2\n"
     ]
    },
    {
     "name": "stdout",
     "output_type": "stream",
     "text": [
      "강미소, 010-3333-3333\n",
      "메뉴를 선택하세요.\n",
      "1: 추가 \t 2: 조회 \t 3 : 검색\n",
      "4: 수정 \t 5: 삭제 \t 6: 종료\n"
     ]
    },
    {
     "name": "stdin",
     "output_type": "stream",
     "text": [
      " 강미소\n"
     ]
    },
    {
     "name": "stdout",
     "output_type": "stream",
     "text": [
      "메뉴 없음\n",
      "메뉴를 선택하세요.\n",
      "1: 추가 \t 2: 조회 \t 3 : 검색\n",
      "4: 수정 \t 5: 삭제 \t 6: 종료\n"
     ]
    },
    {
     "name": "stdin",
     "output_type": "stream",
     "text": [
      " 1\n",
      "이름을 입력하세요:  강미소\n",
      "전화번호를 입력하세요:  010-3333-3333\n"
     ]
    },
    {
     "name": "stdout",
     "output_type": "stream",
     "text": [
      "메뉴를 선택하세요.\n",
      "1: 추가 \t 2: 조회 \t 3 : 검색\n",
      "4: 수정 \t 5: 삭제 \t 6: 종료\n"
     ]
    },
    {
     "name": "stdin",
     "output_type": "stream",
     "text": [
      " 2\n"
     ]
    },
    {
     "name": "stdout",
     "output_type": "stream",
     "text": [
      "강미소, 010-3333-3333\n",
      "메뉴를 선택하세요.\n",
      "1: 추가 \t 2: 조회 \t 3 : 검색\n",
      "4: 수정 \t 5: 삭제 \t 6: 종료\n"
     ]
    },
    {
     "name": "stdin",
     "output_type": "stream",
     "text": [
      " 1\n",
      "이름을 입력하세요:  홍길동\n",
      "전화번호를 입력하세요:  2\n"
     ]
    },
    {
     "name": "stdout",
     "output_type": "stream",
     "text": [
      "메뉴를 선택하세요.\n",
      "1: 추가 \t 2: 조회 \t 3 : 검색\n",
      "4: 수정 \t 5: 삭제 \t 6: 종료\n"
     ]
    },
    {
     "name": "stdin",
     "output_type": "stream",
     "text": [
      " 2\n"
     ]
    },
    {
     "name": "stdout",
     "output_type": "stream",
     "text": [
      "강미소, 010-3333-3333\n",
      "홍길동, 2\n",
      "메뉴를 선택하세요.\n",
      "1: 추가 \t 2: 조회 \t 3 : 검색\n",
      "4: 수정 \t 5: 삭제 \t 6: 종료\n"
     ]
    },
    {
     "name": "stdin",
     "output_type": "stream",
     "text": [
      " 3\n",
      "이름을 입력하세요:  홍길동\n"
     ]
    },
    {
     "name": "stdout",
     "output_type": "stream",
     "text": [
      "홍길동의 전화번호는 2입니다.\n",
      "메뉴를 선택하세요.\n",
      "1: 추가 \t 2: 조회 \t 3 : 검색\n",
      "4: 수정 \t 5: 삭제 \t 6: 종료\n"
     ]
    },
    {
     "name": "stdin",
     "output_type": "stream",
     "text": [
      " 4\n",
      "이름을 입력하세요:  홍길동\n",
      "전화번호를 입력하세요:  010-3333-1234\n"
     ]
    },
    {
     "name": "stdout",
     "output_type": "stream",
     "text": [
      "메뉴를 선택하세요.\n",
      "1: 추가 \t 2: 조회 \t 3 : 검색\n",
      "4: 수정 \t 5: 삭제 \t 6: 종료\n"
     ]
    },
    {
     "name": "stdin",
     "output_type": "stream",
     "text": [
      " 3\n",
      "이름을 입력하세요:  홍길동\n"
     ]
    },
    {
     "name": "stdout",
     "output_type": "stream",
     "text": [
      "홍길동의 전화번호는 010-3333-1234입니다.\n",
      "메뉴를 선택하세요.\n",
      "1: 추가 \t 2: 조회 \t 3 : 검색\n",
      "4: 수정 \t 5: 삭제 \t 6: 종료\n"
     ]
    },
    {
     "name": "stdin",
     "output_type": "stream",
     "text": [
      " 검색\n"
     ]
    },
    {
     "name": "stdout",
     "output_type": "stream",
     "text": [
      "메뉴 없음\n",
      "메뉴를 선택하세요.\n",
      "1: 추가 \t 2: 조회 \t 3 : 검색\n",
      "4: 수정 \t 5: 삭제 \t 6: 종료\n"
     ]
    },
    {
     "name": "stdin",
     "output_type": "stream",
     "text": [
      " 012-1234-1234\n"
     ]
    },
    {
     "name": "stdout",
     "output_type": "stream",
     "text": [
      "메뉴 없음\n",
      "메뉴를 선택하세요.\n",
      "1: 추가 \t 2: 조회 \t 3 : 검색\n",
      "4: 수정 \t 5: 삭제 \t 6: 종료\n"
     ]
    },
    {
     "ename": "KeyboardInterrupt",
     "evalue": "Interrupted by user",
     "output_type": "error",
     "traceback": [
      "\u001b[1;31m---------------------------------------------------------------------------\u001b[0m",
      "\u001b[1;31mKeyboardInterrupt\u001b[0m                         Traceback (most recent call last)",
      "Cell \u001b[1;32mIn[39], line 6\u001b[0m\n\u001b[0;32m      4\u001b[0m \u001b[38;5;28mprint\u001b[39m(\u001b[38;5;124m'\u001b[39m\u001b[38;5;124m1: 추가 \u001b[39m\u001b[38;5;130;01m\\t\u001b[39;00m\u001b[38;5;124m 2: 조회 \u001b[39m\u001b[38;5;130;01m\\t\u001b[39;00m\u001b[38;5;124m 3 : 검색\u001b[39m\u001b[38;5;124m'\u001b[39m)\n\u001b[0;32m      5\u001b[0m \u001b[38;5;28mprint\u001b[39m(\u001b[38;5;124m'\u001b[39m\u001b[38;5;124m4: 수정 \u001b[39m\u001b[38;5;130;01m\\t\u001b[39;00m\u001b[38;5;124m 5: 삭제 \u001b[39m\u001b[38;5;130;01m\\t\u001b[39;00m\u001b[38;5;124m 6: 종료\u001b[39m\u001b[38;5;124m'\u001b[39m)\n\u001b[1;32m----> 6\u001b[0m select \u001b[38;5;241m=\u001b[39m \u001b[38;5;28minput\u001b[39m(\u001b[38;5;124m'\u001b[39m\u001b[38;5;124m'\u001b[39m)\n\u001b[0;32m      8\u001b[0m \u001b[38;5;28;01mif\u001b[39;00m select \u001b[38;5;241m==\u001b[39m \u001b[38;5;124m'\u001b[39m\u001b[38;5;124m1\u001b[39m\u001b[38;5;124m'\u001b[39m:\n\u001b[0;32m      9\u001b[0m     name \u001b[38;5;241m=\u001b[39m \u001b[38;5;28minput\u001b[39m(\u001b[38;5;124m'\u001b[39m\u001b[38;5;124m이름을 입력하세요: \u001b[39m\u001b[38;5;124m'\u001b[39m)\n",
      "File \u001b[1;32m~\\anaconda3\\Lib\\site-packages\\ipykernel\\kernelbase.py:1262\u001b[0m, in \u001b[0;36mKernel.raw_input\u001b[1;34m(self, prompt)\u001b[0m\n\u001b[0;32m   1260\u001b[0m     msg \u001b[38;5;241m=\u001b[39m \u001b[38;5;124m\"\u001b[39m\u001b[38;5;124mraw_input was called, but this frontend does not support input requests.\u001b[39m\u001b[38;5;124m\"\u001b[39m\n\u001b[0;32m   1261\u001b[0m     \u001b[38;5;28;01mraise\u001b[39;00m StdinNotImplementedError(msg)\n\u001b[1;32m-> 1262\u001b[0m \u001b[38;5;28;01mreturn\u001b[39;00m \u001b[38;5;28mself\u001b[39m\u001b[38;5;241m.\u001b[39m_input_request(\n\u001b[0;32m   1263\u001b[0m     \u001b[38;5;28mstr\u001b[39m(prompt),\n\u001b[0;32m   1264\u001b[0m     \u001b[38;5;28mself\u001b[39m\u001b[38;5;241m.\u001b[39m_parent_ident[\u001b[38;5;124m\"\u001b[39m\u001b[38;5;124mshell\u001b[39m\u001b[38;5;124m\"\u001b[39m],\n\u001b[0;32m   1265\u001b[0m     \u001b[38;5;28mself\u001b[39m\u001b[38;5;241m.\u001b[39mget_parent(\u001b[38;5;124m\"\u001b[39m\u001b[38;5;124mshell\u001b[39m\u001b[38;5;124m\"\u001b[39m),\n\u001b[0;32m   1266\u001b[0m     password\u001b[38;5;241m=\u001b[39m\u001b[38;5;28;01mFalse\u001b[39;00m,\n\u001b[0;32m   1267\u001b[0m )\n",
      "File \u001b[1;32m~\\anaconda3\\Lib\\site-packages\\ipykernel\\kernelbase.py:1305\u001b[0m, in \u001b[0;36mKernel._input_request\u001b[1;34m(self, prompt, ident, parent, password)\u001b[0m\n\u001b[0;32m   1302\u001b[0m \u001b[38;5;28;01mexcept\u001b[39;00m \u001b[38;5;167;01mKeyboardInterrupt\u001b[39;00m:\n\u001b[0;32m   1303\u001b[0m     \u001b[38;5;66;03m# re-raise KeyboardInterrupt, to truncate traceback\u001b[39;00m\n\u001b[0;32m   1304\u001b[0m     msg \u001b[38;5;241m=\u001b[39m \u001b[38;5;124m\"\u001b[39m\u001b[38;5;124mInterrupted by user\u001b[39m\u001b[38;5;124m\"\u001b[39m\n\u001b[1;32m-> 1305\u001b[0m     \u001b[38;5;28;01mraise\u001b[39;00m \u001b[38;5;167;01mKeyboardInterrupt\u001b[39;00m(msg) \u001b[38;5;28;01mfrom\u001b[39;00m \u001b[38;5;28;01mNone\u001b[39;00m\n\u001b[0;32m   1306\u001b[0m \u001b[38;5;28;01mexcept\u001b[39;00m \u001b[38;5;167;01mException\u001b[39;00m:\n\u001b[0;32m   1307\u001b[0m     \u001b[38;5;28mself\u001b[39m\u001b[38;5;241m.\u001b[39mlog\u001b[38;5;241m.\u001b[39mwarning(\u001b[38;5;124m\"\u001b[39m\u001b[38;5;124mInvalid Message:\u001b[39m\u001b[38;5;124m\"\u001b[39m, exc_info\u001b[38;5;241m=\u001b[39m\u001b[38;5;28;01mTrue\u001b[39;00m)\n",
      "\u001b[1;31mKeyboardInterrupt\u001b[0m: Interrupted by user"
     ]
    }
   ],
   "source": [
    "user = {}    # dic\n",
    "\n",
    "while True:\n",
    "    print('메뉴를 선택하세요.')\n",
    "    print('1: 추가 \\t 2: 조회 \\t 3 : 검색')\n",
    "    print('4: 수정 \\t 5: 삭제 \\t 6: 종료')\n",
    "    \n",
    "    menu = input('')\n",
    "\n",
    "    if select == '1':\n",
    "        name = input('이름을 입력하세요: ')\n",
    "        number = input('전화번호를 입력하세요: ')\n",
    "        \n",
    "        user[name] = number    # user의 name(key)에 number(values)를 값으로 매칭.\n",
    "        \n",
    "    elif select == '2':\n",
    "        for name in user:      # 원하는 형태로 출력하기 위해 작성.\n",
    "            print(f'{name}, {user[name]}')\n",
    "            \n",
    "    elif select == '3':\n",
    "        name = input('이름을 입력하세요: ')\n",
    "        if name in user:\n",
    "            print(f'{name}의 전화번호는 {user[name]}입니다.')\n",
    "        else:\n",
    "            print(f'{name}을 찾을 수 없습니다.')\n",
    "            \n",
    "    elif select == '4':\n",
    "        name = input('이름을 입력하세요: ')\n",
    "        if name in user:\n",
    "            number = input('전화번호를 입력하세요: ')\n",
    "            user[name] = number\n",
    "        else:\n",
    "            print(f'{name}을 찾을 수 없습니다.')\n",
    "            \n",
    "    elif select == '5':\n",
    "        name = input('이름을 입력하세요: ')\n",
    "        if name in user:\n",
    "            del user[name]\n",
    "        else:\n",
    "            print(f'{name}을 찾을 수 없습니다.')\n",
    "            \n",
    "    elif select == '6':\n",
    "        break\n",
    "    else:\n",
    "        print('메뉴 없음')"
   ]
  },
  {
   "cell_type": "code",
   "execution_count": null,
   "id": "b54b4a2e-b6a3-462a-ac03-66efc0d22690",
   "metadata": {},
   "outputs": [],
   "source": []
  }
 ],
 "metadata": {
  "kernelspec": {
   "display_name": "Python 3 (ipykernel)",
   "language": "python",
   "name": "python3"
  },
  "language_info": {
   "codemirror_mode": {
    "name": "ipython",
    "version": 3
   },
   "file_extension": ".py",
   "mimetype": "text/x-python",
   "name": "python",
   "nbconvert_exporter": "python",
   "pygments_lexer": "ipython3",
   "version": "3.12.4"
  }
 },
 "nbformat": 4,
 "nbformat_minor": 5
}
