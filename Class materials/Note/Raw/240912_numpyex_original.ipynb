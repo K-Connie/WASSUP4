{
 "cells": [
  {
   "cell_type": "code",
   "execution_count": 1,
   "id": "3b7660f0-fd54-45c9-8742-8a2ce9bfbc8e",
   "metadata": {},
   "outputs": [],
   "source": [
    "# Numpy\n",
    "# Numerical Python\n",
    "# 고성능 수치 계산을 위한 라이브러리\n",
    "# 벡터나 행렬 연산에 편리한 기능 제공\n",
    "# 모든 원소는 같은 자료형만 가능"
   ]
  },
  {
   "cell_type": "code",
   "execution_count": 2,
   "id": "ab0ff6b6-8efb-4b98-bda9-0117688930cc",
   "metadata": {},
   "outputs": [
    {
     "name": "stdout",
     "output_type": "stream",
     "text": [
      "[ 0  1  2  3  4  5  6  7  8  9 10 11 12 13 14]\n",
      "[[ 0  3  6  9 12]\n",
      " [ 1  4  7 10 13]\n",
      " [ 2  5  8 11 14]]\n",
      "<class 'numpy.ndarray'>\n",
      "(3, 5)\n",
      "int32\n",
      "2\n",
      "15\n"
     ]
    }
   ],
   "source": [
    "import numpy as np\n",
    "a = np.arange(15)             # for i in rnage(!5)\n",
    "print(a)\n",
    "\n",
    "a = a.reshape(3, 5, order='F')    # .reshape(행, 열) : 차원 변경 / (기본값)C행부터 할당, F열부터 할당\n",
    "print(a)\n",
    "print(type(a))                # type 확인\n",
    "print(a.shape)                # shape : 데이터 개수 확인 시 많이 사용\n",
    "print(a.dtype)                # data type 확인\n",
    "print(a.ndim)                 # 몇 차원 data인지 확인\n",
    "print(a.size)\n",
    "\n",
    "# print(dir(np))"
   ]
  },
  {
   "cell_type": "code",
   "execution_count": 3,
   "id": "165496c8-f61e-4cdc-96a3-86407971f9be",
   "metadata": {},
   "outputs": [
    {
     "ename": "ValueError",
     "evalue": "cannot reshape array of size 15 into shape (3,6)",
     "output_type": "error",
     "traceback": [
      "\u001b[1;31m---------------------------------------------------------------------------\u001b[0m",
      "\u001b[1;31mValueError\u001b[0m                                Traceback (most recent call last)",
      "Cell \u001b[1;32mIn[3], line 1\u001b[0m\n\u001b[1;32m----> 1\u001b[0m a \u001b[38;5;241m=\u001b[39m a\u001b[38;5;241m.\u001b[39mreshape(\u001b[38;5;241m3\u001b[39m, \u001b[38;5;241m6\u001b[39m)\n",
      "\u001b[1;31mValueError\u001b[0m: cannot reshape array of size 15 into shape (3,6)"
     ]
    }
   ],
   "source": [
    "a = a.reshape(3, 6)           # reshape 사용 시 데이터 개수 일치해야 함."
   ]
  },
  {
   "cell_type": "code",
   "execution_count": null,
   "id": "fb17776d-9370-411f-bf35-fb9c628acdb6",
   "metadata": {},
   "outputs": [],
   "source": [
    "a = np.arange(15).reshape(3, 5)       # 한 줄로 표현 가능\n",
    "print(a)"
   ]
  },
  {
   "cell_type": "markdown",
   "id": "477cbab2-1000-45e4-bb23-70f9313cc4fa",
   "metadata": {},
   "source": [
    "## 기존 자료형을 numpyex 자료형으로 바꾸기"
   ]
  },
  {
   "cell_type": "code",
   "execution_count": null,
   "id": "bec9c548-fba4-473a-8b48-4a59def4e14f",
   "metadata": {},
   "outputs": [],
   "source": [
    "b = [-1, 2, 5, -3, 0, 7, -9, 7, -4, -7]    # List\n",
    "print(type(b))\n",
    "b= np.array(b)    # List를 np로\n",
    "print(type(b))\n",
    "\n",
    "t = (10, 20, 30, 40, 50)                   # Tuple\n",
    "print(type(t))\n",
    "t = np.array(t)\n",
    "print(type(t))\n",
    "\n",
    "# list는 중복이 되는데 set은 중복이 안 된다?? \n",
    "s = {10, 20, 30, 40, 50}                   # Set\n",
    "print(type(s))\n",
    "s = np.array(s)\n",
    "print(type(s))\n",
    "\n"
   ]
  },
  {
   "cell_type": "code",
   "execution_count": null,
   "id": "52ecce94-2888-43a8-ad44-32b935b0877a",
   "metadata": {},
   "outputs": [],
   "source": [
    "print(b.shape)                   # 1차원 데이터로 10개.\n",
    "print(b.ndim)                    # 1차원 데이터\n",
    "print(b.dtype)\n",
    "print(b)\n",
    "\n",
    "# print(help(np.arange))\n",
    "\n",
    "print(np.abs(b))                 # 절대값\n",
    "print(np.sqrt(np.abs(b)))        # 제곱근\n",
    "print(np.square(b))              # 제곱\n",
    "\n",
    "# b = [-1, 2, 5, -3, 0, 7, -9, 7, -4, -7, np.nan]\n",
    "# [False False False False False False False False False False  True]\n",
    "print(np.isnan(b))               # NaN 여부\n",
    "print(np.sum(b))                 # 합계\n",
    "print(np.mean(b))                # 평균\n",
    "print(np.max(b))                 # 최대값\n",
    "print(np.min(b))                 # 최소값\n",
    "print(np.argmax(b))              # 최대값의 index\n",
    "print(np.argmin(b))              # 최소값의 index\n",
    "print(np.sort(b))                # 정렬 오름차순(기본값)\n",
    "print(np.sort(b)[::-1])          # 정렬 내림차순 : 오름차순 정렬을 반대로 출력    # [시작 : 끝 : 증감 간격 step]\n",
    "print(np.median(b))              # 중간값\n",
    "\n"
   ]
  },
  {
   "cell_type": "code",
   "execution_count": 18,
   "id": "735a4129-9583-4b1e-b64c-ae8d8d8cbd1a",
   "metadata": {},
   "outputs": [
    {
     "name": "stdout",
     "output_type": "stream",
     "text": [
      "<class 'list'>\n",
      "[[1, 2, 3], [4, 5, 6]]\n",
      "<class 'numpy.ndarray'>\n",
      "[[1 2 3]\n",
      " [4 5 6]]\n",
      "21\n",
      "[5 7 9]\n",
      "[ 6 15]\n",
      "3.5\n",
      "[2.5 3.5 4.5]\n",
      "[2. 5.]\n",
      "3.5\n",
      "[2.5 3.5 4.5]\n",
      "[2. 5.]\n",
      "6\n",
      "[4 5 6]\n",
      "[3 6]\n",
      "1.707825127659933\n",
      "2.9166666666666665\n"
     ]
    }
   ],
   "source": [
    "c = [[1, 2, 3], [4, 5, 6]]\n",
    "print(type(c))\n",
    "print(c)\n",
    "\n",
    "c = np.array(c)\n",
    "print(type(c))\n",
    "print(c)\n",
    "\n",
    "print(np.sum(c))\n",
    "print(np.sum(c, axis = 0))             # axis = 0 (행끼리)\n",
    "print(np.sum(c, axis = 1))             # axis = 1 (열끼리)\n",
    "\n",
    "print(np.mean(c)) \n",
    "print(np.mean(c, axis = 0))            # axis = 0 (행끼리)\n",
    "print(np.mean(c, axis = 1))            # axis = 1 (열끼리)\n",
    "\n",
    "print(np.median(c)) \n",
    "print(np.median(c, axis = 0))          # axis = 0 (행끼리)\n",
    "print(np.median(c, axis = 1))          # axis = 1 (열끼리)\n",
    "\n",
    "\n",
    "print(np.max(c)) \n",
    "print(np.max(c, axis = 0))             # axis = 0 (행끼리)\n",
    "print(np.max(c, axis = 1))             # axis = 1 (열끼리)\n",
    "\n",
    "\n",
    "print(np.std(c))                       # 표준편차\n",
    "print(np.var(c))                       # 분산"
   ]
  },
  {
   "cell_type": "markdown",
   "id": "36c3d187-d2e3-4077-956e-917208f5b081",
   "metadata": {},
   "source": [
    "## element wise"
   ]
  },
  {
   "cell_type": "code",
   "execution_count": 56,
   "id": "6dc5efcb-940d-478b-ac52-b6fcde059662",
   "metadata": {},
   "outputs": [
    {
     "name": "stdout",
     "output_type": "stream",
     "text": [
      "[12 22 32 42 52]\n",
      "[11 22 33 44 55]\n",
      "[ 100  400  900 1600 2500]\n",
      "[ -5.44021111  18.25890501 -29.64094872  29.80452642 -13.11874269]\n",
      "[False False False  True  True]\n",
      "[11 22 33 44 55]\n",
      "[ 9 18 27 36 45]\n",
      "[ 10  40  90 160 250]\n",
      "[10. 10. 10. 10. 10.]\n"
     ]
    }
   ],
   "source": [
    "d = [10, 20, 30, 40, 50]\n",
    "# print(d + 2)                        # error : List는 int 연산 불가\n",
    "\n",
    "d = np.array(d)\n",
    "print(d + 2)\n",
    "\n",
    "\n",
    "## 데이터 요소별로 동일 동작 반복해라.\n",
    "\n",
    "e = np.array([1, 2, 3, 4, 5])         # List를 np로 변환 후 연산 가능, 연산할 리스트끼리 리스트 내 요소 개수 일치해야 하는 점 유의\n",
    "print(d + e)\n",
    "print(d ** 2)                         # '**' = squre = 제곱\n",
    "print(d * np.sin(d))\n",
    "print(d > 35)\n",
    "\n",
    "\n",
    "print(np.add(d, e))\n",
    "print(np.subtract(d, e))\n",
    "print(np.multiply(d, e))\n",
    "print(np.divide(d, e))\n"
   ]
  },
  {
   "cell_type": "code",
   "execution_count": 66,
   "id": "b684d73c-fb52-45ad-8453-ef1f1d912618",
   "metadata": {},
   "outputs": [
    {
     "name": "stdout",
     "output_type": "stream",
     "text": [
      "[[0 0]\n",
      " [3 4]]\n",
      "[[3 4]\n",
      " [5 4]]\n",
      "[[3 4]\n",
      " [5 4]]\n",
      "[[3 4]\n",
      " [5 4]]\n"
     ]
    }
   ],
   "source": [
    "import numpy as np\n",
    "\n",
    "f = np.array([[0, 1], [1, 1]])\n",
    "g = np.array([[2, 0], [3, 4]])\n",
    "\n",
    "print(f * g)\n",
    "\n",
    "print(f @ g)                              # 행렬곱 / 0*2 + 1*3\n",
    "print(np.dot(f, g))                       # 행렬곱(함수)\n",
    "print(f.dot(g))                           # 행렬곱(함수 축소)\n",
    "\n",
    "# f          g         행렬곱 \n",
    "# 0 1        2 0       3(0*2 + 1*3) 4\n",
    "# 1 1        3 4       5 4"
   ]
  },
  {
   "cell_type": "code",
   "execution_count": 104,
   "id": "cef65745-f72c-4c1b-9652-841147cd45f7",
   "metadata": {},
   "outputs": [
    {
     "name": "stdout",
     "output_type": "stream",
     "text": [
      "[0. 0. 0. 0. 0. 0. 0. 0. 0. 0.]\n",
      "[[0. 0. 0. 0. 0.]\n",
      " [0. 0. 0. 0. 0.]\n",
      " [0. 0. 0. 0. 0.]\n",
      " [0. 0. 0. 0. 0.]\n",
      " [0. 0. 0. 0. 0.]]\n",
      "[1. 1. 1. 1. 1. 1. 1. 1. 1. 1.]\n",
      "<class 'numpy.ndarray'>\n",
      "[0.21254057 0.03641246 0.64822912 0.50371537 0.12832616 0.41628175\n",
      " 0.1177253  0.25096066 0.41367246 0.03566324]\n",
      "[32.00857549  8.82873403 63.68528236 73.31860319 20.19718606 11.76377699\n",
      " 37.6135097  16.04174048 18.71702121  8.43381759]\n",
      "<class 'list'>\n",
      "[32, 8, 63, 73, 20, 11, 37, 16, 18, 8]\n",
      "<class 'numpy.ndarray'>\n",
      "[32  8 63 73 20 11 37 16 18  8]\n",
      "11\n",
      "[[0.22329835 0.87682095]\n",
      " [0.47969233 0.51068784]\n",
      " [0.45922446 0.05848501]\n",
      " [0.34722284 0.08613734]\n",
      " [0.13770871 0.65097875]]\n"
     ]
    }
   ],
   "source": [
    "# np 열 빈방(배열) 만들기\n",
    "h = np.zeros(10)                 # 0값으로 방 (열)10개 만들기\n",
    "print(h)\n",
    "\n",
    "i = np.zeros( (5, 5) )           # Tuple로 해야 함!\n",
    "print(i)\n",
    "\n",
    "j = np.ones(10)                  # 1값으로 방 (열)10개 만들기\n",
    "print(j)\n",
    "\n",
    "# np.random.random(개수)           # 0-1 사이 x개의 난수 발생\n",
    "# np.random.randint(범위 x, y)     # 균일 분포의 정수 또는 난수 1개 발생\n",
    "# np.random.rand(x행, y열)         # 0-1 사이 균일 분포 난수 matrix array 생성 (2차원도 가능)\n",
    "# np.random.randn                  # 가우시안 표준 정규 분포 곡선에 맞는 난수 matrix array 생성\n",
    "# np.random.nomral                 # 평균, 표준편차, sample 개수\n",
    "\n",
    "k = np.random.random(10)\n",
    "print(type(k))\n",
    "print(k)\n",
    "\n",
    "k = np.random.random(10) * 100\n",
    "print(k)\n",
    "\n",
    "# k = int( np.random.random(10) * 100 )    # error : int는 하나씩만 할 수 있는데 np는 여러개라서?\n",
    "\n",
    "k = [ int(i) for i in k]                   # 반복문을 통해 하나씩 꺼내 계산하고 int로 형 변환해서 소수점 정리하고 k에 다시 넣어라.\n",
    "print(type(k))                             # 다시 List가 되어버림.\n",
    "print(k)\n",
    "\n",
    "k = np.array( [int(i) for i in k] )        # numpyex로~\n",
    "print(type(k))                             \n",
    "print(k)\n",
    "\n",
    "print(np.random.randint(10, 20))          # 10-20 범위 사이의 정수 또는 난수 1개 발생\n",
    "print(np.random.rand(5, 2))               # 2차원도 가능  Ex. 5행 2열"
   ]
  },
  {
   "cell_type": "markdown",
   "id": "202ce0b4-bb77-47fe-9745-808abef2ae4a",
   "metadata": {},
   "source": [
    "## 슬라이싱"
   ]
  },
  {
   "cell_type": "markdown",
   "id": "4b76bbf6-5ae7-4875-9ee9-5a0a692725e8",
   "metadata": {},
   "source": [
    "### List"
   ]
  },
  {
   "cell_type": "code",
   "execution_count": 137,
   "id": "bc6968af-fa79-49be-a8c2-4a4971bedec8",
   "metadata": {},
   "outputs": [
    {
     "name": "stdout",
     "output_type": "stream",
     "text": [
      "[10, 11, 12, 13, 14]\n",
      "[10, 12, 14]\n",
      "[10, 11, 12, 13, 14, 15, 16, 17, 18, 19]\n",
      "[15, 16, 17, 18, 19]\n",
      "[10, 11, 12, 13, 14, 15, 16, 17, 18]\n",
      "[19, 18, 17, 16, 15, 14, 13, 12, 11, 10]\n"
     ]
    }
   ],
   "source": [
    "m = [ i for i in range(10, 20) ]          # 10-19까지만 나오는 점 유의!\n",
    "                                          # List 만들면 자동으로 Index 발생\n",
    "# 0   1   2   3   4   5   6   7   8   9\n",
    "# 10  11  12  13  14  15  16  17  18  19\n",
    "        # index\n",
    "print( m[0 : 5] )                          # [시작 : 끝-1 : 증감 간격=기본값1]\n",
    "print( m[0 : 5 : 2] )\n",
    "print( m[:] )\n",
    "print( m[5:] )\n",
    "print( m[:-1] )                            # 이건 끝에 -1이니까 끝값 삭제됨\n",
    "print( m[::-1] )                           # 간격에 -1은 거꾸로"
   ]
  },
  {
   "cell_type": "markdown",
   "id": "5eb3ad9d-33d5-48b1-b40e-288a66054b1f",
   "metadata": {},
   "source": [
    "### ndarray"
   ]
  },
  {
   "cell_type": "code",
   "execution_count": 135,
   "id": "2044f332-9965-42b7-8b66-c803f6fe0852",
   "metadata": {},
   "outputs": [
    {
     "name": "stdout",
     "output_type": "stream",
     "text": [
      "[10 11 12 13 14]\n",
      "[10 12 14]\n",
      "[10 11 12 13 14 15 16 17]\n"
     ]
    }
   ],
   "source": [
    "w = np.arange(10, 20)\n",
    "print( w[0:5] )                             # numpyex는 ','없이 출력됨\n",
    "print( w[0:5:2] )\n",
    "print( w[:-2] )"
   ]
  },
  {
   "cell_type": "markdown",
   "id": "a7d076de-49f7-4a3f-9ada-1f367dcc466b",
   "metadata": {},
   "source": [
    "### 2차원"
   ]
  },
  {
   "cell_type": "code",
   "execution_count": 192,
   "id": "c835584d-f8b2-409e-8f67-68d7a56ec148",
   "metadata": {},
   "outputs": [
    {
     "name": "stdout",
     "output_type": "stream",
     "text": [
      "13\n",
      "[[1, 2, 3, 4, 5], [6, 7, 8, 9, 10], [11, 12, 13, 14, 15]]\n",
      "[11, 12, 13, 14, 15]\n",
      "[6, 7]\n",
      "[[1, 2, 3, 4, 5]]\n",
      "[[ 1  2  3  4  5]\n",
      " [ 6  7  8  9 10]\n",
      " [11 12 13 14 15]]\n",
      "13\n",
      "[[ 1  2  3  4  5]\n",
      " [ 6  7  8  9 10]\n",
      " [11 12 13 14 15]]\n",
      "[11 12 13 14 15]\n",
      "[[1 2 3 4 5]]\n",
      "[[1 2]\n",
      " [6 7]]\n",
      "[[ 1  2  3  4  5]\n",
      " [ 6  7  8  9 10]\n",
      " [11 12 13 14 15]]\n",
      "[[1 2 3 4]\n",
      " [6 7 8 9]]\n",
      "13\n",
      "[[15 14 13 12 11]\n",
      " [10  9  8  7  6]\n",
      " [ 5  4  3  2  1]]\n",
      "[[ 1  2  3  4  5]\n",
      " [11 12 13 14 15]]\n",
      "[[ 2  4  5]\n",
      " [ 7  9 10]\n",
      " [12 14 15]]\n",
      "[ 4 15]\n"
     ]
    }
   ],
   "source": [
    "r = [ [1, 2, 3, 4, 5], [6, 7, 8, 9, 10], [11, 12, 13, 14, 15] ]\n",
    "\n",
    "# 3행 5열 2차원\n",
    "#     0  1  2  3  4\n",
    "#  0  1  2  3  4  5\n",
    "#  1  6  7  8  9  10\n",
    "#  2  11 12 13 14 15\n",
    "\n",
    "print(r[2][2])   # index를 쓰는 점 유의! \n",
    "# (index가 2번인) 3행(3번째 줄)중, (index 2번인)3열의 값\n",
    "\n",
    "print(r[:][:])\n",
    "print(r[2][:])\n",
    "print(r[1][:2])   # index 1번 줄에서 index'0-1'까지의 값\n",
    "print(r[:2][:1])  # [[1, 2, 3, 4, 5]] # 앞의 index 2 (행)줄 추출 연산된 거에서 index 1(행) 추출 : 반드시 행, 열 순서로 되는 것이 아닌 점 유의.\n",
    "# print( r[:, :] )         # error : List는 이와 같은 형식으로 사용불가.\n",
    "\n",
    "s = np.arange(1, 16)                  # 1차원\n",
    "s = np.arange(1, 16).reshape(3, 5)    # 2차원인 3행 5열로 바꿔라\n",
    "print(s)\n",
    "\n",
    "\n",
    "# 어디부터 어디까지 범위를 지정해서 연속으로 가져오는 법\n",
    "print(s[2][2])\n",
    "print(s[:][:])\n",
    "print(s[2][:])\n",
    "print(s[:2][:1])            # [[1 2 3 4 5]]\n",
    "\n",
    "print(s[:2, :2])            # pring( s[행, 열] )   ************************\n",
    "print(s[: , :])\n",
    "print(s[:-1, :-1])          # 끝에 하나씩 빼라\n",
    "print(s[2, 2])              # index2(행)의 index2(열)\n",
    "print(s[::-1, ::-1])        # 행도 거꾸로, 열도 거꾸로.\n",
    "\n",
    "\n",
    "# 연속하지 않는 특정 행만 지정해서 가져오는 법\n",
    "print(s[ [0, 2] ])\n",
    "print(s[:, [1, 3, 4]])      # 행은 전부 다, 열은 index(1, 3, 4)꺼.\n",
    "print(s[ [0, 2], [3, 4] ])  # 행(0)의 열(3) / 행(3)의 열(4)\n"
   ]
  },
  {
   "cell_type": "markdown",
   "id": "a539b251-fb06-4693-b0e0-d9e78e511889",
   "metadata": {},
   "source": [
    "## 전치 행렬 (행/열 배치 전환)"
   ]
  },
  {
   "cell_type": "code",
   "execution_count": 201,
   "id": "9d46a20c-cede-40c8-bfca-d5f35c77e28b",
   "metadata": {},
   "outputs": [
    {
     "name": "stdout",
     "output_type": "stream",
     "text": [
      "[[ 1  2  3  4  5]\n",
      " [ 6  7  8  9 10]\n",
      " [11 12 13 14 15]]\n",
      "[[ 1  6 11]\n",
      " [ 2  7 12]\n",
      " [ 3  8 13]\n",
      " [ 4  9 14]\n",
      " [ 5 10 15]]\n"
     ]
    }
   ],
   "source": [
    "print(s)                     # 3행 5열 Data\n",
    "print(s.T)                   # 5행 3열 Data"
   ]
  },
  {
   "cell_type": "markdown",
   "id": "87467c3e-dbc2-40a0-9b36-d62968a93950",
   "metadata": {},
   "source": [
    "## numpyex 결합"
   ]
  },
  {
   "cell_type": "code",
   "execution_count": 228,
   "id": "37e604bb-ec4b-47e4-8c4b-ddede3ac5c7f",
   "metadata": {},
   "outputs": [
    {
     "name": "stdout",
     "output_type": "stream",
     "text": [
      "(1, 4)\n",
      "(2, 5)\n",
      "(3, 6)\n",
      "[(1, 4), (2, 5), (3, 6)]\n",
      "[1, 2, 3, 4, 5, 6]\n",
      "[1, 2, 3, 1, 2, 3]\n"
     ]
    }
   ],
   "source": [
    "a = [1, 2, 3]\n",
    "b = [4, 5, 6]\n",
    "\n",
    "# Zip 함수\n",
    "# 1        2        3\n",
    "# 4        5        6\n",
    "# (1,4)  (2,5)  (3,6)  Tuple로 합침.\n",
    "for ab in zip(a, b) :              # zip은 바로 출력이 안 돼서 for문 실행해야 함.\n",
    "    print(ab)\n",
    "print(list(zip(a, b)))\n",
    "print(a + b)\n",
    "# print(a + 2)       # error : 리스트는 연산 더하기 적용불가\n",
    "print(a *2)         # 2번 반복 (연산 곱하기 적용 아님)\n",
    "\n"
   ]
  },
  {
   "cell_type": "code",
   "execution_count": 234,
   "id": "b778f02e-1607-49af-935f-087618dcd951",
   "metadata": {},
   "outputs": [
    {
     "name": "stdout",
     "output_type": "stream",
     "text": [
      "[[89. 76.]\n",
      " [27. 18.]]\n",
      "[[87. 26.]\n",
      " [32.  3.]]\n",
      "[[89. 76. 87. 26.]\n",
      " [27. 18. 32.  3.]]\n",
      "[[89. 76.]\n",
      " [27. 18.]\n",
      " [87. 26.]\n",
      " [32.  3.]]\n",
      "[[91. 78.]\n",
      " [29. 20.]]\n"
     ]
    }
   ],
   "source": [
    "c = np.floor( np.random.rand(2, 2) * 100)        \n",
    "print(c)\n",
    "\n",
    "d = np.floor( np.random.rand(2, 2) * 100)\n",
    "print(d)\n",
    "\n",
    "print(np.hstack( (c, d) ))\n",
    "print(np.vstack( (c, d) ))\n",
    "print(c + 2)"
   ]
  },
  {
   "cell_type": "markdown",
   "id": "319b2085-405d-40d7-8f4e-c402dae9bf59",
   "metadata": {},
   "source": [
    "## numpyex 분리"
   ]
  },
  {
   "cell_type": "markdown",
   "id": "b786fe01-ac85-40e1-b23d-7493293ce662",
   "metadata": {},
   "source": [
    "### 가로 분리"
   ]
  },
  {
   "cell_type": "code",
   "execution_count": 254,
   "id": "a95c3614-8a64-4e5e-a8d4-be06a3e404ca",
   "metadata": {},
   "outputs": [
    {
     "name": "stdout",
     "output_type": "stream",
     "text": [
      "[[33. 27. 13. 22. 76. 93. 21. 79. 94. 10. 16.  3. 27. 67. 38.]\n",
      " [92. 68. 36. 29. 74. 37. 41. 50. 12. 34. 10. 33. 57. 32. 57.]]\n",
      "[array([[33., 27., 13., 22., 76.],\n",
      "       [92., 68., 36., 29., 74.]]), array([[93., 21., 79., 94., 10.],\n",
      "       [37., 41., 50., 12., 34.]]), array([[16.,  3., 27., 67., 38.],\n",
      "       [10., 33., 57., 32., 57.]])]\n",
      "[[33. 27. 13. 22. 76.]\n",
      " [92. 68. 36. 29. 74.]]\n",
      "[[93. 21. 79. 94. 10.]\n",
      " [37. 41. 50. 12. 34.]]\n",
      "[[16.  3. 27. 67. 38.]\n",
      " [10. 33. 57. 32. 57.]]\n",
      "[[33. 27. 13.]\n",
      " [92. 68. 36.]]\n",
      "[[22. 76. 93. 21.]\n",
      " [29. 74. 37. 41.]]\n",
      "[[79. 94. 10. 16.  3. 27. 67. 38.]\n",
      " [50. 12. 34. 10. 33. 57. 32. 57.]]\n"
     ]
    }
   ],
   "source": [
    "e = np.random.rand(2, 15) * 100\n",
    "e = np.floor(np.random.rand(2, 15) * 100)    # floor : 소수점 아래 버리기\n",
    "print(e)\n",
    "\n",
    "# 방법1 : 분리할 숫자를 1개만 입력할 경우\n",
    "print(np.hsplit(e, 3))                       # 3개로 분리해라.\n",
    "\n",
    "# 방법2\n",
    "for arr in np.hsplit(e, 3) :\n",
    "    print(arr)\n",
    "\n",
    "# 방법3 : 분리할 기준 숫자를 다수 입력할 경우, Tuple로 묶어서 입력한다.\n",
    "for arr in np.hsplit(e, (3, 7)) :           # index 기준 [0:3] [3:7] [7:] 분리됨.\n",
    "    print(arr)\n",
    "    "
   ]
  },
  {
   "cell_type": "markdown",
   "id": "14aaf26c-e36b-47e2-89d9-994972303f09",
   "metadata": {},
   "source": [
    "### 세로 분리"
   ]
  },
  {
   "cell_type": "code",
   "execution_count": 265,
   "id": "21b27135-6ef1-4fd7-937a-411a95eeb5b8",
   "metadata": {},
   "outputs": [
    {
     "name": "stdout",
     "output_type": "stream",
     "text": [
      "[[82. 48. 10. 38. 36.  8. 94.  1. 72. 51. 85. 83. 64. 52. 66.]\n",
      " [45. 92. 79. 25. 45. 77. 38. 19. 16. 29. 34. 72. 91. 70. 62.]]\n",
      "[array([[82., 48., 10., 38., 36.,  8., 94.,  1., 72., 51., 85., 83., 64.,\n",
      "        52., 66.]]), array([[45., 92., 79., 25., 45., 77., 38., 19., 16., 29., 34., 72., 91.,\n",
      "        70., 62.]])]\n",
      "[[82. 48. 10. 38. 36.  8. 94.  1. 72. 51. 85. 83. 64. 52. 66.]]\n",
      "[[45. 92. 79. 25. 45. 77. 38. 19. 16. 29. 34. 72. 91. 70. 62.]]\n",
      "[[82. 48. 10. 38. 36.  8. 94.  1. 72. 51. 85. 83. 64. 52. 66.]\n",
      " [45. 92. 79. 25. 45. 77. 38. 19. 16. 29. 34. 72. 91. 70. 62.]]\n",
      "[]\n",
      "[]\n"
     ]
    }
   ],
   "source": [
    "e = np.random.rand(15, 2) * 100\n",
    "e = np.floor(np.random.rand(2, 15) * 100)    # floor : 소수점 아래 버리기\n",
    "print(e)\n",
    "\n",
    "# 방법1 : 분리할 숫자를 1개만 입력할 경우\n",
    "print(np.vsplit(e, 2))                       # 3개로 분리해라.\n",
    "\n",
    "# 방법2\n",
    "for arr in np.vsplit(e, 2) :\n",
    "    print(arr)\n",
    "\n",
    "# 방법3 : 분리할 기준 숫자를 다수 입력할 경우, Tuple로 묶어서 입력한다.\n",
    "for arr in np.vsplit(e, (2, 3)) :           # index 기준 [0:3] [3:7] [7:] 분리됨.\n",
    "    print(arr)\n",
    "    "
   ]
  },
  {
   "cell_type": "markdown",
   "id": "4caf4063-bdf0-4fe8-ac7c-ff2e205692b4",
   "metadata": {},
   "source": [
    "### 삼항연산"
   ]
  },
  {
   "cell_type": "code",
   "execution_count": 286,
   "id": "7c75a784-c16b-4dc8-ba95-6c9444f0f320",
   "metadata": {},
   "outputs": [
    {
     "name": "stdout",
     "output_type": "stream",
     "text": [
      "[1, 2, 'C', 'D', 5]\n",
      "['1' '2' 'C' 'D' '5']\n",
      "['작다' '작다' '크다' '크다' '크다']\n",
      "['참' '참' '거짓' '거짓' '참']\n"
     ]
    }
   ],
   "source": [
    "# 삼항연산 : 참 if 조건 else 거짓  <- 조건? 참 : 거짓\n",
    "f = np.array( [1, 2, 3, 4, 5] )\n",
    "g = np.array( ['A', 'B', 'C', 'D', 'E'] )\n",
    "h = np.array( [True, True, False, False, True] )\n",
    "\n",
    "# 방법 1\n",
    "print( [ x if z else y for x, y, z in zip(f, g, h) ])         # 같은 인덱스끼리 묶임\n",
    "# print( 리스트로 만들어 [참 if 조건 else 거짓 for 변수1, 변수2, 변수3 in 묶어 zip(묶을변수1, 묶을변수2, 묶을변수3)\n",
    "\n",
    "# 방법 2\n",
    "print(np.where(h, f, g))\n",
    "print(np.where(f < 3, '작다', '크다'))   # np.where(조건, 참, 거짓)\n",
    "print(np.where(h, '참', '거짓'))"
   ]
  },
  {
   "cell_type": "markdown",
   "id": "5c220ca9-9b0f-453e-97e2-a5abc98b60ef",
   "metadata": {},
   "source": [
    "## File Open (단일.npy / 복수.npz)"
   ]
  },
  {
   "cell_type": "code",
   "execution_count": 298,
   "id": "8871bbc6-282f-49b4-80c1-5e6f0d02fedd",
   "metadata": {},
   "outputs": [
    {
     "name": "stdout",
     "output_type": "stream",
     "text": [
      "[0 1 2 3 4 5 6 7 8 9]\n",
      "<class 'numpy.ndarray'>\n",
      "<class 'numpy.lib.npyio.NpzFile'>\n",
      "[0 1 2 3 4 5 6 7 8 9]\n",
      "[ 0  1  2  3  4  5  6  7  8  9 10 11 12 13 14 15 16 17 18 19]\n"
     ]
    }
   ],
   "source": [
    "# Open\n",
    "\n",
    "i = np.arange(10)        # 0-9 까지 만들어라\n",
    "np.save('i.npy', i)      # 파일명, 저장할 내용\n",
    "\n",
    "\n",
    "#\n",
    "ii = np.load('i.npy')\n",
    "print(ii)\n",
    "print(type(ii))           # 단일\n",
    "\n",
    "j = np.arange(10)\n",
    "k = np.arange(20)\n",
    "np.savez('jk.npz', x=j, y=k)     # x이름으로 j데이터를 저장하고, y이름으로 k데이터를 저장.\n",
    "jk = np.load('jk.npz')\n",
    "print(type(jk))\n",
    "print(jk['x'])\n",
    "print(jk['y'])"
   ]
  },
  {
   "cell_type": "code",
   "execution_count": null,
   "id": "e362c7ab-7052-4222-a096-a4cbc565ef49",
   "metadata": {},
   "outputs": [],
   "source": []
  },
  {
   "cell_type": "code",
   "execution_count": null,
   "id": "ad1379be-5cdc-4710-a5eb-22ed42236def",
   "metadata": {},
   "outputs": [],
   "source": []
  },
  {
   "cell_type": "code",
   "execution_count": null,
   "id": "1e8e73f6-33d1-4bd6-8d49-055dde4a7f07",
   "metadata": {},
   "outputs": [],
   "source": []
  },
  {
   "cell_type": "code",
   "execution_count": null,
   "id": "efe5ec5d-2a40-4de5-b0de-1b33304fcc5c",
   "metadata": {},
   "outputs": [],
   "source": []
  },
  {
   "cell_type": "code",
   "execution_count": null,
   "id": "2d639bb2-0466-4d34-97f5-08bdc8b73f26",
   "metadata": {},
   "outputs": [],
   "source": []
  },
  {
   "cell_type": "code",
   "execution_count": null,
   "id": "f74cd00b-8c1f-4cd9-bd97-7b07e81dc60b",
   "metadata": {},
   "outputs": [],
   "source": []
  },
  {
   "cell_type": "code",
   "execution_count": null,
   "id": "5cab2705-001e-4be1-9471-6a0d4eb2110e",
   "metadata": {},
   "outputs": [],
   "source": []
  }
 ],
 "metadata": {
  "kernelspec": {
   "display_name": "Python 3 (ipykernel)",
   "language": "python",
   "name": "python3"
  },
  "language_info": {
   "codemirror_mode": {
    "name": "ipython",
    "version": 3
   },
   "file_extension": ".py",
   "mimetype": "text/x-python",
   "name": "python",
   "nbconvert_exporter": "python",
   "pygments_lexer": "ipython3",
   "version": "3.12.4"
  }
 },
 "nbformat": 4,
 "nbformat_minor": 5
}
