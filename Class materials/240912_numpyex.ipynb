{
 "cells": [
  {
   "cell_type": "markdown",
   "id": "716c1120-e7ae-451f-a8f5-d4bff3e7491f",
   "metadata": {},
   "source": [
    "# Numpy\n",
    "- Numerical Python\n",
    "- 고성능 수치 계산을 위한 라이브러리\n",
    "- 벡터나 행렬 연산에 편리한 기능 제공\n",
    "- 모든 원소는 같은 자료형만 가능"
   ]
  },
  {
   "cell_type": "markdown",
   "id": "b1dab4bf-a264-4c2c-8ae1-c0b5153c5340",
   "metadata": {},
   "source": [
    "## 1. 배열 생성 및 속성 확인\n",
    "    - 배열 재구성 시, 원소 개수와 새로운 배열의 크기(행 × 열) 일치 필수."
   ]
  },
  {
   "cell_type": "code",
   "execution_count": 8,
   "id": "c1702cb4-b385-41e0-9dc4-176fcdeb315c",
   "metadata": {},
   "outputs": [],
   "source": [
    "# a.reshape(3, 6)  # 원소 수 불일치로 오류 발생"
   ]
  },
  {
   "cell_type": "code",
   "execution_count": 31,
   "id": "89762aa1-feec-44e1-b773-2261cb14cdd0",
   "metadata": {},
   "outputs": [
    {
     "name": "stdout",
     "output_type": "stream",
     "text": [
      "[ 0  1  2  3  4  5  6  7  8  9 10 11 12 13 14]\n",
      "[[ 0  3  6  9 12]\n",
      " [ 1  4  7 10 13]\n",
      " [ 2  5  8 11 14]]\n"
     ]
    }
   ],
   "source": [
    "import numpy as np\n",
    "\n",
    "# 0부터 14까지 숫자로 이루어진 배열 생성\n",
    "a = np.arange(15)  # np.arange(시작, 끝, 간격) (기본값: 시작=0, 간격=1)\n",
    "print(a)  # 출력: [0, 1, 2, ..., 14]\n",
    "\n",
    "# 배열을 3행 5열로 재구성 (열 기준으로 할당)\n",
    "a = a.reshape(3, 5, order='F')  # np.reshape(행, 열, 할당 방식 'C' 또는 'F')\n",
    "print(a)  # 출력: 3행 5열 배열 (열 기준으로 데이터 재구성)\n",
    "# 출력:\n",
    "# [[ 0  3  6  9 12]\n",
    "#  [ 1  4  7 10 13]\n",
    "#  [ 2  5  8 11 14]]"
   ]
  },
  {
   "cell_type": "markdown",
   "id": "4c3d5c7a-19f7-47b1-8c03-80211958c9e2",
   "metadata": {},
   "source": [
    "## 2. 리스트, 튜플, 세트 변환 및 차이점\n",
    "    - 리스트: 중복 허용, 순서 있음, 수정 가능\n",
    "    - 튜플: 중복 허용, 순서 있음, 수정 불가\n",
    "    - 세트: 중복 불허, 순서 없음"
   ]
  },
  {
   "cell_type": "code",
   "execution_count": 35,
   "id": "dac6ba03-63d2-4fcb-9440-949251ab7cc4",
   "metadata": {},
   "outputs": [
    {
     "name": "stdout",
     "output_type": "stream",
     "text": [
      "<class 'numpy.ndarray'>\n",
      "<class 'numpy.ndarray'>\n",
      "<class 'numpy.ndarray'>\n"
     ]
    }
   ],
   "source": [
    "# 리스트 (중복 허용, 순서 있음)\n",
    "b = [-1, 2, 5, -3, 0]  # 리스트 생성 [요소1, 요소2, ...]\n",
    "b = np.array(b)  # 리스트를 Numpy 배열로 변환\n",
    "print(type(b))  # 출력: <class 'numpy.ndarray'>\n",
    "\n",
    "# 튜플 (변경 불가, 순서 있음)\n",
    "t = (10, 20, 30)  # 튜플 생성 (요소1, 요소2, ...)\n",
    "t = np.array(t)  # 튜플을 Numpy 배열로 변환\n",
    "print(type(t))  # 출력: <class 'numpy.ndarray'>\n",
    "\n",
    "# 세트 (중복 허용 안함, 순서 없음)\n",
    "s = {10, 20, 30}  # 세트 생성 {요소1, 요소2, ...}\n",
    "s = np.array(s)  # 세트를 Numpy 배열로 변환\n",
    "print(type(s))  # 출력: <class 'numpy.ndarray'>"
   ]
  },
  {
   "cell_type": "markdown",
   "id": "e2d681cc-be98-4a76-8eca-376c585e4de3",
   "metadata": {},
   "source": [
    "## 3. 배열 수학 연산\n",
    "    - 부호가 있는 값은 np.abs()로 양수로 변환하여 계산 가능."
   ]
  },
  {
   "cell_type": "code",
   "execution_count": 42,
   "id": "9ab93346-c0cb-4ac8-a47f-324247d66718",
   "metadata": {},
   "outputs": [
    {
     "name": "stdout",
     "output_type": "stream",
     "text": [
      "[1 2 5 3 0]\n",
      "[1.         1.41421356 2.23606798 1.73205081 0.        ]\n",
      "[ 1  4 25  9  0]\n"
     ]
    }
   ],
   "source": [
    "# 배열의 절대값, 제곱근, 제곱 계산\n",
    "print(np.abs(b))  # 배열의 절대값 반환\n",
    "# 출력: [1 2 5 3 0]\n",
    "\n",
    "print(np.sqrt(np.abs(b)))  # 배열의 절대값의 제곱근 반환\n",
    "# 출력: [1.         1.41421356 2.23606798 1.73205081 0.        ]\n",
    "\n",
    "print(np.square(b))  # 배열의 원소들을 제곱\n",
    "# 출력: [ 1  4 25  9  0]"
   ]
  },
  {
   "cell_type": "markdown",
   "id": "fd07f04d-c0b2-4e19-8b2e-6ca5dc88da0b",
   "metadata": {},
   "source": [
    "## 4. NaN 처리 및 통계 함수\n",
    "    - NaN 값이 포함된 배열에서 통계 연산(sum(), mean()) 시, NaN 값이 결과에 영향을 미칠 수 있음.\n",
    "    - NaN 여부는 np.isnan()으로 확인할 수 있습니다."
   ]
  },
  {
   "cell_type": "code",
   "execution_count": 50,
   "id": "90f89cd3-7ad7-4bd2-8494-8e46b2bc5071",
   "metadata": {},
   "outputs": [
    {
     "name": "stdout",
     "output_type": "stream",
     "text": [
      "[False False False False False]\n",
      "3\n",
      "0.6\n"
     ]
    }
   ],
   "source": [
    "# NaN 여부 확인 및 통계 연산\n",
    "print(np.isnan(b))  # 배열의 NaN 여부 반환 (True/False)\n",
    "# 출력: [False False False False False]\n",
    "\n",
    "print(np.sum(b))  # 배열의 합계 계산\n",
    "# 출력: 3\n",
    "\n",
    "print(np.mean(b))  # 배열의 평균 계산\n",
    "# 출력: 0.6"
   ]
  },
  {
   "cell_type": "markdown",
   "id": "c9ff9532-05ff-49fd-a704-9422ac1ba6c8",
   "metadata": {},
   "source": [
    "## 5. 배열 정렬\n",
    "    - 슬라이싱 규칙에서 np.sort(b)[::-1] : 역순 배열.\n",
    "    - 슬라이싱 (처음:끝:증감값)에서 증감값=(-1)은 배열 역순 출력."
   ]
  },
  {
   "cell_type": "code",
   "execution_count": 54,
   "id": "d7b6489a-0095-494f-9b03-ac008c637fff",
   "metadata": {},
   "outputs": [
    {
     "name": "stdout",
     "output_type": "stream",
     "text": [
      "[-3 -1  0  2  5]\n",
      "[ 5  2  0 -1 -3]\n"
     ]
    }
   ],
   "source": [
    "# 배열 정렬 (오름차순, 내림차순)\n",
    "print(np.sort(b))  # 배열을 오름차순으로 정렬\n",
    "# 출력: [-3 -1  0  2  5]\n",
    "\n",
    "print(np.sort(b)[::-1])  # 배열을 내림차순으로 정렬 (슬라이싱: 처음:끝:증감값)\n",
    "# 출력: [ 5  2  0 -1 -3]"
   ]
  },
  {
   "cell_type": "markdown",
   "id": "93a0cc16-6ad3-49c0-a277-ce8a16277d07",
   "metadata": {},
   "source": [
    "## 6. 다차원 배열 연산\n",
    "    - axis=0 : 열 기준\n",
    "    - axis=1 : 행 기준으로 연산 수행."
   ]
  },
  {
   "cell_type": "code",
   "execution_count": 68,
   "id": "701ce279-6e6a-4785-8a8e-5b7a9d11286f",
   "metadata": {},
   "outputs": [
    {
     "name": "stdout",
     "output_type": "stream",
     "text": [
      "[[1 2 3]\n",
      " [4 5 6]]\n",
      "21\n",
      "[5 7 9]\n",
      "[ 6 15]\n"
     ]
    }
   ],
   "source": [
    "# 2차원 배열 생성 (행, 열)\n",
    "c = np.array([[1, 2, 3], [4, 5, 6]])  # np.array([[행1], [행2]])\n",
    "print(c)\n",
    "# 출력: 2차원 배열\n",
    "# [[1 2 3]\n",
    "#  [4 5 6]] \n",
    "\n",
    "# 배열 합계 (전체, 행별, 열별)\n",
    "print(np.sum(c))  # 배열의 모든 원소 합계\n",
    "# 출력: 21\n",
    "\n",
    "print(np.sum(c, axis=0))  # 열 기준으로 합계 (axis=0)\n",
    "# 출력: [5 7 9]\n",
    "\n",
    "print(np.sum(c, axis=1))  # 행 기준으로 합계 (axis=1)\n",
    "# 출력: [ 6 15]"
   ]
  },
  {
   "cell_type": "markdown",
   "id": "7ffdf36c-f5ee-4b7a-8c60-cc196198fb66",
   "metadata": {},
   "source": [
    "## 7. 배열 병합 및 분할\n",
    "    - 병합과 분할 시 배열의 크기 동일해야 함.\n",
    "    - 분할 시 구간 명확히 지정.\n",
    "      (Ex. np.hsplit(e, 3) : 배열을 3개 부분으로 나눔.\n"
   ]
  },
  {
   "cell_type": "code",
   "execution_count": 72,
   "id": "1d224f5a-7248-47a3-b385-ac27b059da80",
   "metadata": {},
   "outputs": [
    {
     "name": "stdout",
     "output_type": "stream",
     "text": [
      "[[71.2876998  99.70932953 27.11339179 73.15683103]\n",
      " [91.33387165 79.35326453 93.90757114 11.83401946]]\n",
      "[[71.2876998  99.70932953]\n",
      " [91.33387165 79.35326453]\n",
      " [27.11339179 73.15683103]\n",
      " [93.90757114 11.83401946]]\n",
      "[array([[92.24278149, 99.66676797, 26.87536294, 67.43781656, 93.54255541],\n",
      "       [62.67975802, 89.22618813, 56.71041469, 68.85917665, 61.54944583]]), array([[84.43934923, 63.89331555, 26.98177203, 82.9001444 , 40.44652253],\n",
      "       [57.75700291, 38.78132762, 27.66112338, 16.76488621, 85.18594362]]), array([[31.53951874, 91.57941467, 17.61426713, 60.89551958,  4.04257249],\n",
      "       [34.46521263, 80.57371339, 84.96084519, 43.10499989, 23.30919834]])]\n",
      "[array([[92.24278149, 99.66676797, 26.87536294, 67.43781656, 93.54255541,\n",
      "        84.43934923, 63.89331555, 26.98177203, 82.9001444 , 40.44652253,\n",
      "        31.53951874, 91.57941467, 17.61426713, 60.89551958,  4.04257249]]), array([[62.67975802, 89.22618813, 56.71041469, 68.85917665, 61.54944583,\n",
      "        57.75700291, 38.78132762, 27.66112338, 16.76488621, 85.18594362,\n",
      "        34.46521263, 80.57371339, 84.96084519, 43.10499989, 23.30919834]])]\n"
     ]
    }
   ],
   "source": [
    "# 배열 병합 (수평, 수직)\n",
    "c = np.random.rand(2, 2) * 100  # 임의의 값으로 채워진 2x2 배열\n",
    "d = np.random.rand(2, 2) * 100\n",
    "print(np.hstack((c, d)))  \n",
    "# 출력:\n",
    "# [[99.9 46.7 59.3 85.1]\n",
    "#  [32.2 67.4 89.1 20.7]]\n",
    "\n",
    "print(np.vstack((c, d)))  \n",
    "# 출력:\n",
    "# [[99.9 46.7]\n",
    "#  [32.2 67.4]\n",
    "#  [59.3 85.1]\n",
    "#  [89.1 20.7]]\n",
    "\n",
    "# 배열 분할 (수평 분할, 수직 분할)\n",
    "e = np.random.rand(2, 15) * 100\n",
    "print(np.hsplit(e, 3))\n",
    "# 출력: 열을 3등분으로 수평 분할\n",
    "# [array([[33.8, 11.4, 94.4, 74.9,  1.5],\n",
    "#         [ 6.7,  9.9, 68.8, 71.4,  2.8]]), ...]\n",
    "\n",
    "print(np.vsplit(e, 2))\n",
    "# 출력: 배열을 2등분으로 수직 분할\n",
    "# [array([[33.8, 11.4, 94.4, 74.9,  1.5, 25.7, 40.2, 85.7, 72.8, 61.8,\n",
    "#         47.2, 42.3, 59.5, 40.7, 11.7]]), ...]"
   ]
  },
  {
   "cell_type": "markdown",
   "id": "776cd225-a623-4862-b49a-3e7e9f9ddf31",
   "metadata": {},
   "source": [
    "## 8. 삼항 연산\n",
    "    - np.where() : 조건에 따라 참/거짓 시 반환 값 각각 지정 가능.\n",
    "    - Ex. np.where(h, f, g) : h가 참일 때 f, 거짓일 때 g의 값 반환.\n"
   ]
  },
  {
   "cell_type": "code",
   "execution_count": 82,
   "id": "1e6cb4ae-0e4b-4972-a6a7-dcf3641ae434",
   "metadata": {},
   "outputs": [
    {
     "name": "stdout",
     "output_type": "stream",
     "text": [
      "[1, 'B', 3]\n",
      "['1' 'B' '3']\n"
     ]
    }
   ],
   "source": [
    "f = np.array([1, 2, 3])  # np.array([값1, 값2, 값3])\n",
    "g = np.array(['A', 'B', 'C'])\n",
    "h = np.array([True, False, True])\n",
    "\n",
    "# 조건에 따른 배열 선택\n",
    "print([x if z else y for x, y, z in zip(f, g, h)])  # 조건에 따른 배열 값 선택\n",
    "# 출력: [1, 'B', 3]\n",
    "print(np.where(h, f, g))  # 조건이 참이면 f, 거짓이면 g를 선택\n",
    "# 출력: ['1' 'B' '3']"
   ]
  },
  {
   "cell_type": "markdown",
   "id": "7f39e346-070e-476c-af01-b29e3a410f09",
   "metadata": {},
   "source": [
    "## 9. 파일 저장 및 불러오기\n",
    "    - np.save() : 배열 저장.\n",
    "    - np.load() : 배열 불러오기.\n",
    "    - np.savez() : 여러 배열을 한 파일에 저장 및 이름 지정."
   ]
  },
  {
   "cell_type": "code",
   "execution_count": 86,
   "id": "7938290e-1269-4baa-93cc-65d430a0b3d0",
   "metadata": {},
   "outputs": [
    {
     "name": "stdout",
     "output_type": "stream",
     "text": [
      "[0 1 2 3 4 5 6 7 8 9]\n",
      "[0 1 2 3 4 5 6 7 8 9]\n",
      "[ 0  1  2  3  4  5  6  7  8  9 10 11 12 13 14 15 16 17 18 19]\n"
     ]
    }
   ],
   "source": [
    "# 배열 저장 및 불러오기 (단일 파일)\n",
    "i = np.arange(10)  # 0부터 9까지의 배열 생성\n",
    "np.save('i.npy', i)  # 배열을 파일로 저장\n",
    "ii = np.load('i.npy')  # 파일에서 배열 불러오기\n",
    "print(ii)\n",
    "# 출력: [0 1 2 3 4 5 6 7 8 9]\n",
    "\n",
    "# 다중 배열 저장 및 불러오기\n",
    "j = np.arange(10)\n",
    "k = np.arange(20)\n",
    "np.savez('jk.npz', x=j, y=k)  # 여러 배열을 한 파일에 저장\n",
    "jk = np.load('jk.npz')  # 저장된 배열 불러오기\n",
    "print(jk['x'])  # 'x' 배열 출력\n",
    "print(jk['y'])  # 'y' 배열 출력"
   ]
  }
 ],
 "metadata": {
  "kernelspec": {
   "display_name": "Python 3 (ipykernel)",
   "language": "python",
   "name": "python3"
  },
  "language_info": {
   "codemirror_mode": {
    "name": "ipython",
    "version": 3
   },
   "file_extension": ".py",
   "mimetype": "text/x-python",
   "name": "python",
   "nbconvert_exporter": "python",
   "pygments_lexer": "ipython3",
   "version": "3.12.4"
  }
 },
 "nbformat": 4,
 "nbformat_minor": 5
}
