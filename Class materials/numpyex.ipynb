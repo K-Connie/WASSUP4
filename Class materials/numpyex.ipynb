{
 "cells": [
  {
   "cell_type": "code",
   "execution_count": 3,
   "id": "3b7660f0-fd54-45c9-8742-8a2ce9bfbc8e",
   "metadata": {},
   "outputs": [],
   "source": [
    "# Numpy\n",
    "# Numerical Python\n",
    "# 고성능 수치 계산을 위한 라이브러리\n",
    "# 벡터나 행렬 연산에 편리한 기능 제공\n",
    "# 모든 원소는 같은 자료형만 가능"
   ]
  },
  {
   "cell_type": "code",
   "execution_count": 13,
   "id": "ab0ff6b6-8efb-4b98-bda9-0117688930cc",
   "metadata": {},
   "outputs": [
    {
     "name": "stdout",
     "output_type": "stream",
     "text": [
      "[ 0  1  2  3  4  5  6  7  8  9 10 11 12 13 14]\n",
      "[[ 0  3  6  9 12]\n",
      " [ 1  4  7 10 13]\n",
      " [ 2  5  8 11 14]]\n",
      "<class 'numpy.ndarray'>\n",
      "(3, 5)\n",
      "int32\n",
      "2\n",
      "15\n"
     ]
    }
   ],
   "source": [
    "import numpy as np\n",
    "a = np.arange(15)             # for i in rnage(!5)\n",
    "print(a)\n",
    "\n",
    "a = a.reshape(3, 5, order='F')    # .reshape(행, 열) : 차원 변경 / (기본값)C행부터 할당, F열부터 할당\n",
    "print(a)\n",
    "print(type(a))                # type 확인\n",
    "print(a.shape)                # shape : 데이터 개수 확인 시 많이 사용\n",
    "print(a.dtype)                # data type 확인\n",
    "print(a.ndim)                 # 몇 차원 data인지 확인\n",
    "print(a.size)\n",
    "\n",
    "# print(dir(np))"
   ]
  },
  {
   "cell_type": "code",
   "execution_count": 15,
   "id": "165496c8-f61e-4cdc-96a3-86407971f9be",
   "metadata": {},
   "outputs": [
    {
     "ename": "ValueError",
     "evalue": "cannot reshape array of size 15 into shape (3,6)",
     "output_type": "error",
     "traceback": [
      "\u001b[1;31m---------------------------------------------------------------------------\u001b[0m",
      "\u001b[1;31mValueError\u001b[0m                                Traceback (most recent call last)",
      "Cell \u001b[1;32mIn[15], line 1\u001b[0m\n\u001b[1;32m----> 1\u001b[0m a \u001b[38;5;241m=\u001b[39m a\u001b[38;5;241m.\u001b[39mreshape(\u001b[38;5;241m3\u001b[39m, \u001b[38;5;241m6\u001b[39m)\n",
      "\u001b[1;31mValueError\u001b[0m: cannot reshape array of size 15 into shape (3,6)"
     ]
    }
   ],
   "source": [
    "a = a.reshape(3, 6)           # reshape 사용 시 데이터 개수 일치해야 함."
   ]
  },
  {
   "cell_type": "code",
   "execution_count": 17,
   "id": "fb17776d-9370-411f-bf35-fb9c628acdb6",
   "metadata": {},
   "outputs": [
    {
     "name": "stdout",
     "output_type": "stream",
     "text": [
      "[[ 0  1  2  3  4]\n",
      " [ 5  6  7  8  9]\n",
      " [10 11 12 13 14]]\n"
     ]
    }
   ],
   "source": [
    "a = np.arange(15).reshape(3, 5)       # 한 줄로 표현 가능\n",
    "print(a)"
   ]
  },
  {
   "cell_type": "markdown",
   "id": "477cbab2-1000-45e4-bb23-70f9313cc4fa",
   "metadata": {},
   "source": [
    "## 기존 자료형을 numpyex 자료형으로 바꾸기"
   ]
  },
  {
   "cell_type": "code",
   "execution_count": 54,
   "id": "bec9c548-fba4-473a-8b48-4a59def4e14f",
   "metadata": {},
   "outputs": [
    {
     "name": "stdout",
     "output_type": "stream",
     "text": [
      "<class 'list'>\n",
      "<class 'numpy.ndarray'>\n",
      "<class 'tuple'>\n",
      "<class 'numpy.ndarray'>\n",
      "<class 'set'>\n",
      "<class 'numpy.ndarray'>\n"
     ]
    }
   ],
   "source": [
    "b = [-1, 2, 5, -3, 0, 7, -9, 7, -4, -7]    # List\n",
    "print(type(b))\n",
    "b= np.array(b)    # List를 np로\n",
    "print(type(b))\n",
    "\n",
    "t = (10, 20, 30, 40, 50)                   # Tuple\n",
    "print(type(t))\n",
    "t = np.array(t)\n",
    "print(type(t))\n",
    "\n",
    "# list는 중복이 되는데 set은 중복이 안 된다?? \n",
    "s = {10, 20, 30, 40, 50}                   # Set\n",
    "print(type(s))\n",
    "s = np.array(s)\n",
    "print(type(s))\n",
    "\n"
   ]
  },
  {
   "cell_type": "code",
   "execution_count": 76,
   "id": "52ecce94-2888-43a8-ad44-32b935b0877a",
   "metadata": {},
   "outputs": [
    {
     "ename": "SyntaxError",
     "evalue": "invalid syntax (2091576340.py, line 22)",
     "output_type": "error",
     "traceback": [
      "\u001b[1;36m  Cell \u001b[1;32mIn[76], line 22\u001b[1;36m\u001b[0m\n\u001b[1;33m    print(np.sort(b)[::-1])    ais      # 정렬 내림차순 : 오름차순 정렬을 반대로 출력    # [시작 : 끝 : 증감 간격 step]\u001b[0m\n\u001b[1;37m                               ^\u001b[0m\n\u001b[1;31mSyntaxError\u001b[0m\u001b[1;31m:\u001b[0m invalid syntax\n"
     ]
    }
   ],
   "source": [
    "print(b.shape)                   # 1차원 데이터로 10개.\n",
    "print(b.ndim)                    # 1차원 데이터\n",
    "print(b.dtype)\n",
    "print(b)\n",
    "\n",
    "# print(help(np.arange))\n",
    "\n",
    "print(np.abs(b))                 # 절대값\n",
    "print(np.sqrt(np.abs(b)))        # 제곱근\n",
    "print(np.square(b))              # 제곱\n",
    "\n",
    "# b = [-1, 2, 5, -3, 0, 7, -9, 7, -4, -7, np.nan]\n",
    "# [False False False False False False False False False False  True]\n",
    "print(np.isnan(b))               # NaN 여부\n",
    "print(np.sum(b))                 # 합계\n",
    "print(np.mean(b))                # 평균\n",
    "print(np.max(b))                 # 최대값\n",
    "print(np.min(b))                 # 최소값\n",
    "print(np.argmax(b))              # 최대값의 index\n",
    "print(np.argmin(b))              # 최소값의 index\n",
    "print(np.sort(b))                # 정렬 오름차순(기본값)\n",
    "print(np.sort(b)[::-1])    ais      # 정렬 내림차순 : 오름차순 정렬을 반대로 출력    # [시작 : 끝 : 증감 간격 step]\n",
    "print(np.median(b))              # 중간값\n",
    "\n"
   ]
  },
  {
   "cell_type": "code",
   "execution_count": null,
   "id": "bbc36f12-62b7-4d79-9392-2f25c2d338cf",
   "metadata": {},
   "outputs": [],
   "source": [
    "b = [-1, -2, 4, 0"
   ]
  },
  {
   "cell_type": "code",
   "execution_count": null,
   "id": "735a4129-9583-4b1e-b64c-ae8d8d8cbd1a",
   "metadata": {},
   "outputs": [],
   "source": []
  }
 ],
 "metadata": {
  "kernelspec": {
   "display_name": "Python 3 (ipykernel)",
   "language": "python",
   "name": "python3"
  },
  "language_info": {
   "codemirror_mode": {
    "name": "ipython",
    "version": 3
   },
   "file_extension": ".py",
   "mimetype": "text/x-python",
   "name": "python",
   "nbconvert_exporter": "python",
   "pygments_lexer": "ipython3",
   "version": "3.12.4"
  }
 },
 "nbformat": 4,
 "nbformat_minor": 5
}
