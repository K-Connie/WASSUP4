{
 "cells": [
  {
   "cell_type": "markdown",
   "id": "7d294d98-8118-4c71-bf2d-6768f83648d6",
   "metadata": {},
   "source": [
    "# 4-1 함수"
   ]
  },
  {
   "cell_type": "markdown",
   "id": "679774eb-ef66-477a-9411-f5c8ada779aa",
   "metadata": {},
   "source": [
    "## 파이썬 함수의 구조\n"
   ]
  },
  {
   "cell_type": "code",
   "execution_count": 4,
   "id": "b7814c56-b375-4f65-b994-f084366ad6b8",
   "metadata": {},
   "outputs": [],
   "source": [
    "def 함수_이름(매개변수):\n",
    "    수행할_문장1\n",
    "    수행할_문장2\n",
    "    ..."
   ]
  },
  {
   "cell_type": "code",
   "execution_count": 12,
   "id": "44372439-35d8-4e2b-8b6a-8031a797b280",
   "metadata": {},
   "outputs": [],
   "source": [
    "# 이 함수의 이름은 add이고 입력으로 2개의 값을 받으며 리턴값(출력값)은 2개의 입력값을 더한 값이다.\n",
    "# 여기에서 return은 함수의 결괏값(리턴값)을 리턴하는 명령어이다.\n",
    "\n",
    "def add(a, b): \n",
    "    return a + b"
   ]
  },
  {
   "cell_type": "code",
   "execution_count": 14,
   "id": "b9008635-ba23-40c3-b972-a5c5bc899a79",
   "metadata": {},
   "outputs": [
    {
     "name": "stdout",
     "output_type": "stream",
     "text": [
      "7\n"
     ]
    }
   ],
   "source": [
    "a = 3\n",
    "b = 4\n",
    "c = add(a, b)  # add(3, 4)의 리턴값을 c에 대입\n",
    "print(c)"
   ]
  },
  {
   "cell_type": "markdown",
   "id": "331d701f-fc6d-44bb-b0cf-c5eb382b558b",
   "metadata": {},
   "source": [
    "## 매개변수(parameter)와 인수(arguments)\n",
    "* 매개변수 : 함수에 입력으로 전달된 값을 받는 변수\n",
    "* 인수 : 함수를 호출할 때 전달하는 입력값"
   ]
  },
  {
   "cell_type": "code",
   "execution_count": null,
   "id": "479dae7e-807a-43d9-bce4-3f39bb1eec4c",
   "metadata": {},
   "outputs": [],
   "source": [
    "def add(a, b):  # a, b는 매개변수\n",
    "    return a+b\n",
    "\n",
    "print(add(3, 4))  # 3, 4는 인수"
   ]
  },
  {
   "cell_type": "markdown",
   "id": "1c7a3f90-1692-4a8d-81e5-7128ec44ea79",
   "metadata": {},
   "source": [
    "## 입력값과 리턴값의 존재 유무에 따라 4가지 유형"
   ]
  },
  {
   "cell_type": "markdown",
   "id": "5a1b3ada-1a4f-4006-a2ed-89bc8e377b6e",
   "metadata": {},
   "source": [
    "### 일반적인 함수\n",
    "* 입력값이 있고 리턴값이 있는 함수리턴값\n"
   ]
  },
  {
   "cell_type": "code",
   "execution_count": 31,
   "id": "c3d6041f-2820-4955-b041-8b458ad3a40e",
   "metadata": {},
   "outputs": [],
   "source": [
    "def 함수_이름(매개변수):\n",
    "    수행할_문장\n",
    "    ...\n",
    "    return 리턴값\n",
    "\n",
    "# add 함수는 2개의 입력값을 받아 서로 더한 결괏값을 리턴한다.\n",
    "def add(a, b): \n",
    "    result = a + b \n",
    "    return result"
   ]
  },
  {
   "cell_type": "code",
   "execution_count": 33,
   "id": "59c0051c-2077-4106-ba5c-56953142cd6e",
   "metadata": {},
   "outputs": [
    {
     "name": "stdout",
     "output_type": "stream",
     "text": [
      "7\n"
     ]
    }
   ],
   "source": [
    "# 리턴값을_받을_변수 = 함수_이름(입력_인수1, 입력_인수2, ...)\n",
    "a = add(3, 4)\n",
    "print(a)"
   ]
  },
  {
   "cell_type": "markdown",
   "id": "a5dbc47a-043d-41a6-9f26-c7851d39913e",
   "metadata": {},
   "source": [
    "### 입력값이 없는 함수\n",
    "* 리턴값을_받을_변수 = 함수_이름()\n"
   ]
  },
  {
   "cell_type": "code",
   "execution_count": 41,
   "id": "b4c7f913-1569-4341-8a70-bc5145df7cfb",
   "metadata": {},
   "outputs": [
    {
     "name": "stdout",
     "output_type": "stream",
     "text": [
      "Hi\n"
     ]
    }
   ],
   "source": [
    "def say(): \n",
    "     return 'Hi'\n",
    "\n",
    "\n",
    "a = say()\n",
    "print(a)"
   ]
  },
  {
   "cell_type": "markdown",
   "id": "d2e2113e-0d6c-4ec3-9ed2-363cea640d87",
   "metadata": {},
   "source": [
    "### 리턴값이 없는 함수\r",
    "* 함수_이름(입력_인수1, 입력_인수2, ...)\n",
    "\n"
   ]
  },
  {
   "cell_type": "code",
   "execution_count": 46,
   "id": "3a644b39-a6d5-4a81-af71-794cd2802182",
   "metadata": {},
   "outputs": [
    {
     "name": "stdout",
     "output_type": "stream",
     "text": [
      "3, 4의 합은 7입니다.\n"
     ]
    }
   ],
   "source": [
    "def add(a, b): \n",
    "     print(\"%d, %d의 합은 %d입니다.\" % (a, b, a+b))\n",
    "\n",
    "\n",
    "add(3, 4)"
   ]
  },
  {
   "cell_type": "markdown",
   "id": "33578d0b-6956-4142-9de5-a074d1a9f308",
   "metadata": {},
   "source": [
    "* None이란 ‘거짓을 나타내는 자료형’\n",
    "* None을 리턴한다는 것은 리턴값이 없다는 것.\n",
    "* print 문은 함수의 구성 요소 중 하나인 ‘수행할_문장’에 해당하는 부분일 뿐이다. 리턴값은 당연히 없다. 리턴값은 오직 return 명령어로만 돌려받을 수 있다."
   ]
  },
  {
   "cell_type": "code",
   "execution_count": 54,
   "id": "9766e214-7ea1-4b7d-b2d6-a4048faf9d8a",
   "metadata": {},
   "outputs": [
    {
     "name": "stdout",
     "output_type": "stream",
     "text": [
      "3, 4의 합은 7입니다.\n",
      "None\n"
     ]
    }
   ],
   "source": [
    "a = add(3, 4)\n",
    "print(a)"
   ]
  },
  {
   "cell_type": "markdown",
   "id": "ace10a9f-f19f-405e-a126-e189bbcdd791",
   "metadata": {},
   "source": [
    "### 입력값도, 리턴값도 없는 함수\n",
    "* 함수_이름()\n",
    "\n"
   ]
  },
  {
   "cell_type": "code",
   "execution_count": 59,
   "id": "30afb821-e2d1-4764-84ac-08a76528d18a",
   "metadata": {},
   "outputs": [
    {
     "name": "stdout",
     "output_type": "stream",
     "text": [
      "Hi\n"
     ]
    }
   ],
   "source": [
    "def say(): \n",
    "     print('Hi')\n",
    "\n",
    "\n",
    "say()"
   ]
  },
  {
   "cell_type": "markdown",
   "id": "c3561be3-4f13-48be-86d5-5739215091d8",
   "metadata": {},
   "source": [
    "## 매개변수를 지정하여 함수 호출하기\n",
    "* 매개변수를 지정하면 다음과 같이 순서에 상관없이 사용할 수 있다\n"
   ]
  },
  {
   "cell_type": "code",
   "execution_count": 156,
   "id": "5a850b81-7a96-4253-bca4-d9607a1f28ea",
   "metadata": {},
   "outputs": [
    {
     "name": "stdout",
     "output_type": "stream",
     "text": [
      "-2\n"
     ]
    }
   ],
   "source": [
    "def sub(a, b):\n",
    "     return a - b\n",
    "result = sub(b=5, a=3)  # b에 5, a에 3을 전달\n",
    "print(result)"
   ]
  },
  {
   "cell_type": "code",
   "execution_count": 154,
   "id": "806d6afd-4dcf-4193-b3f9-858ac7a01f41",
   "metadata": {},
   "outputs": [
    {
     "name": "stdout",
     "output_type": "stream",
     "text": [
      "-2\n"
     ]
    }
   ],
   "source": []
  },
  {
   "cell_type": "code",
   "execution_count": null,
   "id": "31e16834-03b1-41e9-9dac-d94ee056d6db",
   "metadata": {},
   "outputs": [],
   "source": []
  },
  {
   "cell_type": "code",
   "execution_count": null,
   "id": "71734344-29c7-4858-8e91-740f0dd5ba1c",
   "metadata": {},
   "outputs": [],
   "source": []
  },
  {
   "cell_type": "code",
   "execution_count": null,
   "id": "0072a1e6-85cb-4db8-b053-dcac4027d26c",
   "metadata": {},
   "outputs": [],
   "source": []
  },
  {
   "cell_type": "code",
   "execution_count": null,
   "id": "a9cf4b32-3241-4258-8ef0-2f65c0d63a14",
   "metadata": {},
   "outputs": [],
   "source": []
  },
  {
   "cell_type": "code",
   "execution_count": null,
   "id": "1c796ca9-6ddd-4e6f-bbb8-c2a185d4bda8",
   "metadata": {},
   "outputs": [],
   "source": []
  },
  {
   "cell_type": "code",
   "execution_count": null,
   "id": "f53cad8f-2f0b-41ac-bcb9-c69b5c1458b9",
   "metadata": {},
   "outputs": [],
   "source": []
  },
  {
   "cell_type": "code",
   "execution_count": null,
   "id": "6f6fd4d9-7781-4947-8e90-cc28ac75b2b8",
   "metadata": {},
   "outputs": [],
   "source": []
  },
  {
   "cell_type": "code",
   "execution_count": 86,
   "id": "b1a0dead-3fb6-428b-84b0-1af71b7a3585",
   "metadata": {},
   "outputs": [],
   "source": [
    "## Quiz\n",
    "\n",
    "# 사용자에게 다수 입력을 받는다.\n",
    "# 옵션에 따라 누적곱 또는 누적합을 출력하는 함수 제작.\n",
    "\n",
    "\n",
    "def add_mul(option, *args):\n",
    "     if option == \"mul\":   # 매개변수 choice에 \"mul\"를 입력받았을 때\n",
    "         result = 1        # 누적곱은 저장소를 '0'으로 하면 값 미출력되는 점 유의\n",
    "         for i in args: \n",
    "             result = result * i \n",
    "\n",
    "     elif option == \"add\":   # 매개변수 choice에 \"add\"을 입력받았을 때\n",
    "         result = 0          \n",
    "         for i in args: \n",
    "             result = result + i \n",
    "     return result "
   ]
  },
  {
   "cell_type": "code",
   "execution_count": 88,
   "id": "ed1f933d-03b1-4baa-aa82-9989049c13ee",
   "metadata": {},
   "outputs": [
    {
     "data": {
      "text/plain": [
       "120"
      ]
     },
     "execution_count": 88,
     "metadata": {},
     "output_type": "execute_result"
    }
   ],
   "source": [
    "add_mul('mul', 1,2,3,4,5)"
   ]
  },
  {
   "cell_type": "code",
   "execution_count": 90,
   "id": "8a6222e7-f46c-4130-b188-7c88c96a077c",
   "metadata": {},
   "outputs": [
    {
     "data": {
      "text/plain": [
       "15"
      ]
     },
     "execution_count": 90,
     "metadata": {},
     "output_type": "execute_result"
    }
   ],
   "source": [
    "add_mul('add', 1,2,3,4,5)"
   ]
  },
  {
   "cell_type": "markdown",
   "id": "8ddec60f-070d-4e81-a2d6-2a0a3d2f7176",
   "metadata": {},
   "source": [
    "## 키워드 매개변수, kwargs\n",
    "* ‘keyword arguments’의 약자\r",
    "*  매개변수 앞에 별 2개(**)를 붙인다. "
   ]
  },
  {
   "cell_type": "code",
   "execution_count": 93,
   "id": "1f17907b-9051-4f5d-8a5c-29d8667bf038",
   "metadata": {},
   "outputs": [],
   "source": [
    "def print_kwargs(**kwargs):\n",
    "    print(kwargs)"
   ]
  },
  {
   "cell_type": "code",
   "execution_count": 95,
   "id": "f3d2e27b-7ef7-42a8-9b2b-7d81ac268ffc",
   "metadata": {},
   "outputs": [
    {
     "name": "stdout",
     "output_type": "stream",
     "text": [
      "{'a': 1}\n"
     ]
    }
   ],
   "source": [
    "print_kwargs(a=1)"
   ]
  },
  {
   "cell_type": "code",
   "execution_count": 97,
   "id": "6efc9f67-19be-4183-9912-58d0cde919fb",
   "metadata": {},
   "outputs": [
    {
     "name": "stdout",
     "output_type": "stream",
     "text": [
      "{'name': 'miso', 'age': 11}\n"
     ]
    }
   ],
   "source": [
    "print_kwargs(name='miso', age=11)"
   ]
  },
  {
   "cell_type": "markdown",
   "id": "35df4aac-b4bb-4da6-b6d3-e2804b45d295",
   "metadata": {},
   "source": [
    "* **kwargs처럼 매개변수 이름 앞에 **을 붙이면 매개변수 kwargs는 딕셔너리가 되고 모든 Key=Value 형태의 입력값이 그 딕셔너리에 저장된다"
   ]
  },
  {
   "cell_type": "markdown",
   "id": "f4a10eeb-1fa7-4d76-8999-a7e1f6240ec7",
   "metadata": {},
   "source": [
    "## 함수의 리턴값은 언제나 하나이다\n",
    "* add_and_mul은 2개의 입력 인수를 받아 더한 값과 곱한 값을 리턴하는 함수이다.\n",
    "* add_and_mul 함수의 리턴값 a+b와 a*b는 튜플값 하나인 (a+b, a*b)로 리턴된다.\n"
   ]
  },
  {
   "cell_type": "code",
   "execution_count": 101,
   "id": "2d7308b6-bbf4-4f7c-bd29-8c793e82e64b",
   "metadata": {},
   "outputs": [],
   "source": [
    "def add_and_mul(a,b):\n",
    "     return a+b, a*b"
   ]
  },
  {
   "cell_type": "code",
   "execution_count": null,
   "id": "07a9cb79-8684-46a3-8877-d7fe8a4348a8",
   "metadata": {},
   "outputs": [],
   "source": []
  },
  {
   "cell_type": "code",
   "execution_count": null,
   "id": "78ef48d6-dbb7-419c-81d2-081ad5945c61",
   "metadata": {},
   "outputs": [],
   "source": []
  },
  {
   "cell_type": "code",
   "execution_count": null,
   "id": "12758335-a93e-4397-9392-3a26c56836ad",
   "metadata": {},
   "outputs": [],
   "source": []
  },
  {
   "cell_type": "code",
   "execution_count": null,
   "id": "ae055db8-1d65-480b-a38c-1509ea9b1ece",
   "metadata": {},
   "outputs": [],
   "source": []
  },
  {
   "cell_type": "code",
   "execution_count": null,
   "id": "f43dcafa-720e-4513-b4d3-86e67d1b27f8",
   "metadata": {},
   "outputs": [],
   "source": []
  },
  {
   "cell_type": "markdown",
   "id": "9a006d65-b7f4-498f-9fc4-976d973295a3",
   "metadata": {},
   "source": [
    "## 매개변수에 초깃값 미리 설정하기\n",
    "* 초기값 설정은 맨 뒤에 위치해야 함\n"
   ]
  },
  {
   "cell_type": "code",
   "execution_count": 108,
   "id": "100b0754-e838-4aa8-b5ff-bb23a372b83f",
   "metadata": {},
   "outputs": [],
   "source": [
    "def say_myself(name, age, man=True): \n",
    "    print(\"나의 이름은 %s 입니다.\" % name) \n",
    "    print(\"나이는 %d살입니다.\" % age) \n",
    "    if man: \n",
    "        print(\"남자입니다.\")\n",
    "    else: \n",
    "        print(\"여자입니다.\")"
   ]
  },
  {
   "cell_type": "code",
   "execution_count": 113,
   "id": "4aa02cd8-d624-4839-ade5-91c108554012",
   "metadata": {},
   "outputs": [
    {
     "name": "stdout",
     "output_type": "stream",
     "text": [
      "나의 이름은 홍길동 입니다.\n",
      "나이는 20살입니다.\n",
      "남자입니다.\n"
     ]
    }
   ],
   "source": [
    "say_myself('홍길동',20)"
   ]
  },
  {
   "cell_type": "code",
   "execution_count": 115,
   "id": "18db5c21-28a1-4868-b0ce-c5497f59b649",
   "metadata": {},
   "outputs": [
    {
     "name": "stdout",
     "output_type": "stream",
     "text": [
      "나의 이름은 홍길동 입니다.\n",
      "나이는 20살입니다.\n",
      "여자입니다.\n"
     ]
    }
   ],
   "source": [
    "say_myself('홍길동', 20, False)"
   ]
  },
  {
   "cell_type": "markdown",
   "id": "b8292e16-6d25-4b23-b466-1417f70c5985",
   "metadata": {},
   "source": [
    "## 함수 안에서 선언한 변수의 효력 범위\n",
    "* 함수 안에서 사용하는 매개변수는 함수 안에서만 사용하는 ‘함수만의 변수’이기 때문이다. 즉, def vartest(a)에서 입력값을 전달받는 매개변수 a는 함수 안에서만 사용하는 변수일 뿐, 함수 밖의 변수 a와는 전혀 상관없다는 뜻이다.\n"
   ]
  },
  {
   "cell_type": "code",
   "execution_count": 122,
   "id": "3f4b84c7-d843-4f42-b0b4-6337f599d014",
   "metadata": {},
   "outputs": [],
   "source": [
    "a = 1  # 글로벌 영역\n",
    "def vartest(a):   # 로컬 영역\n",
    "    a = a +1"
   ]
  },
  {
   "cell_type": "code",
   "execution_count": 120,
   "id": "e07b2907-5ab8-4651-bc2d-466eee6cb97f",
   "metadata": {},
   "outputs": [
    {
     "data": {
      "text/plain": [
       "1"
      ]
     },
     "execution_count": 120,
     "metadata": {},
     "output_type": "execute_result"
    }
   ],
   "source": [
    "a"
   ]
  },
  {
   "cell_type": "code",
   "execution_count": 124,
   "id": "aa59435a-e922-4c44-b7b0-dce3a549fcf1",
   "metadata": {},
   "outputs": [],
   "source": [
    "vartest(a)"
   ]
  },
  {
   "cell_type": "code",
   "execution_count": 126,
   "id": "80faa8e2-7a5f-483d-a4aa-facd4f27333d",
   "metadata": {},
   "outputs": [
    {
     "name": "stdout",
     "output_type": "stream",
     "text": [
      "1\n"
     ]
    }
   ],
   "source": [
    "print(a)"
   ]
  },
  {
   "cell_type": "markdown",
   "id": "24e576bb-c304-416f-9011-693d367e93df",
   "metadata": {},
   "source": [
    "## 함수 안에서 함수 밖의 변수를 변경하는 방법 = Local에서도 Global 변수를 사용하는 방법\n"
   ]
  },
  {
   "cell_type": "code",
   "execution_count": 133,
   "id": "77cf62b4-0f28-4961-a8b5-1d82fd7f0dd2",
   "metadata": {},
   "outputs": [
    {
     "name": "stdout",
     "output_type": "stream",
     "text": [
      "2\n"
     ]
    }
   ],
   "source": [
    "# 1. retirn 사용하기\n",
    "\n",
    "a = 1 \n",
    "def vartest(a): \n",
    "    a = a +1 \n",
    "    return a\n",
    "\n",
    "a = vartest(a) \n",
    "print(a)"
   ]
  },
  {
   "cell_type": "code",
   "execution_count": 137,
   "id": "60dba5bc-beb1-40e2-9b54-f1c4418c2ec5",
   "metadata": {},
   "outputs": [
    {
     "name": "stdout",
     "output_type": "stream",
     "text": [
      "2\n"
     ]
    }
   ],
   "source": [
    "# 2. global 명령어 사용하기\n",
    "\n",
    "a = 1 \n",
    "def vartest(): \n",
    "    global a\n",
    "    a = a+1\n",
    "\n",
    "vartest()\n",
    "print(a)"
   ]
  },
  {
   "cell_type": "markdown",
   "id": "6ffc1153-c990-4568-9d44-75b55191a436",
   "metadata": {},
   "source": [
    "## lambda 예약어\n",
    "* 1회성 함수\n",
    "* 함수_이름 = lambda 매개변수1, 매개변수2, ... : 매개변수를_이용한_표현식\n",
    "\n"
   ]
  },
  {
   "cell_type": "code",
   "execution_count": 145,
   "id": "308ab0e2-b542-414d-8210-76189bb5d36c",
   "metadata": {},
   "outputs": [
    {
     "name": "stdout",
     "output_type": "stream",
     "text": [
      "7\n"
     ]
    }
   ],
   "source": [
    "def add(a, b):\n",
    "    return a+b\n",
    "result = add(3, 4)\n",
    "print(result)"
   ]
  },
  {
   "cell_type": "code",
   "execution_count": 147,
   "id": "d7dc176e-bce1-429b-8fdc-924c5b4762e4",
   "metadata": {},
   "outputs": [
    {
     "data": {
      "text/plain": [
       "7"
      ]
     },
     "execution_count": 147,
     "metadata": {},
     "output_type": "execute_result"
    }
   ],
   "source": [
    "add = lambda a, b: a+b\n",
    "add(3, 4)"
   ]
  },
  {
   "cell_type": "markdown",
   "id": "06c15b0c-87fb-448f-b15f-4abdd46c87e2",
   "metadata": {},
   "source": [
    "# 4-3. 파일 읽고 쓰기\n",
    "* 파일_객체 = open(파일_이름, 파일_열기_모드)\r",
    "* 파일열기모드\t설명\r\n",
    "r\t읽기 모드: 파일을 읽기만 할 때 사용한다.\r\n",
    "w\t쓰기 모드: 파일에 내용을 쓸 때 사용한다.\r\n",
    "a\t추가 모드: 파일의 마지막에 새로운 내용을 추가할 때 사용한다.\n"
   ]
  },
  {
   "cell_type": "code",
   "execution_count": 159,
   "id": "a810fd2a-2929-4d19-b77f-3532f6d6fde7",
   "metadata": {},
   "outputs": [
    {
     "data": {
      "text/plain": [
       "\u001b[1;31mSignature:\u001b[0m\n",
       "\u001b[0mopen\u001b[0m\u001b[1;33m(\u001b[0m\u001b[1;33m\n",
       "\u001b[0m    \u001b[0mfile\u001b[0m\u001b[1;33m,\u001b[0m\u001b[1;33m\n",
       "\u001b[0m    \u001b[0mmode\u001b[0m\u001b[1;33m=\u001b[0m\u001b[1;34m'r'\u001b[0m\u001b[1;33m,\u001b[0m\u001b[1;33m\n",
       "\u001b[0m    \u001b[0mbuffering\u001b[0m\u001b[1;33m=\u001b[0m\u001b[1;33m-\u001b[0m\u001b[1;36m1\u001b[0m\u001b[1;33m,\u001b[0m\u001b[1;33m\n",
       "\u001b[0m    \u001b[0mencoding\u001b[0m\u001b[1;33m=\u001b[0m\u001b[1;32mNone\u001b[0m\u001b[1;33m,\u001b[0m\u001b[1;33m\n",
       "\u001b[0m    \u001b[0merrors\u001b[0m\u001b[1;33m=\u001b[0m\u001b[1;32mNone\u001b[0m\u001b[1;33m,\u001b[0m\u001b[1;33m\n",
       "\u001b[0m    \u001b[0mnewline\u001b[0m\u001b[1;33m=\u001b[0m\u001b[1;32mNone\u001b[0m\u001b[1;33m,\u001b[0m\u001b[1;33m\n",
       "\u001b[0m    \u001b[0mclosefd\u001b[0m\u001b[1;33m=\u001b[0m\u001b[1;32mTrue\u001b[0m\u001b[1;33m,\u001b[0m\u001b[1;33m\n",
       "\u001b[0m    \u001b[0mopener\u001b[0m\u001b[1;33m=\u001b[0m\u001b[1;32mNone\u001b[0m\u001b[1;33m,\u001b[0m\u001b[1;33m\n",
       "\u001b[0m\u001b[1;33m)\u001b[0m\u001b[1;33m\u001b[0m\u001b[1;33m\u001b[0m\u001b[0m\n",
       "\u001b[1;31mDocstring:\u001b[0m\n",
       "Open file and return a stream.  Raise OSError upon failure.\n",
       "\n",
       "file is either a text or byte string giving the name (and the path\n",
       "if the file isn't in the current working directory) of the file to\n",
       "be opened or an integer file descriptor of the file to be\n",
       "wrapped. (If a file descriptor is given, it is closed when the\n",
       "returned I/O object is closed, unless closefd is set to False.)\n",
       "\n",
       "mode is an optional string that specifies the mode in which the file\n",
       "is opened. It defaults to 'r' which means open for reading in text\n",
       "mode.  Other common values are 'w' for writing (truncating the file if\n",
       "it already exists), 'x' for creating and writing to a new file, and\n",
       "'a' for appending (which on some Unix systems, means that all writes\n",
       "append to the end of the file regardless of the current seek position).\n",
       "In text mode, if encoding is not specified the encoding used is platform\n",
       "dependent: locale.getencoding() is called to get the current locale encoding.\n",
       "(For reading and writing raw bytes use binary mode and leave encoding\n",
       "unspecified.) The available modes are:\n",
       "\n",
       "========= ===============================================================\n",
       "Character Meaning\n",
       "--------- ---------------------------------------------------------------\n",
       "'r'       open for reading (default)\n",
       "'w'       open for writing, truncating the file first\n",
       "'x'       create a new file and open it for writing\n",
       "'a'       open for writing, appending to the end of the file if it exists\n",
       "'b'       binary mode\n",
       "'t'       text mode (default)\n",
       "'+'       open a disk file for updating (reading and writing)\n",
       "========= ===============================================================\n",
       "\n",
       "The default mode is 'rt' (open for reading text). For binary random\n",
       "access, the mode 'w+b' opens and truncates the file to 0 bytes, while\n",
       "'r+b' opens the file without truncation. The 'x' mode implies 'w' and\n",
       "raises an `FileExistsError` if the file already exists.\n",
       "\n",
       "Python distinguishes between files opened in binary and text modes,\n",
       "even when the underlying operating system doesn't. Files opened in\n",
       "binary mode (appending 'b' to the mode argument) return contents as\n",
       "bytes objects without any decoding. In text mode (the default, or when\n",
       "'t' is appended to the mode argument), the contents of the file are\n",
       "returned as strings, the bytes having been first decoded using a\n",
       "platform-dependent encoding or using the specified encoding if given.\n",
       "\n",
       "buffering is an optional integer used to set the buffering policy.\n",
       "Pass 0 to switch buffering off (only allowed in binary mode), 1 to select\n",
       "line buffering (only usable in text mode), and an integer > 1 to indicate\n",
       "the size of a fixed-size chunk buffer.  When no buffering argument is\n",
       "given, the default buffering policy works as follows:\n",
       "\n",
       "* Binary files are buffered in fixed-size chunks; the size of the buffer\n",
       "  is chosen using a heuristic trying to determine the underlying device's\n",
       "  \"block size\" and falling back on `io.DEFAULT_BUFFER_SIZE`.\n",
       "  On many systems, the buffer will typically be 4096 or 8192 bytes long.\n",
       "\n",
       "* \"Interactive\" text files (files for which isatty() returns True)\n",
       "  use line buffering.  Other text files use the policy described above\n",
       "  for binary files.\n",
       "\n",
       "encoding is the name of the encoding used to decode or encode the\n",
       "file. This should only be used in text mode. The default encoding is\n",
       "platform dependent, but any encoding supported by Python can be\n",
       "passed.  See the codecs module for the list of supported encodings.\n",
       "\n",
       "errors is an optional string that specifies how encoding errors are to\n",
       "be handled---this argument should not be used in binary mode. Pass\n",
       "'strict' to raise a ValueError exception if there is an encoding error\n",
       "(the default of None has the same effect), or pass 'ignore' to ignore\n",
       "errors. (Note that ignoring encoding errors can lead to data loss.)\n",
       "See the documentation for codecs.register or run 'help(codecs.Codec)'\n",
       "for a list of the permitted encoding error strings.\n",
       "\n",
       "newline controls how universal newlines works (it only applies to text\n",
       "mode). It can be None, '', '\\n', '\\r', and '\\r\\n'.  It works as\n",
       "follows:\n",
       "\n",
       "* On input, if newline is None, universal newlines mode is\n",
       "  enabled. Lines in the input can end in '\\n', '\\r', or '\\r\\n', and\n",
       "  these are translated into '\\n' before being returned to the\n",
       "  caller. If it is '', universal newline mode is enabled, but line\n",
       "  endings are returned to the caller untranslated. If it has any of\n",
       "  the other legal values, input lines are only terminated by the given\n",
       "  string, and the line ending is returned to the caller untranslated.\n",
       "\n",
       "* On output, if newline is None, any '\\n' characters written are\n",
       "  translated to the system default line separator, os.linesep. If\n",
       "  newline is '' or '\\n', no translation takes place. If newline is any\n",
       "  of the other legal values, any '\\n' characters written are translated\n",
       "  to the given string.\n",
       "\n",
       "If closefd is False, the underlying file descriptor will be kept open\n",
       "when the file is closed. This does not work when a file name is given\n",
       "and must be True in that case.\n",
       "\n",
       "A custom opener can be used by passing a callable as *opener*. The\n",
       "underlying file descriptor for the file object is then obtained by\n",
       "calling *opener* with (*file*, *flags*). *opener* must return an open\n",
       "file descriptor (passing os.open as *opener* results in functionality\n",
       "similar to passing None).\n",
       "\n",
       "open() returns a file object whose type depends on the mode, and\n",
       "through which the standard file operations such as reading and writing\n",
       "are performed. When open() is used to open a file in a text mode ('w',\n",
       "'r', 'wt', 'rt', etc.), it returns a TextIOWrapper. When used to open\n",
       "a file in a binary mode, the returned class varies: in read binary\n",
       "mode, it returns a BufferedReader; in write binary and append binary\n",
       "modes, it returns a BufferedWriter, and in read/write mode, it returns\n",
       "a BufferedRandom.\n",
       "\n",
       "It is also possible to use a string or bytearray as a file for both\n",
       "reading and writing. For strings StringIO can be used like a file\n",
       "opened in a text mode, and for bytes a BytesIO can be used like a file\n",
       "opened in a binary mode.\n",
       "\u001b[1;31mType:\u001b[0m      function"
      ]
     },
     "metadata": {},
     "output_type": "display_data"
    }
   ],
   "source": [
    "open?"
   ]
  },
  {
   "cell_type": "code",
   "execution_count": 167,
   "id": "e5f6ece1-149f-4864-a6e0-2463ed108353",
   "metadata": {},
   "outputs": [],
   "source": [
    "f = open(\"Output/test.txt\", 'w')\n",
    "f.close()"
   ]
  },
  {
   "cell_type": "markdown",
   "id": "4c5d18a4-500b-4007-b0f7-d9278509f19d",
   "metadata": {},
   "source": [
    "파일 경로와 슬래시(/)\r\n",
    "파이썬 코드에서 파일 경로를 표시할 때 \"C:/doit/새파일.txt\"처럼 슬래시(/)를 사용할 수 있다. 만약 역슬래시(\\)를 사용한다면 \"C:\\\\doit\\\\새파일.txt\"처럼 역슬래시를 2개 사용하거나 r\"C:\\doit\\새파일.txt\"와 같이 문자열 앞에 r 문자(raw string)를 덧붙여 사용해야 한다. 왜냐하면 \"C:\\note\\test.txt\"처럼 파일 경로에 \\n과 같은 이스케이프 문자가 있을 경우, 줄바꿈 문자로 해석되어 의도했던 파일 경로와 달라지기 때문이다."
   ]
  },
  {
   "cell_type": "code",
   "execution_count": 182,
   "id": "d4e8b53c-03c3-42c9-92a5-9aa10ee5f0dc",
   "metadata": {},
   "outputs": [],
   "source": [
    "# 모니터 화면 대신 파일에 데이터를 적는 방법 : 파일 객체 f의 write 함수를 사용\n",
    "f = open(\"Output/test.txt\", 'w')\n",
    "for i in range(1, 11):\n",
    "    data = \"%d번째 줄입니다.\\n\" % i\n",
    "    f.write(data)\n",
    "f.close()"
   ]
  },
  {
   "cell_type": "code",
   "execution_count": 180,
   "id": "f1b0d70f-7f56-4fc5-9165-f7aa480af96c",
   "metadata": {
    "scrolled": true
   },
   "outputs": [
    {
     "name": "stdout",
     "output_type": "stream",
     "text": [
      "1번째 줄입니다.\n",
      "\n",
      "2번째 줄입니다.\n",
      "\n",
      "3번째 줄입니다.\n",
      "\n",
      "4번째 줄입니다.\n",
      "\n",
      "5번째 줄입니다.\n",
      "\n",
      "6번째 줄입니다.\n",
      "\n",
      "7번째 줄입니다.\n",
      "\n",
      "8번째 줄입니다.\n",
      "\n",
      "9번째 줄입니다.\n",
      "\n",
      "10번째 줄입니다.\n",
      "\n"
     ]
    }
   ],
   "source": [
    "# 모니터 화면에 데이터를 출력하는 방법 : print\n",
    "\n",
    "for i in range(1, 11):\n",
    "    data = \"%d번째 줄입니다.\\n\" % i\n",
    "    print(data)"
   ]
  },
  {
   "cell_type": "markdown",
   "id": "961634b5-30a3-4413-bbba-624e3be01083",
   "metadata": {},
   "source": [
    "## 파일을 읽는 방법\n"
   ]
  },
  {
   "cell_type": "markdown",
   "id": "c1bd1286-b342-4c95-80b2-4d5640e8d36a",
   "metadata": {},
   "source": [
    "### readline 함수"
   ]
  },
  {
   "cell_type": "code",
   "execution_count": 192,
   "id": "6cc7eb9b-9760-483f-9450-c2a5e97d1120",
   "metadata": {},
   "outputs": [
    {
     "name": "stdout",
     "output_type": "stream",
     "text": [
      "1번째 줄입니다.\n",
      "\n"
     ]
    }
   ],
   "source": [
    "# ‘새파일.txt’ 파일을 읽기 모드로 연 후 readline()을 사용해서 파일의 첫 번째 줄을 읽어 출력\n",
    "# 새파일.txt 파일의 가장 첫 번째 줄이 화면에 출력될 것\n",
    "\n",
    "f = open(\"Output/test.txt\", 'r')\n",
    "line = f.readline()\n",
    "print(line)\n",
    "f.close()"
   ]
  },
  {
   "cell_type": "code",
   "execution_count": 198,
   "id": "67dbdf43-9758-4707-9c5a-3b466bbbb229",
   "metadata": {},
   "outputs": [
    {
     "name": "stdout",
     "output_type": "stream",
     "text": [
      "1번째 줄입니다.\n",
      "\n",
      "2번째 줄입니다.\n",
      "\n",
      "3번째 줄입니다.\n",
      "\n",
      "4번째 줄입니다.\n",
      "\n",
      "5번째 줄입니다.\n",
      "\n",
      "6번째 줄입니다.\n",
      "\n",
      "7번째 줄입니다.\n",
      "\n",
      "8번째 줄입니다.\n",
      "\n",
      "9번째 줄입니다.\n",
      "\n",
      "10번째 줄입니다.\n",
      "\n"
     ]
    }
   ],
   "source": [
    "# 모든 줄을 읽어 화면에 출력 - 파일을 사용한 입력 방법\n",
    "    # while True: 무한 루프 안에서 f.readline()을 사용해 파일을 계속 한 줄씩 읽어 들인다. 만약 더 이상 읽을 줄이 없으면 break를 수행한다(readline()은 더 이상 읽을 줄이 없을 경우, 빈 문자열('')을 리턴\n",
    "\n",
    "f = open(\"Output/test.txt\", 'r')\n",
    "while True:\n",
    "    line = f.readline()\n",
    "    if not line: break\n",
    "    print(line)\n",
    "f.close()"
   ]
  },
  {
   "cell_type": "code",
   "execution_count": 202,
   "id": "4ebfc746-47bd-40da-ae80-bad44fe0b67e",
   "metadata": {},
   "outputs": [
    {
     "ename": "KeyboardInterrupt",
     "evalue": "Interrupted by user",
     "output_type": "error",
     "traceback": [
      "\u001b[1;31m---------------------------------------------------------------------------\u001b[0m",
      "\u001b[1;31mKeyboardInterrupt\u001b[0m                         Traceback (most recent call last)",
      "Cell \u001b[1;32mIn[202], line 3\u001b[0m\n\u001b[0;32m      1\u001b[0m \u001b[38;5;66;03m# 모든 줄을 읽어 화면에 출력 -  키보드를 사용한 입력 방법\u001b[39;00m\n\u001b[0;32m      2\u001b[0m \u001b[38;5;28;01mwhile\u001b[39;00m \u001b[38;5;28;01mTrue\u001b[39;00m:\n\u001b[1;32m----> 3\u001b[0m     data \u001b[38;5;241m=\u001b[39m \u001b[38;5;28minput\u001b[39m()\n\u001b[0;32m      4\u001b[0m     \u001b[38;5;28;01mif\u001b[39;00m \u001b[38;5;129;01mnot\u001b[39;00m data: \u001b[38;5;28;01mbreak\u001b[39;00m\n\u001b[0;32m      5\u001b[0m     \u001b[38;5;28mprint\u001b[39m(data)\n",
      "File \u001b[1;32m~\\anaconda3\\Lib\\site-packages\\ipykernel\\kernelbase.py:1262\u001b[0m, in \u001b[0;36mKernel.raw_input\u001b[1;34m(self, prompt)\u001b[0m\n\u001b[0;32m   1260\u001b[0m     msg \u001b[38;5;241m=\u001b[39m \u001b[38;5;124m\"\u001b[39m\u001b[38;5;124mraw_input was called, but this frontend does not support input requests.\u001b[39m\u001b[38;5;124m\"\u001b[39m\n\u001b[0;32m   1261\u001b[0m     \u001b[38;5;28;01mraise\u001b[39;00m StdinNotImplementedError(msg)\n\u001b[1;32m-> 1262\u001b[0m \u001b[38;5;28;01mreturn\u001b[39;00m \u001b[38;5;28mself\u001b[39m\u001b[38;5;241m.\u001b[39m_input_request(\n\u001b[0;32m   1263\u001b[0m     \u001b[38;5;28mstr\u001b[39m(prompt),\n\u001b[0;32m   1264\u001b[0m     \u001b[38;5;28mself\u001b[39m\u001b[38;5;241m.\u001b[39m_parent_ident[\u001b[38;5;124m\"\u001b[39m\u001b[38;5;124mshell\u001b[39m\u001b[38;5;124m\"\u001b[39m],\n\u001b[0;32m   1265\u001b[0m     \u001b[38;5;28mself\u001b[39m\u001b[38;5;241m.\u001b[39mget_parent(\u001b[38;5;124m\"\u001b[39m\u001b[38;5;124mshell\u001b[39m\u001b[38;5;124m\"\u001b[39m),\n\u001b[0;32m   1266\u001b[0m     password\u001b[38;5;241m=\u001b[39m\u001b[38;5;28;01mFalse\u001b[39;00m,\n\u001b[0;32m   1267\u001b[0m )\n",
      "File \u001b[1;32m~\\anaconda3\\Lib\\site-packages\\ipykernel\\kernelbase.py:1305\u001b[0m, in \u001b[0;36mKernel._input_request\u001b[1;34m(self, prompt, ident, parent, password)\u001b[0m\n\u001b[0;32m   1302\u001b[0m \u001b[38;5;28;01mexcept\u001b[39;00m \u001b[38;5;167;01mKeyboardInterrupt\u001b[39;00m:\n\u001b[0;32m   1303\u001b[0m     \u001b[38;5;66;03m# re-raise KeyboardInterrupt, to truncate traceback\u001b[39;00m\n\u001b[0;32m   1304\u001b[0m     msg \u001b[38;5;241m=\u001b[39m \u001b[38;5;124m\"\u001b[39m\u001b[38;5;124mInterrupted by user\u001b[39m\u001b[38;5;124m\"\u001b[39m\n\u001b[1;32m-> 1305\u001b[0m     \u001b[38;5;28;01mraise\u001b[39;00m \u001b[38;5;167;01mKeyboardInterrupt\u001b[39;00m(msg) \u001b[38;5;28;01mfrom\u001b[39;00m \u001b[38;5;28;01mNone\u001b[39;00m\n\u001b[0;32m   1306\u001b[0m \u001b[38;5;28;01mexcept\u001b[39;00m \u001b[38;5;167;01mException\u001b[39;00m:\n\u001b[0;32m   1307\u001b[0m     \u001b[38;5;28mself\u001b[39m\u001b[38;5;241m.\u001b[39mlog\u001b[38;5;241m.\u001b[39mwarning(\u001b[38;5;124m\"\u001b[39m\u001b[38;5;124mInvalid Message:\u001b[39m\u001b[38;5;124m\"\u001b[39m, exc_info\u001b[38;5;241m=\u001b[39m\u001b[38;5;28;01mTrue\u001b[39;00m)\n",
      "\u001b[1;31mKeyboardInterrupt\u001b[0m: Interrupted by user"
     ]
    }
   ],
   "source": [
    "# 모든 줄을 읽어 화면에 출력 -  키보드를 사용한 입력 방법\n",
    "while True:\n",
    "    data = input()\n",
    "    if not data: break\n",
    "    print(data)  "
   ]
  },
  {
   "cell_type": "markdown",
   "id": "b5419e57-e90d-43fd-aeec-0e8cb579418a",
   "metadata": {},
   "source": [
    "### readlines 함수\n",
    "* 파일의 모든 줄을 읽어서 각각의 줄을 요소로 가지는 리스트를 리턴"
   ]
  },
  {
   "cell_type": "code",
   "execution_count": 208,
   "id": "11f13d7c-d06b-49a9-b89f-d5d4c2ac8c8d",
   "metadata": {},
   "outputs": [
    {
     "name": "stdout",
     "output_type": "stream",
     "text": [
      "1번째 줄입니다.\n",
      "\n",
      "2번째 줄입니다.\n",
      "\n",
      "3번째 줄입니다.\n",
      "\n",
      "4번째 줄입니다.\n",
      "\n",
      "5번째 줄입니다.\n",
      "\n",
      "6번째 줄입니다.\n",
      "\n",
      "7번째 줄입니다.\n",
      "\n",
      "8번째 줄입니다.\n",
      "\n",
      "9번째 줄입니다.\n",
      "\n",
      "10번째 줄입니다.\n",
      "\n"
     ]
    }
   ],
   "source": [
    "f = open(\"Output/test.txt\", 'r')\n",
    "lines = f.readlines()\n",
    "for line in lines:\n",
    "    print(line)\n",
    "f.close()"
   ]
  },
  {
   "cell_type": "code",
   "execution_count": 225,
   "id": "e014656b-cc00-4132-bdf7-8921d1b2584c",
   "metadata": {},
   "outputs": [
    {
     "name": "stdout",
     "output_type": "stream",
     "text": [
      "1번째 줄입니다.\n",
      "2번째 줄입니다.\n",
      "3번째 줄입니다.\n",
      "4번째 줄입니다.\n",
      "5번째 줄입니다.\n",
      "6번째 줄입니다.\n",
      "7번째 줄입니다.\n",
      "8번째 줄입니다.\n",
      "9번째 줄입니다.\n",
      "10번째 줄입니다.\n",
      "11번째 줄입니다.\n",
      "12번째 줄입니다.\n",
      "13번째 줄입니다.\n",
      "14번째 줄입니다.\n",
      "15번째 줄입니다.\n",
      "16번째 줄입니다.\n",
      "17번째 줄입니다.\n",
      "18번째 줄입니다.\n",
      "19번째 줄입니다.\n"
     ]
    }
   ],
   "source": [
    "# 줄 바꿈(\\n) 문자 제거하기\n",
    "# 메모장을 읽어 줄 때 줄바꿈을 없애보세요\n",
    "\n",
    "f = open(\"Output/test.txt\", 'r')\n",
    "lines = f.readlines()\n",
    "for line in lines:\n",
    "    print(line.strip())  # 줄 끝의 줄 바꿈 문자를 제거한다.\n",
    "f.close()"
   ]
  },
  {
   "cell_type": "markdown",
   "id": "cfca43ff-7c4b-4ef4-a0a1-107dadbee3d7",
   "metadata": {},
   "source": [
    "## read 함수\n",
    "* f.read()는 파일의 내용 전체를 문자열로 리턴"
   ]
  },
  {
   "cell_type": "code",
   "execution_count": 211,
   "id": "3c4b005e-db13-4e62-89bd-444f58a97b07",
   "metadata": {},
   "outputs": [
    {
     "name": "stdout",
     "output_type": "stream",
     "text": [
      "1번째 줄입니다.\n",
      "2번째 줄입니다.\n",
      "3번째 줄입니다.\n",
      "4번째 줄입니다.\n",
      "5번째 줄입니다.\n",
      "6번째 줄입니다.\n",
      "7번째 줄입니다.\n",
      "8번째 줄입니다.\n",
      "9번째 줄입니다.\n",
      "10번째 줄입니다.\n",
      "\n"
     ]
    }
   ],
   "source": [
    "f = open(\"Output/test.txt\", 'r')\n",
    "data = f.read()\n",
    "print(data)\n",
    "f.close()"
   ]
  },
  {
   "cell_type": "markdown",
   "id": "9c88e428-91ed-4d57-ac41-6b9d98027db3",
   "metadata": {},
   "source": [
    "## 파일 객체를 for 문과 함께 사용\n",
    "* 파일 객체(f)는 기본적으로 위와 같이 for 문과 함께 사용하여 파일을 줄 단위로 읽을 수 있다."
   ]
  },
  {
   "cell_type": "code",
   "execution_count": 216,
   "id": "da8348f5-1595-4cc4-b999-41902dcebbbb",
   "metadata": {},
   "outputs": [
    {
     "name": "stdout",
     "output_type": "stream",
     "text": [
      "1번째 줄입니다.\n",
      "\n",
      "2번째 줄입니다.\n",
      "\n",
      "3번째 줄입니다.\n",
      "\n",
      "4번째 줄입니다.\n",
      "\n",
      "5번째 줄입니다.\n",
      "\n",
      "6번째 줄입니다.\n",
      "\n",
      "7번째 줄입니다.\n",
      "\n",
      "8번째 줄입니다.\n",
      "\n",
      "9번째 줄입니다.\n",
      "\n",
      "10번째 줄입니다.\n",
      "\n"
     ]
    }
   ],
   "source": [
    "f = open(\"Output/test.txt\", 'r')\n",
    "for line in f:\n",
    "    print(line)\n",
    "f.close()"
   ]
  },
  {
   "cell_type": "markdown",
   "id": "4ae06390-0ab2-4b62-aafe-8dac74c41882",
   "metadata": {},
   "source": [
    "## 파일에 새로운 내용 추가하기\n",
    "쓰기 모드('w')로 파일을 열 때 이미 존재하는 파일을 열면 그 파일의 내용이 모두 사라지게 된다. 하지만 원래 있던 값을 유지하면서 단지 새로운 값만 추가해야 할 경우도 있다. 이런 경우에는 파일을 추가 모드('a')로 열면 된다"
   ]
  },
  {
   "cell_type": "code",
   "execution_count": 221,
   "id": "43839a1a-0d97-4849-9198-657e20e10553",
   "metadata": {},
   "outputs": [],
   "source": [
    "f = open(\"Output/test.txt\",'a')\n",
    "for i in range(11, 20):\n",
    "    data = \"%d번째 줄입니다.\\n\" % i\n",
    "    f.write(data)\n",
    "f.close()"
   ]
  },
  {
   "cell_type": "markdown",
   "id": "b8fced3a-a314-4137-8f31-ba4383f536ad",
   "metadata": {},
   "source": [
    "## with 문과 함께 사용하기\r",
    "* 파일을 열고 닫는 것을 자동으로 처리\n",
    "* with 문을 사용하면 with 블록(with 문에 속해 있는 문장)을 벗어나는 순간, 열린 파일 객체 f가 자동으로 닫힌다.\n"
   ]
  },
  {
   "cell_type": "code",
   "execution_count": 230,
   "id": "f8f4d85e-4505-4512-88b2-36733e3556a7",
   "metadata": {},
   "outputs": [],
   "source": [
    "with open(\"Output/foo.txt\", \"w\") as f:\n",
    "    f.write(\"Life is too short, you need python\")"
   ]
  },
  {
   "cell_type": "code",
   "execution_count": null,
   "id": "c38458fa-89ad-4146-a61f-d4bfb92258e8",
   "metadata": {},
   "outputs": [],
   "source": []
  },
  {
   "cell_type": "code",
   "execution_count": 188,
   "id": "b7ceafbc-3135-4b50-82ed-93ed84c9b763",
   "metadata": {},
   "outputs": [],
   "source": []
  },
  {
   "cell_type": "code",
   "execution_count": null,
   "id": "a136f935-c110-4d2d-918d-681a1865635e",
   "metadata": {},
   "outputs": [],
   "source": []
  },
  {
   "cell_type": "code",
   "execution_count": null,
   "id": "fb17f3c1-1847-4d80-a3aa-99b02da27002",
   "metadata": {},
   "outputs": [],
   "source": []
  }
 ],
 "metadata": {
  "kernelspec": {
   "display_name": "Python 3 (ipykernel)",
   "language": "python",
   "name": "python3"
  },
  "language_info": {
   "codemirror_mode": {
    "name": "ipython",
    "version": 3
   },
   "file_extension": ".py",
   "mimetype": "text/x-python",
   "name": "python",
   "nbconvert_exporter": "python",
   "pygments_lexer": "ipython3",
   "version": "3.12.4"
  }
 },
 "nbformat": 4,
 "nbformat_minor": 5
}
